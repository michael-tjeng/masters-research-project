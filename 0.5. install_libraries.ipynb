{
 "cells": [
  {
   "cell_type": "markdown",
   "metadata": {},
   "source": [
    "# NOTE: Please create a new environment before installing these versions of libraries as they will override your current versions"
   ]
  },
  {
   "cell_type": "code",
   "execution_count": null,
   "metadata": {},
   "outputs": [],
   "source": [
    "!pip install -q numpy==1.26.4 \\\n",
    "    pandas==2.2.2 \\\n",
    "    matplotlib==3.8.4 \\\n",
    "    seaborn==0.13.2 \\\n",
    "    scipy==1.13.1 \\\n",
    "    optuna==3.6.1 \\\n",
    "    scikit-learn==1.4.2 \\\n",
    "    imbalanced-learn==0.12.3 \\\n",
    "    xgboost==2.1.1 \\\n",
    "    tensorflow==2.17.0 \\\n",
    "    keras==3.5.0"
   ]
  },
  {
   "cell_type": "markdown",
   "metadata": {},
   "source": [
    "# Do not forget to restart your kernel after all installations are done"
   ]
  }
 ],
 "metadata": {
  "kernelspec": {
   "display_name": "msds-data-science-project",
   "language": "python",
   "name": "python3"
  },
  "language_info": {
   "codemirror_mode": {
    "name": "ipython",
    "version": 3
   },
   "file_extension": ".py",
   "mimetype": "text/x-python",
   "name": "python",
   "nbconvert_exporter": "python",
   "pygments_lexer": "ipython3",
   "version": "3.12.4"
  }
 },
 "nbformat": 4,
 "nbformat_minor": 2
}
