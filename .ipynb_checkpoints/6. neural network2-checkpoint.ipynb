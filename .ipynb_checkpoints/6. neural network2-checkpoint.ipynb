{
 "cells": [
  {
   "cell_type": "code",
   "execution_count": 1,
   "metadata": {},
   "outputs": [
    {
     "name": "stdout",
     "output_type": "stream",
     "text": [
      "Processed Training Data Shape: (7334, 38)\n",
      "Processed Validation Data Shape: (2445, 38)\n",
      "Processed Test Data Shape: (2445, 38)\n",
      "Final Training Data Shape: (7334, 38)\n",
      "Final Validation Data Shape: (2445, 38)\n",
      "Final Test Data Shape: (2445, 38)\n"
     ]
    }
   ],
   "source": [
    "import pandas as pd\n",
    "from sklearn.model_selection import train_test_split\n",
    "from sklearn.preprocessing import MinMaxScaler, OneHotEncoder\n",
    "from imblearn.over_sampling import SMOTE\n",
    "\n",
    "# 1. Load the dataset\n",
    "df = pd.read_csv(\"datasets/3. online_shoppers_intention_clean.csv\")\n",
    "\n",
    "# 2. Select relevant columns\n",
    "df = df[[\n",
    "    \"Administrative\", \"Informational\", \"ProductRelated\",\n",
    "    \"BounceRates\", \"ExitRates\", \"PageValues\", \"Month\",\n",
    "    \"TrafficType\", \"VisitorType\", \"Revenue\"\n",
    "]]\n",
    "\n",
    "# 3. Separate input features and target\n",
    "X = df.drop(columns=[\"Revenue\"])\n",
    "y = df[\"Revenue\"]\n",
    "\n",
    "# 4. Split the data into train_val and test sets (80% train_val, 20% test)\n",
    "X_train_val, X_test, y_train_val, y_test = train_test_split(\n",
    "    X, y, test_size=0.2, random_state=42, stratify=y\n",
    ")\n",
    "\n",
    "# 5. Split the train_val into training and validation sets (75% train, 25% val)\n",
    "X_train, X_val, y_train, y_val = train_test_split(\n",
    "    X_train_val, y_train_val, test_size=0.25, random_state=42, stratify=y_train_val\n",
    ")  # 0.25 x 0.8 = 0.2\n",
    "\n",
    "# 6. Define numerical and categorical columns\n",
    "numerical_features = [\n",
    "    \"Administrative\", \"Informational\", \"ProductRelated\",\n",
    "    \"BounceRates\", \"ExitRates\", \"PageValues\"\n",
    "]\n",
    "categorical_features = [\"Month\", \"TrafficType\", \"VisitorType\"]\n",
    "\n",
    "# 7. Preprocess Numerical Features\n",
    "min_max_scaler = MinMaxScaler()\n",
    "min_max_scaler.fit(X_train[numerical_features])\n",
    "\n",
    "# Transform the numerical features\n",
    "X_train_scaled = min_max_scaler.transform(X_train[numerical_features])\n",
    "X_val_scaled = min_max_scaler.transform(X_val[numerical_features])\n",
    "X_test_scaled = min_max_scaler.transform(X_test[numerical_features])\n",
    "\n",
    "# Convert scaled arrays back to DataFrames for easier handling\n",
    "X_train_scaled = pd.DataFrame(X_train_scaled, columns=numerical_features, index=X_train.index)\n",
    "X_val_scaled = pd.DataFrame(X_val_scaled, columns=numerical_features, index=X_val.index)\n",
    "X_test_scaled = pd.DataFrame(X_test_scaled, columns=numerical_features, index=X_test.index)\n",
    "\n",
    "# 8. Preprocess Categorical Features\n",
    "# Initialize the OneHotEncoder with updated parameter\n",
    "one_hot_encoder = OneHotEncoder(handle_unknown='ignore', sparse_output=False)\n",
    "\n",
    "# Fit the encoder on the training data\n",
    "one_hot_encoder.fit(X_train[categorical_features])\n",
    "\n",
    "# Transform the categorical features\n",
    "X_train_encoded = one_hot_encoder.transform(X_train[categorical_features])\n",
    "X_val_encoded = one_hot_encoder.transform(X_val[categorical_features])\n",
    "X_test_encoded = one_hot_encoder.transform(X_test[categorical_features])\n",
    "\n",
    "# Get the new feature names after one-hot encoding\n",
    "# Adjust based on scikit-learn version\n",
    "try:\n",
    "    encoded_feature_names = one_hot_encoder.get_feature_names_out(categorical_features)\n",
    "except AttributeError:\n",
    "    # For scikit-learn versions <1.0\n",
    "    encoded_feature_names = one_hot_encoder.get_feature_names(categorical_features)\n",
    "\n",
    "# Convert encoded arrays back to DataFrames\n",
    "X_train_encoded = pd.DataFrame(X_train_encoded, columns=encoded_feature_names, index=X_train.index)\n",
    "X_val_encoded = pd.DataFrame(X_val_encoded, columns=encoded_feature_names, index=X_val.index)\n",
    "X_test_encoded = pd.DataFrame(X_test_encoded, columns=encoded_feature_names, index=X_test.index)\n",
    "\n",
    "# 9. Combine Processed Features\n",
    "X_train_processed = pd.concat([X_train_scaled, X_train_encoded], axis=1)\n",
    "X_val_processed = pd.concat([X_val_scaled, X_val_encoded], axis=1)\n",
    "X_test_processed = pd.concat([X_test_scaled, X_test_encoded], axis=1)\n",
    "\n",
    "# Verify the shapes\n",
    "print(\"Processed Training Data Shape:\", X_train_processed.shape)\n",
    "print(\"Processed Validation Data Shape:\", X_val_processed.shape)\n",
    "print(\"Processed Test Data Shape:\", X_test_processed.shape)\n",
    "\n",
    "# 10. Apply SMOTE to the Training Data\n",
    "# smote = SMOTE(random_state=42)\n",
    "# X_train_resampled, y_train_resampled = smote.fit_resample(X_train_processed, y_train)\n",
    "\n",
    "# Verify the resampled data\n",
    "# print(\"Resampled Training Data Shape:\", X_train_resampled.shape)\n",
    "# print(\"Resampled Training Target Distribution:\\n\", y_train_resampled.value_counts())\n",
    "\n",
    "# 11. Reset Indices (Optional)\n",
    "X_train_processed.reset_index(drop=True, inplace=True)\n",
    "y_train.reset_index(drop=True, inplace=True)\n",
    "\n",
    "X_val_processed.reset_index(drop=True, inplace=True)\n",
    "y_val.reset_index(drop=True, inplace=True)\n",
    "\n",
    "X_test_processed.reset_index(drop=True, inplace=True)\n",
    "y_test.reset_index(drop=True, inplace=True)\n",
    "\n",
    "# 12. Final Verification\n",
    "print(\"Final Training Data Shape:\", X_train_processed.shape)\n",
    "print(\"Final Validation Data Shape:\", X_val_processed.shape)\n",
    "print(\"Final Test Data Shape:\", X_test_processed.shape)\n"
   ]
  },
  {
   "cell_type": "code",
   "execution_count": 2,
   "metadata": {},
   "outputs": [
    {
     "name": "stderr",
     "output_type": "stream",
     "text": [
      "c:\\Users\\micha\\anaconda3\\envs\\msds-data-science-project\\Lib\\site-packages\\tqdm\\auto.py:21: TqdmWarning: IProgress not found. Please update jupyter and ipywidgets. See https://ipywidgets.readthedocs.io/en/stable/user_install.html\n",
      "  from .autonotebook import tqdm as notebook_tqdm\n",
      "[I 2024-10-19 14:51:05,456] A new study created in RDB with name: neural_network_optimisation_2\n",
      "  0%|          | 0/1000 [00:00<?, ?it/s]"
     ]
    },
    {
     "name": "stdout",
     "output_type": "stream",
     "text": [
      "WARNING:tensorflow:From c:\\Users\\micha\\anaconda3\\envs\\msds-data-science-project\\Lib\\site-packages\\keras\\src\\backend\\common\\global_state.py:82: The name tf.reset_default_graph is deprecated. Please use tf.compat.v1.reset_default_graph instead.\n",
      "\n"
     ]
    },
    {
     "name": "stderr",
     "output_type": "stream",
     "text": [
      "Best trial: 0. Best value: 0.843763:   0%|          | 1/1000 [02:59<49:51:58, 179.70s/it]"
     ]
    },
    {
     "name": "stdout",
     "output_type": "stream",
     "text": [
      "[I 2024-10-19 14:54:05,152] Trial 0 finished with value: 0.8437627553939819 and parameters: {'n_hidden_layers': 2, 'activation': 'relu', 'learning_rate': 2.9380279387035334e-05, 'optimizer': 'sgd', 'dropout_rate': 0.34044600469728353, 'n_neurons': 96, 'batch_size': 2}. Best is trial 0 with value: 0.8437627553939819.\n"
     ]
    },
    {
     "name": "stderr",
     "output_type": "stream",
     "text": [
      "Best trial: 0. Best value: 0.843763:   0%|          | 2/1000 [03:10<22:14:24, 80.22s/it] "
     ]
    },
    {
     "name": "stdout",
     "output_type": "stream",
     "text": [
      "[I 2024-10-19 14:54:15,745] Trial 1 finished with value: 0.843353807926178 and parameters: {'n_hidden_layers': 2, 'activation': 'tanh', 'learning_rate': 7.52374288453485e-05, 'optimizer': 'sgd', 'dropout_rate': 0.1798695128633439, 'n_neurons': 74, 'batch_size': 64}. Best is trial 0 with value: 0.8437627553939819.\n"
     ]
    },
    {
     "name": "stderr",
     "output_type": "stream",
     "text": [
      "Best trial: 0. Best value: 0.843763:   0%|          | 3/1000 [03:34<15:08:56, 54.70s/it]"
     ]
    },
    {
     "name": "stdout",
     "output_type": "stream",
     "text": [
      "[I 2024-10-19 14:54:40,072] Trial 2 finished with value: 0.8437627553939819 and parameters: {'n_hidden_layers': 1, 'activation': 'tanh', 'learning_rate': 2.32335035153901e-05, 'optimizer': 'sgd', 'dropout_rate': 0.20351199264000677, 'n_neurons': 90, 'batch_size': 16}. Best is trial 0 with value: 0.8437627553939819.\n"
     ]
    },
    {
     "name": "stderr",
     "output_type": "stream",
     "text": [
      "Best trial: 0. Best value: 0.843763:   0%|          | 4/1000 [03:51<10:57:40, 39.62s/it]"
     ]
    },
    {
     "name": "stdout",
     "output_type": "stream",
     "text": [
      "[I 2024-10-19 14:54:56,572] Trial 3 finished with value: 0.8437627553939819 and parameters: {'n_hidden_layers': 2, 'activation': 'relu', 'learning_rate': 1.3667272915456215e-05, 'optimizer': 'rmsprop', 'dropout_rate': 0.43149500366077176, 'n_neurons': 56, 'batch_size': 32}. Best is trial 0 with value: 0.8437627553939819.\n"
     ]
    },
    {
     "name": "stderr",
     "output_type": "stream",
     "text": [
      "Best trial: 4. Best value: 0.890798:   0%|          | 5/1000 [03:59<7:48:06, 28.23s/it] "
     ]
    },
    {
     "name": "stdout",
     "output_type": "stream",
     "text": [
      "[I 2024-10-19 14:55:04,599] Trial 4 finished with value: 0.8907975554466248 and parameters: {'n_hidden_layers': 1, 'activation': 'relu', 'learning_rate': 0.0020597335357437196, 'optimizer': 'rmsprop', 'dropout_rate': 0.4452413703502375, 'n_neurons': 86, 'batch_size': 64}. Best is trial 4 with value: 0.8907975554466248.\n"
     ]
    },
    {
     "name": "stderr",
     "output_type": "stream",
     "text": [
      "Best trial: 4. Best value: 0.890798:   1%|          | 6/1000 [04:23<7:27:41, 27.02s/it]"
     ]
    },
    {
     "name": "stdout",
     "output_type": "stream",
     "text": [
      "[I 2024-10-19 14:55:29,287] Trial 5 finished with value: 0.8862985968589783 and parameters: {'n_hidden_layers': 1, 'activation': 'tanh', 'learning_rate': 0.002055424552015075, 'optimizer': 'rmsprop', 'dropout_rate': 0.11016765069763808, 'n_neurons': 28, 'batch_size': 16}. Best is trial 4 with value: 0.8907975554466248.\n"
     ]
    },
    {
     "name": "stderr",
     "output_type": "stream",
     "text": [
      "Best trial: 4. Best value: 0.890798:   1%|          | 7/1000 [05:08<9:04:06, 32.88s/it]"
     ]
    },
    {
     "name": "stdout",
     "output_type": "stream",
     "text": [
      "[I 2024-10-19 14:56:14,213] Trial 6 finished with value: 0.8805726170539856 and parameters: {'n_hidden_layers': 1, 'activation': 'tanh', 'learning_rate': 0.006153085601625313, 'optimizer': 'sgd', 'dropout_rate': 0.4214688307596458, 'n_neurons': 37, 'batch_size': 8}. Best is trial 4 with value: 0.8907975554466248.\n"
     ]
    },
    {
     "name": "stderr",
     "output_type": "stream",
     "text": [
      "Best trial: 4. Best value: 0.890798:   1%|          | 8/1000 [05:57<10:28:33, 38.02s/it]"
     ]
    },
    {
     "name": "stdout",
     "output_type": "stream",
     "text": [
      "[I 2024-10-19 14:57:03,240] Trial 7 finished with value: 0.8437627553939819 and parameters: {'n_hidden_layers': 3, 'activation': 'relu', 'learning_rate': 0.000178744632562384, 'optimizer': 'sgd', 'dropout_rate': 0.47716388156500766, 'n_neurons': 52, 'batch_size': 8}. Best is trial 4 with value: 0.8907975554466248.\n"
     ]
    },
    {
     "name": "stderr",
     "output_type": "stream",
     "text": [
      "Best trial: 4. Best value: 0.890798:   1%|          | 9/1000 [11:13<34:22:50, 124.89s/it]"
     ]
    },
    {
     "name": "stdout",
     "output_type": "stream",
     "text": [
      "[I 2024-10-19 15:02:19,159] Trial 8 finished with value: 0.8527607321739197 and parameters: {'n_hidden_layers': 1, 'activation': 'tanh', 'learning_rate': 1.4270403521460843e-05, 'optimizer': 'rmsprop', 'dropout_rate': 0.15795794883648925, 'n_neurons': 71, 'batch_size': 1}. Best is trial 4 with value: 0.8907975554466248.\n"
     ]
    },
    {
     "name": "stderr",
     "output_type": "stream",
     "text": [
      "Best trial: 4. Best value: 0.890798:   1%|          | 10/1000 [11:23<24:33:48, 89.32s/it]"
     ]
    },
    {
     "name": "stdout",
     "output_type": "stream",
     "text": [
      "[I 2024-10-19 15:02:28,830] Trial 9 finished with value: 0.8372188210487366 and parameters: {'n_hidden_layers': 2, 'activation': 'elu', 'learning_rate': 9.169384722192322e-05, 'optimizer': 'sgd', 'dropout_rate': 0.37102574473691297, 'n_neurons': 17, 'batch_size': 64}. Best is trial 4 with value: 0.8907975554466248.\n"
     ]
    },
    {
     "name": "stderr",
     "output_type": "stream",
     "text": [
      "Best trial: 4. Best value: 0.890798:   1%|          | 11/1000 [11:33<17:50:52, 64.97s/it]"
     ]
    },
    {
     "name": "stdout",
     "output_type": "stream",
     "text": [
      "[I 2024-10-19 15:02:38,574] Trial 10 finished with value: 0.890388548374176 and parameters: {'n_hidden_layers': 3, 'activation': 'elu', 'learning_rate': 0.001082725997676882, 'optimizer': 'adam', 'dropout_rate': 0.2758541800454106, 'n_neurons': 118, 'batch_size': 128}. Best is trial 4 with value: 0.8907975554466248.\n"
     ]
    },
    {
     "name": "stderr",
     "output_type": "stream",
     "text": [
      "Best trial: 11. Best value: 0.892434:   1%|          | 12/1000 [11:43<13:13:57, 48.22s/it]"
     ]
    },
    {
     "name": "stdout",
     "output_type": "stream",
     "text": [
      "[I 2024-10-19 15:02:48,477] Trial 11 finished with value: 0.8924335241317749 and parameters: {'n_hidden_layers': 3, 'activation': 'elu', 'learning_rate': 0.0008533716477932964, 'optimizer': 'adam', 'dropout_rate': 0.2628900279921989, 'n_neurons': 124, 'batch_size': 128}. Best is trial 11 with value: 0.8924335241317749.\n"
     ]
    },
    {
     "name": "stderr",
     "output_type": "stream",
     "text": [
      "Best trial: 12. Best value: 0.896933:   1%|▏         | 13/1000 [12:59<15:31:56, 56.65s/it]"
     ]
    },
    {
     "name": "stdout",
     "output_type": "stream",
     "text": [
      "[I 2024-10-19 15:04:04,543] Trial 12 finished with value: 0.8969325423240662 and parameters: {'n_hidden_layers': 3, 'activation': 'elu', 'learning_rate': 0.0007473504235800493, 'optimizer': 'adam', 'dropout_rate': 0.2604603292118235, 'n_neurons': 124, 'batch_size': 4}. Best is trial 12 with value: 0.8969325423240662.\n"
     ]
    },
    {
     "name": "stderr",
     "output_type": "stream",
     "text": [
      "Best trial: 12. Best value: 0.896933:   1%|▏         | 14/1000 [14:18<17:22:12, 63.42s/it]"
     ]
    },
    {
     "name": "stdout",
     "output_type": "stream",
     "text": [
      "[I 2024-10-19 15:05:23,603] Trial 13 finished with value: 0.8944784998893738 and parameters: {'n_hidden_layers': 3, 'activation': 'elu', 'learning_rate': 0.0006064212057921887, 'optimizer': 'adam', 'dropout_rate': 0.2651456263915392, 'n_neurons': 128, 'batch_size': 4}. Best is trial 12 with value: 0.8969325423240662.\n"
     ]
    },
    {
     "name": "stderr",
     "output_type": "stream",
     "text": [
      "Best trial: 12. Best value: 0.896933:   2%|▏         | 15/1000 [15:43<19:10:26, 70.08s/it]"
     ]
    },
    {
     "name": "stdout",
     "output_type": "stream",
     "text": [
      "[I 2024-10-19 15:06:49,108] Trial 14 finished with value: 0.8940695524215698 and parameters: {'n_hidden_layers': 3, 'activation': 'elu', 'learning_rate': 0.00042828027978436214, 'optimizer': 'adam', 'dropout_rate': 0.23137733184047368, 'n_neurons': 111, 'batch_size': 4}. Best is trial 12 with value: 0.8969325423240662.\n"
     ]
    },
    {
     "name": "stderr",
     "output_type": "stream",
     "text": [
      "Best trial: 12. Best value: 0.896933:   2%|▏         | 16/1000 [17:29<22:05:22, 80.82s/it]"
     ]
    },
    {
     "name": "stdout",
     "output_type": "stream",
     "text": [
      "[I 2024-10-19 15:08:34,857] Trial 15 finished with value: 0.8928425312042236 and parameters: {'n_hidden_layers': 3, 'activation': 'elu', 'learning_rate': 0.00035043232363972713, 'optimizer': 'adam', 'dropout_rate': 0.3261171366446572, 'n_neurons': 106, 'batch_size': 4}. Best is trial 12 with value: 0.8969325423240662.\n"
     ]
    },
    {
     "name": "stderr",
     "output_type": "stream",
     "text": [
      "Best trial: 12. Best value: 0.896933:   2%|▏         | 17/1000 [18:12<19:00:18, 69.60s/it]"
     ]
    },
    {
     "name": "stdout",
     "output_type": "stream",
     "text": [
      "[I 2024-10-19 15:09:18,384] Trial 16 finished with value: 0.8883435726165771 and parameters: {'n_hidden_layers': 3, 'activation': 'elu', 'learning_rate': 0.0032357560638004604, 'optimizer': 'adam', 'dropout_rate': 0.28990139943477444, 'n_neurons': 125, 'batch_size': 4}. Best is trial 12 with value: 0.8969325423240662.\n"
     ]
    },
    {
     "name": "stderr",
     "output_type": "stream",
     "text": [
      "Best trial: 12. Best value: 0.896933:   2%|▏         | 18/1000 [19:30<19:39:39, 72.08s/it]"
     ]
    },
    {
     "name": "stdout",
     "output_type": "stream",
     "text": [
      "[I 2024-10-19 15:10:36,221] Trial 17 finished with value: 0.89570552110672 and parameters: {'n_hidden_layers': 3, 'activation': 'elu', 'learning_rate': 0.0007499492941070167, 'optimizer': 'adam', 'dropout_rate': 0.23245242654991938, 'n_neurons': 104, 'batch_size': 4}. Best is trial 12 with value: 0.8969325423240662.\n"
     ]
    },
    {
     "name": "stderr",
     "output_type": "stream",
     "text": [
      "Best trial: 12. Best value: 0.896933:   2%|▏         | 19/1000 [21:17<22:31:04, 82.63s/it]"
     ]
    },
    {
     "name": "stdout",
     "output_type": "stream",
     "text": [
      "[I 2024-10-19 15:12:23,450] Trial 18 finished with value: 0.890388548374176 and parameters: {'n_hidden_layers': 2, 'activation': 'elu', 'learning_rate': 0.00018805987805552523, 'optimizer': 'adam', 'dropout_rate': 0.12343635121360413, 'n_neurons': 107, 'batch_size': 4}. Best is trial 12 with value: 0.8969325423240662.\n"
     ]
    },
    {
     "name": "stderr",
     "output_type": "stream",
     "text": [
      "Best trial: 12. Best value: 0.896933:   2%|▏         | 20/1000 [21:30<16:45:14, 61.55s/it]"
     ]
    },
    {
     "name": "stdout",
     "output_type": "stream",
     "text": [
      "[I 2024-10-19 15:12:35,846] Trial 19 finished with value: 0.8846625685691833 and parameters: {'n_hidden_layers': 3, 'activation': 'elu', 'learning_rate': 0.0062438212354249045, 'optimizer': 'adam', 'dropout_rate': 0.22530752193954448, 'n_neurons': 99, 'batch_size': 32}. Best is trial 12 with value: 0.8969325423240662.\n"
     ]
    },
    {
     "name": "stderr",
     "output_type": "stream",
     "text": [
      "Best trial: 12. Best value: 0.896933:   2%|▏         | 21/1000 [24:21<25:41:40, 94.48s/it]"
     ]
    },
    {
     "name": "stdout",
     "output_type": "stream",
     "text": [
      "[I 2024-10-19 15:15:27,126] Trial 20 finished with value: 0.8916155695915222 and parameters: {'n_hidden_layers': 3, 'activation': 'elu', 'learning_rate': 0.0012512613572545888, 'optimizer': 'adam', 'dropout_rate': 0.3448926066036006, 'n_neurons': 80, 'batch_size': 1}. Best is trial 12 with value: 0.8969325423240662.\n"
     ]
    },
    {
     "name": "stderr",
     "output_type": "stream",
     "text": [
      "Best trial: 12. Best value: 0.896933:   2%|▏         | 22/1000 [25:35<23:57:43, 88.20s/it]"
     ]
    },
    {
     "name": "stdout",
     "output_type": "stream",
     "text": [
      "[I 2024-10-19 15:16:40,683] Trial 21 finished with value: 0.8924335241317749 and parameters: {'n_hidden_layers': 3, 'activation': 'elu', 'learning_rate': 0.0006209152283425375, 'optimizer': 'adam', 'dropout_rate': 0.23603725775901047, 'n_neurons': 126, 'batch_size': 4}. Best is trial 12 with value: 0.8969325423240662.\n"
     ]
    },
    {
     "name": "stderr",
     "output_type": "stream",
     "text": [
      "Best trial: 12. Best value: 0.896933:   2%|▏         | 23/1000 [27:29<26:01:41, 95.91s/it]"
     ]
    },
    {
     "name": "stdout",
     "output_type": "stream",
     "text": [
      "[I 2024-10-19 15:18:34,560] Trial 22 finished with value: 0.8940695524215698 and parameters: {'n_hidden_layers': 3, 'activation': 'elu', 'learning_rate': 0.00020250051990212283, 'optimizer': 'adam', 'dropout_rate': 0.26373453717666623, 'n_neurons': 114, 'batch_size': 4}. Best is trial 12 with value: 0.8969325423240662.\n"
     ]
    },
    {
     "name": "stderr",
     "output_type": "stream",
     "text": [
      "Best trial: 12. Best value: 0.896933:   2%|▏         | 24/1000 [29:01<25:43:24, 94.88s/it]"
     ]
    },
    {
     "name": "stdout",
     "output_type": "stream",
     "text": [
      "[I 2024-10-19 15:20:07,047] Trial 23 finished with value: 0.8916155695915222 and parameters: {'n_hidden_layers': 2, 'activation': 'elu', 'learning_rate': 0.000532305329926006, 'optimizer': 'adam', 'dropout_rate': 0.31439617640833895, 'n_neurons': 127, 'batch_size': 4}. Best is trial 12 with value: 0.8969325423240662.\n"
     ]
    },
    {
     "name": "stderr",
     "output_type": "stream",
     "text": [
      "Best trial: 12. Best value: 0.896933:   2%|▎         | 25/1000 [30:41<26:05:32, 96.34s/it]"
     ]
    },
    {
     "name": "stdout",
     "output_type": "stream",
     "text": [
      "[I 2024-10-19 15:21:46,794] Trial 24 finished with value: 0.8805726170539856 and parameters: {'n_hidden_layers': 3, 'activation': 'elu', 'learning_rate': 0.0020983796698368896, 'optimizer': 'adam', 'dropout_rate': 0.3754153517337121, 'n_neurons': 101, 'batch_size': 2}. Best is trial 12 with value: 0.8969325423240662.\n"
     ]
    },
    {
     "name": "stderr",
     "output_type": "stream",
     "text": [
      "Best trial: 12. Best value: 0.896933:   3%|▎         | 26/1000 [31:39<22:58:04, 84.89s/it]"
     ]
    },
    {
     "name": "stdout",
     "output_type": "stream",
     "text": [
      "[I 2024-10-19 15:22:44,973] Trial 25 finished with value: 0.8916155695915222 and parameters: {'n_hidden_layers': 3, 'activation': 'elu', 'learning_rate': 0.0008104934899216314, 'optimizer': 'adam', 'dropout_rate': 0.167070675622651, 'n_neurons': 116, 'batch_size': 4}. Best is trial 12 with value: 0.8969325423240662.\n"
     ]
    },
    {
     "name": "stderr",
     "output_type": "stream",
     "text": [
      "Best trial: 12. Best value: 0.896933:   3%|▎         | 27/1000 [33:28<24:52:08, 92.01s/it]"
     ]
    },
    {
     "name": "stdout",
     "output_type": "stream",
     "text": [
      "[I 2024-10-19 15:24:33,601] Trial 26 finished with value: 0.8899795413017273 and parameters: {'n_hidden_layers': 2, 'activation': 'elu', 'learning_rate': 0.0002965340533036023, 'optimizer': 'adam', 'dropout_rate': 0.19137622027439238, 'n_neurons': 118, 'batch_size': 4}. Best is trial 12 with value: 0.8969325423240662.\n"
     ]
    },
    {
     "name": "stderr",
     "output_type": "stream",
     "text": [
      "Best trial: 12. Best value: 0.896933:   3%|▎         | 28/1000 [34:14<21:10:52, 78.45s/it]"
     ]
    },
    {
     "name": "stdout",
     "output_type": "stream",
     "text": [
      "[I 2024-10-19 15:25:20,402] Trial 27 finished with value: 0.8842535614967346 and parameters: {'n_hidden_layers': 3, 'activation': 'elu', 'learning_rate': 0.003978817535319807, 'optimizer': 'adam', 'dropout_rate': 0.2450113568811173, 'n_neurons': 108, 'batch_size': 4}. Best is trial 12 with value: 0.8969325423240662.\n"
     ]
    },
    {
     "name": "stderr",
     "output_type": "stream",
     "text": [
      "Best trial: 12. Best value: 0.896933:   3%|▎         | 29/1000 [35:30<20:53:20, 77.45s/it]"
     ]
    },
    {
     "name": "stdout",
     "output_type": "stream",
     "text": [
      "[I 2024-10-19 15:26:35,510] Trial 28 finished with value: 0.8850715756416321 and parameters: {'n_hidden_layers': 3, 'activation': 'relu', 'learning_rate': 8.109557478924708e-05, 'optimizer': 'adam', 'dropout_rate': 0.2933751788732185, 'n_neurons': 91, 'batch_size': 4}. Best is trial 12 with value: 0.8969325423240662.\n"
     ]
    },
    {
     "name": "stderr",
     "output_type": "stream",
     "text": [
      "Best trial: 12. Best value: 0.896933:   3%|▎         | 30/1000 [36:42<20:27:29, 75.93s/it]"
     ]
    },
    {
     "name": "stdout",
     "output_type": "stream",
     "text": [
      "[I 2024-10-19 15:27:47,893] Trial 29 finished with value: 0.8744376301765442 and parameters: {'n_hidden_layers': 2, 'activation': 'elu', 'learning_rate': 0.009727648561863537, 'optimizer': 'rmsprop', 'dropout_rate': 0.21006137576355552, 'n_neurons': 99, 'batch_size': 2}. Best is trial 12 with value: 0.8969325423240662.\n"
     ]
    },
    {
     "name": "stderr",
     "output_type": "stream",
     "text": [
      "Best trial: 12. Best value: 0.896933:   3%|▎         | 31/1000 [37:00<15:46:48, 58.63s/it]"
     ]
    },
    {
     "name": "stdout",
     "output_type": "stream",
     "text": [
      "[I 2024-10-19 15:28:06,151] Trial 30 finished with value: 0.8862985968589783 and parameters: {'n_hidden_layers': 3, 'activation': 'relu', 'learning_rate': 0.0016454908510583456, 'optimizer': 'adam', 'dropout_rate': 0.14430970056862996, 'n_neurons': 64, 'batch_size': 8}. Best is trial 12 with value: 0.8969325423240662.\n"
     ]
    },
    {
     "name": "stderr",
     "output_type": "stream",
     "text": [
      "Best trial: 12. Best value: 0.896933:   3%|▎         | 32/1000 [38:22<17:37:31, 65.55s/it]"
     ]
    },
    {
     "name": "stdout",
     "output_type": "stream",
     "text": [
      "[I 2024-10-19 15:29:27,854] Trial 31 finished with value: 0.8944784998893738 and parameters: {'n_hidden_layers': 3, 'activation': 'elu', 'learning_rate': 0.00041714131269219966, 'optimizer': 'adam', 'dropout_rate': 0.24176523497131122, 'n_neurons': 114, 'batch_size': 4}. Best is trial 12 with value: 0.8969325423240662.\n"
     ]
    },
    {
     "name": "stderr",
     "output_type": "stream",
     "text": [
      "Best trial: 12. Best value: 0.896933:   3%|▎         | 33/1000 [39:57<19:59:51, 74.45s/it]"
     ]
    },
    {
     "name": "stdout",
     "output_type": "stream",
     "text": [
      "[I 2024-10-19 15:31:03,067] Trial 32 finished with value: 0.8932515382766724 and parameters: {'n_hidden_layers': 3, 'activation': 'elu', 'learning_rate': 0.00031344624026669857, 'optimizer': 'adam', 'dropout_rate': 0.25923014789013343, 'n_neurons': 121, 'batch_size': 4}. Best is trial 12 with value: 0.8969325423240662.\n"
     ]
    },
    {
     "name": "stderr",
     "output_type": "stream",
     "text": [
      "Best trial: 12. Best value: 0.896933:   3%|▎         | 34/1000 [41:52<23:13:02, 86.52s/it]"
     ]
    },
    {
     "name": "stdout",
     "output_type": "stream",
     "text": [
      "[I 2024-10-19 15:32:57,768] Trial 33 finished with value: 0.8899795413017273 and parameters: {'n_hidden_layers': 3, 'activation': 'elu', 'learning_rate': 0.0001228478861721363, 'optimizer': 'adam', 'dropout_rate': 0.21288971794298978, 'n_neurons': 114, 'batch_size': 4}. Best is trial 12 with value: 0.8969325423240662.\n"
     ]
    },
    {
     "name": "stderr",
     "output_type": "stream",
     "text": [
      "Best trial: 12. Best value: 0.896933:   4%|▎         | 35/1000 [42:23<18:45:44, 69.99s/it]"
     ]
    },
    {
     "name": "stdout",
     "output_type": "stream",
     "text": [
      "[I 2024-10-19 15:33:29,191] Trial 34 finished with value: 0.8907975554466248 and parameters: {'n_hidden_layers': 2, 'activation': 'tanh', 'learning_rate': 0.0006357624697251207, 'optimizer': 'adam', 'dropout_rate': 0.18634807185190125, 'n_neurons': 128, 'batch_size': 16}. Best is trial 12 with value: 0.8969325423240662.\n"
     ]
    },
    {
     "name": "stderr",
     "output_type": "stream",
     "text": [
      "Best trial: 12. Best value: 0.896933:   4%|▎         | 36/1000 [42:42<14:35:20, 54.48s/it]"
     ]
    },
    {
     "name": "stdout",
     "output_type": "stream",
     "text": [
      "[I 2024-10-19 15:33:47,480] Trial 35 finished with value: 0.8498977422714233 and parameters: {'n_hidden_layers': 3, 'activation': 'elu', 'learning_rate': 0.0012473930419058506, 'optimizer': 'sgd', 'dropout_rate': 0.31112107276661727, 'n_neurons': 90, 'batch_size': 32}. Best is trial 12 with value: 0.8969325423240662.\n"
     ]
    },
    {
     "name": "stderr",
     "output_type": "stream",
     "text": [
      "Best trial: 12. Best value: 0.896933:   4%|▎         | 37/1000 [42:54<11:13:04, 41.94s/it]"
     ]
    },
    {
     "name": "stdout",
     "output_type": "stream",
     "text": [
      "[I 2024-10-19 15:34:00,140] Trial 36 finished with value: 0.8809816241264343 and parameters: {'n_hidden_layers': 3, 'activation': 'elu', 'learning_rate': 3.660128321955654e-05, 'optimizer': 'rmsprop', 'dropout_rate': 0.2857272335375594, 'n_neurons': 105, 'batch_size': 64}. Best is trial 12 with value: 0.8969325423240662.\n"
     ]
    },
    {
     "name": "stderr",
     "output_type": "stream",
     "text": [
      "Best trial: 12. Best value: 0.896933:   4%|▍         | 38/1000 [43:02<8:30:28, 31.84s/it] "
     ]
    },
    {
     "name": "stdout",
     "output_type": "stream",
     "text": [
      "[I 2024-10-19 15:34:08,417] Trial 37 finished with value: 0.8813905715942383 and parameters: {'n_hidden_layers': 2, 'activation': 'tanh', 'learning_rate': 0.00044392587021240774, 'optimizer': 'adam', 'dropout_rate': 0.3479083023638804, 'n_neurons': 82, 'batch_size': 128}. Best is trial 12 with value: 0.8969325423240662.\n"
     ]
    },
    {
     "name": "stderr",
     "output_type": "stream",
     "text": [
      "Best trial: 12. Best value: 0.896933:   4%|▍         | 39/1000 [43:34<8:27:04, 31.66s/it]"
     ]
    },
    {
     "name": "stdout",
     "output_type": "stream",
     "text": [
      "[I 2024-10-19 15:34:39,660] Trial 38 finished with value: 0.8437627553939819 and parameters: {'n_hidden_layers': 3, 'activation': 'relu', 'learning_rate': 5.096052009901352e-05, 'optimizer': 'sgd', 'dropout_rate': 0.24822127055024748, 'n_neurons': 94, 'batch_size': 16}. Best is trial 12 with value: 0.8969325423240662.\n"
     ]
    },
    {
     "name": "stderr",
     "output_type": "stream",
     "text": [
      "Best trial: 12. Best value: 0.896933:   4%|▍         | 40/1000 [45:19<14:22:05, 53.88s/it]"
     ]
    },
    {
     "name": "stdout",
     "output_type": "stream",
     "text": [
      "[I 2024-10-19 15:36:25,389] Trial 39 finished with value: 0.8699386715888977 and parameters: {'n_hidden_layers': 3, 'activation': 'elu', 'learning_rate': 0.00025287722794979623, 'optimizer': 'rmsprop', 'dropout_rate': 0.21123556706091207, 'n_neurons': 122, 'batch_size': 1}. Best is trial 12 with value: 0.8969325423240662.\n"
     ]
    },
    {
     "name": "stderr",
     "output_type": "stream",
     "text": [
      "Best trial: 12. Best value: 0.896933:   4%|▍         | 41/1000 [48:39<25:58:08, 97.49s/it]"
     ]
    },
    {
     "name": "stdout",
     "output_type": "stream",
     "text": [
      "[I 2024-10-19 15:39:44,623] Trial 40 finished with value: 0.8916155695915222 and parameters: {'n_hidden_layers': 2, 'activation': 'tanh', 'learning_rate': 0.00013254815508825552, 'optimizer': 'adam', 'dropout_rate': 0.17949088866888296, 'n_neurons': 113, 'batch_size': 2}. Best is trial 12 with value: 0.8969325423240662.\n"
     ]
    },
    {
     "name": "stderr",
     "output_type": "stream",
     "text": [
      "Best trial: 12. Best value: 0.896933:   4%|▍         | 42/1000 [49:48<23:39:34, 88.91s/it]"
     ]
    },
    {
     "name": "stdout",
     "output_type": "stream",
     "text": [
      "[I 2024-10-19 15:40:53,514] Trial 41 finished with value: 0.8948875069618225 and parameters: {'n_hidden_layers': 3, 'activation': 'elu', 'learning_rate': 0.0004271672461886641, 'optimizer': 'adam', 'dropout_rate': 0.2430474064925672, 'n_neurons': 110, 'batch_size': 4}. Best is trial 12 with value: 0.8969325423240662.\n"
     ]
    },
    {
     "name": "stderr",
     "output_type": "stream",
     "text": [
      "Best trial: 12. Best value: 0.896933:   4%|▍         | 43/1000 [50:48<21:22:04, 80.38s/it]"
     ]
    },
    {
     "name": "stdout",
     "output_type": "stream",
     "text": [
      "[I 2024-10-19 15:41:53,998] Trial 42 finished with value: 0.8867075443267822 and parameters: {'n_hidden_layers': 3, 'activation': 'elu', 'learning_rate': 0.000983489758141034, 'optimizer': 'adam', 'dropout_rate': 0.2262544105425294, 'n_neurons': 120, 'batch_size': 4}. Best is trial 12 with value: 0.8969325423240662.\n"
     ]
    },
    {
     "name": "stderr",
     "output_type": "stream",
     "text": [
      "Best trial: 12. Best value: 0.896933:   4%|▍         | 44/1000 [52:27<22:51:15, 86.06s/it]"
     ]
    },
    {
     "name": "stdout",
     "output_type": "stream",
     "text": [
      "[I 2024-10-19 15:43:33,318] Trial 43 finished with value: 0.8944784998893738 and parameters: {'n_hidden_layers': 3, 'activation': 'elu', 'learning_rate': 0.0007042734098818176, 'optimizer': 'adam', 'dropout_rate': 0.27201369262949127, 'n_neurons': 47, 'batch_size': 4}. Best is trial 12 with value: 0.8969325423240662.\n"
     ]
    },
    {
     "name": "stderr",
     "output_type": "stream",
     "text": [
      "Best trial: 12. Best value: 0.896933:   4%|▍         | 45/1000 [54:10<24:09:58, 91.10s/it]"
     ]
    },
    {
     "name": "stdout",
     "output_type": "stream",
     "text": [
      "[I 2024-10-19 15:45:16,166] Trial 44 finished with value: 0.8801636099815369 and parameters: {'n_hidden_layers': 3, 'activation': 'elu', 'learning_rate': 0.0004697327223080759, 'optimizer': 'sgd', 'dropout_rate': 0.2519350673777221, 'n_neurons': 102, 'batch_size': 4}. Best is trial 12 with value: 0.8969325423240662.\n"
     ]
    },
    {
     "name": "stderr",
     "output_type": "stream",
     "text": [
      "Best trial: 12. Best value: 0.896933:   5%|▍         | 46/1000 [54:20<17:40:18, 66.69s/it]"
     ]
    },
    {
     "name": "stdout",
     "output_type": "stream",
     "text": [
      "[I 2024-10-19 15:45:25,890] Trial 45 finished with value: 0.8948875069618225 and parameters: {'n_hidden_layers': 1, 'activation': 'relu', 'learning_rate': 0.0014384133902992288, 'optimizer': 'adam', 'dropout_rate': 0.29817540621668975, 'n_neurons': 110, 'batch_size': 64}. Best is trial 12 with value: 0.8969325423240662.\n"
     ]
    },
    {
     "name": "stderr",
     "output_type": "stream",
     "text": [
      "Best trial: 12. Best value: 0.896933:   5%|▍         | 47/1000 [54:27<12:53:39, 48.71s/it]"
     ]
    },
    {
     "name": "stdout",
     "output_type": "stream",
     "text": [
      "[I 2024-10-19 15:45:32,653] Trial 46 finished with value: 0.8928425312042236 and parameters: {'n_hidden_layers': 1, 'activation': 'relu', 'learning_rate': 0.002654777711157238, 'optimizer': 'adam', 'dropout_rate': 0.3958964541975917, 'n_neurons': 110, 'batch_size': 64}. Best is trial 12 with value: 0.8969325423240662.\n"
     ]
    },
    {
     "name": "stderr",
     "output_type": "stream",
     "text": [
      "Best trial: 12. Best value: 0.896933:   5%|▍         | 48/1000 [54:37<9:49:08, 37.13s/it] "
     ]
    },
    {
     "name": "stdout",
     "output_type": "stream",
     "text": [
      "[I 2024-10-19 15:45:42,767] Trial 47 finished with value: 0.890388548374176 and parameters: {'n_hidden_layers': 1, 'activation': 'relu', 'learning_rate': 0.0015842525181482554, 'optimizer': 'adam', 'dropout_rate': 0.30380508695058656, 'n_neurons': 70, 'batch_size': 64}. Best is trial 12 with value: 0.8969325423240662.\n"
     ]
    },
    {
     "name": "stderr",
     "output_type": "stream",
     "text": [
      "Best trial: 12. Best value: 0.896933:   5%|▍         | 49/1000 [54:46<7:35:36, 28.75s/it]"
     ]
    },
    {
     "name": "stdout",
     "output_type": "stream",
     "text": [
      "[I 2024-10-19 15:45:51,946] Trial 48 finished with value: 0.8895705342292786 and parameters: {'n_hidden_layers': 1, 'activation': 'relu', 'learning_rate': 0.001617089125260982, 'optimizer': 'rmsprop', 'dropout_rate': 0.3289351389659888, 'n_neurons': 95, 'batch_size': 64}. Best is trial 12 with value: 0.8969325423240662.\n"
     ]
    },
    {
     "name": "stderr",
     "output_type": "stream",
     "text": [
      "Best trial: 12. Best value: 0.896933:   5%|▌         | 50/1000 [55:14<7:30:55, 28.48s/it]"
     ]
    },
    {
     "name": "stdout",
     "output_type": "stream",
     "text": [
      "[I 2024-10-19 15:46:19,806] Trial 49 finished with value: 0.890388548374176 and parameters: {'n_hidden_layers': 1, 'activation': 'relu', 'learning_rate': 0.0009262141645893552, 'optimizer': 'adam', 'dropout_rate': 0.274470629495948, 'n_neurons': 121, 'batch_size': 8}. Best is trial 12 with value: 0.8969325423240662.\n"
     ]
    },
    {
     "name": "stderr",
     "output_type": "stream",
     "text": [
      "Best trial: 12. Best value: 0.896933:   5%|▌         | 51/1000 [55:29<6:25:32, 24.38s/it]"
     ]
    },
    {
     "name": "stdout",
     "output_type": "stream",
     "text": [
      "[I 2024-10-19 15:46:34,607] Trial 50 finished with value: 0.8437627553939819 and parameters: {'n_hidden_layers': 1, 'activation': 'relu', 'learning_rate': 0.0002360063337068273, 'optimizer': 'sgd', 'dropout_rate': 0.19631064501573184, 'n_neurons': 104, 'batch_size': 32}. Best is trial 12 with value: 0.8969325423240662.\n"
     ]
    },
    {
     "name": "stderr",
     "output_type": "stream",
     "text": [
      "Best trial: 12. Best value: 0.896933:   5%|▌         | 52/1000 [57:13<12:44:13, 48.37s/it]"
     ]
    },
    {
     "name": "stdout",
     "output_type": "stream",
     "text": [
      "[I 2024-10-19 15:48:18,960] Trial 51 finished with value: 0.8961145281791687 and parameters: {'n_hidden_layers': 3, 'activation': 'elu', 'learning_rate': 0.00038055938887631525, 'optimizer': 'adam', 'dropout_rate': 0.2853589033508135, 'n_neurons': 110, 'batch_size': 4}. Best is trial 12 with value: 0.8969325423240662.\n"
     ]
    },
    {
     "name": "stderr",
     "output_type": "stream",
     "text": [
      "Best trial: 12. Best value: 0.896933:   5%|▌         | 53/1000 [57:23<9:39:45, 36.73s/it] "
     ]
    },
    {
     "name": "stdout",
     "output_type": "stream",
     "text": [
      "[I 2024-10-19 15:48:28,537] Trial 52 finished with value: 0.8854805827140808 and parameters: {'n_hidden_layers': 3, 'activation': 'elu', 'learning_rate': 0.00036305235146799874, 'optimizer': 'adam', 'dropout_rate': 0.28853235322011195, 'n_neurons': 109, 'batch_size': 128}. Best is trial 12 with value: 0.8969325423240662.\n"
     ]
    },
    {
     "name": "stderr",
     "output_type": "stream",
     "text": [
      "Best trial: 12. Best value: 0.896933:   5%|▌         | 54/1000 [57:36<7:48:45, 29.73s/it]"
     ]
    },
    {
     "name": "stdout",
     "output_type": "stream",
     "text": [
      "[I 2024-10-19 15:48:41,934] Trial 53 finished with value: 0.8891615271568298 and parameters: {'n_hidden_layers': 3, 'activation': 'elu', 'learning_rate': 0.0006174824018921514, 'optimizer': 'adam', 'dropout_rate': 0.3255750482407022, 'n_neurons': 118, 'batch_size': 64}. Best is trial 12 with value: 0.8969325423240662.\n"
     ]
    },
    {
     "name": "stderr",
     "output_type": "stream",
     "text": [
      "Best trial: 12. Best value: 0.896933:   6%|▌         | 55/1000 [58:27<9:28:43, 36.11s/it]"
     ]
    },
    {
     "name": "stdout",
     "output_type": "stream",
     "text": [
      "[I 2024-10-19 15:49:32,926] Trial 54 finished with value: 0.8895705342292786 and parameters: {'n_hidden_layers': 2, 'activation': 'tanh', 'learning_rate': 0.0011232534686353814, 'optimizer': 'adam', 'dropout_rate': 0.28141923728904006, 'n_neurons': 125, 'batch_size': 4}. Best is trial 12 with value: 0.8969325423240662.\n"
     ]
    },
    {
     "name": "stderr",
     "output_type": "stream",
     "text": [
      "Best trial: 12. Best value: 0.896933:   6%|▌         | 56/1000 [1:01:37<21:33:27, 82.21s/it]"
     ]
    },
    {
     "name": "stdout",
     "output_type": "stream",
     "text": [
      "[I 2024-10-19 15:52:42,708] Trial 55 finished with value: 0.8887525796890259 and parameters: {'n_hidden_layers': 3, 'activation': 'elu', 'learning_rate': 0.0007769153274659183, 'optimizer': 'adam', 'dropout_rate': 0.2637527511843496, 'n_neurons': 111, 'batch_size': 1}. Best is trial 12 with value: 0.8969325423240662.\n"
     ]
    },
    {
     "name": "stderr",
     "output_type": "stream",
     "text": [
      "Best trial: 12. Best value: 0.896933:   6%|▌         | 57/1000 [1:03:32<24:06:11, 92.02s/it]"
     ]
    },
    {
     "name": "stdout",
     "output_type": "stream",
     "text": [
      "[I 2024-10-19 15:54:37,603] Trial 56 finished with value: 0.8899795413017273 and parameters: {'n_hidden_layers': 3, 'activation': 'elu', 'learning_rate': 0.00014863182651124677, 'optimizer': 'adam', 'dropout_rate': 0.22273344988497498, 'n_neurons': 98, 'batch_size': 4}. Best is trial 12 with value: 0.8969325423240662.\n"
     ]
    },
    {
     "name": "stderr",
     "output_type": "stream",
     "text": [
      "Best trial: 12. Best value: 0.896933:   6%|▌         | 58/1000 [1:05:16<25:01:07, 95.61s/it]"
     ]
    },
    {
     "name": "stdout",
     "output_type": "stream",
     "text": [
      "[I 2024-10-19 15:56:21,609] Trial 57 finished with value: 0.8924335241317749 and parameters: {'n_hidden_layers': 3, 'activation': 'elu', 'learning_rate': 0.0005581309263676655, 'optimizer': 'adam', 'dropout_rate': 0.4971196234958163, 'n_neurons': 86, 'batch_size': 4}. Best is trial 12 with value: 0.8969325423240662.\n"
     ]
    },
    {
     "name": "stderr",
     "output_type": "stream",
     "text": [
      "Best trial: 12. Best value: 0.896933:   6%|▌         | 59/1000 [1:05:26<18:19:40, 70.12s/it]"
     ]
    },
    {
     "name": "stdout",
     "output_type": "stream",
     "text": [
      "[I 2024-10-19 15:56:32,238] Trial 58 finished with value: 0.8940695524215698 and parameters: {'n_hidden_layers': 3, 'activation': 'relu', 'learning_rate': 0.0024137181078078772, 'optimizer': 'adam', 'dropout_rate': 0.3052409689929712, 'n_neurons': 128, 'batch_size': 16}. Best is trial 12 with value: 0.8969325423240662.\n"
     ]
    },
    {
     "name": "stderr",
     "output_type": "stream",
     "text": [
      "Best trial: 12. Best value: 0.896933:   6%|▌         | 60/1000 [1:07:07<20:44:37, 79.44s/it]"
     ]
    },
    {
     "name": "stdout",
     "output_type": "stream",
     "text": [
      "[I 2024-10-19 15:58:13,443] Trial 59 finished with value: 0.8875255584716797 and parameters: {'n_hidden_layers': 2, 'activation': 'elu', 'learning_rate': 0.0002522103371141345, 'optimizer': 'adam', 'dropout_rate': 0.35032705677154363, 'n_neurons': 22, 'batch_size': 4}. Best is trial 12 with value: 0.8969325423240662.\n"
     ]
    },
    {
     "name": "stderr",
     "output_type": "stream",
     "text": [
      "Best trial: 12. Best value: 0.896933:   6%|▌         | 61/1000 [1:07:53<18:01:55, 69.13s/it]"
     ]
    },
    {
     "name": "stdout",
     "output_type": "stream",
     "text": [
      "[I 2024-10-19 15:58:58,515] Trial 60 finished with value: 0.890388548374176 and parameters: {'n_hidden_layers': 3, 'activation': 'elu', 'learning_rate': 0.0014419646917812048, 'optimizer': 'adam', 'dropout_rate': 0.23556545134291512, 'n_neurons': 116, 'batch_size': 4}. Best is trial 12 with value: 0.8969325423240662.\n"
     ]
    },
    {
     "name": "stderr",
     "output_type": "stream",
     "text": [
      "Best trial: 12. Best value: 0.896933:   6%|▌         | 62/1000 [1:09:24<19:43:12, 75.68s/it]"
     ]
    },
    {
     "name": "stdout",
     "output_type": "stream",
     "text": [
      "[I 2024-10-19 16:00:29,487] Trial 61 finished with value: 0.8924335241317749 and parameters: {'n_hidden_layers': 3, 'activation': 'elu', 'learning_rate': 0.0003979306680951917, 'optimizer': 'adam', 'dropout_rate': 0.2392418947712833, 'n_neurons': 106, 'batch_size': 4}. Best is trial 12 with value: 0.8969325423240662.\n"
     ]
    },
    {
     "name": "stderr",
     "output_type": "stream",
     "text": [
      "Best trial: 12. Best value: 0.896933:   6%|▋         | 63/1000 [1:10:27<18:43:17, 71.93s/it]"
     ]
    },
    {
     "name": "stdout",
     "output_type": "stream",
     "text": [
      "[I 2024-10-19 16:01:32,655] Trial 62 finished with value: 0.8924335241317749 and parameters: {'n_hidden_layers': 3, 'activation': 'elu', 'learning_rate': 0.0005299661775943791, 'optimizer': 'adam', 'dropout_rate': 0.2592140214912635, 'n_neurons': 123, 'batch_size': 4}. Best is trial 12 with value: 0.8969325423240662.\n"
     ]
    },
    {
     "name": "stderr",
     "output_type": "stream",
     "text": [
      "Best trial: 12. Best value: 0.896933:   6%|▋         | 64/1000 [1:11:33<18:17:37, 70.36s/it]"
     ]
    },
    {
     "name": "stdout",
     "output_type": "stream",
     "text": [
      "[I 2024-10-19 16:02:39,357] Trial 63 finished with value: 0.8936605453491211 and parameters: {'n_hidden_layers': 3, 'activation': 'elu', 'learning_rate': 0.0007937473208047422, 'optimizer': 'adam', 'dropout_rate': 0.2955786771122339, 'n_neurons': 113, 'batch_size': 4}. Best is trial 12 with value: 0.8969325423240662.\n"
     ]
    },
    {
     "name": "stderr",
     "output_type": "stream",
     "text": [
      "Best trial: 12. Best value: 0.896933:   6%|▋         | 65/1000 [1:13:25<21:27:20, 82.61s/it]"
     ]
    },
    {
     "name": "stdout",
     "output_type": "stream",
     "text": [
      "[I 2024-10-19 16:04:30,548] Trial 64 finished with value: 0.8907975554466248 and parameters: {'n_hidden_layers': 3, 'activation': 'elu', 'learning_rate': 0.00030785541615325845, 'optimizer': 'adam', 'dropout_rate': 0.26898403661018366, 'n_neurons': 117, 'batch_size': 4}. Best is trial 12 with value: 0.8969325423240662.\n"
     ]
    },
    {
     "name": "stderr",
     "output_type": "stream",
     "text": [
      "Best trial: 12. Best value: 0.896933:   7%|▋         | 66/1000 [1:14:55<22:02:07, 84.93s/it]"
     ]
    },
    {
     "name": "stdout",
     "output_type": "stream",
     "text": [
      "[I 2024-10-19 16:06:00,901] Trial 65 finished with value: 0.8924335241317749 and parameters: {'n_hidden_layers': 3, 'activation': 'elu', 'learning_rate': 0.0004565313817559786, 'optimizer': 'adam', 'dropout_rate': 0.24599392624927843, 'n_neurons': 101, 'batch_size': 4}. Best is trial 12 with value: 0.8969325423240662.\n"
     ]
    },
    {
     "name": "stderr",
     "output_type": "stream",
     "text": [
      "Best trial: 12. Best value: 0.896933:   7%|▋         | 67/1000 [1:15:57<20:12:11, 77.95s/it]"
     ]
    },
    {
     "name": "stdout",
     "output_type": "stream",
     "text": [
      "[I 2024-10-19 16:07:02,571] Trial 66 finished with value: 0.8891615271568298 and parameters: {'n_hidden_layers': 3, 'activation': 'elu', 'learning_rate': 0.00017549524303993433, 'optimizer': 'adam', 'dropout_rate': 0.2188202383625127, 'n_neurons': 109, 'batch_size': 8}. Best is trial 12 with value: 0.8969325423240662.\n"
     ]
    },
    {
     "name": "stderr",
     "output_type": "stream",
     "text": [
      "Best trial: 12. Best value: 0.896933:   7%|▋         | 68/1000 [1:16:51<18:20:13, 70.83s/it]"
     ]
    },
    {
     "name": "stdout",
     "output_type": "stream",
     "text": [
      "[I 2024-10-19 16:07:56,777] Trial 67 finished with value: 0.8670756816864014 and parameters: {'n_hidden_layers': 3, 'activation': 'elu', 'learning_rate': 0.003993281214734824, 'optimizer': 'rmsprop', 'dropout_rate': 0.2787357829213336, 'n_neurons': 124, 'batch_size': 2}. Best is trial 12 with value: 0.8969325423240662.\n"
     ]
    },
    {
     "name": "stderr",
     "output_type": "stream",
     "text": [
      "Best trial: 12. Best value: 0.896933:   7%|▋         | 69/1000 [1:17:04<13:52:48, 53.67s/it]"
     ]
    },
    {
     "name": "stdout",
     "output_type": "stream",
     "text": [
      "[I 2024-10-19 16:08:10,416] Trial 68 finished with value: 0.8777096271514893 and parameters: {'n_hidden_layers': 3, 'activation': 'tanh', 'learning_rate': 1.781415398488133e-05, 'optimizer': 'adam', 'dropout_rate': 0.20495880412438539, 'n_neurons': 115, 'batch_size': 64}. Best is trial 12 with value: 0.8969325423240662.\n"
     ]
    },
    {
     "name": "stderr",
     "output_type": "stream",
     "text": [
      "Best trial: 12. Best value: 0.896933:   7%|▋         | 70/1000 [1:18:37<16:53:27, 65.38s/it]"
     ]
    },
    {
     "name": "stdout",
     "output_type": "stream",
     "text": [
      "[I 2024-10-19 16:09:43,129] Trial 69 finished with value: 0.8944784998893738 and parameters: {'n_hidden_layers': 2, 'activation': 'elu', 'learning_rate': 0.0010766619667612596, 'optimizer': 'adam', 'dropout_rate': 0.320851445644234, 'n_neurons': 119, 'batch_size': 4}. Best is trial 12 with value: 0.8969325423240662.\n"
     ]
    },
    {
     "name": "stderr",
     "output_type": "stream",
     "text": [
      "Best trial: 12. Best value: 0.896933:   7%|▋         | 71/1000 [1:18:55<13:13:43, 51.26s/it]"
     ]
    },
    {
     "name": "stdout",
     "output_type": "stream",
     "text": [
      "[I 2024-10-19 16:10:01,443] Trial 70 finished with value: 0.8437627553939819 and parameters: {'n_hidden_layers': 3, 'activation': 'relu', 'learning_rate': 0.0006513474879655784, 'optimizer': 'sgd', 'dropout_rate': 0.2570116644807017, 'n_neurons': 104, 'batch_size': 32}. Best is trial 12 with value: 0.8969325423240662.\n"
     ]
    },
    {
     "name": "stderr",
     "output_type": "stream",
     "text": [
      "Best trial: 12. Best value: 0.896933:   7%|▋         | 72/1000 [1:20:31<16:37:47, 64.51s/it]"
     ]
    },
    {
     "name": "stdout",
     "output_type": "stream",
     "text": [
      "[I 2024-10-19 16:11:36,869] Trial 71 finished with value: 0.8924335241317749 and parameters: {'n_hidden_layers': 3, 'activation': 'elu', 'learning_rate': 0.0007662518273476327, 'optimizer': 'adam', 'dropout_rate': 0.2725756271735105, 'n_neurons': 35, 'batch_size': 4}. Best is trial 12 with value: 0.8969325423240662.\n"
     ]
    },
    {
     "name": "stderr",
     "output_type": "stream",
     "text": [
      "Best trial: 12. Best value: 0.896933:   7%|▋         | 73/1000 [1:22:17<19:49:59, 77.02s/it]"
     ]
    },
    {
     "name": "stdout",
     "output_type": "stream",
     "text": [
      "[I 2024-10-19 16:13:23,081] Trial 72 finished with value: 0.8916155695915222 and parameters: {'n_hidden_layers': 3, 'activation': 'elu', 'learning_rate': 0.0003816497958659736, 'optimizer': 'adam', 'dropout_rate': 0.23682589065308696, 'n_neurons': 48, 'batch_size': 4}. Best is trial 12 with value: 0.8969325423240662.\n"
     ]
    },
    {
     "name": "stderr",
     "output_type": "stream",
     "text": [
      "Best trial: 12. Best value: 0.896933:   7%|▋         | 74/1000 [1:23:15<18:20:57, 71.34s/it]"
     ]
    },
    {
     "name": "stdout",
     "output_type": "stream",
     "text": [
      "[I 2024-10-19 16:14:21,153] Trial 73 finished with value: 0.8883435726165771 and parameters: {'n_hidden_layers': 3, 'activation': 'elu', 'learning_rate': 0.0013064122876865856, 'optimizer': 'adam', 'dropout_rate': 0.29692398180447144, 'n_neurons': 53, 'batch_size': 4}. Best is trial 12 with value: 0.8969325423240662.\n"
     ]
    },
    {
     "name": "stderr",
     "output_type": "stream",
     "text": [
      "Best trial: 12. Best value: 0.896933:   8%|▊         | 75/1000 [1:23:24<13:30:13, 52.55s/it]"
     ]
    },
    {
     "name": "stdout",
     "output_type": "stream",
     "text": [
      "[I 2024-10-19 16:14:29,883] Trial 74 finished with value: 0.8879345655441284 and parameters: {'n_hidden_layers': 3, 'activation': 'elu', 'learning_rate': 0.0007688873840917416, 'optimizer': 'adam', 'dropout_rate': 0.25032584965562377, 'n_neurons': 63, 'batch_size': 128}. Best is trial 12 with value: 0.8969325423240662.\n"
     ]
    },
    {
     "name": "stderr",
     "output_type": "stream",
     "text": [
      "Best trial: 12. Best value: 0.896933:   8%|▊         | 76/1000 [1:24:59<16:48:02, 65.46s/it]"
     ]
    },
    {
     "name": "stdout",
     "output_type": "stream",
     "text": [
      "[I 2024-10-19 16:16:05,445] Trial 75 finished with value: 0.8924335241317749 and parameters: {'n_hidden_layers': 3, 'activation': 'elu', 'learning_rate': 0.00051607869615123, 'optimizer': 'adam', 'dropout_rate': 0.2840136335338786, 'n_neurons': 43, 'batch_size': 4}. Best is trial 12 with value: 0.8969325423240662.\n"
     ]
    },
    {
     "name": "stderr",
     "output_type": "stream",
     "text": [
      "Best trial: 12. Best value: 0.896933:   8%|▊         | 77/1000 [1:26:51<20:20:18, 79.33s/it]"
     ]
    },
    {
     "name": "stdout",
     "output_type": "stream",
     "text": [
      "[I 2024-10-19 16:17:57,132] Trial 76 finished with value: 0.8916155695915222 and parameters: {'n_hidden_layers': 3, 'activation': 'elu', 'learning_rate': 0.0006419231943228192, 'optimizer': 'adam', 'dropout_rate': 0.26836416430136145, 'n_neurons': 31, 'batch_size': 4}. Best is trial 12 with value: 0.8969325423240662.\n"
     ]
    },
    {
     "name": "stderr",
     "output_type": "stream",
     "text": [
      "Best trial: 12. Best value: 0.896933:   8%|▊         | 78/1000 [1:30:59<33:13:34, 129.73s/it]"
     ]
    },
    {
     "name": "stdout",
     "output_type": "stream",
     "text": [
      "[I 2024-10-19 16:22:04,483] Trial 77 finished with value: 0.8940695524215698 and parameters: {'n_hidden_layers': 3, 'activation': 'elu', 'learning_rate': 0.00030566562545495, 'optimizer': 'adam', 'dropout_rate': 0.1708963370402849, 'n_neurons': 113, 'batch_size': 1}. Best is trial 12 with value: 0.8969325423240662.\n"
     ]
    },
    {
     "name": "stderr",
     "output_type": "stream",
     "text": [
      "Best trial: 12. Best value: 0.896933:   8%|▊         | 79/1000 [1:31:29<25:34:54, 99.99s/it] "
     ]
    },
    {
     "name": "stdout",
     "output_type": "stream",
     "text": [
      "[I 2024-10-19 16:22:35,086] Trial 78 finished with value: 0.8691206574440002 and parameters: {'n_hidden_layers': 3, 'activation': 'elu', 'learning_rate': 0.0018378798367396716, 'optimizer': 'rmsprop', 'dropout_rate': 0.22731243979230537, 'n_neurons': 122, 'batch_size': 4}. Best is trial 12 with value: 0.8969325423240662.\n"
     ]
    },
    {
     "name": "stderr",
     "output_type": "stream",
     "text": [
      "Best trial: 12. Best value: 0.896933:   8%|▊         | 80/1000 [1:31:41<18:45:55, 73.43s/it]"
     ]
    },
    {
     "name": "stdout",
     "output_type": "stream",
     "text": [
      "[I 2024-10-19 16:22:46,532] Trial 79 finished with value: 0.8887525796890259 and parameters: {'n_hidden_layers': 3, 'activation': 'relu', 'learning_rate': 0.0009181119211653434, 'optimizer': 'adam', 'dropout_rate': 0.36288981986144336, 'n_neurons': 77, 'batch_size': 16}. Best is trial 12 with value: 0.8969325423240662.\n"
     ]
    },
    {
     "name": "stderr",
     "output_type": "stream",
     "text": [
      "Best trial: 12. Best value: 0.896933:   8%|▊         | 81/1000 [1:31:51<13:54:26, 54.48s/it]"
     ]
    },
    {
     "name": "stdout",
     "output_type": "stream",
     "text": [
      "[I 2024-10-19 16:22:56,796] Trial 80 finished with value: 0.8838445544242859 and parameters: {'n_hidden_layers': 1, 'activation': 'elu', 'learning_rate': 0.0003981431666075512, 'optimizer': 'adam', 'dropout_rate': 0.3340921720707543, 'n_neurons': 92, 'batch_size': 64}. Best is trial 12 with value: 0.8969325423240662.\n"
     ]
    },
    {
     "name": "stderr",
     "output_type": "stream",
     "text": [
      "Best trial: 12. Best value: 0.896933:   8%|▊         | 82/1000 [1:32:55<14:36:51, 57.31s/it]"
     ]
    },
    {
     "name": "stdout",
     "output_type": "stream",
     "text": [
      "[I 2024-10-19 16:24:00,711] Trial 81 finished with value: 0.8928425312042236 and parameters: {'n_hidden_layers': 2, 'activation': 'elu', 'learning_rate': 0.0011824083187117493, 'optimizer': 'adam', 'dropout_rate': 0.3100194594761349, 'n_neurons': 118, 'batch_size': 4}. Best is trial 12 with value: 0.8969325423240662.\n"
     ]
    },
    {
     "name": "stderr",
     "output_type": "stream",
     "text": [
      "Best trial: 12. Best value: 0.896933:   8%|▊         | 83/1000 [1:34:08<15:46:45, 61.95s/it]"
     ]
    },
    {
     "name": "stdout",
     "output_type": "stream",
     "text": [
      "[I 2024-10-19 16:25:13,475] Trial 82 finished with value: 0.8948875069618225 and parameters: {'n_hidden_layers': 2, 'activation': 'elu', 'learning_rate': 0.0009347302506355224, 'optimizer': 'adam', 'dropout_rate': 0.3206930654010162, 'n_neurons': 126, 'batch_size': 4}. Best is trial 12 with value: 0.8969325423240662.\n"
     ]
    },
    {
     "name": "stderr",
     "output_type": "stream",
     "text": [
      "Best trial: 12. Best value: 0.896933:   8%|▊         | 84/1000 [1:35:37<17:51:42, 70.20s/it]"
     ]
    },
    {
     "name": "stdout",
     "output_type": "stream",
     "text": [
      "[I 2024-10-19 16:26:42,929] Trial 83 finished with value: 0.8838445544242859 and parameters: {'n_hidden_layers': 1, 'activation': 'elu', 'learning_rate': 0.0006842279488087399, 'optimizer': 'adam', 'dropout_rate': 0.31434649253641017, 'n_neurons': 128, 'batch_size': 4}. Best is trial 12 with value: 0.8969325423240662.\n"
     ]
    },
    {
     "name": "stderr",
     "output_type": "stream",
     "text": [
      "Best trial: 12. Best value: 0.896933:   8%|▊         | 85/1000 [1:36:42<17:28:51, 68.78s/it]"
     ]
    },
    {
     "name": "stdout",
     "output_type": "stream",
     "text": [
      "[I 2024-10-19 16:27:48,390] Trial 84 finished with value: 0.8944784998893738 and parameters: {'n_hidden_layers': 3, 'activation': 'elu', 'learning_rate': 0.0009906346493680825, 'optimizer': 'adam', 'dropout_rate': 0.29938585890719505, 'n_neurons': 124, 'batch_size': 4}. Best is trial 12 with value: 0.8969325423240662.\n"
     ]
    },
    {
     "name": "stderr",
     "output_type": "stream",
     "text": [
      "Best trial: 12. Best value: 0.896933:   9%|▊         | 86/1000 [1:38:26<20:06:50, 79.22s/it]"
     ]
    },
    {
     "name": "stdout",
     "output_type": "stream",
     "text": [
      "[I 2024-10-19 16:29:31,986] Trial 85 finished with value: 0.8907975554466248 and parameters: {'n_hidden_layers': 2, 'activation': 'tanh', 'learning_rate': 0.0004853296949455784, 'optimizer': 'adam', 'dropout_rate': 0.2415915572544294, 'n_neurons': 111, 'batch_size': 4}. Best is trial 12 with value: 0.8969325423240662.\n"
     ]
    },
    {
     "name": "stderr",
     "output_type": "stream",
     "text": [
      "Best trial: 12. Best value: 0.896933:   9%|▊         | 87/1000 [1:39:22<18:19:49, 72.28s/it]"
     ]
    },
    {
     "name": "stdout",
     "output_type": "stream",
     "text": [
      "[I 2024-10-19 16:30:28,057] Trial 86 finished with value: 0.8805726170539856 and parameters: {'n_hidden_layers': 3, 'activation': 'elu', 'learning_rate': 0.002008566551864689, 'optimizer': 'sgd', 'dropout_rate': 0.2884292906345503, 'n_neurons': 107, 'batch_size': 8}. Best is trial 12 with value: 0.8969325423240662.\n"
     ]
    },
    {
     "name": "stderr",
     "output_type": "stream",
     "text": [
      "Best trial: 12. Best value: 0.896933:   9%|▉         | 88/1000 [1:41:21<21:52:33, 86.35s/it]"
     ]
    },
    {
     "name": "stdout",
     "output_type": "stream",
     "text": [
      "[I 2024-10-19 16:32:27,251] Trial 87 finished with value: 0.8830265998840332 and parameters: {'n_hidden_layers': 3, 'activation': 'elu', 'learning_rate': 1.0008285163044579e-05, 'optimizer': 'adam', 'dropout_rate': 0.2605390292448093, 'n_neurons': 120, 'batch_size': 4}. Best is trial 12 with value: 0.8969325423240662.\n"
     ]
    },
    {
     "name": "stderr",
     "output_type": "stream",
     "text": [
      "Best trial: 12. Best value: 0.896933:   9%|▉         | 89/1000 [1:42:27<20:16:28, 80.12s/it]"
     ]
    },
    {
     "name": "stdout",
     "output_type": "stream",
     "text": [
      "[I 2024-10-19 16:33:32,826] Trial 88 finished with value: 0.8879345655441284 and parameters: {'n_hidden_layers': 3, 'activation': 'relu', 'learning_rate': 0.0005610050727143706, 'optimizer': 'adam', 'dropout_rate': 0.2756474084188997, 'n_neurons': 59, 'batch_size': 2}. Best is trial 12 with value: 0.8969325423240662.\n"
     ]
    },
    {
     "name": "stderr",
     "output_type": "stream",
     "text": [
      "Best trial: 12. Best value: 0.896933:   9%|▉         | 90/1000 [1:43:58<21:07:29, 83.57s/it]"
     ]
    },
    {
     "name": "stdout",
     "output_type": "stream",
     "text": [
      "[I 2024-10-19 16:35:04,451] Trial 89 finished with value: 0.8834356069564819 and parameters: {'n_hidden_layers': 1, 'activation': 'elu', 'learning_rate': 0.00020190321818222676, 'optimizer': 'adam', 'dropout_rate': 0.3406773291628763, 'n_neurons': 126, 'batch_size': 4}. Best is trial 12 with value: 0.8969325423240662.\n"
     ]
    },
    {
     "name": "stderr",
     "output_type": "stream",
     "text": [
      "Best trial: 12. Best value: 0.896933:   9%|▉         | 91/1000 [1:44:15<16:00:43, 63.41s/it]"
     ]
    },
    {
     "name": "stdout",
     "output_type": "stream",
     "text": [
      "[I 2024-10-19 16:35:20,835] Trial 90 finished with value: 0.8899795413017273 and parameters: {'n_hidden_layers': 2, 'activation': 'elu', 'learning_rate': 0.0013796549191385755, 'optimizer': 'adam', 'dropout_rate': 0.21601870854235306, 'n_neurons': 114, 'batch_size': 32}. Best is trial 12 with value: 0.8969325423240662.\n"
     ]
    },
    {
     "name": "stderr",
     "output_type": "stream",
     "text": [
      "Best trial: 12. Best value: 0.896933:   9%|▉         | 92/1000 [1:45:22<16:15:36, 64.47s/it]"
     ]
    },
    {
     "name": "stdout",
     "output_type": "stream",
     "text": [
      "[I 2024-10-19 16:36:27,757] Trial 91 finished with value: 0.89570552110672 and parameters: {'n_hidden_layers': 2, 'activation': 'elu', 'learning_rate': 0.0010392059987540155, 'optimizer': 'adam', 'dropout_rate': 0.33225638307472527, 'n_neurons': 120, 'batch_size': 4}. Best is trial 12 with value: 0.8969325423240662.\n"
     ]
    },
    {
     "name": "stderr",
     "output_type": "stream",
     "text": [
      "Best trial: 12. Best value: 0.896933:   9%|▉         | 93/1000 [1:46:47<17:49:12, 70.73s/it]"
     ]
    },
    {
     "name": "stdout",
     "output_type": "stream",
     "text": [
      "[I 2024-10-19 16:37:53,102] Trial 92 finished with value: 0.8924335241317749 and parameters: {'n_hidden_layers': 2, 'activation': 'elu', 'learning_rate': 0.0008524471017237076, 'optimizer': 'adam', 'dropout_rate': 0.3616902300475658, 'n_neurons': 121, 'batch_size': 4}. Best is trial 12 with value: 0.8969325423240662.\n"
     ]
    },
    {
     "name": "stderr",
     "output_type": "stream",
     "text": [
      "Best trial: 12. Best value: 0.896933:   9%|▉         | 94/1000 [1:48:35<20:35:49, 81.84s/it]"
     ]
    },
    {
     "name": "stdout",
     "output_type": "stream",
     "text": [
      "[I 2024-10-19 16:39:40,873] Trial 93 finished with value: 0.8916155695915222 and parameters: {'n_hidden_layers': 2, 'activation': 'elu', 'learning_rate': 0.00033569666258696367, 'optimizer': 'adam', 'dropout_rate': 0.3172614483254817, 'n_neurons': 116, 'batch_size': 4}. Best is trial 12 with value: 0.8969325423240662.\n"
     ]
    },
    {
     "name": "stderr",
     "output_type": "stream",
     "text": [
      "Best trial: 12. Best value: 0.896933:  10%|▉         | 95/1000 [1:50:24<22:39:25, 90.13s/it]"
     ]
    },
    {
     "name": "stdout",
     "output_type": "stream",
     "text": [
      "[I 2024-10-19 16:41:30,332] Trial 94 finished with value: 0.8895705342292786 and parameters: {'n_hidden_layers': 2, 'activation': 'elu', 'learning_rate': 0.00027267051467958327, 'optimizer': 'adam', 'dropout_rate': 0.38677351107045504, 'n_neurons': 111, 'batch_size': 4}. Best is trial 12 with value: 0.8969325423240662.\n"
     ]
    },
    {
     "name": "stderr",
     "output_type": "stream",
     "text": [
      "Best trial: 12. Best value: 0.896933:  10%|▉         | 96/1000 [1:50:37<16:45:40, 66.75s/it]"
     ]
    },
    {
     "name": "stdout",
     "output_type": "stream",
     "text": [
      "[I 2024-10-19 16:41:42,529] Trial 95 finished with value: 0.8899795413017273 and parameters: {'n_hidden_layers': 2, 'activation': 'elu', 'learning_rate': 0.0010385549899504791, 'optimizer': 'adam', 'dropout_rate': 0.3326858937594458, 'n_neurons': 124, 'batch_size': 64}. Best is trial 12 with value: 0.8969325423240662.\n"
     ]
    },
    {
     "name": "stderr",
     "output_type": "stream",
     "text": [
      "Best trial: 12. Best value: 0.896933:  10%|▉         | 97/1000 [1:50:46<12:25:23, 49.53s/it]"
     ]
    },
    {
     "name": "stdout",
     "output_type": "stream",
     "text": [
      "[I 2024-10-19 16:41:51,877] Trial 96 finished with value: 0.8830265998840332 and parameters: {'n_hidden_layers': 2, 'activation': 'elu', 'learning_rate': 0.0007170713916761906, 'optimizer': 'adam', 'dropout_rate': 0.43413599384961743, 'n_neurons': 69, 'batch_size': 128}. Best is trial 12 with value: 0.8969325423240662.\n"
     ]
    },
    {
     "name": "stderr",
     "output_type": "stream",
     "text": [
      "Best trial: 12. Best value: 0.896933:  10%|▉         | 98/1000 [1:52:02<14:25:31, 57.57s/it]"
     ]
    },
    {
     "name": "stdout",
     "output_type": "stream",
     "text": [
      "[I 2024-10-19 16:43:08,225] Trial 97 finished with value: 0.8797546029090881 and parameters: {'n_hidden_layers': 3, 'activation': 'elu', 'learning_rate': 0.0004397067971142081, 'optimizer': 'rmsprop', 'dropout_rate': 0.25416205995630287, 'n_neurons': 86, 'batch_size': 4}. Best is trial 12 with value: 0.8969325423240662.\n"
     ]
    },
    {
     "name": "stderr",
     "output_type": "stream",
     "text": [
      "Best trial: 12. Best value: 0.896933:  10%|▉         | 99/1000 [1:52:39<12:48:32, 51.18s/it]"
     ]
    },
    {
     "name": "stdout",
     "output_type": "stream",
     "text": [
      "[I 2024-10-19 16:43:44,483] Trial 98 finished with value: 0.8858895897865295 and parameters: {'n_hidden_layers': 3, 'activation': 'relu', 'learning_rate': 0.0005848410656888222, 'optimizer': 'adam', 'dropout_rate': 0.2302807897862504, 'n_neurons': 103, 'batch_size': 4}. Best is trial 12 with value: 0.8969325423240662.\n"
     ]
    },
    {
     "name": "stderr",
     "output_type": "stream",
     "text": [
      "Best trial: 12. Best value: 0.896933:  10%|█         | 100/1000 [1:56:16<25:14:42, 100.98s/it]"
     ]
    },
    {
     "name": "stdout",
     "output_type": "stream",
     "text": [
      "[I 2024-10-19 16:47:21,665] Trial 99 finished with value: 0.8805726170539856 and parameters: {'n_hidden_layers': 3, 'activation': 'tanh', 'learning_rate': 0.0015107403160582388, 'optimizer': 'adam', 'dropout_rate': 0.3039359751630045, 'n_neurons': 127, 'batch_size': 1}. Best is trial 12 with value: 0.8969325423240662.\n"
     ]
    },
    {
     "name": "stderr",
     "output_type": "stream",
     "text": [
      "Best trial: 12. Best value: 0.896933:  10%|█         | 101/1000 [1:57:59<25:23:54, 101.71s/it]"
     ]
    },
    {
     "name": "stdout",
     "output_type": "stream",
     "text": [
      "[I 2024-10-19 16:49:05,067] Trial 100 finished with value: 0.881799578666687 and parameters: {'n_hidden_layers': 3, 'activation': 'elu', 'learning_rate': 0.0008817214352766469, 'optimizer': 'sgd', 'dropout_rate': 0.19906754517048209, 'n_neurons': 108, 'batch_size': 4}. Best is trial 12 with value: 0.8969325423240662.\n"
     ]
    },
    {
     "name": "stderr",
     "output_type": "stream",
     "text": [
      "Best trial: 12. Best value: 0.896933:  10%|█         | 102/1000 [1:59:28<24:22:29, 97.72s/it] "
     ]
    },
    {
     "name": "stdout",
     "output_type": "stream",
     "text": [
      "[I 2024-10-19 16:50:33,473] Trial 101 finished with value: 0.8932515382766724 and parameters: {'n_hidden_layers': 2, 'activation': 'elu', 'learning_rate': 0.001037771101779103, 'optimizer': 'adam', 'dropout_rate': 0.31930525713990676, 'n_neurons': 120, 'batch_size': 4}. Best is trial 12 with value: 0.8969325423240662.\n"
     ]
    },
    {
     "name": "stderr",
     "output_type": "stream",
     "text": [
      "Best trial: 12. Best value: 0.896933:  10%|█         | 103/1000 [2:00:39<22:23:13, 89.85s/it]"
     ]
    },
    {
     "name": "stdout",
     "output_type": "stream",
     "text": [
      "[I 2024-10-19 16:51:44,963] Trial 102 finished with value: 0.8944784998893738 and parameters: {'n_hidden_layers': 2, 'activation': 'elu', 'learning_rate': 0.0011162279813194665, 'optimizer': 'adam', 'dropout_rate': 0.32611230690264875, 'n_neurons': 119, 'batch_size': 4}. Best is trial 12 with value: 0.8969325423240662.\n"
     ]
    },
    {
     "name": "stderr",
     "output_type": "stream",
     "text": [
      "Best trial: 12. Best value: 0.896933:  10%|█         | 104/1000 [2:02:10<22:25:23, 90.09s/it]"
     ]
    },
    {
     "name": "stdout",
     "output_type": "stream",
     "text": [
      "[I 2024-10-19 16:53:15,628] Trial 103 finished with value: 0.8952965140342712 and parameters: {'n_hidden_layers': 2, 'activation': 'elu', 'learning_rate': 0.0007044217581622457, 'optimizer': 'adam', 'dropout_rate': 0.2927803237349414, 'n_neurons': 117, 'batch_size': 4}. Best is trial 12 with value: 0.8969325423240662.\n"
     ]
    },
    {
     "name": "stderr",
     "output_type": "stream",
     "text": [
      "Best trial: 12. Best value: 0.896933:  10%|█         | 105/1000 [2:03:43<22:40:13, 91.19s/it]"
     ]
    },
    {
     "name": "stdout",
     "output_type": "stream",
     "text": [
      "[I 2024-10-19 16:54:49,371] Trial 104 finished with value: 0.8936605453491211 and parameters: {'n_hidden_layers': 2, 'activation': 'elu', 'learning_rate': 0.0006813144610414636, 'optimizer': 'adam', 'dropout_rate': 0.2904335760187668, 'n_neurons': 98, 'batch_size': 4}. Best is trial 12 with value: 0.8969325423240662.\n"
     ]
    },
    {
     "name": "stderr",
     "output_type": "stream",
     "text": [
      "Best trial: 12. Best value: 0.896933:  11%|█         | 106/1000 [2:05:31<23:52:37, 96.15s/it]"
     ]
    },
    {
     "name": "stdout",
     "output_type": "stream",
     "text": [
      "[I 2024-10-19 16:56:37,094] Trial 105 finished with value: 0.8916155695915222 and parameters: {'n_hidden_layers': 2, 'activation': 'elu', 'learning_rate': 0.00036087185767280444, 'optimizer': 'adam', 'dropout_rate': 0.28112723467354195, 'n_neurons': 116, 'batch_size': 4}. Best is trial 12 with value: 0.8969325423240662.\n"
     ]
    },
    {
     "name": "stderr",
     "output_type": "stream",
     "text": [
      "Best trial: 12. Best value: 0.896933:  11%|█         | 107/1000 [2:06:03<19:05:16, 76.95s/it]"
     ]
    },
    {
     "name": "stdout",
     "output_type": "stream",
     "text": [
      "[I 2024-10-19 16:57:09,248] Trial 106 finished with value: 0.8838445544242859 and parameters: {'n_hidden_layers': 2, 'activation': 'elu', 'learning_rate': 0.00022258547251303353, 'optimizer': 'adam', 'dropout_rate': 0.2678233610452353, 'n_neurons': 112, 'batch_size': 16}. Best is trial 12 with value: 0.8969325423240662.\n"
     ]
    },
    {
     "name": "stderr",
     "output_type": "stream",
     "text": [
      "Best trial: 12. Best value: 0.896933:  11%|█         | 108/1000 [2:06:18<14:25:35, 58.22s/it]"
     ]
    },
    {
     "name": "stdout",
     "output_type": "stream",
     "text": [
      "[I 2024-10-19 16:57:23,775] Trial 107 finished with value: 0.8887525796890259 and parameters: {'n_hidden_layers': 3, 'activation': 'elu', 'learning_rate': 0.0004930632935839838, 'optimizer': 'adam', 'dropout_rate': 0.24618474214416067, 'n_neurons': 125, 'batch_size': 64}. Best is trial 12 with value: 0.8969325423240662.\n"
     ]
    },
    {
     "name": "stderr",
     "output_type": "stream",
     "text": [
      "Best trial: 12. Best value: 0.896933:  11%|█         | 109/1000 [2:07:15<14:19:17, 57.86s/it]"
     ]
    },
    {
     "name": "stdout",
     "output_type": "stream",
     "text": [
      "[I 2024-10-19 16:58:20,804] Trial 108 finished with value: 0.8928425312042236 and parameters: {'n_hidden_layers': 3, 'activation': 'elu', 'learning_rate': 0.0012774459780320096, 'optimizer': 'adam', 'dropout_rate': 0.10035432996275676, 'n_neurons': 105, 'batch_size': 4}. Best is trial 12 with value: 0.8969325423240662.\n"
     ]
    },
    {
     "name": "stderr",
     "output_type": "stream",
     "text": [
      "Best trial: 12. Best value: 0.896933:  11%|█         | 110/1000 [2:08:00<13:23:14, 54.15s/it]"
     ]
    },
    {
     "name": "stdout",
     "output_type": "stream",
     "text": [
      "[I 2024-10-19 16:59:06,288] Trial 109 finished with value: 0.8883435726165771 and parameters: {'n_hidden_layers': 2, 'activation': 'relu', 'learning_rate': 0.0017790214191994015, 'optimizer': 'adam', 'dropout_rate': 0.2969814760612298, 'n_neurons': 18, 'batch_size': 4}. Best is trial 12 with value: 0.8969325423240662.\n"
     ]
    },
    {
     "name": "stderr",
     "output_type": "stream",
     "text": [
      "Best trial: 12. Best value: 0.896933:  11%|█         | 111/1000 [2:08:49<12:56:47, 52.43s/it]"
     ]
    },
    {
     "name": "stdout",
     "output_type": "stream",
     "text": [
      "[I 2024-10-19 16:59:54,695] Trial 110 finished with value: 0.8879345655441284 and parameters: {'n_hidden_layers': 1, 'activation': 'elu', 'learning_rate': 0.0005847485141111564, 'optimizer': 'adam', 'dropout_rate': 0.26378083869185065, 'n_neurons': 122, 'batch_size': 8}. Best is trial 12 with value: 0.8969325423240662.\n"
     ]
    },
    {
     "name": "stderr",
     "output_type": "stream",
     "text": [
      "Best trial: 12. Best value: 0.896933:  11%|█         | 112/1000 [2:09:59<14:13:32, 57.67s/it]"
     ]
    },
    {
     "name": "stdout",
     "output_type": "stream",
     "text": [
      "[I 2024-10-19 17:01:04,602] Trial 111 finished with value: 0.8952965140342712 and parameters: {'n_hidden_layers': 2, 'activation': 'elu', 'learning_rate': 0.0008442663693385268, 'optimizer': 'adam', 'dropout_rate': 0.30796501194467135, 'n_neurons': 119, 'batch_size': 4}. Best is trial 12 with value: 0.8969325423240662.\n"
     ]
    },
    {
     "name": "stderr",
     "output_type": "stream",
     "text": [
      "Best trial: 12. Best value: 0.896933:  11%|█▏        | 113/1000 [2:11:45<17:50:05, 72.38s/it]"
     ]
    },
    {
     "name": "stdout",
     "output_type": "stream",
     "text": [
      "[I 2024-10-19 17:02:51,317] Trial 112 finished with value: 0.8916155695915222 and parameters: {'n_hidden_layers': 2, 'activation': 'elu', 'learning_rate': 0.0008170893314379361, 'optimizer': 'adam', 'dropout_rate': 0.30665710371193483, 'n_neurons': 115, 'batch_size': 4}. Best is trial 12 with value: 0.8969325423240662.\n"
     ]
    },
    {
     "name": "stderr",
     "output_type": "stream",
     "text": [
      "Best trial: 12. Best value: 0.896933:  11%|█▏        | 114/1000 [2:13:34<20:31:24, 83.39s/it]"
     ]
    },
    {
     "name": "stdout",
     "output_type": "stream",
     "text": [
      "[I 2024-10-19 17:04:40,392] Trial 113 finished with value: 0.8932515382766724 and parameters: {'n_hidden_layers': 2, 'activation': 'elu', 'learning_rate': 0.00041396753802271785, 'optimizer': 'adam', 'dropout_rate': 0.2797338120512824, 'n_neurons': 118, 'batch_size': 4}. Best is trial 12 with value: 0.8969325423240662.\n"
     ]
    },
    {
     "name": "stderr",
     "output_type": "stream",
     "text": [
      "Best trial: 12. Best value: 0.896933:  12%|█▏        | 115/1000 [2:15:20<22:09:43, 90.15s/it]"
     ]
    },
    {
     "name": "stdout",
     "output_type": "stream",
     "text": [
      "[I 2024-10-19 17:06:26,315] Trial 114 finished with value: 0.8928425312042236 and parameters: {'n_hidden_layers': 2, 'activation': 'elu', 'learning_rate': 0.0007235680306358651, 'optimizer': 'adam', 'dropout_rate': 0.2518243927958211, 'n_neurons': 109, 'batch_size': 4}. Best is trial 12 with value: 0.8969325423240662.\n"
     ]
    },
    {
     "name": "stderr",
     "output_type": "stream",
     "text": [
      "Best trial: 12. Best value: 0.896933:  12%|█▏        | 116/1000 [2:16:59<22:47:15, 92.80s/it]"
     ]
    },
    {
     "name": "stdout",
     "output_type": "stream",
     "text": [
      "[I 2024-10-19 17:08:05,298] Trial 115 finished with value: 0.8916155695915222 and parameters: {'n_hidden_layers': 2, 'activation': 'elu', 'learning_rate': 0.000901461717883384, 'optimizer': 'adam', 'dropout_rate': 0.3380808995796378, 'n_neurons': 126, 'batch_size': 4}. Best is trial 12 with value: 0.8969325423240662.\n"
     ]
    },
    {
     "name": "stderr",
     "output_type": "stream",
     "text": [
      "Best trial: 12. Best value: 0.896933:  12%|█▏        | 117/1000 [2:19:14<25:49:50, 105.31s/it]"
     ]
    },
    {
     "name": "stdout",
     "output_type": "stream",
     "text": [
      "[I 2024-10-19 17:10:19,802] Trial 116 finished with value: 0.8952965140342712 and parameters: {'n_hidden_layers': 3, 'activation': 'elu', 'learning_rate': 0.0005548201172872008, 'optimizer': 'adam', 'dropout_rate': 0.3533479050819752, 'n_neurons': 122, 'batch_size': 2}. Best is trial 12 with value: 0.8969325423240662.\n"
     ]
    },
    {
     "name": "stderr",
     "output_type": "stream",
     "text": [
      "Best trial: 12. Best value: 0.896933:  12%|█▏        | 118/1000 [2:20:58<25:41:01, 104.83s/it]"
     ]
    },
    {
     "name": "stdout",
     "output_type": "stream",
     "text": [
      "[I 2024-10-19 17:12:03,514] Trial 117 finished with value: 0.867893636226654 and parameters: {'n_hidden_layers': 2, 'activation': 'elu', 'learning_rate': 0.0005031721772232326, 'optimizer': 'rmsprop', 'dropout_rate': 0.3497115914575755, 'n_neurons': 123, 'batch_size': 2}. Best is trial 12 with value: 0.8969325423240662.\n"
     ]
    },
    {
     "name": "stderr",
     "output_type": "stream",
     "text": [
      "Best trial: 12. Best value: 0.896933:  12%|█▏        | 119/1000 [2:23:26<28:51:57, 117.95s/it]"
     ]
    },
    {
     "name": "stdout",
     "output_type": "stream",
     "text": [
      "[I 2024-10-19 17:14:32,086] Trial 118 finished with value: 0.8920245170593262 and parameters: {'n_hidden_layers': 3, 'activation': 'elu', 'learning_rate': 0.0006180025856142452, 'optimizer': 'adam', 'dropout_rate': 0.3838029731394329, 'n_neurons': 128, 'batch_size': 2}. Best is trial 12 with value: 0.8969325423240662.\n"
     ]
    },
    {
     "name": "stderr",
     "output_type": "stream",
     "text": [
      "Best trial: 12. Best value: 0.896933:  12%|█▏        | 120/1000 [2:25:03<27:15:25, 111.51s/it]"
     ]
    },
    {
     "name": "stdout",
     "output_type": "stream",
     "text": [
      "[I 2024-10-19 17:16:08,548] Trial 119 finished with value: 0.8887525796890259 and parameters: {'n_hidden_layers': 3, 'activation': 'elu', 'learning_rate': 0.002314648855310166, 'optimizer': 'adam', 'dropout_rate': 0.34454711834849, 'n_neurons': 117, 'batch_size': 2}. Best is trial 12 with value: 0.8969325423240662.\n"
     ]
    },
    {
     "name": "stderr",
     "output_type": "stream",
     "text": [
      "Best trial: 12. Best value: 0.896933:  12%|█▏        | 121/1000 [2:26:13<24:11:59, 99.11s/it] "
     ]
    },
    {
     "name": "stdout",
     "output_type": "stream",
     "text": [
      "[I 2024-10-19 17:17:18,739] Trial 120 finished with value: 0.887116551399231 and parameters: {'n_hidden_layers': 3, 'activation': 'relu', 'learning_rate': 0.00044570037793259266, 'optimizer': 'adam', 'dropout_rate': 0.32155429374254674, 'n_neurons': 114, 'batch_size': 2}. Best is trial 12 with value: 0.8969325423240662.\n"
     ]
    },
    {
     "name": "stderr",
     "output_type": "stream",
     "text": [
      "Best trial: 12. Best value: 0.896933:  12%|█▏        | 122/1000 [2:27:24<22:09:45, 90.87s/it]"
     ]
    },
    {
     "name": "stdout",
     "output_type": "stream",
     "text": [
      "[I 2024-10-19 17:18:30,385] Trial 121 finished with value: 0.8924335241317749 and parameters: {'n_hidden_layers': 3, 'activation': 'elu', 'learning_rate': 0.0007502066893209433, 'optimizer': 'adam', 'dropout_rate': 0.28867804622587945, 'n_neurons': 123, 'batch_size': 4}. Best is trial 12 with value: 0.8969325423240662.\n"
     ]
    },
    {
     "name": "stderr",
     "output_type": "stream",
     "text": [
      "Best trial: 12. Best value: 0.896933:  12%|█▏        | 123/1000 [2:27:45<17:01:41, 69.90s/it]"
     ]
    },
    {
     "name": "stdout",
     "output_type": "stream",
     "text": [
      "[I 2024-10-19 17:18:51,347] Trial 122 finished with value: 0.8916155695915222 and parameters: {'n_hidden_layers': 3, 'activation': 'elu', 'learning_rate': 0.0005493702680635881, 'optimizer': 'adam', 'dropout_rate': 0.35597904717650847, 'n_neurons': 120, 'batch_size': 32}. Best is trial 12 with value: 0.8969325423240662.\n"
     ]
    },
    {
     "name": "stderr",
     "output_type": "stream",
     "text": [
      "Best trial: 12. Best value: 0.896933:  12%|█▏        | 124/1000 [2:28:55<16:59:01, 69.80s/it]"
     ]
    },
    {
     "name": "stdout",
     "output_type": "stream",
     "text": [
      "[I 2024-10-19 17:20:00,904] Trial 123 finished with value: 0.8932515382766724 and parameters: {'n_hidden_layers': 3, 'activation': 'elu', 'learning_rate': 0.001166692328568327, 'optimizer': 'adam', 'dropout_rate': 0.3116598505689945, 'n_neurons': 110, 'batch_size': 4}. Best is trial 12 with value: 0.8969325423240662.\n"
     ]
    },
    {
     "name": "stderr",
     "output_type": "stream",
     "text": [
      "Best trial: 12. Best value: 0.896933:  12%|█▎        | 125/1000 [2:29:08<12:51:28, 52.90s/it]"
     ]
    },
    {
     "name": "stdout",
     "output_type": "stream",
     "text": [
      "[I 2024-10-19 17:20:14,380] Trial 124 finished with value: 0.8912065625190735 and parameters: {'n_hidden_layers': 3, 'activation': 'elu', 'learning_rate': 0.0009520509785512029, 'optimizer': 'adam', 'dropout_rate': 0.24222249986317665, 'n_neurons': 101, 'batch_size': 64}. Best is trial 12 with value: 0.8969325423240662.\n"
     ]
    },
    {
     "name": "stderr",
     "output_type": "stream",
     "text": [
      "Best trial: 12. Best value: 0.896933:  13%|█▎        | 126/1000 [2:30:45<16:00:02, 65.91s/it]"
     ]
    },
    {
     "name": "stdout",
     "output_type": "stream",
     "text": [
      "[I 2024-10-19 17:21:50,635] Trial 125 finished with value: 0.8924335241317749 and parameters: {'n_hidden_layers': 3, 'activation': 'elu', 'learning_rate': 0.0003360233750509053, 'optimizer': 'adam', 'dropout_rate': 0.27300475213036673, 'n_neurons': 113, 'batch_size': 4}. Best is trial 12 with value: 0.8969325423240662.\n"
     ]
    },
    {
     "name": "stderr",
     "output_type": "stream",
     "text": [
      "Best trial: 12. Best value: 0.896933:  13%|█▎        | 127/1000 [2:32:16<17:51:46, 73.66s/it]"
     ]
    },
    {
     "name": "stdout",
     "output_type": "stream",
     "text": [
      "[I 2024-10-19 17:23:22,391] Trial 126 finished with value: 0.8572596907615662 and parameters: {'n_hidden_layers': 3, 'activation': 'tanh', 'learning_rate': 0.00027870921070460175, 'optimizer': 'sgd', 'dropout_rate': 0.3735432560982003, 'n_neurons': 40, 'batch_size': 4}. Best is trial 12 with value: 0.8969325423240662.\n"
     ]
    },
    {
     "name": "stderr",
     "output_type": "stream",
     "text": [
      "Best trial: 12. Best value: 0.896933:  13%|█▎        | 128/1000 [2:32:26<13:11:42, 54.48s/it]"
     ]
    },
    {
     "name": "stdout",
     "output_type": "stream",
     "text": [
      "[I 2024-10-19 17:23:32,098] Trial 127 finished with value: 0.8862985968589783 and parameters: {'n_hidden_layers': 2, 'activation': 'elu', 'learning_rate': 0.000663696972990266, 'optimizer': 'adam', 'dropout_rate': 0.2989079181031837, 'n_neurons': 125, 'batch_size': 128}. Best is trial 12 with value: 0.8969325423240662.\n"
     ]
    },
    {
     "name": "stderr",
     "output_type": "stream",
     "text": [
      "Best trial: 12. Best value: 0.896933:  13%|█▎        | 129/1000 [2:35:22<22:00:09, 90.94s/it]"
     ]
    },
    {
     "name": "stdout",
     "output_type": "stream",
     "text": [
      "[I 2024-10-19 17:26:28,126] Trial 128 finished with value: 0.8912065625190735 and parameters: {'n_hidden_layers': 3, 'activation': 'elu', 'learning_rate': 0.0008579119473118152, 'optimizer': 'adam', 'dropout_rate': 0.2311995050764535, 'n_neurons': 107, 'batch_size': 1}. Best is trial 12 with value: 0.8969325423240662.\n"
     ]
    },
    {
     "name": "stderr",
     "output_type": "stream",
     "text": [
      "Best trial: 12. Best value: 0.896933:  13%|█▎        | 130/1000 [2:36:53<21:58:09, 90.91s/it]"
     ]
    },
    {
     "name": "stdout",
     "output_type": "stream",
     "text": [
      "[I 2024-10-19 17:27:58,956] Trial 129 finished with value: 0.8858895897865295 and parameters: {'n_hidden_layers': 1, 'activation': 'elu', 'learning_rate': 0.00039614817697066076, 'optimizer': 'adam', 'dropout_rate': 0.26044960653588517, 'n_neurons': 117, 'batch_size': 4}. Best is trial 12 with value: 0.8969325423240662.\n"
     ]
    },
    {
     "name": "stderr",
     "output_type": "stream",
     "text": [
      "Best trial: 12. Best value: 0.896933:  13%|█▎        | 131/1000 [2:37:50<19:30:16, 80.80s/it]"
     ]
    },
    {
     "name": "stdout",
     "output_type": "stream",
     "text": [
      "[I 2024-10-19 17:28:56,176] Trial 130 finished with value: 0.8920245170593262 and parameters: {'n_hidden_layers': 3, 'activation': 'elu', 'learning_rate': 0.0013745039369779553, 'optimizer': 'adam', 'dropout_rate': 0.2851892725554473, 'n_neurons': 122, 'batch_size': 4}. Best is trial 12 with value: 0.8969325423240662.\n"
     ]
    },
    {
     "name": "stderr",
     "output_type": "stream",
     "text": [
      "Best trial: 12. Best value: 0.896933:  13%|█▎        | 132/1000 [2:38:52<18:05:00, 75.00s/it]"
     ]
    },
    {
     "name": "stdout",
     "output_type": "stream",
     "text": [
      "[I 2024-10-19 17:29:57,644] Trial 131 finished with value: 0.8920245170593262 and parameters: {'n_hidden_layers': 2, 'activation': 'elu', 'learning_rate': 0.0010126740110192522, 'optimizer': 'adam', 'dropout_rate': 0.32414038588820243, 'n_neurons': 118, 'batch_size': 4}. Best is trial 12 with value: 0.8969325423240662.\n"
     ]
    },
    {
     "name": "stderr",
     "output_type": "stream",
     "text": [
      "Best trial: 12. Best value: 0.896933:  13%|█▎        | 133/1000 [2:40:02<17:45:04, 73.71s/it]"
     ]
    },
    {
     "name": "stdout",
     "output_type": "stream",
     "text": [
      "[I 2024-10-19 17:31:08,333] Trial 132 finished with value: 0.8940695524215698 and parameters: {'n_hidden_layers': 2, 'activation': 'elu', 'learning_rate': 0.0011962947525783895, 'optimizer': 'adam', 'dropout_rate': 0.3137933497146314, 'n_neurons': 120, 'batch_size': 4}. Best is trial 12 with value: 0.8969325423240662.\n"
     ]
    },
    {
     "name": "stderr",
     "output_type": "stream",
     "text": [
      "Best trial: 12. Best value: 0.896933:  13%|█▎        | 134/1000 [2:41:34<19:01:59, 79.12s/it]"
     ]
    },
    {
     "name": "stdout",
     "output_type": "stream",
     "text": [
      "[I 2024-10-19 17:32:40,089] Trial 133 finished with value: 0.8961145281791687 and parameters: {'n_hidden_layers': 2, 'activation': 'elu', 'learning_rate': 0.0007795051899672932, 'optimizer': 'adam', 'dropout_rate': 0.33215474525747957, 'n_neurons': 111, 'batch_size': 4}. Best is trial 12 with value: 0.8969325423240662.\n"
     ]
    },
    {
     "name": "stderr",
     "output_type": "stream",
     "text": [
      "Best trial: 12. Best value: 0.896933:  14%|█▎        | 135/1000 [2:43:12<20:22:03, 84.77s/it]"
     ]
    },
    {
     "name": "stdout",
     "output_type": "stream",
     "text": [
      "[I 2024-10-19 17:34:18,027] Trial 134 finished with value: 0.8928425312042236 and parameters: {'n_hidden_layers': 2, 'activation': 'elu', 'learning_rate': 0.0005710272235666633, 'optimizer': 'adam', 'dropout_rate': 0.3367061052384052, 'n_neurons': 112, 'batch_size': 4}. Best is trial 12 with value: 0.8969325423240662.\n"
     ]
    },
    {
     "name": "stderr",
     "output_type": "stream",
     "text": [
      "Best trial: 12. Best value: 0.896933:  14%|█▎        | 136/1000 [2:44:50<21:16:12, 88.63s/it]"
     ]
    },
    {
     "name": "stdout",
     "output_type": "stream",
     "text": [
      "[I 2024-10-19 17:35:55,657] Trial 135 finished with value: 0.8912065625190735 and parameters: {'n_hidden_layers': 2, 'activation': 'elu', 'learning_rate': 0.0008006646249839147, 'optimizer': 'adam', 'dropout_rate': 0.33082902051246066, 'n_neurons': 114, 'batch_size': 2}. Best is trial 12 with value: 0.8969325423240662.\n"
     ]
    },
    {
     "name": "stderr",
     "output_type": "stream",
     "text": [
      "Best trial: 12. Best value: 0.896933:  14%|█▎        | 137/1000 [2:45:34<18:01:38, 75.20s/it]"
     ]
    },
    {
     "name": "stdout",
     "output_type": "stream",
     "text": [
      "[I 2024-10-19 17:36:39,535] Trial 136 finished with value: 0.8916155695915222 and parameters: {'n_hidden_layers': 2, 'activation': 'relu', 'learning_rate': 0.00047931137581744493, 'optimizer': 'adam', 'dropout_rate': 0.30751315129168844, 'n_neurons': 73, 'batch_size': 4}. Best is trial 12 with value: 0.8969325423240662.\n"
     ]
    },
    {
     "name": "stderr",
     "output_type": "stream",
     "text": [
      "Best trial: 12. Best value: 0.896933:  14%|█▍        | 138/1000 [2:46:09<15:07:44, 63.18s/it]"
     ]
    },
    {
     "name": "stdout",
     "output_type": "stream",
     "text": [
      "[I 2024-10-19 17:37:14,680] Trial 137 finished with value: 0.8912065625190735 and parameters: {'n_hidden_layers': 3, 'activation': 'elu', 'learning_rate': 0.0006832527207266187, 'optimizer': 'adam', 'dropout_rate': 0.36279584635942586, 'n_neurons': 106, 'batch_size': 16}. Best is trial 12 with value: 0.8969325423240662.\n"
     ]
    },
    {
     "name": "stderr",
     "output_type": "stream",
     "text": [
      "Best trial: 12. Best value: 0.896933:  14%|█▍        | 139/1000 [2:47:25<16:01:53, 67.03s/it]"
     ]
    },
    {
     "name": "stdout",
     "output_type": "stream",
     "text": [
      "[I 2024-10-19 17:38:30,687] Trial 138 finished with value: 0.8940695524215698 and parameters: {'n_hidden_layers': 3, 'activation': 'elu', 'learning_rate': 0.0005957519204880314, 'optimizer': 'adam', 'dropout_rate': 0.2714805845640664, 'n_neurons': 110, 'batch_size': 4}. Best is trial 12 with value: 0.8969325423240662.\n"
     ]
    },
    {
     "name": "stderr",
     "output_type": "stream",
     "text": [
      "Best trial: 12. Best value: 0.896933:  14%|█▍        | 140/1000 [2:47:37<12:04:54, 50.58s/it]"
     ]
    },
    {
     "name": "stdout",
     "output_type": "stream",
     "text": [
      "[I 2024-10-19 17:38:42,865] Trial 139 finished with value: 0.887116551399231 and parameters: {'n_hidden_layers': 2, 'activation': 'elu', 'learning_rate': 0.0007424769073775884, 'optimizer': 'rmsprop', 'dropout_rate': 0.2928893409603612, 'n_neurons': 128, 'batch_size': 64}. Best is trial 12 with value: 0.8969325423240662.\n"
     ]
    },
    {
     "name": "stderr",
     "output_type": "stream",
     "text": [
      "Best trial: 12. Best value: 0.896933:  14%|█▍        | 141/1000 [2:49:01<14:26:32, 60.53s/it]"
     ]
    },
    {
     "name": "stdout",
     "output_type": "stream",
     "text": [
      "[I 2024-10-19 17:40:06,612] Trial 140 finished with value: 0.8936605453491211 and parameters: {'n_hidden_layers': 2, 'activation': 'elu', 'learning_rate': 0.0009644650970811297, 'optimizer': 'adam', 'dropout_rate': 0.21947437057879962, 'n_neurons': 115, 'batch_size': 4}. Best is trial 12 with value: 0.8969325423240662.\n"
     ]
    },
    {
     "name": "stderr",
     "output_type": "stream",
     "text": [
      "Best trial: 12. Best value: 0.896933:  14%|█▍        | 142/1000 [2:50:04<14:36:49, 61.32s/it]"
     ]
    },
    {
     "name": "stdout",
     "output_type": "stream",
     "text": [
      "[I 2024-10-19 17:41:09,769] Trial 141 finished with value: 0.8932515382766724 and parameters: {'n_hidden_layers': 2, 'activation': 'elu', 'learning_rate': 0.0016291945901393565, 'optimizer': 'adam', 'dropout_rate': 0.35390287898822914, 'n_neurons': 119, 'batch_size': 4}. Best is trial 12 with value: 0.8969325423240662.\n"
     ]
    },
    {
     "name": "stderr",
     "output_type": "stream",
     "text": [
      "Best trial: 12. Best value: 0.896933:  14%|█▍        | 143/1000 [2:51:28<16:13:59, 68.19s/it]"
     ]
    },
    {
     "name": "stdout",
     "output_type": "stream",
     "text": [
      "[I 2024-10-19 17:42:34,001] Trial 142 finished with value: 0.8924335241317749 and parameters: {'n_hidden_layers': 2, 'activation': 'elu', 'learning_rate': 0.0008645710216413738, 'optimizer': 'adam', 'dropout_rate': 0.319402482674704, 'n_neurons': 122, 'batch_size': 4}. Best is trial 12 with value: 0.8969325423240662.\n"
     ]
    },
    {
     "name": "stderr",
     "output_type": "stream",
     "text": [
      "Best trial: 12. Best value: 0.896933:  14%|█▍        | 144/1000 [2:52:49<17:06:30, 71.95s/it]"
     ]
    },
    {
     "name": "stdout",
     "output_type": "stream",
     "text": [
      "[I 2024-10-19 17:43:54,728] Trial 143 finished with value: 0.8936605453491211 and parameters: {'n_hidden_layers': 2, 'activation': 'elu', 'learning_rate': 0.001153596386753887, 'optimizer': 'adam', 'dropout_rate': 0.3431378639446534, 'n_neurons': 125, 'batch_size': 4}. Best is trial 12 with value: 0.8969325423240662.\n"
     ]
    },
    {
     "name": "stderr",
     "output_type": "stream",
     "text": [
      "Best trial: 12. Best value: 0.896933:  14%|█▍        | 145/1000 [2:54:26<18:54:50, 79.64s/it]"
     ]
    },
    {
     "name": "stdout",
     "output_type": "stream",
     "text": [
      "[I 2024-10-19 17:45:32,302] Trial 144 finished with value: 0.8924335241317749 and parameters: {'n_hidden_layers': 2, 'activation': 'elu', 'learning_rate': 0.0005247184324702984, 'optimizer': 'adam', 'dropout_rate': 0.29931682035624363, 'n_neurons': 116, 'batch_size': 4}. Best is trial 12 with value: 0.8969325423240662.\n"
     ]
    },
    {
     "name": "stderr",
     "output_type": "stream",
     "text": [
      "Best trial: 12. Best value: 0.896933:  15%|█▍        | 146/1000 [2:55:39<18:25:24, 77.66s/it]"
     ]
    },
    {
     "name": "stdout",
     "output_type": "stream",
     "text": [
      "[I 2024-10-19 17:46:45,357] Trial 145 finished with value: 0.8899795413017273 and parameters: {'n_hidden_layers': 2, 'activation': 'elu', 'learning_rate': 0.0014405477199267293, 'optimizer': 'adam', 'dropout_rate': 0.32588966699947663, 'n_neurons': 119, 'batch_size': 4}. Best is trial 12 with value: 0.8969325423240662.\n"
     ]
    },
    {
     "name": "stderr",
     "output_type": "stream",
     "text": [
      "Best trial: 12. Best value: 0.896933:  15%|█▍        | 147/1000 [2:56:35<16:49:41, 71.02s/it]"
     ]
    },
    {
     "name": "stdout",
     "output_type": "stream",
     "text": [
      "[I 2024-10-19 17:47:40,879] Trial 146 finished with value: 0.8924335241317749 and parameters: {'n_hidden_layers': 3, 'activation': 'elu', 'learning_rate': 0.0010331560708167593, 'optimizer': 'adam', 'dropout_rate': 0.2522029428036614, 'n_neurons': 112, 'batch_size': 4}. Best is trial 12 with value: 0.8969325423240662.\n"
     ]
    },
    {
     "name": "stderr",
     "output_type": "stream",
     "text": [
      "Best trial: 12. Best value: 0.896933:  15%|█▍        | 148/1000 [2:57:46<16:48:22, 71.01s/it]"
     ]
    },
    {
     "name": "stdout",
     "output_type": "stream",
     "text": [
      "[I 2024-10-19 17:48:51,873] Trial 147 finished with value: 0.8891615271568298 and parameters: {'n_hidden_layers': 2, 'activation': 'tanh', 'learning_rate': 0.0006566210639998006, 'optimizer': 'adam', 'dropout_rate': 0.23739789269876443, 'n_neurons': 108, 'batch_size': 4}. Best is trial 12 with value: 0.8969325423240662.\n"
     ]
    },
    {
     "name": "stderr",
     "output_type": "stream",
     "text": [
      "Best trial: 12. Best value: 0.896933:  15%|█▍        | 149/1000 [2:58:44<15:52:13, 67.14s/it]"
     ]
    },
    {
     "name": "stdout",
     "output_type": "stream",
     "text": [
      "[I 2024-10-19 17:49:49,969] Trial 148 finished with value: 0.8932515382766724 and parameters: {'n_hidden_layers': 3, 'activation': 'elu', 'learning_rate': 0.00043874084270808963, 'optimizer': 'adam', 'dropout_rate': 0.28003601764194563, 'n_neurons': 121, 'batch_size': 8}. Best is trial 12 with value: 0.8969325423240662.\n"
     ]
    },
    {
     "name": "stderr",
     "output_type": "stream",
     "text": [
      "Best trial: 12. Best value: 0.896933:  15%|█▌        | 150/1000 [2:59:03<12:27:41, 52.78s/it]"
     ]
    },
    {
     "name": "stdout",
     "output_type": "stream",
     "text": [
      "[I 2024-10-19 17:50:09,241] Trial 149 finished with value: 0.8437627553939819 and parameters: {'n_hidden_layers': 3, 'activation': 'relu', 'learning_rate': 0.0007743908972773131, 'optimizer': 'sgd', 'dropout_rate': 0.26598342876478465, 'n_neurons': 124, 'batch_size': 32}. Best is trial 12 with value: 0.8969325423240662.\n"
     ]
    },
    {
     "name": "stderr",
     "output_type": "stream",
     "text": [
      "Best trial: 12. Best value: 0.896933:  15%|█▌        | 151/1000 [3:00:14<13:42:01, 58.09s/it]"
     ]
    },
    {
     "name": "stdout",
     "output_type": "stream",
     "text": [
      "[I 2024-10-19 17:51:19,736] Trial 150 finished with value: 0.8867075443267822 and parameters: {'n_hidden_layers': 1, 'activation': 'elu', 'learning_rate': 0.0029748168061892602, 'optimizer': 'adam', 'dropout_rate': 0.30424249054148395, 'n_neurons': 45, 'batch_size': 4}. Best is trial 12 with value: 0.8969325423240662.\n"
     ]
    },
    {
     "name": "stderr",
     "output_type": "stream",
     "text": [
      "Best trial: 12. Best value: 0.896933:  15%|█▌        | 152/1000 [3:01:23<14:27:50, 61.40s/it]"
     ]
    },
    {
     "name": "stdout",
     "output_type": "stream",
     "text": [
      "[I 2024-10-19 17:52:28,864] Trial 151 finished with value: 0.8932515382766724 and parameters: {'n_hidden_layers': 3, 'activation': 'elu', 'learning_rate': 0.0009649144074910852, 'optimizer': 'adam', 'dropout_rate': 0.29703871216733635, 'n_neurons': 125, 'batch_size': 4}. Best is trial 12 with value: 0.8969325423240662.\n"
     ]
    },
    {
     "name": "stderr",
     "output_type": "stream",
     "text": [
      "Best trial: 12. Best value: 0.896933:  15%|█▌        | 153/1000 [3:02:22<14:16:49, 60.70s/it]"
     ]
    },
    {
     "name": "stdout",
     "output_type": "stream",
     "text": [
      "[I 2024-10-19 17:53:27,909] Trial 152 finished with value: 0.8912065625190735 and parameters: {'n_hidden_layers': 3, 'activation': 'elu', 'learning_rate': 0.0010647115460685357, 'optimizer': 'adam', 'dropout_rate': 0.3125216215422308, 'n_neurons': 26, 'batch_size': 4}. Best is trial 12 with value: 0.8969325423240662.\n"
     ]
    },
    {
     "name": "stderr",
     "output_type": "stream",
     "text": [
      "Best trial: 12. Best value: 0.896933:  15%|█▌        | 154/1000 [3:03:29<14:41:17, 62.50s/it]"
     ]
    },
    {
     "name": "stdout",
     "output_type": "stream",
     "text": [
      "[I 2024-10-19 17:54:34,628] Trial 153 finished with value: 0.8883435726165771 and parameters: {'n_hidden_layers': 3, 'activation': 'elu', 'learning_rate': 0.0008378767461391997, 'optimizer': 'adam', 'dropout_rate': 0.33278793606158963, 'n_neurons': 126, 'batch_size': 4}. Best is trial 12 with value: 0.8969325423240662.\n"
     ]
    },
    {
     "name": "stderr",
     "output_type": "stream",
     "text": [
      "Best trial: 12. Best value: 0.896933:  16%|█▌        | 155/1000 [3:04:45<15:39:46, 66.73s/it]"
     ]
    },
    {
     "name": "stdout",
     "output_type": "stream",
     "text": [
      "[I 2024-10-19 17:55:51,221] Trial 154 finished with value: 0.8912065625190735 and parameters: {'n_hidden_layers': 3, 'activation': 'elu', 'learning_rate': 0.0012959514241061877, 'optimizer': 'adam', 'dropout_rate': 0.2899960562288149, 'n_neurons': 118, 'batch_size': 4}. Best is trial 12 with value: 0.8969325423240662.\n"
     ]
    },
    {
     "name": "stderr",
     "output_type": "stream",
     "text": [
      "Best trial: 12. Best value: 0.896933:  16%|█▌        | 156/1000 [3:06:01<16:17:08, 69.46s/it]"
     ]
    },
    {
     "name": "stdout",
     "output_type": "stream",
     "text": [
      "[I 2024-10-19 17:57:07,065] Trial 155 finished with value: 0.8928425312042236 and parameters: {'n_hidden_layers': 3, 'activation': 'elu', 'learning_rate': 0.0006431723083971445, 'optimizer': 'adam', 'dropout_rate': 0.30303198772567286, 'n_neurons': 122, 'batch_size': 4}. Best is trial 12 with value: 0.8969325423240662.\n"
     ]
    },
    {
     "name": "stderr",
     "output_type": "stream",
     "text": [
      "Best trial: 12. Best value: 0.896933:  16%|█▌        | 157/1000 [3:06:16<12:23:54, 52.95s/it]"
     ]
    },
    {
     "name": "stdout",
     "output_type": "stream",
     "text": [
      "[I 2024-10-19 17:57:21,475] Trial 156 finished with value: 0.8875255584716797 and parameters: {'n_hidden_layers': 3, 'activation': 'elu', 'learning_rate': 0.0003482760870035072, 'optimizer': 'adam', 'dropout_rate': 0.2766588845411516, 'n_neurons': 123, 'batch_size': 64}. Best is trial 12 with value: 0.8969325423240662.\n"
     ]
    },
    {
     "name": "stderr",
     "output_type": "stream",
     "text": [
      "Best trial: 12. Best value: 0.896933:  16%|█▌        | 158/1000 [3:09:18<21:27:17, 91.73s/it]"
     ]
    },
    {
     "name": "stdout",
     "output_type": "stream",
     "text": [
      "[I 2024-10-19 18:00:23,698] Trial 157 finished with value: 0.8940695524215698 and parameters: {'n_hidden_layers': 2, 'activation': 'elu', 'learning_rate': 0.0005573961602122196, 'optimizer': 'adam', 'dropout_rate': 0.25466095332832117, 'n_neurons': 128, 'batch_size': 2}. Best is trial 12 with value: 0.8969325423240662.\n"
     ]
    },
    {
     "name": "stderr",
     "output_type": "stream",
     "text": [
      "Best trial: 12. Best value: 0.896933:  16%|█▌        | 159/1000 [3:10:20<19:22:12, 82.92s/it]"
     ]
    },
    {
     "name": "stdout",
     "output_type": "stream",
     "text": [
      "[I 2024-10-19 18:01:26,050] Trial 158 finished with value: 0.8842535614967346 and parameters: {'n_hidden_layers': 3, 'activation': 'elu', 'learning_rate': 0.0019289410294648385, 'optimizer': 'adam', 'dropout_rate': 0.31729582265618433, 'n_neurons': 115, 'batch_size': 4}. Best is trial 12 with value: 0.8969325423240662.\n"
     ]
    },
    {
     "name": "stderr",
     "output_type": "stream",
     "text": [
      "Best trial: 12. Best value: 0.896933:  16%|█▌        | 160/1000 [3:11:41<19:12:02, 82.29s/it]"
     ]
    },
    {
     "name": "stdout",
     "output_type": "stream",
     "text": [
      "[I 2024-10-19 18:02:46,873] Trial 159 finished with value: 0.8936605453491211 and parameters: {'n_hidden_layers': 3, 'activation': 'elu', 'learning_rate': 0.0007033282539230908, 'optimizer': 'adam', 'dropout_rate': 0.24307914908035264, 'n_neurons': 111, 'batch_size': 4}. Best is trial 12 with value: 0.8969325423240662.\n"
     ]
    },
    {
     "name": "stderr",
     "output_type": "stream",
     "text": [
      "Best trial: 12. Best value: 0.896933:  16%|█▌        | 161/1000 [3:11:50<14:03:55, 60.35s/it]"
     ]
    },
    {
     "name": "stdout",
     "output_type": "stream",
     "text": [
      "[I 2024-10-19 18:02:56,040] Trial 160 finished with value: 0.8875255584716797 and parameters: {'n_hidden_layers': 2, 'activation': 'elu', 'learning_rate': 0.0009526364528877728, 'optimizer': 'adam', 'dropout_rate': 0.2837088695683931, 'n_neurons': 120, 'batch_size': 128}. Best is trial 12 with value: 0.8969325423240662.\n"
     ]
    },
    {
     "name": "stderr",
     "output_type": "stream",
     "text": [
      "Best trial: 12. Best value: 0.896933:  16%|█▌        | 162/1000 [3:13:17<15:52:54, 68.23s/it]"
     ]
    },
    {
     "name": "stdout",
     "output_type": "stream",
     "text": [
      "[I 2024-10-19 18:04:22,644] Trial 161 finished with value: 0.8920245170593262 and parameters: {'n_hidden_layers': 2, 'activation': 'elu', 'learning_rate': 0.0011357099744426355, 'optimizer': 'adam', 'dropout_rate': 0.3284195775417684, 'n_neurons': 119, 'batch_size': 4}. Best is trial 12 with value: 0.8969325423240662.\n"
     ]
    },
    {
     "name": "stderr",
     "output_type": "stream",
     "text": [
      "Best trial: 12. Best value: 0.896933:  16%|█▋        | 163/1000 [3:14:45<17:16:39, 74.31s/it]"
     ]
    },
    {
     "name": "stdout",
     "output_type": "stream",
     "text": [
      "[I 2024-10-19 18:05:51,154] Trial 162 finished with value: 0.8932515382766724 and parameters: {'n_hidden_layers': 2, 'activation': 'elu', 'learning_rate': 0.0011651382351285011, 'optimizer': 'adam', 'dropout_rate': 0.3434793204926507, 'n_neurons': 116, 'batch_size': 4}. Best is trial 12 with value: 0.8969325423240662.\n"
     ]
    },
    {
     "name": "stderr",
     "output_type": "stream",
     "text": [
      "Best trial: 12. Best value: 0.896933:  16%|█▋        | 164/1000 [3:16:20<18:40:24, 80.41s/it]"
     ]
    },
    {
     "name": "stdout",
     "output_type": "stream",
     "text": [
      "[I 2024-10-19 18:07:25,797] Trial 163 finished with value: 0.8961145281791687 and parameters: {'n_hidden_layers': 2, 'activation': 'elu', 'learning_rate': 0.0008394117705168353, 'optimizer': 'adam', 'dropout_rate': 0.30846146559424914, 'n_neurons': 124, 'batch_size': 4}. Best is trial 12 with value: 0.8969325423240662.\n"
     ]
    },
    {
     "name": "stderr",
     "output_type": "stream",
     "text": [
      "Best trial: 12. Best value: 0.896933:  16%|█▋        | 165/1000 [3:17:32<18:05:42, 78.02s/it]"
     ]
    },
    {
     "name": "stdout",
     "output_type": "stream",
     "text": [
      "[I 2024-10-19 18:08:38,220] Trial 164 finished with value: 0.8944784998893738 and parameters: {'n_hidden_layers': 2, 'activation': 'elu', 'learning_rate': 0.0008485427839981162, 'optimizer': 'adam', 'dropout_rate': 0.3078688733078065, 'n_neurons': 124, 'batch_size': 4}. Best is trial 12 with value: 0.8969325423240662.\n"
     ]
    },
    {
     "name": "stderr",
     "output_type": "stream",
     "text": [
      "Best trial: 12. Best value: 0.896933:  17%|█▋        | 166/1000 [3:21:32<29:18:01, 126.48s/it]"
     ]
    },
    {
     "name": "stdout",
     "output_type": "stream",
     "text": [
      "[I 2024-10-19 18:12:37,775] Trial 165 finished with value: 0.8932515382766724 and parameters: {'n_hidden_layers': 2, 'activation': 'elu', 'learning_rate': 0.0004871700585648822, 'optimizer': 'adam', 'dropout_rate': 0.32249209558070224, 'n_neurons': 126, 'batch_size': 1}. Best is trial 12 with value: 0.8969325423240662.\n"
     ]
    },
    {
     "name": "stderr",
     "output_type": "stream",
     "text": [
      "Best trial: 12. Best value: 0.896933:  17%|█▋        | 167/1000 [3:22:05<22:48:38, 98.58s/it] "
     ]
    },
    {
     "name": "stdout",
     "output_type": "stream",
     "text": [
      "[I 2024-10-19 18:13:11,266] Trial 166 finished with value: 0.8932515382766724 and parameters: {'n_hidden_layers': 2, 'activation': 'relu', 'learning_rate': 0.0007295832277873019, 'optimizer': 'adam', 'dropout_rate': 0.29426131701465946, 'n_neurons': 103, 'batch_size': 4}. Best is trial 12 with value: 0.8969325423240662.\n"
     ]
    },
    {
     "name": "stderr",
     "output_type": "stream",
     "text": [
      "Best trial: 12. Best value: 0.896933:  17%|█▋        | 168/1000 [3:23:56<23:36:40, 102.16s/it]"
     ]
    },
    {
     "name": "stdout",
     "output_type": "stream",
     "text": [
      "[I 2024-10-19 18:15:01,790] Trial 167 finished with value: 0.881799578666687 and parameters: {'n_hidden_layers': 3, 'activation': 'elu', 'learning_rate': 5.450737549840875e-05, 'optimizer': 'adam', 'dropout_rate': 0.26240984408870066, 'n_neurons': 56, 'batch_size': 4}. Best is trial 12 with value: 0.8969325423240662.\n"
     ]
    },
    {
     "name": "stderr",
     "output_type": "stream",
     "text": [
      "Best trial: 12. Best value: 0.896933:  17%|█▋        | 169/1000 [3:25:23<22:33:03, 97.69s/it] "
     ]
    },
    {
     "name": "stdout",
     "output_type": "stream",
     "text": [
      "[I 2024-10-19 18:16:29,053] Trial 168 finished with value: 0.8764826059341431 and parameters: {'n_hidden_layers': 2, 'activation': 'elu', 'learning_rate': 0.0004024000481015825, 'optimizer': 'rmsprop', 'dropout_rate': 0.3119358817317857, 'n_neurons': 121, 'batch_size': 4}. Best is trial 12 with value: 0.8969325423240662.\n"
     ]
    },
    {
     "name": "stderr",
     "output_type": "stream",
     "text": [
      "Best trial: 12. Best value: 0.896933:  17%|█▋        | 170/1000 [3:25:50<17:36:25, 76.37s/it]"
     ]
    },
    {
     "name": "stdout",
     "output_type": "stream",
     "text": [
      "[I 2024-10-19 18:16:55,662] Trial 169 finished with value: 0.8920245170593262 and parameters: {'n_hidden_layers': 3, 'activation': 'elu', 'learning_rate': 0.0006285756454812431, 'optimizer': 'adam', 'dropout_rate': 0.13526009564843597, 'n_neurons': 128, 'batch_size': 16}. Best is trial 12 with value: 0.8969325423240662.\n"
     ]
    },
    {
     "name": "stderr",
     "output_type": "stream",
     "text": [
      "Best trial: 12. Best value: 0.896933:  17%|█▋        | 171/1000 [3:26:45<16:08:19, 70.08s/it]"
     ]
    },
    {
     "name": "stdout",
     "output_type": "stream",
     "text": [
      "[I 2024-10-19 18:17:51,082] Trial 170 finished with value: 0.8920245170593262 and parameters: {'n_hidden_layers': 2, 'activation': 'elu', 'learning_rate': 0.0009465024868232834, 'optimizer': 'adam', 'dropout_rate': 0.22571411983895168, 'n_neurons': 113, 'batch_size': 4}. Best is trial 12 with value: 0.8969325423240662.\n"
     ]
    },
    {
     "name": "stderr",
     "output_type": "stream",
     "text": [
      "Best trial: 12. Best value: 0.896933:  17%|█▋        | 172/1000 [3:28:15<17:28:22, 75.97s/it]"
     ]
    },
    {
     "name": "stdout",
     "output_type": "stream",
     "text": [
      "[I 2024-10-19 18:19:20,782] Trial 171 finished with value: 0.8883435726165771 and parameters: {'n_hidden_layers': 1, 'activation': 'elu', 'learning_rate': 0.0014648837066653742, 'optimizer': 'adam', 'dropout_rate': 0.33503875343857226, 'n_neurons': 118, 'batch_size': 4}. Best is trial 12 with value: 0.8969325423240662.\n"
     ]
    },
    {
     "name": "stderr",
     "output_type": "stream",
     "text": [
      "Best trial: 12. Best value: 0.896933:  17%|█▋        | 173/1000 [3:29:30<17:24:00, 75.74s/it]"
     ]
    },
    {
     "name": "stdout",
     "output_type": "stream",
     "text": [
      "[I 2024-10-19 18:20:36,005] Trial 172 finished with value: 0.8895705342292786 and parameters: {'n_hidden_layers': 2, 'activation': 'elu', 'learning_rate': 0.0010862858846250585, 'optimizer': 'adam', 'dropout_rate': 0.32636632682569133, 'n_neurons': 123, 'batch_size': 4}. Best is trial 12 with value: 0.8969325423240662.\n"
     ]
    },
    {
     "name": "stderr",
     "output_type": "stream",
     "text": [
      "Best trial: 12. Best value: 0.896933:  17%|█▋        | 174/1000 [3:30:39<16:53:48, 73.64s/it]"
     ]
    },
    {
     "name": "stdout",
     "output_type": "stream",
     "text": [
      "[I 2024-10-19 18:21:44,738] Trial 173 finished with value: 0.8907975554466248 and parameters: {'n_hidden_layers': 2, 'activation': 'elu', 'learning_rate': 0.0008044618131537941, 'optimizer': 'adam', 'dropout_rate': 0.3004082791176557, 'n_neurons': 109, 'batch_size': 4}. Best is trial 12 with value: 0.8969325423240662.\n"
     ]
    },
    {
     "name": "stderr",
     "output_type": "stream",
     "text": [
      "Best trial: 12. Best value: 0.896933:  18%|█▊        | 175/1000 [3:32:00<17:23:15, 75.87s/it]"
     ]
    },
    {
     "name": "stdout",
     "output_type": "stream",
     "text": [
      "[I 2024-10-19 18:23:05,817] Trial 174 finished with value: 0.8899795413017273 and parameters: {'n_hidden_layers': 3, 'activation': 'elu', 'learning_rate': 0.0012386959309953675, 'optimizer': 'adam', 'dropout_rate': 0.31685636163945013, 'n_neurons': 117, 'batch_size': 4}. Best is trial 12 with value: 0.8969325423240662.\n"
     ]
    },
    {
     "name": "stderr",
     "output_type": "stream",
     "text": [
      "Best trial: 12. Best value: 0.896933:  18%|█▊        | 176/1000 [3:33:12<17:05:24, 74.67s/it]"
     ]
    },
    {
     "name": "stdout",
     "output_type": "stream",
     "text": [
      "[I 2024-10-19 18:24:17,666] Trial 175 finished with value: 0.8965235352516174 and parameters: {'n_hidden_layers': 3, 'activation': 'elu', 'learning_rate': 0.0008946027124162032, 'optimizer': 'adam', 'dropout_rate': 0.27142552541989634, 'n_neurons': 120, 'batch_size': 4}. Best is trial 12 with value: 0.8969325423240662.\n"
     ]
    },
    {
     "name": "stderr",
     "output_type": "stream",
     "text": [
      "Best trial: 12. Best value: 0.896933:  18%|█▊        | 177/1000 [3:35:32<21:32:23, 94.22s/it]"
     ]
    },
    {
     "name": "stdout",
     "output_type": "stream",
     "text": [
      "[I 2024-10-19 18:26:37,513] Trial 176 finished with value: 0.8969325423240662 and parameters: {'n_hidden_layers': 3, 'activation': 'elu', 'learning_rate': 0.0005361825644794965, 'optimizer': 'adam', 'dropout_rate': 0.2707036901641859, 'n_neurons': 121, 'batch_size': 2}. Best is trial 12 with value: 0.8969325423240662.\n"
     ]
    },
    {
     "name": "stderr",
     "output_type": "stream",
     "text": [
      "Best trial: 12. Best value: 0.896933:  18%|█▊        | 178/1000 [3:35:46<16:02:52, 70.28s/it]"
     ]
    },
    {
     "name": "stdout",
     "output_type": "stream",
     "text": [
      "[I 2024-10-19 18:26:51,943] Trial 177 finished with value: 0.8916155695915222 and parameters: {'n_hidden_layers': 3, 'activation': 'tanh', 'learning_rate': 0.0005065332302678419, 'optimizer': 'adam', 'dropout_rate': 0.4628911645769894, 'n_neurons': 121, 'batch_size': 64}. Best is trial 12 with value: 0.8969325423240662.\n"
     ]
    },
    {
     "name": "stderr",
     "output_type": "stream",
     "text": [
      "Best trial: 12. Best value: 0.896933:  18%|█▊        | 179/1000 [3:37:58<20:14:43, 88.77s/it]"
     ]
    },
    {
     "name": "stdout",
     "output_type": "stream",
     "text": [
      "[I 2024-10-19 18:29:03,865] Trial 178 finished with value: 0.8928425312042236 and parameters: {'n_hidden_layers': 3, 'activation': 'elu', 'learning_rate': 0.0005680203841284762, 'optimizer': 'adam', 'dropout_rate': 0.2719728504507349, 'n_neurons': 115, 'batch_size': 2}. Best is trial 12 with value: 0.8969325423240662.\n"
     ]
    },
    {
     "name": "stderr",
     "output_type": "stream",
     "text": [
      "Best trial: 12. Best value: 0.896933:  18%|█▊        | 180/1000 [3:40:49<25:49:55, 113.41s/it]"
     ]
    },
    {
     "name": "stdout",
     "output_type": "stream",
     "text": [
      "[I 2024-10-19 18:31:54,754] Trial 179 finished with value: 0.8830265998840332 and parameters: {'n_hidden_layers': 3, 'activation': 'elu', 'learning_rate': 0.000721019473082114, 'optimizer': 'sgd', 'dropout_rate': 0.2569829486387147, 'n_neurons': 65, 'batch_size': 2}. Best is trial 12 with value: 0.8969325423240662.\n"
     ]
    },
    {
     "name": "stderr",
     "output_type": "stream",
     "text": [
      "Best trial: 12. Best value: 0.896933:  18%|█▊        | 181/1000 [3:41:51<22:19:07, 98.10s/it] "
     ]
    },
    {
     "name": "stdout",
     "output_type": "stream",
     "text": [
      "[I 2024-10-19 18:32:57,146] Trial 180 finished with value: 0.8850715756416321 and parameters: {'n_hidden_layers': 3, 'activation': 'relu', 'learning_rate': 0.0006113689414635763, 'optimizer': 'adam', 'dropout_rate': 0.2838286977918164, 'n_neurons': 113, 'batch_size': 2}. Best is trial 12 with value: 0.8969325423240662.\n"
     ]
    },
    {
     "name": "stderr",
     "output_type": "stream",
     "text": [
      "Best trial: 12. Best value: 0.896933:  18%|█▊        | 182/1000 [3:43:43<23:12:04, 102.11s/it]"
     ]
    },
    {
     "name": "stdout",
     "output_type": "stream",
     "text": [
      "[I 2024-10-19 18:34:48,599] Trial 181 finished with value: 0.8920245170593262 and parameters: {'n_hidden_layers': 3, 'activation': 'elu', 'learning_rate': 0.0008630179876886343, 'optimizer': 'adam', 'dropout_rate': 0.24711094736394254, 'n_neurons': 125, 'batch_size': 2}. Best is trial 12 with value: 0.8969325423240662.\n"
     ]
    },
    {
     "name": "stderr",
     "output_type": "stream",
     "text": [
      "Best trial: 12. Best value: 0.896933:  18%|█▊        | 183/1000 [3:44:50<20:50:23, 91.83s/it] "
     ]
    },
    {
     "name": "stdout",
     "output_type": "stream",
     "text": [
      "[I 2024-10-19 18:35:56,441] Trial 182 finished with value: 0.8928425312042236 and parameters: {'n_hidden_layers': 3, 'activation': 'elu', 'learning_rate': 0.0007864108807332863, 'optimizer': 'adam', 'dropout_rate': 0.26856984858335997, 'n_neurons': 82, 'batch_size': 4}. Best is trial 12 with value: 0.8969325423240662.\n"
     ]
    },
    {
     "name": "stderr",
     "output_type": "stream",
     "text": [
      "Best trial: 12. Best value: 0.896933:  18%|█▊        | 184/1000 [3:46:30<21:18:56, 94.04s/it]"
     ]
    },
    {
     "name": "stdout",
     "output_type": "stream",
     "text": [
      "[I 2024-10-19 18:37:35,642] Trial 183 finished with value: 0.8924335241317749 and parameters: {'n_hidden_layers': 3, 'activation': 'elu', 'learning_rate': 0.0004532153619322591, 'optimizer': 'adam', 'dropout_rate': 0.2757269284055534, 'n_neurons': 122, 'batch_size': 4}. Best is trial 12 with value: 0.8969325423240662.\n"
     ]
    },
    {
     "name": "stderr",
     "output_type": "stream",
     "text": [
      "Best trial: 12. Best value: 0.896933:  18%|█▊        | 185/1000 [3:47:17<18:05:36, 79.92s/it]"
     ]
    },
    {
     "name": "stdout",
     "output_type": "stream",
     "text": [
      "[I 2024-10-19 18:38:22,621] Trial 184 finished with value: 0.8952965140342712 and parameters: {'n_hidden_layers': 3, 'activation': 'elu', 'learning_rate': 0.0009563764081660985, 'optimizer': 'adam', 'dropout_rate': 0.28961358107091545, 'n_neurons': 126, 'batch_size': 8}. Best is trial 12 with value: 0.8969325423240662.\n"
     ]
    },
    {
     "name": "stderr",
     "output_type": "stream",
     "text": [
      "Best trial: 12. Best value: 0.896933:  19%|█▊        | 186/1000 [3:48:18<16:50:05, 74.45s/it]"
     ]
    },
    {
     "name": "stdout",
     "output_type": "stream",
     "text": [
      "[I 2024-10-19 18:39:24,318] Trial 185 finished with value: 0.8924335241317749 and parameters: {'n_hidden_layers': 3, 'activation': 'elu', 'learning_rate': 0.00037484139873072584, 'optimizer': 'adam', 'dropout_rate': 0.2646326304110465, 'n_neurons': 127, 'batch_size': 8}. Best is trial 12 with value: 0.8969325423240662.\n"
     ]
    },
    {
     "name": "stderr",
     "output_type": "stream",
     "text": [
      "Best trial: 12. Best value: 0.896933:  19%|█▊        | 187/1000 [3:50:27<20:30:45, 90.83s/it]"
     ]
    },
    {
     "name": "stdout",
     "output_type": "stream",
     "text": [
      "[I 2024-10-19 18:41:33,359] Trial 186 finished with value: 0.8895705342292786 and parameters: {'n_hidden_layers': 3, 'activation': 'elu', 'learning_rate': 0.0006542390206122947, 'optimizer': 'adam', 'dropout_rate': 0.2902477697603736, 'n_neurons': 120, 'batch_size': 2}. Best is trial 12 with value: 0.8969325423240662.\n"
     ]
    },
    {
     "name": "stderr",
     "output_type": "stream",
     "text": [
      "Best trial: 12. Best value: 0.896933:  19%|█▉        | 188/1000 [3:51:31<18:37:33, 82.58s/it]"
     ]
    },
    {
     "name": "stdout",
     "output_type": "stream",
     "text": [
      "[I 2024-10-19 18:42:36,681] Trial 187 finished with value: 0.8936605453491211 and parameters: {'n_hidden_layers': 3, 'activation': 'elu', 'learning_rate': 0.0003162949138174452, 'optimizer': 'adam', 'dropout_rate': 0.2802908062135008, 'n_neurons': 124, 'batch_size': 8}. Best is trial 12 with value: 0.8969325423240662.\n"
     ]
    },
    {
     "name": "stderr",
     "output_type": "stream",
     "text": [
      "Best trial: 12. Best value: 0.896933:  19%|█▉        | 189/1000 [3:52:12<15:48:17, 70.16s/it]"
     ]
    },
    {
     "name": "stdout",
     "output_type": "stream",
     "text": [
      "[I 2024-10-19 18:43:17,855] Trial 188 finished with value: 0.8969325423240662 and parameters: {'n_hidden_layers': 3, 'activation': 'elu', 'learning_rate': 0.000953527307498585, 'optimizer': 'adam', 'dropout_rate': 0.23682193578595256, 'n_neurons': 117, 'batch_size': 8}. Best is trial 12 with value: 0.8969325423240662.\n"
     ]
    },
    {
     "name": "stderr",
     "output_type": "stream",
     "text": [
      "Best trial: 12. Best value: 0.896933:  19%|█▉        | 190/1000 [3:52:47<13:26:01, 59.71s/it]"
     ]
    },
    {
     "name": "stdout",
     "output_type": "stream",
     "text": [
      "[I 2024-10-19 18:43:53,176] Trial 189 finished with value: 0.8916155695915222 and parameters: {'n_hidden_layers': 3, 'activation': 'elu', 'learning_rate': 0.0009097461014884766, 'optimizer': 'adam', 'dropout_rate': 0.21000793689948416, 'n_neurons': 117, 'batch_size': 8}. Best is trial 12 with value: 0.8969325423240662.\n"
     ]
    },
    {
     "name": "stderr",
     "output_type": "stream",
     "text": [
      "Best trial: 12. Best value: 0.896933:  19%|█▉        | 191/1000 [3:53:36<12:41:22, 56.47s/it]"
     ]
    },
    {
     "name": "stdout",
     "output_type": "stream",
     "text": [
      "[I 2024-10-19 18:44:42,090] Trial 190 finished with value: 0.8932515382766724 and parameters: {'n_hidden_layers': 3, 'activation': 'elu', 'learning_rate': 0.0005517727825998585, 'optimizer': 'adam', 'dropout_rate': 0.23593892071586994, 'n_neurons': 76, 'batch_size': 8}. Best is trial 12 with value: 0.8969325423240662.\n"
     ]
    },
    {
     "name": "stderr",
     "output_type": "stream",
     "text": [
      "Best trial: 12. Best value: 0.896933:  19%|█▉        | 192/1000 [3:54:21<11:52:47, 52.93s/it]"
     ]
    },
    {
     "name": "stdout",
     "output_type": "stream",
     "text": [
      "[I 2024-10-19 18:45:26,768] Trial 191 finished with value: 0.8912065625190735 and parameters: {'n_hidden_layers': 3, 'activation': 'elu', 'learning_rate': 0.0007215014956389815, 'optimizer': 'adam', 'dropout_rate': 0.25019898042601835, 'n_neurons': 119, 'batch_size': 8}. Best is trial 12 with value: 0.8969325423240662.\n"
     ]
    },
    {
     "name": "stderr",
     "output_type": "stream",
     "text": [
      "Best trial: 12. Best value: 0.896933:  19%|█▉        | 193/1000 [3:54:58<10:48:07, 48.19s/it]"
     ]
    },
    {
     "name": "stdout",
     "output_type": "stream",
     "text": [
      "[I 2024-10-19 18:46:03,888] Trial 192 finished with value: 0.8928425312042236 and parameters: {'n_hidden_layers': 3, 'activation': 'elu', 'learning_rate': 0.0010265349741352186, 'optimizer': 'adam', 'dropout_rate': 0.23256787392701384, 'n_neurons': 111, 'batch_size': 8}. Best is trial 12 with value: 0.8969325423240662.\n"
     ]
    },
    {
     "name": "stderr",
     "output_type": "stream",
     "text": [
      "Best trial: 12. Best value: 0.896933:  19%|█▉        | 194/1000 [3:55:18<8:55:22, 39.85s/it] "
     ]
    },
    {
     "name": "stdout",
     "output_type": "stream",
     "text": [
      "[I 2024-10-19 18:46:24,296] Trial 193 finished with value: 0.8899795413017273 and parameters: {'n_hidden_layers': 3, 'activation': 'elu', 'learning_rate': 0.0008460766222686371, 'optimizer': 'adam', 'dropout_rate': 0.26156395562583085, 'n_neurons': 123, 'batch_size': 32}. Best is trial 12 with value: 0.8969325423240662.\n"
     ]
    },
    {
     "name": "stderr",
     "output_type": "stream",
     "text": [
      "Best trial: 12. Best value: 0.896933:  20%|█▉        | 195/1000 [3:56:06<9:27:44, 42.32s/it]"
     ]
    },
    {
     "name": "stdout",
     "output_type": "stream",
     "text": [
      "[I 2024-10-19 18:47:12,360] Trial 194 finished with value: 0.8944784998893738 and parameters: {'n_hidden_layers': 3, 'activation': 'elu', 'learning_rate': 0.0009556247915625929, 'optimizer': 'adam', 'dropout_rate': 0.24021214598566962, 'n_neurons': 126, 'batch_size': 8}. Best is trial 12 with value: 0.8969325423240662.\n"
     ]
    },
    {
     "name": "stderr",
     "output_type": "stream",
     "text": [
      "Best trial: 12. Best value: 0.896933:  20%|█▉        | 196/1000 [3:56:47<9:20:41, 41.84s/it]"
     ]
    },
    {
     "name": "stdout",
     "output_type": "stream",
     "text": [
      "[I 2024-10-19 18:47:53,096] Trial 195 finished with value: 0.8965235352516174 and parameters: {'n_hidden_layers': 3, 'activation': 'elu', 'learning_rate': 0.0012572188263306723, 'optimizer': 'adam', 'dropout_rate': 0.28970444154488906, 'n_neurons': 107, 'batch_size': 8}. Best is trial 12 with value: 0.8969325423240662.\n"
     ]
    },
    {
     "name": "stderr",
     "output_type": "stream",
     "text": [
      "Best trial: 12. Best value: 0.896933:  20%|█▉        | 197/1000 [3:57:23<8:57:42, 40.18s/it]"
     ]
    },
    {
     "name": "stdout",
     "output_type": "stream",
     "text": [
      "[I 2024-10-19 18:48:29,389] Trial 196 finished with value: 0.8940695524215698 and parameters: {'n_hidden_layers': 3, 'activation': 'elu', 'learning_rate': 0.001624522701669022, 'optimizer': 'adam', 'dropout_rate': 0.406159661097356, 'n_neurons': 108, 'batch_size': 8}. Best is trial 12 with value: 0.8969325423240662.\n"
     ]
    },
    {
     "name": "stderr",
     "output_type": "stream",
     "text": [
      "Best trial: 12. Best value: 0.896933:  20%|█▉        | 198/1000 [3:58:12<9:31:46, 42.78s/it]"
     ]
    },
    {
     "name": "stdout",
     "output_type": "stream",
     "text": [
      "[I 2024-10-19 18:49:18,230] Trial 197 finished with value: 0.8891615271568298 and parameters: {'n_hidden_layers': 3, 'activation': 'elu', 'learning_rate': 0.0014136580829857215, 'optimizer': 'adam', 'dropout_rate': 0.2850671858781047, 'n_neurons': 107, 'batch_size': 8}. Best is trial 12 with value: 0.8969325423240662.\n"
     ]
    },
    {
     "name": "stderr",
     "output_type": "stream",
     "text": [
      "Best trial: 12. Best value: 0.896933:  20%|█▉        | 199/1000 [3:58:54<9:26:24, 42.43s/it]"
     ]
    },
    {
     "name": "stdout",
     "output_type": "stream",
     "text": [
      "[I 2024-10-19 18:49:59,844] Trial 198 finished with value: 0.8928425312042236 and parameters: {'n_hidden_layers': 3, 'activation': 'elu', 'learning_rate': 0.0012631051518171127, 'optimizer': 'adam', 'dropout_rate': 0.2744636220726519, 'n_neurons': 104, 'batch_size': 8}. Best is trial 12 with value: 0.8969325423240662.\n"
     ]
    },
    {
     "name": "stderr",
     "output_type": "stream",
     "text": [
      "Best trial: 12. Best value: 0.896933:  20%|██        | 200/1000 [3:59:44<9:54:54, 44.62s/it]"
     ]
    },
    {
     "name": "stdout",
     "output_type": "stream",
     "text": [
      "[I 2024-10-19 18:50:49,574] Trial 199 finished with value: 0.8932515382766724 and parameters: {'n_hidden_layers': 3, 'activation': 'elu', 'learning_rate': 0.0007388155408721079, 'optimizer': 'adam', 'dropout_rate': 0.2928976674095266, 'n_neurons': 110, 'batch_size': 8}. Best is trial 12 with value: 0.8969325423240662.\n"
     ]
    },
    {
     "name": "stderr",
     "output_type": "stream",
     "text": [
      "Best trial: 12. Best value: 0.896933:  20%|██        | 201/1000 [4:00:03<8:14:16, 37.12s/it]"
     ]
    },
    {
     "name": "stdout",
     "output_type": "stream",
     "text": [
      "[I 2024-10-19 18:51:09,186] Trial 200 finished with value: 0.8846625685691833 and parameters: {'n_hidden_layers': 3, 'activation': 'relu', 'learning_rate': 0.0004392841879972461, 'optimizer': 'rmsprop', 'dropout_rate': 0.25567147250264033, 'n_neurons': 113, 'batch_size': 8}. Best is trial 12 with value: 0.8969325423240662.\n"
     ]
    },
    {
     "name": "stderr",
     "output_type": "stream",
     "text": [
      "Best trial: 12. Best value: 0.896933:  20%|██        | 202/1000 [4:01:15<10:30:18, 47.39s/it]"
     ]
    },
    {
     "name": "stdout",
     "output_type": "stream",
     "text": [
      "[I 2024-10-19 18:52:20,552] Trial 201 finished with value: 0.8924335241317749 and parameters: {'n_hidden_layers': 3, 'activation': 'elu', 'learning_rate': 0.0011226000965231884, 'optimizer': 'adam', 'dropout_rate': 0.3051919527530105, 'n_neurons': 116, 'batch_size': 4}. Best is trial 12 with value: 0.8969325423240662.\n"
     ]
    },
    {
     "name": "stderr",
     "output_type": "stream",
     "text": [
      "Best trial: 12. Best value: 0.896933:  20%|██        | 203/1000 [4:02:27<12:08:04, 54.81s/it]"
     ]
    },
    {
     "name": "stdout",
     "output_type": "stream",
     "text": [
      "[I 2024-10-19 18:53:32,672] Trial 202 finished with value: 0.8928425312042236 and parameters: {'n_hidden_layers': 2, 'activation': 'elu', 'learning_rate': 0.000876143214205323, 'optimizer': 'adam', 'dropout_rate': 0.2937785378036127, 'n_neurons': 120, 'batch_size': 4}. Best is trial 12 with value: 0.8969325423240662.\n"
     ]
    },
    {
     "name": "stderr",
     "output_type": "stream",
     "text": [
      "Best trial: 12. Best value: 0.896933:  20%|██        | 204/1000 [4:02:41<9:26:16, 42.68s/it] "
     ]
    },
    {
     "name": "stdout",
     "output_type": "stream",
     "text": [
      "[I 2024-10-19 18:53:47,065] Trial 203 finished with value: 0.8887525796890259 and parameters: {'n_hidden_layers': 3, 'activation': 'elu', 'learning_rate': 0.0006216830512512743, 'optimizer': 'adam', 'dropout_rate': 0.22350293952155037, 'n_neurons': 122, 'batch_size': 64}. Best is trial 12 with value: 0.8969325423240662.\n"
     ]
    },
    {
     "name": "stderr",
     "output_type": "stream",
     "text": [
      "Best trial: 12. Best value: 0.896933:  20%|██        | 205/1000 [4:02:52<7:17:24, 33.01s/it]"
     ]
    },
    {
     "name": "stdout",
     "output_type": "stream",
     "text": [
      "[I 2024-10-19 18:53:57,508] Trial 204 finished with value: 0.8899795413017273 and parameters: {'n_hidden_layers': 3, 'activation': 'elu', 'learning_rate': 0.0009767607571375082, 'optimizer': 'adam', 'dropout_rate': 0.26785156865925863, 'n_neurons': 105, 'batch_size': 128}. Best is trial 12 with value: 0.8969325423240662.\n"
     ]
    },
    {
     "name": "stderr",
     "output_type": "stream",
     "text": [
      "Best trial: 12. Best value: 0.896933:  21%|██        | 206/1000 [4:04:07<10:06:34, 45.84s/it]"
     ]
    },
    {
     "name": "stdout",
     "output_type": "stream",
     "text": [
      "[I 2024-10-19 18:55:13,268] Trial 205 finished with value: 0.8920245170593262 and parameters: {'n_hidden_layers': 2, 'activation': 'elu', 'learning_rate': 0.0007835545871903071, 'optimizer': 'adam', 'dropout_rate': 0.28610037319022946, 'n_neurons': 114, 'batch_size': 4}. Best is trial 12 with value: 0.8969325423240662.\n"
     ]
    },
    {
     "name": "stderr",
     "output_type": "stream",
     "text": [
      "Best trial: 12. Best value: 0.896933:  21%|██        | 207/1000 [4:05:14<11:28:44, 52.11s/it]"
     ]
    },
    {
     "name": "stdout",
     "output_type": "stream",
     "text": [
      "[I 2024-10-19 18:56:20,021] Trial 206 finished with value: 0.8674846887588501 and parameters: {'n_hidden_layers': 3, 'activation': 'elu', 'learning_rate': 0.009305969047466783, 'optimizer': 'adam', 'dropout_rate': 0.30363040718185647, 'n_neurons': 118, 'batch_size': 4}. Best is trial 12 with value: 0.8969325423240662.\n"
     ]
    },
    {
     "name": "stderr",
     "output_type": "stream",
     "text": [
      "Best trial: 12. Best value: 0.896933:  21%|██        | 208/1000 [4:06:32<13:11:07, 59.93s/it]"
     ]
    },
    {
     "name": "stdout",
     "output_type": "stream",
     "text": [
      "[I 2024-10-19 18:57:38,206] Trial 207 finished with value: 0.8928425312042236 and parameters: {'n_hidden_layers': 2, 'activation': 'elu', 'learning_rate': 0.0013164371569494993, 'optimizer': 'adam', 'dropout_rate': 0.24473142088412944, 'n_neurons': 126, 'batch_size': 4}. Best is trial 12 with value: 0.8969325423240662.\n"
     ]
    },
    {
     "name": "stderr",
     "output_type": "stream",
     "text": [
      "Best trial: 12. Best value: 0.896933:  21%|██        | 209/1000 [4:10:27<24:43:09, 112.50s/it]"
     ]
    },
    {
     "name": "stdout",
     "output_type": "stream",
     "text": [
      "[I 2024-10-19 19:01:33,369] Trial 208 finished with value: 0.8920245170593262 and parameters: {'n_hidden_layers': 3, 'activation': 'elu', 'learning_rate': 0.0005221215836693336, 'optimizer': 'adam', 'dropout_rate': 0.2786673683219952, 'n_neurons': 128, 'batch_size': 1}. Best is trial 12 with value: 0.8969325423240662.\n"
     ]
    },
    {
     "name": "stderr",
     "output_type": "stream",
     "text": [
      "Best trial: 12. Best value: 0.896933:  21%|██        | 210/1000 [4:12:37<25:46:59, 117.49s/it]"
     ]
    },
    {
     "name": "stdout",
     "output_type": "stream",
     "text": [
      "[I 2024-10-19 19:03:42,507] Trial 209 finished with value: 0.8944784998893738 and parameters: {'n_hidden_layers': 2, 'activation': 'elu', 'learning_rate': 0.0006762355952827645, 'optimizer': 'adam', 'dropout_rate': 0.31865996349229947, 'n_neurons': 111, 'batch_size': 2}. Best is trial 12 with value: 0.8969325423240662.\n"
     ]
    },
    {
     "name": "stderr",
     "output_type": "stream",
     "text": [
      "Best trial: 12. Best value: 0.896933:  21%|██        | 211/1000 [4:13:40<22:11:55, 101.29s/it]"
     ]
    },
    {
     "name": "stdout",
     "output_type": "stream",
     "text": [
      "[I 2024-10-19 19:04:45,977] Trial 210 finished with value: 0.8867075443267822 and parameters: {'n_hidden_layers': 3, 'activation': 'elu', 'learning_rate': 0.0010158332177043566, 'optimizer': 'adam', 'dropout_rate': 0.2585395488977517, 'n_neurons': 123, 'batch_size': 4}. Best is trial 12 with value: 0.8969325423240662.\n"
     ]
    },
    {
     "name": "stderr",
     "output_type": "stream",
     "text": [
      "Best trial: 12. Best value: 0.896933:  21%|██        | 212/1000 [4:14:38<19:21:23, 88.43s/it] "
     ]
    },
    {
     "name": "stdout",
     "output_type": "stream",
     "text": [
      "[I 2024-10-19 19:05:44,414] Trial 211 finished with value: 0.8891615271568298 and parameters: {'n_hidden_layers': 3, 'activation': 'elu', 'learning_rate': 0.0011067241579304388, 'optimizer': 'adam', 'dropout_rate': 0.2993922864153919, 'n_neurons': 124, 'batch_size': 4}. Best is trial 12 with value: 0.8969325423240662.\n"
     ]
    },
    {
     "name": "stderr",
     "output_type": "stream",
     "text": [
      "Best trial: 12. Best value: 0.896933:  21%|██▏       | 213/1000 [4:16:30<20:51:00, 95.37s/it]"
     ]
    },
    {
     "name": "stdout",
     "output_type": "stream",
     "text": [
      "[I 2024-10-19 19:07:35,989] Trial 212 finished with value: 0.8944784998893738 and parameters: {'n_hidden_layers': 3, 'activation': 'elu', 'learning_rate': 0.000868328660662108, 'optimizer': 'adam', 'dropout_rate': 0.3114926856541041, 'n_neurons': 34, 'batch_size': 4}. Best is trial 12 with value: 0.8969325423240662.\n"
     ]
    },
    {
     "name": "stderr",
     "output_type": "stream",
     "text": [
      "Best trial: 12. Best value: 0.896933:  21%|██▏       | 214/1000 [4:17:49<19:43:00, 90.31s/it]"
     ]
    },
    {
     "name": "stdout",
     "output_type": "stream",
     "text": [
      "[I 2024-10-19 19:08:54,469] Trial 213 finished with value: 0.8907975554466248 and parameters: {'n_hidden_layers': 3, 'activation': 'elu', 'learning_rate': 0.0007649884048269344, 'optimizer': 'adam', 'dropout_rate': 0.2975427306923626, 'n_neurons': 121, 'batch_size': 4}. Best is trial 12 with value: 0.8969325423240662.\n"
     ]
    },
    {
     "name": "stderr",
     "output_type": "stream",
     "text": [
      "Best trial: 12. Best value: 0.896933:  22%|██▏       | 215/1000 [4:18:52<17:58:01, 82.40s/it]"
     ]
    },
    {
     "name": "stdout",
     "output_type": "stream",
     "text": [
      "[I 2024-10-19 19:09:58,410] Trial 214 finished with value: 0.8912065625190735 and parameters: {'n_hidden_layers': 3, 'activation': 'elu', 'learning_rate': 0.0010384272838522485, 'optimizer': 'adam', 'dropout_rate': 0.2734361763787323, 'n_neurons': 118, 'batch_size': 4}. Best is trial 12 with value: 0.8969325423240662.\n"
     ]
    },
    {
     "name": "stderr",
     "output_type": "stream",
     "text": [
      "Best trial: 12. Best value: 0.896933:  22%|██▏       | 216/1000 [4:19:50<16:20:40, 75.05s/it]"
     ]
    },
    {
     "name": "stdout",
     "output_type": "stream",
     "text": [
      "[I 2024-10-19 19:10:56,322] Trial 215 finished with value: 0.8916155695915222 and parameters: {'n_hidden_layers': 3, 'activation': 'tanh', 'learning_rate': 0.0006119759988713335, 'optimizer': 'adam', 'dropout_rate': 0.2858276405616426, 'n_neurons': 125, 'batch_size': 4}. Best is trial 12 with value: 0.8969325423240662.\n"
     ]
    },
    {
     "name": "stderr",
     "output_type": "stream",
     "text": [
      "Best trial: 12. Best value: 0.896933:  22%|██▏       | 217/1000 [4:20:23<13:33:22, 62.33s/it]"
     ]
    },
    {
     "name": "stdout",
     "output_type": "stream",
     "text": [
      "[I 2024-10-19 19:11:28,959] Trial 216 finished with value: 0.8633946776390076 and parameters: {'n_hidden_layers': 3, 'activation': 'elu', 'learning_rate': 0.0012406066698190882, 'optimizer': 'sgd', 'dropout_rate': 0.3075298944912876, 'n_neurons': 115, 'batch_size': 16}. Best is trial 12 with value: 0.8969325423240662.\n"
     ]
    },
    {
     "name": "stderr",
     "output_type": "stream",
     "text": [
      "Best trial: 12. Best value: 0.896933:  22%|██▏       | 218/1000 [4:21:35<14:09:12, 65.16s/it]"
     ]
    },
    {
     "name": "stdout",
     "output_type": "stream",
     "text": [
      "[I 2024-10-19 19:12:40,717] Trial 217 finished with value: 0.8887525796890259 and parameters: {'n_hidden_layers': 2, 'activation': 'elu', 'learning_rate': 0.0009234038614569494, 'optimizer': 'adam', 'dropout_rate': 0.3502610082721215, 'n_neurons': 121, 'batch_size': 4}. Best is trial 12 with value: 0.8969325423240662.\n"
     ]
    },
    {
     "name": "stderr",
     "output_type": "stream",
     "text": [
      "Best trial: 12. Best value: 0.896933:  22%|██▏       | 219/1000 [4:22:39<14:03:13, 64.78s/it]"
     ]
    },
    {
     "name": "stdout",
     "output_type": "stream",
     "text": [
      "[I 2024-10-19 19:13:44,619] Trial 218 finished with value: 0.8920245170593262 and parameters: {'n_hidden_layers': 3, 'activation': 'elu', 'learning_rate': 0.000700485749205213, 'optimizer': 'adam', 'dropout_rate': 0.3227782653925572, 'n_neurons': 124, 'batch_size': 4}. Best is trial 12 with value: 0.8969325423240662.\n"
     ]
    },
    {
     "name": "stderr",
     "output_type": "stream",
     "text": [
      "Best trial: 12. Best value: 0.896933:  22%|██▏       | 220/1000 [4:23:28<13:00:07, 60.01s/it]"
     ]
    },
    {
     "name": "stdout",
     "output_type": "stream",
     "text": [
      "[I 2024-10-19 19:14:33,500] Trial 219 finished with value: 0.8850715756416321 and parameters: {'n_hidden_layers': 1, 'activation': 'elu', 'learning_rate': 0.000816803198764614, 'optimizer': 'adam', 'dropout_rate': 0.3369258485853305, 'n_neurons': 128, 'batch_size': 8}. Best is trial 12 with value: 0.8969325423240662.\n"
     ]
    },
    {
     "name": "stderr",
     "output_type": "stream",
     "text": [
      "Best trial: 12. Best value: 0.896933:  22%|██▏       | 221/1000 [4:23:58<11:03:55, 51.14s/it]"
     ]
    },
    {
     "name": "stdout",
     "output_type": "stream",
     "text": [
      "[I 2024-10-19 19:15:03,930] Trial 220 finished with value: 0.890388548374176 and parameters: {'n_hidden_layers': 2, 'activation': 'relu', 'learning_rate': 0.0017246185170495777, 'optimizer': 'adam', 'dropout_rate': 0.29536433476056345, 'n_neurons': 108, 'batch_size': 4}. Best is trial 12 with value: 0.8969325423240662.\n"
     ]
    },
    {
     "name": "stderr",
     "output_type": "stream",
     "text": [
      "Best trial: 12. Best value: 0.896933:  22%|██▏       | 222/1000 [4:25:29<13:39:02, 63.16s/it]"
     ]
    },
    {
     "name": "stdout",
     "output_type": "stream",
     "text": [
      "[I 2024-10-19 19:16:35,162] Trial 221 finished with value: 0.8846625685691833 and parameters: {'n_hidden_layers': 1, 'activation': 'elu', 'learning_rate': 0.001117815313100023, 'optimizer': 'adam', 'dropout_rate': 0.3296792165186262, 'n_neurons': 119, 'batch_size': 4}. Best is trial 12 with value: 0.8969325423240662.\n"
     ]
    },
    {
     "name": "stderr",
     "output_type": "stream",
     "text": [
      "Best trial: 12. Best value: 0.896933:  22%|██▏       | 223/1000 [4:26:41<14:13:13, 65.89s/it]"
     ]
    },
    {
     "name": "stdout",
     "output_type": "stream",
     "text": [
      "[I 2024-10-19 19:17:47,401] Trial 222 finished with value: 0.8916155695915222 and parameters: {'n_hidden_layers': 2, 'activation': 'elu', 'learning_rate': 0.00139000696772101, 'optimizer': 'adam', 'dropout_rate': 0.31596689097307395, 'n_neurons': 50, 'batch_size': 4}. Best is trial 12 with value: 0.8969325423240662.\n"
     ]
    },
    {
     "name": "stderr",
     "output_type": "stream",
     "text": [
      "Best trial: 12. Best value: 0.896933:  22%|██▏       | 224/1000 [4:28:03<15:11:28, 70.47s/it]"
     ]
    },
    {
     "name": "stdout",
     "output_type": "stream",
     "text": [
      "[I 2024-10-19 19:19:08,580] Trial 223 finished with value: 0.8940695524215698 and parameters: {'n_hidden_layers': 3, 'activation': 'elu', 'learning_rate': 0.001041859990668964, 'optimizer': 'adam', 'dropout_rate': 0.32668841334264714, 'n_neurons': 117, 'batch_size': 4}. Best is trial 12 with value: 0.8969325423240662.\n"
     ]
    },
    {
     "name": "stderr",
     "output_type": "stream",
     "text": [
      "Best trial: 12. Best value: 0.896933:  22%|██▎       | 225/1000 [4:29:07<14:46:33, 68.64s/it]"
     ]
    },
    {
     "name": "stdout",
     "output_type": "stream",
     "text": [
      "[I 2024-10-19 19:20:12,931] Trial 224 finished with value: 0.8944784998893738 and parameters: {'n_hidden_layers': 2, 'activation': 'elu', 'learning_rate': 0.0009270744994088522, 'optimizer': 'adam', 'dropout_rate': 0.28868322041051536, 'n_neurons': 120, 'batch_size': 4}. Best is trial 12 with value: 0.8969325423240662.\n"
     ]
    },
    {
     "name": "stderr",
     "output_type": "stream",
     "text": [
      "Best trial: 12. Best value: 0.896933:  23%|██▎       | 226/1000 [4:29:21<11:15:39, 52.38s/it]"
     ]
    },
    {
     "name": "stdout",
     "output_type": "stream",
     "text": [
      "[I 2024-10-19 19:20:27,364] Trial 225 finished with value: 0.8940695524215698 and parameters: {'n_hidden_layers': 3, 'activation': 'elu', 'learning_rate': 0.0011771386787018969, 'optimizer': 'adam', 'dropout_rate': 0.30974787264584674, 'n_neurons': 122, 'batch_size': 64}. Best is trial 12 with value: 0.8969325423240662.\n"
     ]
    },
    {
     "name": "stderr",
     "output_type": "stream",
     "text": [
      "Best trial: 12. Best value: 0.896933:  23%|██▎       | 227/1000 [4:32:06<18:26:48, 85.91s/it]"
     ]
    },
    {
     "name": "stdout",
     "output_type": "stream",
     "text": [
      "[I 2024-10-19 19:23:11,520] Trial 226 finished with value: 0.8944784998893738 and parameters: {'n_hidden_layers': 2, 'activation': 'elu', 'learning_rate': 0.000542796826333268, 'optimizer': 'adam', 'dropout_rate': 0.23061994648010675, 'n_neurons': 88, 'batch_size': 2}. Best is trial 12 with value: 0.8969325423240662.\n"
     ]
    },
    {
     "name": "stderr",
     "output_type": "stream",
     "text": [
      "Best trial: 12. Best value: 0.896933:  23%|██▎       | 228/1000 [4:33:22<17:47:49, 82.99s/it]"
     ]
    },
    {
     "name": "stdout",
     "output_type": "stream",
     "text": [
      "[I 2024-10-19 19:24:27,702] Trial 227 finished with value: 0.8948875069618225 and parameters: {'n_hidden_layers': 3, 'activation': 'elu', 'learning_rate': 0.0008146097978039375, 'optimizer': 'adam', 'dropout_rate': 0.3395471440926779, 'n_neurons': 112, 'batch_size': 4}. Best is trial 12 with value: 0.8969325423240662.\n"
     ]
    },
    {
     "name": "stderr",
     "output_type": "stream",
     "text": [
      "Best trial: 228. Best value: 0.897341:  23%|██▎       | 229/1000 [4:34:48<18:00:53, 84.12s/it]"
     ]
    },
    {
     "name": "stdout",
     "output_type": "stream",
     "text": [
      "[I 2024-10-19 19:25:54,440] Trial 228 finished with value: 0.8973414897918701 and parameters: {'n_hidden_layers': 3, 'activation': 'elu', 'learning_rate': 0.0007012132231606921, 'optimizer': 'adam', 'dropout_rate': 0.3560246076272802, 'n_neurons': 110, 'batch_size': 4}. Best is trial 228 with value: 0.8973414897918701.\n"
     ]
    },
    {
     "name": "stderr",
     "output_type": "stream",
     "text": [
      "Best trial: 228. Best value: 0.897341:  23%|██▎       | 230/1000 [4:36:20<18:29:19, 86.44s/it]"
     ]
    },
    {
     "name": "stdout",
     "output_type": "stream",
     "text": [
      "[I 2024-10-19 19:27:26,308] Trial 229 finished with value: 0.8940695524215698 and parameters: {'n_hidden_layers': 3, 'activation': 'elu', 'learning_rate': 0.0006827073238366536, 'optimizer': 'adam', 'dropout_rate': 0.3630385306364553, 'n_neurons': 110, 'batch_size': 4}. Best is trial 228 with value: 0.8973414897918701.\n"
     ]
    },
    {
     "name": "stderr",
     "output_type": "stream",
     "text": [
      "Best trial: 228. Best value: 0.897341:  23%|██▎       | 231/1000 [4:38:07<19:46:35, 92.58s/it]"
     ]
    },
    {
     "name": "stdout",
     "output_type": "stream",
     "text": [
      "[I 2024-10-19 19:29:13,217] Trial 230 finished with value: 0.8940695524215698 and parameters: {'n_hidden_layers': 3, 'activation': 'elu', 'learning_rate': 0.00045275839711220417, 'optimizer': 'adam', 'dropout_rate': 0.3545392021772359, 'n_neurons': 112, 'batch_size': 4}. Best is trial 228 with value: 0.8973414897918701.\n"
     ]
    },
    {
     "name": "stderr",
     "output_type": "stream",
     "text": [
      "Best trial: 228. Best value: 0.897341:  23%|██▎       | 232/1000 [4:39:08<17:43:03, 83.05s/it]"
     ]
    },
    {
     "name": "stdout",
     "output_type": "stream",
     "text": [
      "[I 2024-10-19 19:30:14,030] Trial 231 finished with value: 0.8932515382766724 and parameters: {'n_hidden_layers': 3, 'activation': 'elu', 'learning_rate': 0.0008098111015606395, 'optimizer': 'adam', 'dropout_rate': 0.3400782787662748, 'n_neurons': 106, 'batch_size': 4}. Best is trial 228 with value: 0.8973414897918701.\n"
     ]
    },
    {
     "name": "stderr",
     "output_type": "stream",
     "text": [
      "Best trial: 228. Best value: 0.897341:  23%|██▎       | 233/1000 [4:40:49<18:51:35, 88.52s/it]"
     ]
    },
    {
     "name": "stdout",
     "output_type": "stream",
     "text": [
      "[I 2024-10-19 19:31:55,312] Trial 232 finished with value: 0.8916155695915222 and parameters: {'n_hidden_layers': 3, 'activation': 'elu', 'learning_rate': 0.0007378794093351419, 'optimizer': 'adam', 'dropout_rate': 0.37201392984450216, 'n_neurons': 114, 'batch_size': 4}. Best is trial 228 with value: 0.8973414897918701.\n"
     ]
    },
    {
     "name": "stderr",
     "output_type": "stream",
     "text": [
      "Best trial: 228. Best value: 0.897341:  23%|██▎       | 234/1000 [4:42:16<18:42:37, 87.93s/it]"
     ]
    },
    {
     "name": "stdout",
     "output_type": "stream",
     "text": [
      "[I 2024-10-19 19:33:21,876] Trial 233 finished with value: 0.89570552110672 and parameters: {'n_hidden_layers': 3, 'activation': 'elu', 'learning_rate': 0.0006134322189728327, 'optimizer': 'adam', 'dropout_rate': 0.3447926547974858, 'n_neurons': 111, 'batch_size': 4}. Best is trial 228 with value: 0.8973414897918701.\n"
     ]
    },
    {
     "name": "stderr",
     "output_type": "stream",
     "text": [
      "Best trial: 228. Best value: 0.897341:  24%|██▎       | 235/1000 [4:43:34<18:03:57, 85.02s/it]"
     ]
    },
    {
     "name": "stdout",
     "output_type": "stream",
     "text": [
      "[I 2024-10-19 19:34:40,084] Trial 234 finished with value: 0.8944784998893738 and parameters: {'n_hidden_layers': 3, 'activation': 'elu', 'learning_rate': 0.0006033575625245582, 'optimizer': 'adam', 'dropout_rate': 0.35583293622112433, 'n_neurons': 109, 'batch_size': 4}. Best is trial 228 with value: 0.8973414897918701.\n"
     ]
    },
    {
     "name": "stderr",
     "output_type": "stream",
     "text": [
      "Best trial: 228. Best value: 0.897341:  24%|██▎       | 236/1000 [4:45:13<18:53:32, 89.02s/it]"
     ]
    },
    {
     "name": "stdout",
     "output_type": "stream",
     "text": [
      "[I 2024-10-19 19:36:18,454] Trial 235 finished with value: 0.890388548374176 and parameters: {'n_hidden_layers': 3, 'activation': 'elu', 'learning_rate': 0.00048274107944407775, 'optimizer': 'adam', 'dropout_rate': 0.34777870561832913, 'n_neurons': 113, 'batch_size': 4}. Best is trial 228 with value: 0.8973414897918701.\n"
     ]
    },
    {
     "name": "stderr",
     "output_type": "stream",
     "text": [
      "Best trial: 228. Best value: 0.897341:  24%|██▎       | 237/1000 [4:45:59<16:09:56, 76.27s/it]"
     ]
    },
    {
     "name": "stdout",
     "output_type": "stream",
     "text": [
      "[I 2024-10-19 19:37:04,981] Trial 236 finished with value: 0.890388548374176 and parameters: {'n_hidden_layers': 3, 'activation': 'elu', 'learning_rate': 0.0006511152831000506, 'optimizer': 'adam', 'dropout_rate': 0.3388084884770597, 'n_neurons': 110, 'batch_size': 8}. Best is trial 228 with value: 0.8973414897918701.\n"
     ]
    },
    {
     "name": "stderr",
     "output_type": "stream",
     "text": [
      "Best trial: 228. Best value: 0.897341:  24%|██▍       | 238/1000 [4:47:06<15:32:30, 73.43s/it]"
     ]
    },
    {
     "name": "stdout",
     "output_type": "stream",
     "text": [
      "[I 2024-10-19 19:38:11,762] Trial 237 finished with value: 0.8916155695915222 and parameters: {'n_hidden_layers': 3, 'activation': 'elu', 'learning_rate': 0.0005299972318448691, 'optimizer': 'adam', 'dropout_rate': 0.34244691337062105, 'n_neurons': 107, 'batch_size': 4}. Best is trial 228 with value: 0.8973414897918701.\n"
     ]
    },
    {
     "name": "stderr",
     "output_type": "stream",
     "text": [
      "Best trial: 228. Best value: 0.897341:  24%|██▍       | 239/1000 [4:47:27<12:12:21, 57.74s/it]"
     ]
    },
    {
     "name": "stdout",
     "output_type": "stream",
     "text": [
      "[I 2024-10-19 19:38:32,907] Trial 238 finished with value: 0.8862985968589783 and parameters: {'n_hidden_layers': 3, 'activation': 'elu', 'learning_rate': 0.0003622210637202682, 'optimizer': 'adam', 'dropout_rate': 0.3619493317632794, 'n_neurons': 112, 'batch_size': 32}. Best is trial 228 with value: 0.8973414897918701.\n"
     ]
    },
    {
     "name": "stderr",
     "output_type": "stream",
     "text": [
      "Best trial: 228. Best value: 0.897341:  24%|██▍       | 240/1000 [4:48:10<11:16:33, 53.41s/it]"
     ]
    },
    {
     "name": "stdout",
     "output_type": "stream",
     "text": [
      "[I 2024-10-19 19:39:16,219] Trial 239 finished with value: 0.8809816241264343 and parameters: {'n_hidden_layers': 3, 'activation': 'elu', 'learning_rate': 0.000810156878834409, 'optimizer': 'rmsprop', 'dropout_rate': 0.3329511233228733, 'n_neurons': 116, 'batch_size': 4}. Best is trial 228 with value: 0.8973414897918701.\n"
     ]
    },
    {
     "name": "stderr",
     "output_type": "stream",
     "text": [
      "Best trial: 228. Best value: 0.897341:  24%|██▍       | 241/1000 [4:50:09<15:24:07, 73.05s/it]"
     ]
    },
    {
     "name": "stdout",
     "output_type": "stream",
     "text": [
      "[I 2024-10-19 19:41:15,101] Trial 240 finished with value: 0.8940695524215698 and parameters: {'n_hidden_layers': 3, 'activation': 'elu', 'learning_rate': 0.0005900564916354636, 'optimizer': 'adam', 'dropout_rate': 0.24869193656967198, 'n_neurons': 109, 'batch_size': 2}. Best is trial 228 with value: 0.8973414897918701.\n"
     ]
    },
    {
     "name": "stderr",
     "output_type": "stream",
     "text": [
      "Best trial: 228. Best value: 0.897341:  24%|██▍       | 242/1000 [4:51:15<14:56:27, 70.96s/it]"
     ]
    },
    {
     "name": "stdout",
     "output_type": "stream",
     "text": [
      "[I 2024-10-19 19:42:21,173] Trial 241 finished with value: 0.8924335241317749 and parameters: {'n_hidden_layers': 3, 'activation': 'elu', 'learning_rate': 0.0008682488598869127, 'optimizer': 'adam', 'dropout_rate': 0.35122502498063374, 'n_neurons': 126, 'batch_size': 4}. Best is trial 228 with value: 0.8973414897918701.\n"
     ]
    },
    {
     "name": "stderr",
     "output_type": "stream",
     "text": [
      "Best trial: 228. Best value: 0.897341:  24%|██▍       | 243/1000 [4:52:20<14:33:45, 69.25s/it]"
     ]
    },
    {
     "name": "stdout",
     "output_type": "stream",
     "text": [
      "[I 2024-10-19 19:43:26,451] Trial 242 finished with value: 0.8916155695915222 and parameters: {'n_hidden_layers': 3, 'activation': 'elu', 'learning_rate': 0.0006938368510967716, 'optimizer': 'adam', 'dropout_rate': 0.2785351770499706, 'n_neurons': 116, 'batch_size': 4}. Best is trial 228 with value: 0.8973414897918701.\n"
     ]
    },
    {
     "name": "stderr",
     "output_type": "stream",
     "text": [
      "Best trial: 228. Best value: 0.897341:  24%|██▍       | 244/1000 [4:53:15<13:37:35, 64.89s/it]"
     ]
    },
    {
     "name": "stdout",
     "output_type": "stream",
     "text": [
      "[I 2024-10-19 19:44:21,150] Trial 243 finished with value: 0.8940695524215698 and parameters: {'n_hidden_layers': 3, 'activation': 'elu', 'learning_rate': 0.0009264854308622677, 'optimizer': 'adam', 'dropout_rate': 0.2693803156092698, 'n_neurons': 112, 'batch_size': 4}. Best is trial 228 with value: 0.8973414897918701.\n"
     ]
    },
    {
     "name": "stderr",
     "output_type": "stream",
     "text": [
      "Best trial: 228. Best value: 0.897341:  24%|██▍       | 245/1000 [4:54:38<14:42:47, 70.16s/it]"
     ]
    },
    {
     "name": "stdout",
     "output_type": "stream",
     "text": [
      "[I 2024-10-19 19:45:43,597] Trial 244 finished with value: 0.8936605453491211 and parameters: {'n_hidden_layers': 3, 'activation': 'elu', 'learning_rate': 0.0004151389634082571, 'optimizer': 'adam', 'dropout_rate': 0.3022402841440245, 'n_neurons': 105, 'batch_size': 4}. Best is trial 228 with value: 0.8973414897918701.\n"
     ]
    },
    {
     "name": "stderr",
     "output_type": "stream",
     "text": [
      "Best trial: 228. Best value: 0.897341:  25%|██▍       | 246/1000 [4:55:53<15:03:00, 71.86s/it]"
     ]
    },
    {
     "name": "stdout",
     "output_type": "stream",
     "text": [
      "[I 2024-10-19 19:46:59,425] Trial 245 finished with value: 0.8932515382766724 and parameters: {'n_hidden_layers': 3, 'activation': 'elu', 'learning_rate': 0.0007709016703346917, 'optimizer': 'adam', 'dropout_rate': 0.34613533430700777, 'n_neurons': 114, 'batch_size': 4}. Best is trial 228 with value: 0.8973414897918701.\n"
     ]
    },
    {
     "name": "stderr",
     "output_type": "stream",
     "text": [
      "Best trial: 228. Best value: 0.897341:  25%|██▍       | 247/1000 [4:56:29<12:46:28, 61.07s/it]"
     ]
    },
    {
     "name": "stdout",
     "output_type": "stream",
     "text": [
      "[I 2024-10-19 19:47:35,335] Trial 246 finished with value: 0.890388548374176 and parameters: {'n_hidden_layers': 3, 'activation': 'relu', 'learning_rate': 0.0009884368002667217, 'optimizer': 'adam', 'dropout_rate': 0.23821019585108877, 'n_neurons': 124, 'batch_size': 4}. Best is trial 228 with value: 0.8973414897918701.\n"
     ]
    },
    {
     "name": "stderr",
     "output_type": "stream",
     "text": [
      "Best trial: 228. Best value: 0.897341:  25%|██▍       | 248/1000 [4:57:58<14:30:00, 69.42s/it]"
     ]
    },
    {
     "name": "stdout",
     "output_type": "stream",
     "text": [
      "[I 2024-10-19 19:49:04,215] Trial 247 finished with value: 0.8940695524215698 and parameters: {'n_hidden_layers': 3, 'activation': 'elu', 'learning_rate': 0.0006596307554185079, 'optimizer': 'adam', 'dropout_rate': 0.2911371464363135, 'n_neurons': 119, 'batch_size': 4}. Best is trial 228 with value: 0.8973414897918701.\n"
     ]
    },
    {
     "name": "stderr",
     "output_type": "stream",
     "text": [
      "Best trial: 228. Best value: 0.897341:  25%|██▍       | 249/1000 [4:58:46<13:08:11, 62.97s/it]"
     ]
    },
    {
     "name": "stdout",
     "output_type": "stream",
     "text": [
      "[I 2024-10-19 19:49:52,149] Trial 248 finished with value: 0.8916155695915222 and parameters: {'n_hidden_layers': 3, 'activation': 'elu', 'learning_rate': 0.0008004368064341997, 'optimizer': 'adam', 'dropout_rate': 0.26087215365474237, 'n_neurons': 111, 'batch_size': 8}. Best is trial 228 with value: 0.8973414897918701.\n"
     ]
    },
    {
     "name": "stderr",
     "output_type": "stream",
     "text": [
      "Best trial: 228. Best value: 0.897341:  25%|██▌       | 250/1000 [5:00:06<14:09:20, 67.95s/it]"
     ]
    },
    {
     "name": "stdout",
     "output_type": "stream",
     "text": [
      "[I 2024-10-19 19:51:11,707] Trial 249 finished with value: 0.8944784998893738 and parameters: {'n_hidden_layers': 3, 'activation': 'elu', 'learning_rate': 0.0005874224630918758, 'optimizer': 'adam', 'dropout_rate': 0.3660191437574357, 'n_neurons': 123, 'batch_size': 4}. Best is trial 228 with value: 0.8973414897918701.\n"
     ]
    },
    {
     "name": "stderr",
     "output_type": "stream",
     "text": [
      "Best trial: 228. Best value: 0.897341:  25%|██▌       | 251/1000 [5:00:18<10:40:07, 51.28s/it]"
     ]
    },
    {
     "name": "stdout",
     "output_type": "stream",
     "text": [
      "[I 2024-10-19 19:51:24,092] Trial 250 finished with value: 0.8891615271568298 and parameters: {'n_hidden_layers': 2, 'activation': 'elu', 'learning_rate': 0.0009632161796459731, 'optimizer': 'adam', 'dropout_rate': 0.2807419946936333, 'n_neurons': 100, 'batch_size': 64}. Best is trial 228 with value: 0.8973414897918701.\n"
     ]
    },
    {
     "name": "stderr",
     "output_type": "stream",
     "text": [
      "Best trial: 228. Best value: 0.897341:  25%|██▌       | 252/1000 [5:00:29<8:07:58, 39.14s/it] "
     ]
    },
    {
     "name": "stdout",
     "output_type": "stream",
     "text": [
      "[I 2024-10-19 19:51:34,918] Trial 251 finished with value: 0.8867075443267822 and parameters: {'n_hidden_layers': 3, 'activation': 'tanh', 'learning_rate': 0.0004852106881877886, 'optimizer': 'adam', 'dropout_rate': 0.3337948676973351, 'n_neurons': 108, 'batch_size': 128}. Best is trial 228 with value: 0.8973414897918701.\n"
     ]
    },
    {
     "name": "stderr",
     "output_type": "stream",
     "text": [
      "Best trial: 228. Best value: 0.897341:  25%|██▌       | 253/1000 [5:06:03<26:28:49, 127.62s/it]"
     ]
    },
    {
     "name": "stdout",
     "output_type": "stream",
     "text": [
      "[I 2024-10-19 19:57:08,973] Trial 252 finished with value: 0.8805726170539856 and parameters: {'n_hidden_layers': 2, 'activation': 'elu', 'learning_rate': 0.0007220462750504739, 'optimizer': 'sgd', 'dropout_rate': 0.31841083498035, 'n_neurons': 121, 'batch_size': 1}. Best is trial 228 with value: 0.8973414897918701.\n"
     ]
    },
    {
     "name": "stderr",
     "output_type": "stream",
     "text": [
      "Best trial: 228. Best value: 0.897341:  25%|██▌       | 254/1000 [5:07:17<23:05:04, 111.40s/it]"
     ]
    },
    {
     "name": "stdout",
     "output_type": "stream",
     "text": [
      "[I 2024-10-19 19:58:22,534] Trial 253 finished with value: 0.8924335241317749 and parameters: {'n_hidden_layers': 3, 'activation': 'elu', 'learning_rate': 0.0010817183664396726, 'optimizer': 'adam', 'dropout_rate': 0.29968468795070524, 'n_neurons': 114, 'batch_size': 4}. Best is trial 228 with value: 0.8973414897918701.\n"
     ]
    },
    {
     "name": "stderr",
     "output_type": "stream",
     "text": [
      "Best trial: 228. Best value: 0.897341:  26%|██▌       | 255/1000 [5:08:17<19:53:31, 96.12s/it] "
     ]
    },
    {
     "name": "stdout",
     "output_type": "stream",
     "text": [
      "[I 2024-10-19 19:59:23,011] Trial 254 finished with value: 0.8899795413017273 and parameters: {'n_hidden_layers': 3, 'activation': 'elu', 'learning_rate': 0.0008779172094184073, 'optimizer': 'adam', 'dropout_rate': 0.26821370260254235, 'n_neurons': 126, 'batch_size': 4}. Best is trial 228 with value: 0.8973414897918701.\n"
     ]
    },
    {
     "name": "stderr",
     "output_type": "stream",
     "text": [
      "Best trial: 228. Best value: 0.897341:  26%|██▌       | 256/1000 [5:10:40<22:46:53, 110.23s/it]"
     ]
    },
    {
     "name": "stdout",
     "output_type": "stream",
     "text": [
      "[I 2024-10-19 20:01:46,169] Trial 255 finished with value: 0.8948875069618225 and parameters: {'n_hidden_layers': 3, 'activation': 'elu', 'learning_rate': 0.00039976386687692325, 'optimizer': 'adam', 'dropout_rate': 0.24980612981918207, 'n_neurons': 117, 'batch_size': 2}. Best is trial 228 with value: 0.8973414897918701.\n"
     ]
    },
    {
     "name": "stderr",
     "output_type": "stream",
     "text": [
      "Best trial: 228. Best value: 0.897341:  26%|██▌       | 257/1000 [5:13:59<28:12:25, 136.67s/it]"
     ]
    },
    {
     "name": "stdout",
     "output_type": "stream",
     "text": [
      "[I 2024-10-19 20:05:04,525] Trial 256 finished with value: 0.8924335241317749 and parameters: {'n_hidden_layers': 2, 'activation': 'elu', 'learning_rate': 0.0002919651194064812, 'optimizer': 'adam', 'dropout_rate': 0.24458715677215118, 'n_neurons': 117, 'batch_size': 2}. Best is trial 228 with value: 0.8973414897918701.\n"
     ]
    },
    {
     "name": "stderr",
     "output_type": "stream",
     "text": [
      "Best trial: 228. Best value: 0.897341:  26%|██▌       | 258/1000 [5:16:50<30:18:53, 147.08s/it]"
     ]
    },
    {
     "name": "stdout",
     "output_type": "stream",
     "text": [
      "[I 2024-10-19 20:07:55,894] Trial 257 finished with value: 0.8944784998893738 and parameters: {'n_hidden_layers': 3, 'activation': 'elu', 'learning_rate': 0.0003995742790765936, 'optimizer': 'adam', 'dropout_rate': 0.2525422587211783, 'n_neurons': 115, 'batch_size': 2}. Best is trial 228 with value: 0.8973414897918701.\n"
     ]
    },
    {
     "name": "stderr",
     "output_type": "stream",
     "text": [
      "Best trial: 228. Best value: 0.897341:  26%|██▌       | 259/1000 [5:19:45<32:01:08, 155.56s/it]"
     ]
    },
    {
     "name": "stdout",
     "output_type": "stream",
     "text": [
      "[I 2024-10-19 20:10:51,233] Trial 258 finished with value: 0.89570552110672 and parameters: {'n_hidden_layers': 3, 'activation': 'elu', 'learning_rate': 0.00041126098812301585, 'optimizer': 'adam', 'dropout_rate': 0.2341651136220654, 'n_neurons': 111, 'batch_size': 2}. Best is trial 228 with value: 0.8973414897918701.\n"
     ]
    },
    {
     "name": "stderr",
     "output_type": "stream",
     "text": [
      "Best trial: 259. Best value: 0.89775:  26%|██▌       | 260/1000 [5:22:17<31:45:56, 154.54s/it] "
     ]
    },
    {
     "name": "stdout",
     "output_type": "stream",
     "text": [
      "[I 2024-10-19 20:13:23,385] Trial 259 finished with value: 0.8977504968643188 and parameters: {'n_hidden_layers': 3, 'activation': 'elu', 'learning_rate': 0.00036457913192896734, 'optimizer': 'adam', 'dropout_rate': 0.22348325695874646, 'n_neurons': 111, 'batch_size': 2}. Best is trial 259 with value: 0.8977504968643188.\n"
     ]
    },
    {
     "name": "stderr",
     "output_type": "stream",
     "text": [
      "Best trial: 259. Best value: 0.89775:  26%|██▌       | 261/1000 [5:24:22<29:52:34, 145.54s/it]"
     ]
    },
    {
     "name": "stdout",
     "output_type": "stream",
     "text": [
      "[I 2024-10-19 20:15:27,938] Trial 260 finished with value: 0.8944784998893738 and parameters: {'n_hidden_layers': 3, 'activation': 'elu', 'learning_rate': 0.00036548625842417533, 'optimizer': 'adam', 'dropout_rate': 0.22553596158327457, 'n_neurons': 110, 'batch_size': 2}. Best is trial 259 with value: 0.8977504968643188.\n"
     ]
    },
    {
     "name": "stderr",
     "output_type": "stream",
     "text": [
      "Best trial: 259. Best value: 0.89775:  26%|██▌       | 262/1000 [5:25:22<24:35:29, 119.96s/it]"
     ]
    },
    {
     "name": "stdout",
     "output_type": "stream",
     "text": [
      "[I 2024-10-19 20:16:28,208] Trial 261 finished with value: 0.8797546029090881 and parameters: {'n_hidden_layers': 3, 'activation': 'relu', 'learning_rate': 0.00034480810428979766, 'optimizer': 'adam', 'dropout_rate': 0.2353805927558092, 'n_neurons': 106, 'batch_size': 2}. Best is trial 259 with value: 0.8977504968643188.\n"
     ]
    },
    {
     "name": "stderr",
     "output_type": "stream",
     "text": [
      "Best trial: 259. Best value: 0.89775:  26%|██▋       | 263/1000 [5:26:13<20:19:56, 99.32s/it] "
     ]
    },
    {
     "name": "stdout",
     "output_type": "stream",
     "text": [
      "[I 2024-10-19 20:17:19,359] Trial 262 finished with value: 0.8948875069618225 and parameters: {'n_hidden_layers': 3, 'activation': 'elu', 'learning_rate': 0.0004185346143774997, 'optimizer': 'adam', 'dropout_rate': 0.20772774744592223, 'n_neurons': 112, 'batch_size': 8}. Best is trial 259 with value: 0.8977504968643188.\n"
     ]
    },
    {
     "name": "stderr",
     "output_type": "stream",
     "text": [
      "Best trial: 259. Best value: 0.89775:  26%|██▋       | 264/1000 [5:29:05<24:45:26, 121.10s/it]"
     ]
    },
    {
     "name": "stdout",
     "output_type": "stream",
     "text": [
      "[I 2024-10-19 20:20:11,271] Trial 263 finished with value: 0.8850715756416321 and parameters: {'n_hidden_layers': 1, 'activation': 'elu', 'learning_rate': 0.0004187179408400338, 'optimizer': 'adam', 'dropout_rate': 0.1873813933056261, 'n_neurons': 109, 'batch_size': 2}. Best is trial 259 with value: 0.8977504968643188.\n"
     ]
    },
    {
     "name": "stderr",
     "output_type": "stream",
     "text": [
      "Best trial: 259. Best value: 0.89775:  26%|██▋       | 265/1000 [5:31:32<26:15:53, 128.64s/it]"
     ]
    },
    {
     "name": "stdout",
     "output_type": "stream",
     "text": [
      "[I 2024-10-19 20:22:37,531] Trial 264 finished with value: 0.8912065625190735 and parameters: {'n_hidden_layers': 3, 'activation': 'elu', 'learning_rate': 0.00034040648502376976, 'optimizer': 'adam', 'dropout_rate': 0.20168314909591867, 'n_neurons': 112, 'batch_size': 2}. Best is trial 259 with value: 0.8977504968643188.\n"
     ]
    },
    {
     "name": "stderr",
     "output_type": "stream",
     "text": [
      "Best trial: 259. Best value: 0.89775:  27%|██▋       | 266/1000 [5:33:24<25:15:46, 123.91s/it]"
     ]
    },
    {
     "name": "stdout",
     "output_type": "stream",
     "text": [
      "[I 2024-10-19 20:24:30,378] Trial 265 finished with value: 0.8932515382766724 and parameters: {'n_hidden_layers': 3, 'activation': 'elu', 'learning_rate': 0.0004617209816269591, 'optimizer': 'adam', 'dropout_rate': 0.2300249294535204, 'n_neurons': 107, 'batch_size': 2}. Best is trial 259 with value: 0.8977504968643188.\n"
     ]
    },
    {
     "name": "stderr",
     "output_type": "stream",
     "text": [
      "Best trial: 259. Best value: 0.89775:  27%|██▋       | 267/1000 [5:34:23<21:15:15, 104.39s/it]"
     ]
    },
    {
     "name": "stdout",
     "output_type": "stream",
     "text": [
      "[I 2024-10-19 20:25:29,224] Trial 266 finished with value: 0.8928425312042236 and parameters: {'n_hidden_layers': 3, 'activation': 'elu', 'learning_rate': 0.00026776905855300896, 'optimizer': 'adam', 'dropout_rate': 0.22725985004373855, 'n_neurons': 112, 'batch_size': 8}. Best is trial 259 with value: 0.8977504968643188.\n"
     ]
    },
    {
     "name": "stderr",
     "output_type": "stream",
     "text": [
      "Best trial: 259. Best value: 0.89775:  27%|██▋       | 268/1000 [5:37:01<24:28:59, 120.41s/it]"
     ]
    },
    {
     "name": "stdout",
     "output_type": "stream",
     "text": [
      "[I 2024-10-19 20:28:07,018] Trial 267 finished with value: 0.8977504968643188 and parameters: {'n_hidden_layers': 3, 'activation': 'elu', 'learning_rate': 0.0004035869777674537, 'optimizer': 'adam', 'dropout_rate': 0.2126176423524494, 'n_neurons': 110, 'batch_size': 2}. Best is trial 259 with value: 0.8977504968643188.\n"
     ]
    },
    {
     "name": "stderr",
     "output_type": "stream",
     "text": [
      "Best trial: 259. Best value: 0.89775:  27%|██▋       | 269/1000 [5:39:47<27:11:39, 133.93s/it]"
     ]
    },
    {
     "name": "stdout",
     "output_type": "stream",
     "text": [
      "[I 2024-10-19 20:30:52,482] Trial 268 finished with value: 0.8916155695915222 and parameters: {'n_hidden_layers': 3, 'activation': 'elu', 'learning_rate': 0.0003489955592100625, 'optimizer': 'adam', 'dropout_rate': 0.21760258271910832, 'n_neurons': 103, 'batch_size': 2}. Best is trial 259 with value: 0.8977504968643188.\n"
     ]
    },
    {
     "name": "stderr",
     "output_type": "stream",
     "text": [
      "Best trial: 259. Best value: 0.89775:  27%|██▋       | 270/1000 [5:42:25<28:38:11, 141.22s/it]"
     ]
    },
    {
     "name": "stdout",
     "output_type": "stream",
     "text": [
      "[I 2024-10-19 20:33:30,726] Trial 269 finished with value: 0.8920245170593262 and parameters: {'n_hidden_layers': 3, 'activation': 'elu', 'learning_rate': 0.0003957170140657294, 'optimizer': 'adam', 'dropout_rate': 0.21572169416473608, 'n_neurons': 110, 'batch_size': 2}. Best is trial 259 with value: 0.8977504968643188.\n"
     ]
    },
    {
     "name": "stderr",
     "output_type": "stream",
     "text": [
      "Best trial: 259. Best value: 0.89775:  27%|██▋       | 271/1000 [5:43:49<25:07:11, 124.05s/it]"
     ]
    },
    {
     "name": "stdout",
     "output_type": "stream",
     "text": [
      "[I 2024-10-19 20:34:54,703] Trial 270 finished with value: 0.8683026432991028 and parameters: {'n_hidden_layers': 3, 'activation': 'elu', 'learning_rate': 0.0005038589593159796, 'optimizer': 'rmsprop', 'dropout_rate': 0.2078936224648063, 'n_neurons': 108, 'batch_size': 2}. Best is trial 259 with value: 0.8977504968643188.\n"
     ]
    },
    {
     "name": "stderr",
     "output_type": "stream",
     "text": [
      "Best trial: 259. Best value: 0.89775:  27%|██▋       | 272/1000 [5:46:58<29:04:04, 143.74s/it]"
     ]
    },
    {
     "name": "stdout",
     "output_type": "stream",
     "text": [
      "[I 2024-10-19 20:38:04,401] Trial 271 finished with value: 0.89570552110672 and parameters: {'n_hidden_layers': 3, 'activation': 'elu', 'learning_rate': 0.00032934514888057105, 'optimizer': 'adam', 'dropout_rate': 0.19543735641677185, 'n_neurons': 111, 'batch_size': 2}. Best is trial 259 with value: 0.8977504968643188.\n"
     ]
    },
    {
     "name": "stderr",
     "output_type": "stream",
     "text": [
      "Best trial: 259. Best value: 0.89775:  27%|██▋       | 273/1000 [5:50:07<31:43:38, 157.11s/it]"
     ]
    },
    {
     "name": "stdout",
     "output_type": "stream",
     "text": [
      "[I 2024-10-19 20:41:12,700] Trial 272 finished with value: 0.8916155695915222 and parameters: {'n_hidden_layers': 3, 'activation': 'elu', 'learning_rate': 0.0003392489029391164, 'optimizer': 'adam', 'dropout_rate': 0.19303984491439474, 'n_neurons': 105, 'batch_size': 2}. Best is trial 259 with value: 0.8977504968643188.\n"
     ]
    },
    {
     "name": "stderr",
     "output_type": "stream",
     "text": [
      "Best trial: 259. Best value: 0.89775:  27%|██▋       | 274/1000 [5:53:05<32:58:05, 163.48s/it]"
     ]
    },
    {
     "name": "stdout",
     "output_type": "stream",
     "text": [
      "[I 2024-10-19 20:44:11,037] Trial 273 finished with value: 0.8948875069618225 and parameters: {'n_hidden_layers': 3, 'activation': 'elu', 'learning_rate': 0.0002659618886070724, 'optimizer': 'adam', 'dropout_rate': 0.21654369402588794, 'n_neurons': 110, 'batch_size': 2}. Best is trial 259 with value: 0.8977504968643188.\n"
     ]
    },
    {
     "name": "stderr",
     "output_type": "stream",
     "text": [
      "Best trial: 259. Best value: 0.89775:  28%|██▊       | 275/1000 [5:55:37<32:12:54, 159.97s/it]"
     ]
    },
    {
     "name": "stdout",
     "output_type": "stream",
     "text": [
      "[I 2024-10-19 20:46:42,808] Trial 274 finished with value: 0.8920245170593262 and parameters: {'n_hidden_layers': 3, 'activation': 'elu', 'learning_rate': 0.00030277798602187174, 'optimizer': 'adam', 'dropout_rate': 0.23929494302202828, 'n_neurons': 114, 'batch_size': 2}. Best is trial 259 with value: 0.8977504968643188.\n"
     ]
    },
    {
     "name": "stderr",
     "output_type": "stream",
     "text": [
      "Best trial: 259. Best value: 0.89775:  28%|██▊       | 276/1000 [5:56:40<26:18:04, 130.78s/it]"
     ]
    },
    {
     "name": "stdout",
     "output_type": "stream",
     "text": [
      "[I 2024-10-19 20:47:45,486] Trial 275 finished with value: 0.8887525796890259 and parameters: {'n_hidden_layers': 3, 'activation': 'relu', 'learning_rate': 0.00030283426623011096, 'optimizer': 'adam', 'dropout_rate': 0.22532629808273139, 'n_neurons': 107, 'batch_size': 2}. Best is trial 259 with value: 0.8977504968643188.\n"
     ]
    },
    {
     "name": "stderr",
     "output_type": "stream",
     "text": [
      "Best trial: 259. Best value: 0.89775:  28%|██▊       | 277/1000 [5:59:36<29:02:01, 144.57s/it]"
     ]
    },
    {
     "name": "stdout",
     "output_type": "stream",
     "text": [
      "[I 2024-10-19 20:50:42,220] Trial 276 finished with value: 0.8940695524215698 and parameters: {'n_hidden_layers': 3, 'activation': 'elu', 'learning_rate': 0.00023991363887975137, 'optimizer': 'adam', 'dropout_rate': 0.19351550082516542, 'n_neurons': 116, 'batch_size': 2}. Best is trial 259 with value: 0.8977504968643188.\n"
     ]
    },
    {
     "name": "stderr",
     "output_type": "stream",
     "text": [
      "Best trial: 259. Best value: 0.89775:  28%|██▊       | 278/1000 [6:01:53<28:30:38, 142.16s/it]"
     ]
    },
    {
     "name": "stdout",
     "output_type": "stream",
     "text": [
      "[I 2024-10-19 20:52:58,763] Trial 277 finished with value: 0.8850715756416321 and parameters: {'n_hidden_layers': 3, 'activation': 'tanh', 'learning_rate': 0.00038901967525103136, 'optimizer': 'adam', 'dropout_rate': 0.2195977554578757, 'n_neurons': 109, 'batch_size': 2}. Best is trial 259 with value: 0.8977504968643188.\n"
     ]
    },
    {
     "name": "stderr",
     "output_type": "stream",
     "text": [
      "Best trial: 259. Best value: 0.89775:  28%|██▊       | 279/1000 [6:04:17<28:36:02, 142.80s/it]"
     ]
    },
    {
     "name": "stdout",
     "output_type": "stream",
     "text": [
      "[I 2024-10-19 20:55:23,075] Trial 278 finished with value: 0.890388548374176 and parameters: {'n_hidden_layers': 3, 'activation': 'elu', 'learning_rate': 0.0005236436235589131, 'optimizer': 'adam', 'dropout_rate': 0.20152701166155113, 'n_neurons': 112, 'batch_size': 2}. Best is trial 259 with value: 0.8977504968643188.\n"
     ]
    },
    {
     "name": "stderr",
     "output_type": "stream",
     "text": [
      "Best trial: 259. Best value: 0.89775:  28%|██▊       | 280/1000 [6:07:31<31:36:09, 158.01s/it]"
     ]
    },
    {
     "name": "stdout",
     "output_type": "stream",
     "text": [
      "[I 2024-10-19 20:58:36,573] Trial 279 finished with value: 0.8813905715942383 and parameters: {'n_hidden_layers': 3, 'activation': 'elu', 'learning_rate': 0.00044952260382977237, 'optimizer': 'sgd', 'dropout_rate': 0.16741733679165036, 'n_neurons': 118, 'batch_size': 2}. Best is trial 259 with value: 0.8977504968643188.\n"
     ]
    },
    {
     "name": "stderr",
     "output_type": "stream",
     "text": [
      "Best trial: 259. Best value: 0.89775:  28%|██▊       | 281/1000 [6:09:29<29:11:28, 146.16s/it]"
     ]
    },
    {
     "name": "stdout",
     "output_type": "stream",
     "text": [
      "[I 2024-10-19 21:00:35,075] Trial 280 finished with value: 0.890388548374176 and parameters: {'n_hidden_layers': 3, 'activation': 'elu', 'learning_rate': 0.0005503955714938424, 'optimizer': 'adam', 'dropout_rate': 0.3421369172047305, 'n_neurons': 115, 'batch_size': 2}. Best is trial 259 with value: 0.8977504968643188.\n"
     ]
    },
    {
     "name": "stderr",
     "output_type": "stream",
     "text": [
      "Best trial: 259. Best value: 0.89775:  28%|██▊       | 282/1000 [6:12:04<29:39:15, 148.68s/it]"
     ]
    },
    {
     "name": "stdout",
     "output_type": "stream",
     "text": [
      "[I 2024-10-19 21:03:09,652] Trial 281 finished with value: 0.8936605453491211 and parameters: {'n_hidden_layers': 3, 'activation': 'elu', 'learning_rate': 0.0003001287949854367, 'optimizer': 'adam', 'dropout_rate': 0.17870865561935495, 'n_neurons': 111, 'batch_size': 2}. Best is trial 259 with value: 0.8977504968643188.\n"
     ]
    },
    {
     "name": "stderr",
     "output_type": "stream",
     "text": [
      "Best trial: 259. Best value: 0.89775:  28%|██▊       | 283/1000 [6:14:30<29:27:18, 147.89s/it]"
     ]
    },
    {
     "name": "stdout",
     "output_type": "stream",
     "text": [
      "[I 2024-10-19 21:05:35,692] Trial 282 finished with value: 0.8932515382766724 and parameters: {'n_hidden_layers': 3, 'activation': 'elu', 'learning_rate': 0.0003768252840399674, 'optimizer': 'adam', 'dropout_rate': 0.3564176490595823, 'n_neurons': 107, 'batch_size': 2}. Best is trial 259 with value: 0.8977504968643188.\n"
     ]
    },
    {
     "name": "stderr",
     "output_type": "stream",
     "text": [
      "Best trial: 259. Best value: 0.89775:  28%|██▊       | 284/1000 [6:14:42<21:20:43, 107.32s/it]"
     ]
    },
    {
     "name": "stdout",
     "output_type": "stream",
     "text": [
      "[I 2024-10-19 21:05:48,357] Trial 283 finished with value: 0.8854805827140808 and parameters: {'n_hidden_layers': 2, 'activation': 'elu', 'learning_rate': 0.000630033884155744, 'optimizer': 'adam', 'dropout_rate': 0.23466669937952286, 'n_neurons': 113, 'batch_size': 64}. Best is trial 259 with value: 0.8977504968643188.\n"
     ]
    },
    {
     "name": "stderr",
     "output_type": "stream",
     "text": [
      "Best trial: 259. Best value: 0.89775:  28%|██▊       | 285/1000 [6:17:03<23:16:19, 117.17s/it]"
     ]
    },
    {
     "name": "stdout",
     "output_type": "stream",
     "text": [
      "[I 2024-10-19 21:08:08,517] Trial 284 finished with value: 0.8924335241317749 and parameters: {'n_hidden_layers': 3, 'activation': 'elu', 'learning_rate': 0.0004645860070068479, 'optimizer': 'adam', 'dropout_rate': 0.33295884531251485, 'n_neurons': 120, 'batch_size': 2}. Best is trial 259 with value: 0.8977504968643188.\n"
     ]
    },
    {
     "name": "stderr",
     "output_type": "stream",
     "text": [
      "Best trial: 259. Best value: 0.89775:  29%|██▊       | 286/1000 [6:17:53<19:17:06, 97.24s/it] "
     ]
    },
    {
     "name": "stdout",
     "output_type": "stream",
     "text": [
      "[I 2024-10-19 21:08:59,231] Trial 285 finished with value: 0.8948875069618225 and parameters: {'n_hidden_layers': 3, 'activation': 'elu', 'learning_rate': 0.0007470328352243603, 'optimizer': 'adam', 'dropout_rate': 0.3457893231296779, 'n_neurons': 110, 'batch_size': 8}. Best is trial 259 with value: 0.8977504968643188.\n"
     ]
    },
    {
     "name": "stderr",
     "output_type": "stream",
     "text": [
      "Best trial: 259. Best value: 0.89775:  29%|██▊       | 287/1000 [6:18:25<15:21:48, 77.57s/it]"
     ]
    },
    {
     "name": "stdout",
     "output_type": "stream",
     "text": [
      "[I 2024-10-19 21:09:30,919] Trial 286 finished with value: 0.8809816241264343 and parameters: {'n_hidden_layers': 2, 'activation': 'elu', 'learning_rate': 2.926692815981748e-05, 'optimizer': 'adam', 'dropout_rate': 0.24627451177508555, 'n_neurons': 103, 'batch_size': 16}. Best is trial 259 with value: 0.8977504968643188.\n"
     ]
    },
    {
     "name": "stderr",
     "output_type": "stream",
     "text": [
      "Best trial: 259. Best value: 0.89775:  29%|██▉       | 288/1000 [6:18:46<11:59:29, 60.63s/it]"
     ]
    },
    {
     "name": "stdout",
     "output_type": "stream",
     "text": [
      "[I 2024-10-19 21:09:52,026] Trial 287 finished with value: 0.8916155695915222 and parameters: {'n_hidden_layers': 3, 'activation': 'elu', 'learning_rate': 0.0008891836781597544, 'optimizer': 'adam', 'dropout_rate': 0.25694906475359697, 'n_neurons': 117, 'batch_size': 32}. Best is trial 259 with value: 0.8977504968643188.\n"
     ]
    },
    {
     "name": "stderr",
     "output_type": "stream",
     "text": [
      "Best trial: 259. Best value: 0.89775:  29%|██▉       | 289/1000 [6:19:48<12:02:15, 60.95s/it]"
     ]
    },
    {
     "name": "stdout",
     "output_type": "stream",
     "text": [
      "[I 2024-10-19 21:10:53,716] Trial 288 finished with value: 0.8891615271568298 and parameters: {'n_hidden_layers': 3, 'activation': 'relu', 'learning_rate': 0.001241747343918404, 'optimizer': 'adam', 'dropout_rate': 0.21079940394716912, 'n_neurons': 114, 'batch_size': 2}. Best is trial 259 with value: 0.8977504968643188.\n"
     ]
    },
    {
     "name": "stderr",
     "output_type": "stream",
     "text": [
      "Best trial: 259. Best value: 0.89775:  29%|██▉       | 290/1000 [6:21:40<15:02:05, 76.23s/it]"
     ]
    },
    {
     "name": "stdout",
     "output_type": "stream",
     "text": [
      "[I 2024-10-19 21:12:45,608] Trial 289 finished with value: 0.8891615271568298 and parameters: {'n_hidden_layers': 3, 'activation': 'elu', 'learning_rate': 0.0015569050243238588, 'optimizer': 'adam', 'dropout_rate': 0.24140900405118615, 'n_neurons': 108, 'batch_size': 2}. Best is trial 259 with value: 0.8977504968643188.\n"
     ]
    },
    {
     "name": "stderr",
     "output_type": "stream",
     "text": [
      "Best trial: 259. Best value: 0.89775:  29%|██▉       | 291/1000 [6:21:49<11:04:01, 56.19s/it]"
     ]
    },
    {
     "name": "stdout",
     "output_type": "stream",
     "text": [
      "[I 2024-10-19 21:12:55,047] Trial 290 finished with value: 0.8858895897865295 and parameters: {'n_hidden_layers': 2, 'activation': 'elu', 'learning_rate': 0.0005971377934649355, 'optimizer': 'adam', 'dropout_rate': 0.18097327325940604, 'n_neurons': 122, 'batch_size': 128}. Best is trial 259 with value: 0.8977504968643188.\n"
     ]
    },
    {
     "name": "stderr",
     "output_type": "stream",
     "text": [
      "Best trial: 259. Best value: 0.89775:  29%|██▉       | 292/1000 [6:22:38<10:38:23, 54.10s/it]"
     ]
    },
    {
     "name": "stdout",
     "output_type": "stream",
     "text": [
      "[I 2024-10-19 21:13:44,262] Trial 291 finished with value: 0.8940695524215698 and parameters: {'n_hidden_layers': 3, 'activation': 'elu', 'learning_rate': 0.0007128340750245557, 'optimizer': 'adam', 'dropout_rate': 0.2231206599618126, 'n_neurons': 105, 'batch_size': 8}. Best is trial 259 with value: 0.8977504968643188.\n"
     ]
    },
    {
     "name": "stderr",
     "output_type": "stream",
     "text": [
      "Best trial: 259. Best value: 0.89775:  29%|██▉       | 293/1000 [6:22:52<8:14:48, 41.99s/it] "
     ]
    },
    {
     "name": "stdout",
     "output_type": "stream",
     "text": [
      "[I 2024-10-19 21:13:57,999] Trial 292 finished with value: 0.8854805827140808 and parameters: {'n_hidden_layers': 3, 'activation': 'elu', 'learning_rate': 0.0003251998262059309, 'optimizer': 'rmsprop', 'dropout_rate': 0.32719481964693414, 'n_neurons': 118, 'batch_size': 64}. Best is trial 259 with value: 0.8977504968643188.\n"
     ]
    },
    {
     "name": "stderr",
     "output_type": "stream",
     "text": [
      "Best trial: 259. Best value: 0.89775:  29%|██▉       | 294/1000 [6:25:10<13:53:00, 70.79s/it]"
     ]
    },
    {
     "name": "stdout",
     "output_type": "stream",
     "text": [
      "[I 2024-10-19 21:16:15,999] Trial 293 finished with value: 0.8969325423240662 and parameters: {'n_hidden_layers': 2, 'activation': 'elu', 'learning_rate': 0.0008467561190685405, 'optimizer': 'adam', 'dropout_rate': 0.3095576159588567, 'n_neurons': 111, 'batch_size': 2}. Best is trial 259 with value: 0.8977504968643188.\n"
     ]
    },
    {
     "name": "stderr",
     "output_type": "stream",
     "text": [
      "Best trial: 259. Best value: 0.89775:  30%|██▉       | 295/1000 [6:28:37<21:53:22, 111.78s/it]"
     ]
    },
    {
     "name": "stdout",
     "output_type": "stream",
     "text": [
      "[I 2024-10-19 21:19:43,403] Trial 294 finished with value: 0.8899795413017273 and parameters: {'n_hidden_layers': 2, 'activation': 'elu', 'learning_rate': 0.0007693302440780568, 'optimizer': 'adam', 'dropout_rate': 0.37868274305939736, 'n_neurons': 110, 'batch_size': 1}. Best is trial 259 with value: 0.8977504968643188.\n"
     ]
    },
    {
     "name": "stderr",
     "output_type": "stream",
     "text": [
      "Best trial: 259. Best value: 0.89775:  30%|██▉       | 296/1000 [6:30:59<23:35:39, 120.65s/it]"
     ]
    },
    {
     "name": "stdout",
     "output_type": "stream",
     "text": [
      "[I 2024-10-19 21:22:04,765] Trial 295 finished with value: 0.8940695524215698 and parameters: {'n_hidden_layers': 2, 'activation': 'elu', 'learning_rate': 0.0009117448472169918, 'optimizer': 'adam', 'dropout_rate': 0.31595328634042463, 'n_neurons': 112, 'batch_size': 2}. Best is trial 259 with value: 0.8977504968643188.\n"
     ]
    },
    {
     "name": "stderr",
     "output_type": "stream",
     "text": [
      "Best trial: 259. Best value: 0.89775:  30%|██▉       | 297/1000 [6:31:44<19:09:03, 98.07s/it] "
     ]
    },
    {
     "name": "stdout",
     "output_type": "stream",
     "text": [
      "[I 2024-10-19 21:22:50,143] Trial 296 finished with value: 0.8916155695915222 and parameters: {'n_hidden_layers': 2, 'activation': 'elu', 'learning_rate': 0.0008362857306746304, 'optimizer': 'adam', 'dropout_rate': 0.3050237006121656, 'n_neurons': 109, 'batch_size': 8}. Best is trial 259 with value: 0.8977504968643188.\n"
     ]
    },
    {
     "name": "stderr",
     "output_type": "stream",
     "text": [
      "Best trial: 259. Best value: 0.89775:  30%|██▉       | 298/1000 [6:34:06<21:41:32, 111.24s/it]"
     ]
    },
    {
     "name": "stdout",
     "output_type": "stream",
     "text": [
      "[I 2024-10-19 21:25:12,126] Trial 297 finished with value: 0.8891615271568298 and parameters: {'n_hidden_layers': 2, 'activation': 'elu', 'learning_rate': 0.0010483043416242646, 'optimizer': 'adam', 'dropout_rate': 0.3102356078398535, 'n_neurons': 107, 'batch_size': 2}. Best is trial 259 with value: 0.8977504968643188.\n"
     ]
    },
    {
     "name": "stderr",
     "output_type": "stream",
     "text": [
      "Best trial: 259. Best value: 0.89775:  30%|██▉       | 299/1000 [6:34:39<17:03:58, 87.64s/it] "
     ]
    },
    {
     "name": "stdout",
     "output_type": "stream",
     "text": [
      "[I 2024-10-19 21:25:44,705] Trial 298 finished with value: 0.8883435726165771 and parameters: {'n_hidden_layers': 2, 'activation': 'elu', 'learning_rate': 0.0006604614339292557, 'optimizer': 'adam', 'dropout_rate': 0.29296547763046193, 'n_neurons': 113, 'batch_size': 16}. Best is trial 259 with value: 0.8977504968643188.\n"
     ]
    },
    {
     "name": "stderr",
     "output_type": "stream",
     "text": [
      "Best trial: 259. Best value: 0.89775:  30%|███       | 300/1000 [6:35:59<16:36:41, 85.43s/it]"
     ]
    },
    {
     "name": "stdout",
     "output_type": "stream",
     "text": [
      "[I 2024-10-19 21:27:04,969] Trial 299 finished with value: 0.8924335241317749 and parameters: {'n_hidden_layers': 2, 'activation': 'elu', 'learning_rate': 0.0011905118782684616, 'optimizer': 'adam', 'dropout_rate': 0.3562304449848969, 'n_neurons': 111, 'batch_size': 4}. Best is trial 259 with value: 0.8977504968643188.\n"
     ]
    },
    {
     "name": "stderr",
     "output_type": "stream",
     "text": [
      "Best trial: 259. Best value: 0.89775:  30%|███       | 301/1000 [6:36:40<13:58:16, 71.95s/it]"
     ]
    },
    {
     "name": "stdout",
     "output_type": "stream",
     "text": [
      "[I 2024-10-19 21:27:45,480] Trial 300 finished with value: 0.8928425312042236 and parameters: {'n_hidden_layers': 2, 'activation': 'tanh', 'learning_rate': 0.000829946099411429, 'optimizer': 'adam', 'dropout_rate': 0.28320383641645486, 'n_neurons': 105, 'batch_size': 8}. Best is trial 259 with value: 0.8977504968643188.\n"
     ]
    },
    {
     "name": "stderr",
     "output_type": "stream",
     "text": [
      "Best trial: 259. Best value: 0.89775:  30%|███       | 302/1000 [6:37:13<11:42:40, 60.40s/it]"
     ]
    },
    {
     "name": "stdout",
     "output_type": "stream",
     "text": [
      "[I 2024-10-19 21:28:18,928] Trial 301 finished with value: 0.8875255584716797 and parameters: {'n_hidden_layers': 2, 'activation': 'relu', 'learning_rate': 0.0010333808110166382, 'optimizer': 'adam', 'dropout_rate': 0.32153086333555925, 'n_neurons': 123, 'batch_size': 4}. Best is trial 259 with value: 0.8977504968643188.\n"
     ]
    },
    {
     "name": "stderr",
     "output_type": "stream",
     "text": [
      "Best trial: 259. Best value: 0.89775:  30%|███       | 303/1000 [6:37:24<8:49:10, 45.55s/it] "
     ]
    },
    {
     "name": "stdout",
     "output_type": "stream",
     "text": [
      "[I 2024-10-19 21:28:29,832] Trial 302 finished with value: 0.8830265998840332 and parameters: {'n_hidden_layers': 1, 'activation': 'elu', 'learning_rate': 0.0013855808839133372, 'optimizer': 'adam', 'dropout_rate': 0.29775803949550816, 'n_neurons': 97, 'batch_size': 64}. Best is trial 259 with value: 0.8977504968643188.\n"
     ]
    },
    {
     "name": "stderr",
     "output_type": "stream",
     "text": [
      "Best trial: 259. Best value: 0.89775:  30%|███       | 304/1000 [6:40:18<16:16:40, 84.20s/it]"
     ]
    },
    {
     "name": "stdout",
     "output_type": "stream",
     "text": [
      "[I 2024-10-19 21:31:24,197] Trial 303 finished with value: 0.8830265998840332 and parameters: {'n_hidden_layers': 2, 'activation': 'elu', 'learning_rate': 0.0005603900022272773, 'optimizer': 'sgd', 'dropout_rate': 0.3091483171474163, 'n_neurons': 93, 'batch_size': 2}. Best is trial 259 with value: 0.8977504968643188.\n"
     ]
    },
    {
     "name": "stderr",
     "output_type": "stream",
     "text": [
      "Best trial: 259. Best value: 0.89775:  30%|███       | 305/1000 [6:41:48<16:36:14, 86.01s/it]"
     ]
    },
    {
     "name": "stdout",
     "output_type": "stream",
     "text": [
      "[I 2024-10-19 21:32:54,429] Trial 304 finished with value: 0.8940695524215698 and parameters: {'n_hidden_layers': 3, 'activation': 'elu', 'learning_rate': 0.0007233802254474371, 'optimizer': 'adam', 'dropout_rate': 0.2899603725930592, 'n_neurons': 114, 'batch_size': 4}. Best is trial 259 with value: 0.8977504968643188.\n"
     ]
    },
    {
     "name": "stderr",
     "output_type": "stream",
     "text": [
      "Best trial: 259. Best value: 0.89775:  31%|███       | 306/1000 [6:43:25<17:11:05, 89.14s/it]"
     ]
    },
    {
     "name": "stdout",
     "output_type": "stream",
     "text": [
      "[I 2024-10-19 21:34:30,889] Trial 305 finished with value: 0.8944784998893738 and parameters: {'n_hidden_layers': 2, 'activation': 'elu', 'learning_rate': 0.0009511656675982835, 'optimizer': 'adam', 'dropout_rate': 0.3374819068614174, 'n_neurons': 120, 'batch_size': 4}. Best is trial 259 with value: 0.8977504968643188.\n"
     ]
    },
    {
     "name": "stderr",
     "output_type": "stream",
     "text": [
      "Best trial: 259. Best value: 0.89775:  31%|███       | 307/1000 [6:45:09<18:02:34, 93.73s/it]"
     ]
    },
    {
     "name": "stdout",
     "output_type": "stream",
     "text": [
      "[I 2024-10-19 21:36:15,319] Trial 306 finished with value: 0.8912065625190735 and parameters: {'n_hidden_layers': 3, 'activation': 'elu', 'learning_rate': 0.0006424397371273135, 'optimizer': 'adam', 'dropout_rate': 0.3666251579767339, 'n_neurons': 102, 'batch_size': 2}. Best is trial 259 with value: 0.8977504968643188.\n"
     ]
    },
    {
     "name": "stderr",
     "output_type": "stream",
     "text": [
      "Best trial: 259. Best value: 0.89775:  31%|███       | 308/1000 [6:46:25<16:58:12, 88.28s/it]"
     ]
    },
    {
     "name": "stdout",
     "output_type": "stream",
     "text": [
      "[I 2024-10-19 21:37:30,895] Trial 307 finished with value: 0.8928425312042236 and parameters: {'n_hidden_layers': 3, 'activation': 'elu', 'learning_rate': 0.0008166779552112894, 'optimizer': 'adam', 'dropout_rate': 0.3480404710789226, 'n_neurons': 110, 'batch_size': 4}. Best is trial 259 with value: 0.8977504968643188.\n"
     ]
    },
    {
     "name": "stderr",
     "output_type": "stream",
     "text": [
      "Best trial: 259. Best value: 0.89775:  31%|███       | 309/1000 [6:47:15<14:44:37, 76.81s/it]"
     ]
    },
    {
     "name": "stdout",
     "output_type": "stream",
     "text": [
      "[I 2024-10-19 21:38:20,944] Trial 308 finished with value: 0.8912065625190735 and parameters: {'n_hidden_layers': 3, 'activation': 'elu', 'learning_rate': 0.0004901200382438877, 'optimizer': 'adam', 'dropout_rate': 0.23277805182497152, 'n_neurons': 108, 'batch_size': 8}. Best is trial 259 with value: 0.8977504968643188.\n"
     ]
    },
    {
     "name": "stderr",
     "output_type": "stream",
     "text": [
      "Best trial: 259. Best value: 0.89775:  31%|███       | 310/1000 [6:47:34<11:25:02, 59.57s/it]"
     ]
    },
    {
     "name": "stdout",
     "output_type": "stream",
     "text": [
      "[I 2024-10-19 21:38:40,274] Trial 309 finished with value: 0.8842535614967346 and parameters: {'n_hidden_layers': 2, 'activation': 'elu', 'learning_rate': 0.00021670957804292534, 'optimizer': 'adam', 'dropout_rate': 0.32587628492861026, 'n_neurons': 116, 'batch_size': 32}. Best is trial 259 with value: 0.8977504968643188.\n"
     ]
    },
    {
     "name": "stderr",
     "output_type": "stream",
     "text": [
      "Best trial: 259. Best value: 0.89775:  31%|███       | 311/1000 [6:48:45<12:02:49, 62.95s/it]"
     ]
    },
    {
     "name": "stdout",
     "output_type": "stream",
     "text": [
      "[I 2024-10-19 21:39:51,101] Trial 310 finished with value: 0.8936605453491211 and parameters: {'n_hidden_layers': 3, 'activation': 'elu', 'learning_rate': 0.0009284453154989282, 'optimizer': 'adam', 'dropout_rate': 0.2739382683195948, 'n_neurons': 125, 'batch_size': 4}. Best is trial 259 with value: 0.8977504968643188.\n"
     ]
    },
    {
     "name": "stderr",
     "output_type": "stream",
     "text": [
      "Best trial: 259. Best value: 0.89775:  31%|███       | 312/1000 [6:52:20<20:43:59, 108.49s/it]"
     ]
    },
    {
     "name": "stdout",
     "output_type": "stream",
     "text": [
      "[I 2024-10-19 21:43:25,855] Trial 311 finished with value: 0.8887525796890259 and parameters: {'n_hidden_layers': 3, 'activation': 'elu', 'learning_rate': 9.476250923299094e-05, 'optimizer': 'adam', 'dropout_rate': 0.299642491329394, 'n_neurons': 112, 'batch_size': 2}. Best is trial 259 with value: 0.8977504968643188.\n"
     ]
    },
    {
     "name": "stderr",
     "output_type": "stream",
     "text": [
      "Best trial: 259. Best value: 0.89775:  31%|███▏      | 313/1000 [6:54:06<20:35:32, 107.91s/it]"
     ]
    },
    {
     "name": "stdout",
     "output_type": "stream",
     "text": [
      "[I 2024-10-19 21:45:12,406] Trial 312 finished with value: 0.8940695524215698 and parameters: {'n_hidden_layers': 3, 'activation': 'elu', 'learning_rate': 0.0007127212771768036, 'optimizer': 'adam', 'dropout_rate': 0.28602014789554525, 'n_neurons': 115, 'batch_size': 4}. Best is trial 259 with value: 0.8977504968643188.\n"
     ]
    },
    {
     "name": "stderr",
     "output_type": "stream",
     "text": [
      "Best trial: 259. Best value: 0.89775:  31%|███▏      | 314/1000 [6:54:41<16:22:56, 85.97s/it] "
     ]
    },
    {
     "name": "stdout",
     "output_type": "stream",
     "text": [
      "[I 2024-10-19 21:45:47,194] Trial 313 finished with value: 0.8916155695915222 and parameters: {'n_hidden_layers': 2, 'activation': 'relu', 'learning_rate': 0.0005667156983562232, 'optimizer': 'adam', 'dropout_rate': 0.31431338873753784, 'n_neurons': 120, 'batch_size': 4}. Best is trial 259 with value: 0.8977504968643188.\n"
     ]
    },
    {
     "name": "stderr",
     "output_type": "stream",
     "text": [
      "Best trial: 259. Best value: 0.89775:  32%|███▏      | 315/1000 [6:54:52<12:04:10, 63.43s/it]"
     ]
    },
    {
     "name": "stdout",
     "output_type": "stream",
     "text": [
      "[I 2024-10-19 21:45:58,032] Trial 314 finished with value: 0.8899795413017273 and parameters: {'n_hidden_layers': 3, 'activation': 'elu', 'learning_rate': 0.0011408672594476759, 'optimizer': 'adam', 'dropout_rate': 0.15337266895831936, 'n_neurons': 122, 'batch_size': 128}. Best is trial 259 with value: 0.8977504968643188.\n"
     ]
    },
    {
     "name": "stderr",
     "output_type": "stream",
     "text": [
      "Best trial: 259. Best value: 0.89775:  32%|███▏      | 316/1000 [6:55:44<11:25:00, 60.09s/it]"
     ]
    },
    {
     "name": "stdout",
     "output_type": "stream",
     "text": [
      "[I 2024-10-19 21:46:50,320] Trial 315 finished with value: 0.8638036847114563 and parameters: {'n_hidden_layers': 3, 'activation': 'elu', 'learning_rate': 0.0008108363273988855, 'optimizer': 'rmsprop', 'dropout_rate': 0.1981496245078061, 'n_neurons': 108, 'batch_size': 2}. Best is trial 259 with value: 0.8977504968643188.\n"
     ]
    },
    {
     "name": "stderr",
     "output_type": "stream",
     "text": [
      "Best trial: 259. Best value: 0.89775:  32%|███▏      | 317/1000 [6:57:07<12:40:09, 66.78s/it]"
     ]
    },
    {
     "name": "stdout",
     "output_type": "stream",
     "text": [
      "[I 2024-10-19 21:48:12,711] Trial 316 finished with value: 0.8932515382766724 and parameters: {'n_hidden_layers': 2, 'activation': 'elu', 'learning_rate': 0.0012772080053511212, 'optimizer': 'adam', 'dropout_rate': 0.3336416179981075, 'n_neurons': 106, 'batch_size': 4}. Best is trial 259 with value: 0.8977504968643188.\n"
     ]
    },
    {
     "name": "stderr",
     "output_type": "stream",
     "text": [
      "Best trial: 259. Best value: 0.89775:  32%|███▏      | 318/1000 [7:00:08<19:08:33, 101.05s/it]"
     ]
    },
    {
     "name": "stdout",
     "output_type": "stream",
     "text": [
      "[I 2024-10-19 21:51:13,716] Trial 317 finished with value: 0.8936605453491211 and parameters: {'n_hidden_layers': 3, 'activation': 'elu', 'learning_rate': 0.0006552705779650592, 'optimizer': 'adam', 'dropout_rate': 0.21558448217752477, 'n_neurons': 126, 'batch_size': 1}. Best is trial 259 with value: 0.8977504968643188.\n"
     ]
    },
    {
     "name": "stderr",
     "output_type": "stream",
     "text": [
      "Best trial: 259. Best value: 0.89775:  32%|███▏      | 319/1000 [7:01:21<17:32:07, 92.70s/it] "
     ]
    },
    {
     "name": "stdout",
     "output_type": "stream",
     "text": [
      "[I 2024-10-19 21:52:26,934] Trial 318 finished with value: 0.8948875069618225 and parameters: {'n_hidden_layers': 3, 'activation': 'elu', 'learning_rate': 0.001025828417697468, 'optimizer': 'adam', 'dropout_rate': 0.2928462488596032, 'n_neurons': 111, 'batch_size': 4}. Best is trial 259 with value: 0.8977504968643188.\n"
     ]
    },
    {
     "name": "stderr",
     "output_type": "stream",
     "text": [
      "Best trial: 259. Best value: 0.89775:  32%|███▏      | 320/1000 [7:02:17<15:25:29, 81.66s/it]"
     ]
    },
    {
     "name": "stdout",
     "output_type": "stream",
     "text": [
      "[I 2024-10-19 21:53:22,844] Trial 319 finished with value: 0.8854805827140808 and parameters: {'n_hidden_layers': 1, 'activation': 'elu', 'learning_rate': 0.0004725561358111708, 'optimizer': 'adam', 'dropout_rate': 0.30597569465549773, 'n_neurons': 114, 'batch_size': 8}. Best is trial 259 with value: 0.8977504968643188.\n"
     ]
    },
    {
     "name": "stderr",
     "output_type": "stream",
     "text": [
      "Best trial: 259. Best value: 0.89775:  32%|███▏      | 321/1000 [7:04:32<18:25:42, 97.71s/it]"
     ]
    },
    {
     "name": "stdout",
     "output_type": "stream",
     "text": [
      "[I 2024-10-19 21:55:37,986] Trial 320 finished with value: 0.8932515382766724 and parameters: {'n_hidden_layers': 3, 'activation': 'elu', 'learning_rate': 0.0008850181281156507, 'optimizer': 'adam', 'dropout_rate': 0.32242038478441104, 'n_neurons': 128, 'batch_size': 2}. Best is trial 259 with value: 0.8977504968643188.\n"
     ]
    },
    {
     "name": "stderr",
     "output_type": "stream",
     "text": [
      "Best trial: 259. Best value: 0.89775:  32%|███▏      | 322/1000 [7:04:45<13:36:27, 72.25s/it]"
     ]
    },
    {
     "name": "stdout",
     "output_type": "stream",
     "text": [
      "[I 2024-10-19 21:55:50,849] Trial 321 finished with value: 0.8862985968589783 and parameters: {'n_hidden_layers': 2, 'activation': 'tanh', 'learning_rate': 0.000555351291856064, 'optimizer': 'adam', 'dropout_rate': 0.2785745416622164, 'n_neurons': 119, 'batch_size': 64}. Best is trial 259 with value: 0.8977504968643188.\n"
     ]
    },
    {
     "name": "stderr",
     "output_type": "stream",
     "text": [
      "Best trial: 259. Best value: 0.89775:  32%|███▏      | 323/1000 [7:06:36<15:46:00, 83.84s/it]"
     ]
    },
    {
     "name": "stdout",
     "output_type": "stream",
     "text": [
      "[I 2024-10-19 21:57:41,727] Trial 322 finished with value: 0.8952965140342712 and parameters: {'n_hidden_layers': 3, 'activation': 'elu', 'learning_rate': 0.000424654826308359, 'optimizer': 'adam', 'dropout_rate': 0.34074108281174115, 'n_neurons': 124, 'batch_size': 4}. Best is trial 259 with value: 0.8977504968643188.\n"
     ]
    },
    {
     "name": "stderr",
     "output_type": "stream",
     "text": [
      "Best trial: 259. Best value: 0.89775:  32%|███▏      | 324/1000 [7:08:20<16:53:21, 89.94s/it]"
     ]
    },
    {
     "name": "stdout",
     "output_type": "stream",
     "text": [
      "[I 2024-10-19 21:59:25,909] Trial 323 finished with value: 0.8773006200790405 and parameters: {'n_hidden_layers': 3, 'activation': 'elu', 'learning_rate': 0.00042027894110001655, 'optimizer': 'sgd', 'dropout_rate': 0.35413081237517957, 'n_neurons': 124, 'batch_size': 4}. Best is trial 259 with value: 0.8977504968643188.\n"
     ]
    },
    {
     "name": "stderr",
     "output_type": "stream",
     "text": [
      "Best trial: 259. Best value: 0.89775:  32%|███▎      | 325/1000 [7:10:34<19:21:05, 103.21s/it]"
     ]
    },
    {
     "name": "stdout",
     "output_type": "stream",
     "text": [
      "[I 2024-10-19 22:01:40,071] Trial 324 finished with value: 0.8928425312042236 and parameters: {'n_hidden_layers': 3, 'activation': 'elu', 'learning_rate': 0.00036025496381576137, 'optimizer': 'adam', 'dropout_rate': 0.23047934229847275, 'n_neurons': 122, 'batch_size': 2}. Best is trial 259 with value: 0.8977504968643188.\n"
     ]
    },
    {
     "name": "stderr",
     "output_type": "stream",
     "text": [
      "Best trial: 259. Best value: 0.89775:  33%|███▎      | 326/1000 [7:12:18<19:21:39, 103.41s/it]"
     ]
    },
    {
     "name": "stdout",
     "output_type": "stream",
     "text": [
      "[I 2024-10-19 22:03:23,958] Trial 325 finished with value: 0.8924335241317749 and parameters: {'n_hidden_layers': 2, 'activation': 'elu', 'learning_rate': 0.00042453786855757043, 'optimizer': 'adam', 'dropout_rate': 0.22298730407430073, 'n_neurons': 125, 'batch_size': 4}. Best is trial 259 with value: 0.8977504968643188.\n"
     ]
    },
    {
     "name": "stderr",
     "output_type": "stream",
     "text": [
      "Best trial: 259. Best value: 0.89775:  33%|███▎      | 327/1000 [7:12:55<15:35:00, 83.36s/it] "
     ]
    },
    {
     "name": "stdout",
     "output_type": "stream",
     "text": [
      "[I 2024-10-19 22:04:00,528] Trial 326 finished with value: 0.890388548374176 and parameters: {'n_hidden_layers': 3, 'activation': 'elu', 'learning_rate': 0.0004884982021884538, 'optimizer': 'adam', 'dropout_rate': 0.49475653713233114, 'n_neurons': 122, 'batch_size': 16}. Best is trial 259 with value: 0.8977504968643188.\n"
     ]
    },
    {
     "name": "stderr",
     "output_type": "stream",
     "text": [
      "Best trial: 259. Best value: 0.89775:  33%|███▎      | 328/1000 [7:13:14<12:00:12, 64.30s/it]"
     ]
    },
    {
     "name": "stdout",
     "output_type": "stream",
     "text": [
      "[I 2024-10-19 22:04:20,370] Trial 327 finished with value: 0.8846625685691833 and parameters: {'n_hidden_layers': 3, 'activation': 'relu', 'learning_rate': 0.00038074981698682877, 'optimizer': 'adam', 'dropout_rate': 0.26590216138155437, 'n_neurons': 126, 'batch_size': 8}. Best is trial 259 with value: 0.8977504968643188.\n"
     ]
    },
    {
     "name": "stderr",
     "output_type": "stream",
     "text": [
      "Best trial: 259. Best value: 0.89775:  33%|███▎      | 329/1000 [7:15:04<14:31:50, 77.96s/it]"
     ]
    },
    {
     "name": "stdout",
     "output_type": "stream",
     "text": [
      "[I 2024-10-19 22:06:10,189] Trial 328 finished with value: 0.8928425312042236 and parameters: {'n_hidden_layers': 2, 'activation': 'elu', 'learning_rate': 0.0003250356629013147, 'optimizer': 'adam', 'dropout_rate': 0.20659118659937203, 'n_neurons': 120, 'batch_size': 4}. Best is trial 259 with value: 0.8977504968643188.\n"
     ]
    },
    {
     "name": "stderr",
     "output_type": "stream",
     "text": [
      "Best trial: 259. Best value: 0.89775:  33%|███▎      | 330/1000 [7:16:34<15:11:24, 81.62s/it]"
     ]
    },
    {
     "name": "stdout",
     "output_type": "stream",
     "text": [
      "[I 2024-10-19 22:07:40,345] Trial 329 finished with value: 0.8887525796890259 and parameters: {'n_hidden_layers': 3, 'activation': 'elu', 'learning_rate': 0.0019965781208856163, 'optimizer': 'adam', 'dropout_rate': 0.3453174154209522, 'n_neurons': 124, 'batch_size': 2}. Best is trial 259 with value: 0.8977504968643188.\n"
     ]
    },
    {
     "name": "stderr",
     "output_type": "stream",
     "text": [
      "Best trial: 259. Best value: 0.89775:  33%|███▎      | 331/1000 [7:18:28<16:57:18, 91.24s/it]"
     ]
    },
    {
     "name": "stdout",
     "output_type": "stream",
     "text": [
      "[I 2024-10-19 22:09:34,032] Trial 330 finished with value: 0.8944784998893738 and parameters: {'n_hidden_layers': 3, 'activation': 'elu', 'learning_rate': 0.0002702138518902839, 'optimizer': 'adam', 'dropout_rate': 0.28803412048759036, 'n_neurons': 118, 'batch_size': 4}. Best is trial 259 with value: 0.8977504968643188.\n"
     ]
    },
    {
     "name": "stderr",
     "output_type": "stream",
     "text": [
      "Best trial: 259. Best value: 0.89775:  33%|███▎      | 332/1000 [7:20:12<17:37:17, 94.97s/it]"
     ]
    },
    {
     "name": "stdout",
     "output_type": "stream",
     "text": [
      "[I 2024-10-19 22:11:17,698] Trial 331 finished with value: 0.8916155695915222 and parameters: {'n_hidden_layers': 2, 'activation': 'elu', 'learning_rate': 0.000487896100462512, 'optimizer': 'adam', 'dropout_rate': 0.30656953161582584, 'n_neurons': 104, 'batch_size': 4}. Best is trial 259 with value: 0.8977504968643188.\n"
     ]
    },
    {
     "name": "stderr",
     "output_type": "stream",
     "text": [
      "Best trial: 259. Best value: 0.89775:  33%|███▎      | 333/1000 [7:21:53<17:56:58, 96.88s/it]"
     ]
    },
    {
     "name": "stdout",
     "output_type": "stream",
     "text": [
      "[I 2024-10-19 22:12:59,040] Trial 332 finished with value: 0.8928425312042236 and parameters: {'n_hidden_layers': 3, 'activation': 'elu', 'learning_rate': 0.0015530615670507186, 'optimizer': 'adam', 'dropout_rate': 0.2985197411735341, 'n_neurons': 128, 'batch_size': 2}. Best is trial 259 with value: 0.8977504968643188.\n"
     ]
    },
    {
     "name": "stderr",
     "output_type": "stream",
     "text": [
      "Best trial: 259. Best value: 0.89775:  33%|███▎      | 334/1000 [7:23:03<16:25:34, 88.79s/it]"
     ]
    },
    {
     "name": "stdout",
     "output_type": "stream",
     "text": [
      "[I 2024-10-19 22:14:08,956] Trial 333 finished with value: 0.8916155695915222 and parameters: {'n_hidden_layers': 3, 'activation': 'elu', 'learning_rate': 0.0005879897540225221, 'optimizer': 'adam', 'dropout_rate': 0.2779746854709148, 'n_neurons': 123, 'batch_size': 4}. Best is trial 259 with value: 0.8977504968643188.\n"
     ]
    },
    {
     "name": "stderr",
     "output_type": "stream",
     "text": [
      "Best trial: 259. Best value: 0.89775:  34%|███▎      | 335/1000 [7:24:00<14:38:32, 79.27s/it]"
     ]
    },
    {
     "name": "stdout",
     "output_type": "stream",
     "text": [
      "[I 2024-10-19 22:15:06,000] Trial 334 finished with value: 0.8920245170593262 and parameters: {'n_hidden_layers': 3, 'activation': 'elu', 'learning_rate': 0.0004451683718718301, 'optimizer': 'adam', 'dropout_rate': 0.314350082276863, 'n_neurons': 109, 'batch_size': 8}. Best is trial 259 with value: 0.8977504968643188.\n"
     ]
    },
    {
     "name": "stderr",
     "output_type": "stream",
     "text": [
      "Best trial: 259. Best value: 0.89775:  34%|███▎      | 336/1000 [7:25:24<14:52:52, 80.68s/it]"
     ]
    },
    {
     "name": "stdout",
     "output_type": "stream",
     "text": [
      "[I 2024-10-19 22:16:29,983] Trial 335 finished with value: 0.8920245170593262 and parameters: {'n_hidden_layers': 2, 'activation': 'elu', 'learning_rate': 0.000703528944414501, 'optimizer': 'adam', 'dropout_rate': 0.3280723190810234, 'n_neurons': 121, 'batch_size': 4}. Best is trial 259 with value: 0.8977504968643188.\n"
     ]
    },
    {
     "name": "stderr",
     "output_type": "stream",
     "text": [
      "Best trial: 259. Best value: 0.89775:  34%|███▎      | 337/1000 [7:25:37<11:07:17, 60.39s/it]"
     ]
    },
    {
     "name": "stdout",
     "output_type": "stream",
     "text": [
      "[I 2024-10-19 22:16:43,022] Trial 336 finished with value: 0.8920245170593262 and parameters: {'n_hidden_layers': 3, 'activation': 'elu', 'learning_rate': 0.001080289253892779, 'optimizer': 'adam', 'dropout_rate': 0.23973640536885085, 'n_neurons': 116, 'batch_size': 64}. Best is trial 259 with value: 0.8977504968643188.\n"
     ]
    },
    {
     "name": "stderr",
     "output_type": "stream",
     "text": [
      "Best trial: 259. Best value: 0.89775:  34%|███▍      | 338/1000 [7:26:42<11:19:51, 61.62s/it]"
     ]
    },
    {
     "name": "stdout",
     "output_type": "stream",
     "text": [
      "[I 2024-10-19 22:17:47,508] Trial 337 finished with value: 0.8674846887588501 and parameters: {'n_hidden_layers': 3, 'activation': 'elu', 'learning_rate': 0.000357456659666056, 'optimizer': 'rmsprop', 'dropout_rate': 0.33910784970503804, 'n_neurons': 106, 'batch_size': 2}. Best is trial 259 with value: 0.8977504968643188.\n"
     ]
    },
    {
     "name": "stderr",
     "output_type": "stream",
     "text": [
      "Best trial: 259. Best value: 0.89775:  34%|███▍      | 339/1000 [7:28:14<13:00:21, 70.84s/it]"
     ]
    },
    {
     "name": "stdout",
     "output_type": "stream",
     "text": [
      "[I 2024-10-19 22:19:19,851] Trial 338 finished with value: 0.8907975554466248 and parameters: {'n_hidden_layers': 2, 'activation': 'elu', 'learning_rate': 0.0005273948855915895, 'optimizer': 'adam', 'dropout_rate': 0.3199426461816876, 'n_neurons': 118, 'batch_size': 4}. Best is trial 259 with value: 0.8977504968643188.\n"
     ]
    },
    {
     "name": "stderr",
     "output_type": "stream",
     "text": [
      "Best trial: 259. Best value: 0.89775:  34%|███▍      | 340/1000 [7:28:49<11:00:44, 60.07s/it]"
     ]
    },
    {
     "name": "stdout",
     "output_type": "stream",
     "text": [
      "[I 2024-10-19 22:19:54,795] Trial 339 finished with value: 0.8887525796890259 and parameters: {'n_hidden_layers': 3, 'activation': 'relu', 'learning_rate': 0.000615466132650712, 'optimizer': 'adam', 'dropout_rate': 0.35764224498844616, 'n_neurons': 126, 'batch_size': 4}. Best is trial 259 with value: 0.8977504968643188.\n"
     ]
    },
    {
     "name": "stderr",
     "output_type": "stream",
     "text": [
      "Best trial: 259. Best value: 0.89775:  34%|███▍      | 341/1000 [7:29:05<8:36:31, 47.03s/it] "
     ]
    },
    {
     "name": "stdout",
     "output_type": "stream",
     "text": [
      "[I 2024-10-19 22:20:11,396] Trial 340 finished with value: 0.8846625685691833 and parameters: {'n_hidden_layers': 1, 'activation': 'elu', 'learning_rate': 0.0009317174235925312, 'optimizer': 'adam', 'dropout_rate': 0.231514506974084, 'n_neurons': 110, 'batch_size': 32}. Best is trial 259 with value: 0.8977504968643188.\n"
     ]
    },
    {
     "name": "stderr",
     "output_type": "stream",
     "text": [
      "Best trial: 259. Best value: 0.89775:  34%|███▍      | 342/1000 [7:31:31<13:59:52, 76.58s/it]"
     ]
    },
    {
     "name": "stdout",
     "output_type": "stream",
     "text": [
      "[I 2024-10-19 22:22:36,946] Trial 341 finished with value: 0.89570552110672 and parameters: {'n_hidden_layers': 3, 'activation': 'elu', 'learning_rate': 0.0007801516549936104, 'optimizer': 'adam', 'dropout_rate': 0.3711016872823874, 'n_neurons': 113, 'batch_size': 2}. Best is trial 259 with value: 0.8977504968643188.\n"
     ]
    },
    {
     "name": "stderr",
     "output_type": "stream",
     "text": [
      "Best trial: 259. Best value: 0.89775:  34%|███▍      | 343/1000 [7:33:16<15:33:26, 85.25s/it]"
     ]
    },
    {
     "name": "stdout",
     "output_type": "stream",
     "text": [
      "[I 2024-10-19 22:24:22,403] Trial 342 finished with value: 0.8907975554466248 and parameters: {'n_hidden_layers': 3, 'activation': 'elu', 'learning_rate': 0.000721050964557817, 'optimizer': 'adam', 'dropout_rate': 0.3689735368883468, 'n_neurons': 117, 'batch_size': 2}. Best is trial 259 with value: 0.8977504968643188.\n"
     ]
    },
    {
     "name": "stderr",
     "output_type": "stream",
     "text": [
      "Best trial: 259. Best value: 0.89775:  34%|███▍      | 344/1000 [7:35:42<18:50:08, 103.37s/it]"
     ]
    },
    {
     "name": "stdout",
     "output_type": "stream",
     "text": [
      "[I 2024-10-19 22:26:48,051] Trial 343 finished with value: 0.8920245170593262 and parameters: {'n_hidden_layers': 3, 'activation': 'elu', 'learning_rate': 0.00042860727634308807, 'optimizer': 'adam', 'dropout_rate': 0.37155994719647484, 'n_neurons': 113, 'batch_size': 2}. Best is trial 259 with value: 0.8977504968643188.\n"
     ]
    },
    {
     "name": "stderr",
     "output_type": "stream",
     "text": [
      "Best trial: 259. Best value: 0.89775:  34%|███▍      | 345/1000 [7:37:32<19:11:21, 105.47s/it]"
     ]
    },
    {
     "name": "stdout",
     "output_type": "stream",
     "text": [
      "[I 2024-10-19 22:28:38,421] Trial 344 finished with value: 0.8899795413017273 and parameters: {'n_hidden_layers': 3, 'activation': 'elu', 'learning_rate': 0.0007855749683912485, 'optimizer': 'adam', 'dropout_rate': 0.3580645159397837, 'n_neurons': 114, 'batch_size': 2}. Best is trial 259 with value: 0.8977504968643188.\n"
     ]
    },
    {
     "name": "stderr",
     "output_type": "stream",
     "text": [
      "Best trial: 259. Best value: 0.89775:  35%|███▍      | 346/1000 [7:40:35<23:21:13, 128.55s/it]"
     ]
    },
    {
     "name": "stdout",
     "output_type": "stream",
     "text": [
      "[I 2024-10-19 22:31:40,838] Trial 345 finished with value: 0.8916155695915222 and parameters: {'n_hidden_layers': 3, 'activation': 'elu', 'learning_rate': 0.00030888469930542, 'optimizer': 'adam', 'dropout_rate': 0.3941179222723235, 'n_neurons': 111, 'batch_size': 2}. Best is trial 259 with value: 0.8977504968643188.\n"
     ]
    },
    {
     "name": "stderr",
     "output_type": "stream",
     "text": [
      "Best trial: 259. Best value: 0.89775:  35%|███▍      | 347/1000 [7:43:45<26:40:23, 147.05s/it]"
     ]
    },
    {
     "name": "stdout",
     "output_type": "stream",
     "text": [
      "[I 2024-10-19 22:34:51,050] Trial 346 finished with value: 0.8842535614967346 and parameters: {'n_hidden_layers': 3, 'activation': 'tanh', 'learning_rate': 0.004242267373827855, 'optimizer': 'sgd', 'dropout_rate': 0.3619308798832344, 'n_neurons': 115, 'batch_size': 2}. Best is trial 259 with value: 0.8977504968643188.\n"
     ]
    },
    {
     "name": "stderr",
     "output_type": "stream",
     "text": [
      "Best trial: 259. Best value: 0.89775:  35%|███▍      | 348/1000 [7:45:50<25:26:51, 140.51s/it]"
     ]
    },
    {
     "name": "stdout",
     "output_type": "stream",
     "text": [
      "[I 2024-10-19 22:36:56,294] Trial 347 finished with value: 0.8928425312042236 and parameters: {'n_hidden_layers': 3, 'activation': 'elu', 'learning_rate': 0.0005905443719999956, 'optimizer': 'adam', 'dropout_rate': 0.28489855613400716, 'n_neurons': 108, 'batch_size': 2}. Best is trial 259 with value: 0.8977504968643188.\n"
     ]
    },
    {
     "name": "stderr",
     "output_type": "stream",
     "text": [
      "Best trial: 259. Best value: 0.89775:  35%|███▍      | 349/1000 [7:46:50<21:01:59, 116.31s/it]"
     ]
    },
    {
     "name": "stdout",
     "output_type": "stream",
     "text": [
      "[I 2024-10-19 22:37:56,147] Trial 348 finished with value: 0.890388548374176 and parameters: {'n_hidden_layers': 3, 'activation': 'elu', 'learning_rate': 0.0006411706384719657, 'optimizer': 'adam', 'dropout_rate': 0.38224760514993233, 'n_neurons': 112, 'batch_size': 8}. Best is trial 259 with value: 0.8977504968643188.\n"
     ]
    },
    {
     "name": "stderr",
     "output_type": "stream",
     "text": [
      "Best trial: 259. Best value: 0.89775:  35%|███▌      | 350/1000 [7:49:10<22:14:47, 123.21s/it]"
     ]
    },
    {
     "name": "stdout",
     "output_type": "stream",
     "text": [
      "[I 2024-10-19 22:40:15,456] Trial 349 finished with value: 0.89570552110672 and parameters: {'n_hidden_layers': 3, 'activation': 'elu', 'learning_rate': 0.0005150608718026108, 'optimizer': 'adam', 'dropout_rate': 0.34802985134514847, 'n_neurons': 109, 'batch_size': 2}. Best is trial 259 with value: 0.8977504968643188.\n"
     ]
    },
    {
     "name": "stderr",
     "output_type": "stream",
     "text": [
      "Best trial: 259. Best value: 0.89775:  35%|███▌      | 351/1000 [7:51:35<23:24:44, 129.87s/it]"
     ]
    },
    {
     "name": "stdout",
     "output_type": "stream",
     "text": [
      "[I 2024-10-19 22:42:40,859] Trial 350 finished with value: 0.8912065625190735 and parameters: {'n_hidden_layers': 3, 'activation': 'elu', 'learning_rate': 0.0005082328744544907, 'optimizer': 'adam', 'dropout_rate': 0.35328918976686197, 'n_neurons': 109, 'batch_size': 2}. Best is trial 259 with value: 0.8977504968643188.\n"
     ]
    },
    {
     "name": "stderr",
     "output_type": "stream",
     "text": [
      "Best trial: 259. Best value: 0.89775:  35%|███▌      | 352/1000 [7:54:20<25:16:12, 140.39s/it]"
     ]
    },
    {
     "name": "stdout",
     "output_type": "stream",
     "text": [
      "[I 2024-10-19 22:45:25,800] Trial 351 finished with value: 0.8944784998893738 and parameters: {'n_hidden_layers': 3, 'activation': 'elu', 'learning_rate': 0.00038621786624539074, 'optimizer': 'adam', 'dropout_rate': 0.3762940330020676, 'n_neurons': 115, 'batch_size': 2}. Best is trial 259 with value: 0.8977504968643188.\n"
     ]
    },
    {
     "name": "stderr",
     "output_type": "stream",
     "text": [
      "Best trial: 259. Best value: 0.89775:  35%|███▌      | 353/1000 [7:56:29<24:36:32, 136.93s/it]"
     ]
    },
    {
     "name": "stdout",
     "output_type": "stream",
     "text": [
      "[I 2024-10-19 22:47:34,650] Trial 352 finished with value: 0.8899795413017273 and parameters: {'n_hidden_layers': 3, 'activation': 'elu', 'learning_rate': 0.0005226780674811846, 'optimizer': 'adam', 'dropout_rate': 0.3655477612834344, 'n_neurons': 119, 'batch_size': 2}. Best is trial 259 with value: 0.8977504968643188.\n"
     ]
    },
    {
     "name": "stderr",
     "output_type": "stream",
     "text": [
      "Best trial: 259. Best value: 0.89775:  35%|███▌      | 354/1000 [7:58:27<23:32:40, 131.21s/it]"
     ]
    },
    {
     "name": "stdout",
     "output_type": "stream",
     "text": [
      "[I 2024-10-19 22:49:32,512] Trial 353 finished with value: 0.8932515382766724 and parameters: {'n_hidden_layers': 3, 'activation': 'elu', 'learning_rate': 0.0007530894377804433, 'optimizer': 'adam', 'dropout_rate': 0.3462432228132196, 'n_neurons': 107, 'batch_size': 2}. Best is trial 259 with value: 0.8977504968643188.\n"
     ]
    },
    {
     "name": "stderr",
     "output_type": "stream",
     "text": [
      "Best trial: 259. Best value: 0.89775:  36%|███▌      | 355/1000 [8:00:59<24:39:49, 137.66s/it]"
     ]
    },
    {
     "name": "stdout",
     "output_type": "stream",
     "text": [
      "[I 2024-10-19 22:52:05,221] Trial 354 finished with value: 0.8920245170593262 and parameters: {'n_hidden_layers': 3, 'activation': 'elu', 'learning_rate': 0.0006580645048174931, 'optimizer': 'adam', 'dropout_rate': 0.3479390703432809, 'n_neurons': 113, 'batch_size': 2}. Best is trial 259 with value: 0.8977504968643188.\n"
     ]
    },
    {
     "name": "stderr",
     "output_type": "stream",
     "text": [
      "Best trial: 259. Best value: 0.89775:  36%|███▌      | 356/1000 [8:03:04<23:56:32, 133.84s/it]"
     ]
    },
    {
     "name": "stdout",
     "output_type": "stream",
     "text": [
      "[I 2024-10-19 22:54:10,148] Trial 355 finished with value: 0.8936605453491211 and parameters: {'n_hidden_layers': 3, 'activation': 'elu', 'learning_rate': 0.0004504869872644174, 'optimizer': 'adam', 'dropout_rate': 0.25655525759338305, 'n_neurons': 111, 'batch_size': 2}. Best is trial 259 with value: 0.8977504968643188.\n"
     ]
    },
    {
     "name": "stderr",
     "output_type": "stream",
     "text": [
      "Best trial: 259. Best value: 0.89775:  36%|███▌      | 357/1000 [8:05:16<23:49:00, 133.35s/it]"
     ]
    },
    {
     "name": "stdout",
     "output_type": "stream",
     "text": [
      "[I 2024-10-19 22:56:22,342] Trial 356 finished with value: 0.8936605453491211 and parameters: {'n_hidden_layers': 3, 'activation': 'elu', 'learning_rate': 0.0005727749501534778, 'optimizer': 'adam', 'dropout_rate': 0.22031475456963556, 'n_neurons': 116, 'batch_size': 2}. Best is trial 259 with value: 0.8977504968643188.\n"
     ]
    },
    {
     "name": "stderr",
     "output_type": "stream",
     "text": [
      "Best trial: 259. Best value: 0.89775:  36%|███▌      | 358/1000 [8:06:00<18:59:55, 106.53s/it]"
     ]
    },
    {
     "name": "stdout",
     "output_type": "stream",
     "text": [
      "[I 2024-10-19 22:57:06,318] Trial 357 finished with value: 0.8932515382766724 and parameters: {'n_hidden_layers': 3, 'activation': 'elu', 'learning_rate': 0.0008396345159466981, 'optimizer': 'adam', 'dropout_rate': 0.2708438034054289, 'n_neurons': 101, 'batch_size': 8}. Best is trial 259 with value: 0.8977504968643188.\n"
     ]
    },
    {
     "name": "stderr",
     "output_type": "stream",
     "text": [
      "Best trial: 259. Best value: 0.89775:  36%|███▌      | 359/1000 [8:06:11<13:52:10, 77.89s/it] "
     ]
    },
    {
     "name": "stdout",
     "output_type": "stream",
     "text": [
      "[I 2024-10-19 22:57:17,386] Trial 358 finished with value: 0.8858895897865295 and parameters: {'n_hidden_layers': 3, 'activation': 'elu', 'learning_rate': 0.00039584691866848584, 'optimizer': 'adam', 'dropout_rate': 0.3904894620340194, 'n_neurons': 121, 'batch_size': 128}. Best is trial 259 with value: 0.8977504968643188.\n"
     ]
    },
    {
     "name": "stderr",
     "output_type": "stream",
     "text": [
      "Best trial: 259. Best value: 0.89775:  36%|███▌      | 360/1000 [8:08:42<17:42:09, 99.58s/it]"
     ]
    },
    {
     "name": "stdout",
     "output_type": "stream",
     "text": [
      "[I 2024-10-19 22:59:47,554] Trial 359 finished with value: 0.8944784998893738 and parameters: {'n_hidden_layers': 3, 'activation': 'elu', 'learning_rate': 0.0006832166148545635, 'optimizer': 'adam', 'dropout_rate': 0.35120243562708875, 'n_neurons': 105, 'batch_size': 2}. Best is trial 259 with value: 0.8977504968643188.\n"
     ]
    },
    {
     "name": "stderr",
     "output_type": "stream",
     "text": [
      "Best trial: 259. Best value: 0.89775:  36%|███▌      | 361/1000 [8:10:37<18:30:51, 104.31s/it]"
     ]
    },
    {
     "name": "stdout",
     "output_type": "stream",
     "text": [
      "[I 2024-10-19 23:01:42,895] Trial 360 finished with value: 0.8830265998840332 and parameters: {'n_hidden_layers': 3, 'activation': 'elu', 'learning_rate': 1.3410124551263705e-05, 'optimizer': 'adam', 'dropout_rate': 0.24344630403750722, 'n_neurons': 109, 'batch_size': 4}. Best is trial 259 with value: 0.8977504968643188.\n"
     ]
    },
    {
     "name": "stderr",
     "output_type": "stream",
     "text": [
      "Best trial: 259. Best value: 0.89775:  36%|███▌      | 362/1000 [8:11:42<16:24:04, 92.55s/it] "
     ]
    },
    {
     "name": "stdout",
     "output_type": "stream",
     "text": [
      "[I 2024-10-19 23:02:47,999] Trial 361 finished with value: 0.8777096271514893 and parameters: {'n_hidden_layers': 3, 'activation': 'elu', 'learning_rate': 0.00033853349454507847, 'optimizer': 'rmsprop', 'dropout_rate': 0.40204888331304256, 'n_neurons': 119, 'batch_size': 2}. Best is trial 259 with value: 0.8977504968643188.\n"
     ]
    },
    {
     "name": "stderr",
     "output_type": "stream",
     "text": [
      "Best trial: 259. Best value: 0.89775:  36%|███▋      | 363/1000 [8:15:16<22:49:04, 128.96s/it]"
     ]
    },
    {
     "name": "stdout",
     "output_type": "stream",
     "text": [
      "[I 2024-10-19 23:06:21,911] Trial 362 finished with value: 0.8916155695915222 and parameters: {'n_hidden_layers': 3, 'activation': 'elu', 'learning_rate': 0.0004839463264895094, 'optimizer': 'adam', 'dropout_rate': 0.21076145172008875, 'n_neurons': 113, 'batch_size': 1}. Best is trial 259 with value: 0.8977504968643188.\n"
     ]
    },
    {
     "name": "stderr",
     "output_type": "stream",
     "text": [
      "Best trial: 259. Best value: 0.89775:  36%|███▋      | 364/1000 [8:15:41<17:17:01, 97.83s/it] "
     ]
    },
    {
     "name": "stdout",
     "output_type": "stream",
     "text": [
      "[I 2024-10-19 23:06:47,123] Trial 363 finished with value: 0.8916155695915222 and parameters: {'n_hidden_layers': 3, 'activation': 'elu', 'learning_rate': 0.0009380365992785606, 'optimizer': 'adam', 'dropout_rate': 0.26460197430989046, 'n_neurons': 107, 'batch_size': 16}. Best is trial 259 with value: 0.8977504968643188.\n"
     ]
    },
    {
     "name": "stderr",
     "output_type": "stream",
     "text": [
      "Best trial: 259. Best value: 0.89775:  36%|███▋      | 365/1000 [8:16:51<15:45:22, 89.33s/it]"
     ]
    },
    {
     "name": "stdout",
     "output_type": "stream",
     "text": [
      "[I 2024-10-19 23:07:56,605] Trial 364 finished with value: 0.8916155695915222 and parameters: {'n_hidden_layers': 3, 'activation': 'elu', 'learning_rate': 0.0008034928268121463, 'optimizer': 'adam', 'dropout_rate': 0.33888564295704554, 'n_neurons': 111, 'batch_size': 4}. Best is trial 259 with value: 0.8977504968643188.\n"
     ]
    },
    {
     "name": "stderr",
     "output_type": "stream",
     "text": [
      "Best trial: 259. Best value: 0.89775:  37%|███▋      | 366/1000 [8:19:08<18:16:12, 103.74s/it]"
     ]
    },
    {
     "name": "stdout",
     "output_type": "stream",
     "text": [
      "[I 2024-10-19 23:10:13,982] Trial 365 finished with value: 0.8940695524215698 and parameters: {'n_hidden_layers': 3, 'activation': 'elu', 'learning_rate': 0.0005380058299108368, 'optimizer': 'adam', 'dropout_rate': 0.36015091070584315, 'n_neurons': 117, 'batch_size': 2}. Best is trial 259 with value: 0.8977504968643188.\n"
     ]
    },
    {
     "name": "stderr",
     "output_type": "stream",
     "text": [
      "Best trial: 366. Best value: 0.89816:  37%|███▋      | 367/1000 [8:20:21<16:35:50, 94.39s/it] "
     ]
    },
    {
     "name": "stdout",
     "output_type": "stream",
     "text": [
      "[I 2024-10-19 23:11:26,560] Trial 366 finished with value: 0.8981595039367676 and parameters: {'n_hidden_layers': 3, 'activation': 'elu', 'learning_rate': 0.0006204914065576389, 'optimizer': 'adam', 'dropout_rate': 0.22631107765148564, 'n_neurons': 123, 'batch_size': 4}. Best is trial 366 with value: 0.8981595039367676.\n"
     ]
    },
    {
     "name": "stderr",
     "output_type": "stream",
     "text": [
      "Best trial: 366. Best value: 0.89816:  37%|███▋      | 368/1000 [8:21:06<14:00:49, 79.83s/it]"
     ]
    },
    {
     "name": "stdout",
     "output_type": "stream",
     "text": [
      "[I 2024-10-19 23:12:12,393] Trial 367 finished with value: 0.8936605453491211 and parameters: {'n_hidden_layers': 3, 'activation': 'elu', 'learning_rate': 0.0006402559403134654, 'optimizer': 'adam', 'dropout_rate': 0.19887937122373903, 'n_neurons': 123, 'batch_size': 8}. Best is trial 366 with value: 0.8981595039367676.\n"
     ]
    },
    {
     "name": "stderr",
     "output_type": "stream",
     "text": [
      "Best trial: 368. Best value: 0.898569:  37%|███▋      | 369/1000 [8:22:18<13:33:53, 77.39s/it]"
     ]
    },
    {
     "name": "stdout",
     "output_type": "stream",
     "text": [
      "[I 2024-10-19 23:13:24,102] Trial 368 finished with value: 0.8985685110092163 and parameters: {'n_hidden_layers': 3, 'activation': 'elu', 'learning_rate': 0.0007226368047121741, 'optimizer': 'adam', 'dropout_rate': 0.22850243174773258, 'n_neurons': 121, 'batch_size': 4}. Best is trial 368 with value: 0.8985685110092163.\n"
     ]
    },
    {
     "name": "stderr",
     "output_type": "stream",
     "text": [
      "Best trial: 368. Best value: 0.898569:  37%|███▋      | 370/1000 [8:23:25<12:58:36, 74.15s/it]"
     ]
    },
    {
     "name": "stdout",
     "output_type": "stream",
     "text": [
      "[I 2024-10-19 23:14:30,701] Trial 369 finished with value: 0.8932515382766724 and parameters: {'n_hidden_layers': 3, 'activation': 'elu', 'learning_rate': 0.0007510798902464728, 'optimizer': 'adam', 'dropout_rate': 0.2242664547847607, 'n_neurons': 121, 'batch_size': 4}. Best is trial 368 with value: 0.8985685110092163.\n"
     ]
    },
    {
     "name": "stderr",
     "output_type": "stream",
     "text": [
      "Best trial: 368. Best value: 0.898569:  37%|███▋      | 371/1000 [8:25:16<14:53:09, 85.20s/it]"
     ]
    },
    {
     "name": "stdout",
     "output_type": "stream",
     "text": [
      "[I 2024-10-19 23:16:21,668] Trial 370 finished with value: 0.8948875069618225 and parameters: {'n_hidden_layers': 3, 'activation': 'elu', 'learning_rate': 0.0006745198780712188, 'optimizer': 'adam', 'dropout_rate': 0.22688469552046694, 'n_neurons': 119, 'batch_size': 2}. Best is trial 368 with value: 0.8985685110092163.\n"
     ]
    },
    {
     "name": "stderr",
     "output_type": "stream",
     "text": [
      "Best trial: 368. Best value: 0.898569:  37%|███▋      | 372/1000 [8:26:17<13:37:40, 78.12s/it]"
     ]
    },
    {
     "name": "stdout",
     "output_type": "stream",
     "text": [
      "[I 2024-10-19 23:17:23,279] Trial 371 finished with value: 0.8899795413017273 and parameters: {'n_hidden_layers': 3, 'activation': 'elu', 'learning_rate': 0.00075034208825142, 'optimizer': 'adam', 'dropout_rate': 0.20927914380409102, 'n_neurons': 121, 'batch_size': 4}. Best is trial 368 with value: 0.8985685110092163.\n"
     ]
    },
    {
     "name": "stderr",
     "output_type": "stream",
     "text": [
      "Best trial: 368. Best value: 0.898569:  37%|███▋      | 373/1000 [8:28:05<15:09:58, 87.08s/it]"
     ]
    },
    {
     "name": "stdout",
     "output_type": "stream",
     "text": [
      "[I 2024-10-19 23:19:11,258] Trial 372 finished with value: 0.8940695524215698 and parameters: {'n_hidden_layers': 3, 'activation': 'elu', 'learning_rate': 0.0008599167895223872, 'optimizer': 'adam', 'dropout_rate': 0.23460563500198123, 'n_neurons': 117, 'batch_size': 2}. Best is trial 368 with value: 0.8985685110092163.\n"
     ]
    },
    {
     "name": "stderr",
     "output_type": "stream",
     "text": [
      "Best trial: 368. Best value: 0.898569:  37%|███▋      | 374/1000 [8:29:47<15:54:49, 91.52s/it]"
     ]
    },
    {
     "name": "stdout",
     "output_type": "stream",
     "text": [
      "[I 2024-10-19 23:20:53,132] Trial 373 finished with value: 0.8805726170539856 and parameters: {'n_hidden_layers': 3, 'activation': 'elu', 'learning_rate': 0.0010386440264698222, 'optimizer': 'sgd', 'dropout_rate': 0.21444126785270917, 'n_neurons': 123, 'batch_size': 4}. Best is trial 368 with value: 0.8985685110092163.\n"
     ]
    },
    {
     "name": "stderr",
     "output_type": "stream",
     "text": [
      "Best trial: 368. Best value: 0.898569:  38%|███▊      | 375/1000 [8:30:35<13:36:51, 78.42s/it]"
     ]
    },
    {
     "name": "stdout",
     "output_type": "stream",
     "text": [
      "[I 2024-10-19 23:21:40,984] Trial 374 finished with value: 0.8924335241317749 and parameters: {'n_hidden_layers': 3, 'activation': 'elu', 'learning_rate': 0.0006025126330374674, 'optimizer': 'adam', 'dropout_rate': 0.22504910893698354, 'n_neurons': 119, 'batch_size': 8}. Best is trial 368 with value: 0.8985685110092163.\n"
     ]
    },
    {
     "name": "stderr",
     "output_type": "stream",
     "text": [
      "Best trial: 368. Best value: 0.898569:  38%|███▊      | 376/1000 [8:32:39<15:57:54, 92.11s/it]"
     ]
    },
    {
     "name": "stdout",
     "output_type": "stream",
     "text": [
      "[I 2024-10-19 23:23:45,033] Trial 375 finished with value: 0.8932515382766724 and parameters: {'n_hidden_layers': 3, 'activation': 'tanh', 'learning_rate': 0.00018235321102132507, 'optimizer': 'adam', 'dropout_rate': 0.18128489183822663, 'n_neurons': 116, 'batch_size': 4}. Best is trial 368 with value: 0.8985685110092163.\n"
     ]
    },
    {
     "name": "stderr",
     "output_type": "stream",
     "text": [
      "Best trial: 368. Best value: 0.898569:  38%|███▊      | 377/1000 [8:34:31<16:58:26, 98.08s/it]"
     ]
    },
    {
     "name": "stdout",
     "output_type": "stream",
     "text": [
      "[I 2024-10-19 23:25:37,062] Trial 376 finished with value: 0.8891615271568298 and parameters: {'n_hidden_layers': 3, 'activation': 'elu', 'learning_rate': 0.0008907505941293401, 'optimizer': 'adam', 'dropout_rate': 0.21669190950638983, 'n_neurons': 114, 'batch_size': 2}. Best is trial 368 with value: 0.8985685110092163.\n"
     ]
    },
    {
     "name": "stderr",
     "output_type": "stream",
     "text": [
      "Best trial: 368. Best value: 0.898569:  38%|███▊      | 378/1000 [8:34:51<12:53:59, 74.66s/it]"
     ]
    },
    {
     "name": "stdout",
     "output_type": "stream",
     "text": [
      "[I 2024-10-19 23:25:57,075] Trial 377 finished with value: 0.8920245170593262 and parameters: {'n_hidden_layers': 3, 'activation': 'elu', 'learning_rate': 0.0007113607027715104, 'optimizer': 'adam', 'dropout_rate': 0.20231131201605895, 'n_neurons': 121, 'batch_size': 32}. Best is trial 368 with value: 0.8985685110092163.\n"
     ]
    },
    {
     "name": "stderr",
     "output_type": "stream",
     "text": [
      "Best trial: 368. Best value: 0.898569:  38%|███▊      | 379/1000 [8:36:12<13:11:38, 76.49s/it]"
     ]
    },
    {
     "name": "stdout",
     "output_type": "stream",
     "text": [
      "[I 2024-10-19 23:27:17,817] Trial 378 finished with value: 0.8907975554466248 and parameters: {'n_hidden_layers': 3, 'activation': 'elu', 'learning_rate': 0.0006321928859086496, 'optimizer': 'adam', 'dropout_rate': 0.19131945691593485, 'n_neurons': 118, 'batch_size': 4}. Best is trial 368 with value: 0.8985685110092163.\n"
     ]
    },
    {
     "name": "stderr",
     "output_type": "stream",
     "text": [
      "Best trial: 368. Best value: 0.898569:  38%|███▊      | 380/1000 [8:38:04<15:01:25, 87.23s/it]"
     ]
    },
    {
     "name": "stdout",
     "output_type": "stream",
     "text": [
      "[I 2024-10-19 23:29:10,129] Trial 379 finished with value: 0.8948875069618225 and parameters: {'n_hidden_layers': 3, 'activation': 'elu', 'learning_rate': 0.0007821370428687032, 'optimizer': 'adam', 'dropout_rate': 0.23424747403820395, 'n_neurons': 124, 'batch_size': 2}. Best is trial 368 with value: 0.8985685110092163.\n"
     ]
    },
    {
     "name": "stderr",
     "output_type": "stream",
     "text": [
      "Best trial: 368. Best value: 0.898569:  38%|███▊      | 381/1000 [8:39:16<14:11:13, 82.51s/it]"
     ]
    },
    {
     "name": "stdout",
     "output_type": "stream",
     "text": [
      "[I 2024-10-19 23:30:21,616] Trial 380 finished with value: 0.8944784998893738 and parameters: {'n_hidden_layers': 3, 'activation': 'elu', 'learning_rate': 0.0009713219780827675, 'optimizer': 'adam', 'dropout_rate': 0.37278644253083404, 'n_neurons': 79, 'batch_size': 4}. Best is trial 368 with value: 0.8985685110092163.\n"
     ]
    },
    {
     "name": "stderr",
     "output_type": "stream",
     "text": [
      "Best trial: 368. Best value: 0.898569:  38%|███▊      | 382/1000 [8:39:51<11:44:51, 68.43s/it]"
     ]
    },
    {
     "name": "stdout",
     "output_type": "stream",
     "text": [
      "[I 2024-10-19 23:30:57,202] Trial 381 finished with value: 0.8932515382766724 and parameters: {'n_hidden_layers': 3, 'activation': 'elu', 'learning_rate': 0.0011410430672330882, 'optimizer': 'adam', 'dropout_rate': 0.22003274073407497, 'n_neurons': 114, 'batch_size': 8}. Best is trial 368 with value: 0.8985685110092163.\n"
     ]
    },
    {
     "name": "stderr",
     "output_type": "stream",
     "text": [
      "Best trial: 368. Best value: 0.898569:  38%|███▊      | 383/1000 [8:41:13<12:24:03, 72.36s/it]"
     ]
    },
    {
     "name": "stdout",
     "output_type": "stream",
     "text": [
      "[I 2024-10-19 23:32:18,709] Trial 382 finished with value: 0.8952965140342712 and parameters: {'n_hidden_layers': 3, 'activation': 'elu', 'learning_rate': 0.0005915777345449076, 'optimizer': 'adam', 'dropout_rate': 0.23110639319682644, 'n_neurons': 111, 'batch_size': 4}. Best is trial 368 with value: 0.8985685110092163.\n"
     ]
    },
    {
     "name": "stderr",
     "output_type": "stream",
     "text": [
      "Best trial: 368. Best value: 0.898569:  38%|███▊      | 384/1000 [8:41:23<9:10:18, 53.60s/it] "
     ]
    },
    {
     "name": "stdout",
     "output_type": "stream",
     "text": [
      "[I 2024-10-19 23:32:28,554] Trial 383 finished with value: 0.8862985968589783 and parameters: {'n_hidden_layers': 2, 'activation': 'elu', 'learning_rate': 0.0008366500421796992, 'optimizer': 'adam', 'dropout_rate': 0.2786356592150907, 'n_neurons': 121, 'batch_size': 128}. Best is trial 368 with value: 0.8985685110092163.\n"
     ]
    },
    {
     "name": "stderr",
     "output_type": "stream",
     "text": [
      "Best trial: 368. Best value: 0.898569:  38%|███▊      | 385/1000 [8:42:22<9:27:29, 55.36s/it]"
     ]
    },
    {
     "name": "stdout",
     "output_type": "stream",
     "text": [
      "[I 2024-10-19 23:33:28,031] Trial 384 finished with value: 0.8740286231040955 and parameters: {'n_hidden_layers': 3, 'activation': 'elu', 'learning_rate': 0.0007005238887997815, 'optimizer': 'rmsprop', 'dropout_rate': 0.2912803148933984, 'n_neurons': 103, 'batch_size': 2}. Best is trial 368 with value: 0.8985685110092163.\n"
     ]
    },
    {
     "name": "stderr",
     "output_type": "stream",
     "text": [
      "Best trial: 368. Best value: 0.898569:  39%|███▊      | 386/1000 [8:43:40<10:36:58, 62.24s/it]"
     ]
    },
    {
     "name": "stdout",
     "output_type": "stream",
     "text": [
      "[I 2024-10-19 23:34:46,329] Trial 385 finished with value: 0.8916155695915222 and parameters: {'n_hidden_layers': 3, 'activation': 'elu', 'learning_rate': 0.0005302278890013759, 'optimizer': 'adam', 'dropout_rate': 0.2484512662347047, 'n_neurons': 109, 'batch_size': 4}. Best is trial 368 with value: 0.8985685110092163.\n"
     ]
    },
    {
     "name": "stderr",
     "output_type": "stream",
     "text": [
      "Best trial: 368. Best value: 0.898569:  39%|███▊      | 387/1000 [8:46:34<16:17:52, 95.71s/it]"
     ]
    },
    {
     "name": "stdout",
     "output_type": "stream",
     "text": [
      "[I 2024-10-19 23:37:40,136] Trial 386 finished with value: 0.8879345655441284 and parameters: {'n_hidden_layers': 3, 'activation': 'elu', 'learning_rate': 0.0009029735627785871, 'optimizer': 'adam', 'dropout_rate': 0.28286780964567043, 'n_neurons': 116, 'batch_size': 1}. Best is trial 368 with value: 0.8985685110092163.\n"
     ]
    },
    {
     "name": "stderr",
     "output_type": "stream",
     "text": [
      "Best trial: 368. Best value: 0.898569:  39%|███▉      | 388/1000 [8:48:47<18:09:07, 106.78s/it]"
     ]
    },
    {
     "name": "stdout",
     "output_type": "stream",
     "text": [
      "[I 2024-10-19 23:39:52,727] Trial 387 finished with value: 0.8961145281791687 and parameters: {'n_hidden_layers': 2, 'activation': 'elu', 'learning_rate': 0.001013801597567191, 'optimizer': 'adam', 'dropout_rate': 0.27340362181811406, 'n_neurons': 125, 'batch_size': 2}. Best is trial 368 with value: 0.8985685110092163.\n"
     ]
    },
    {
     "name": "stderr",
     "output_type": "stream",
     "text": [
      "Best trial: 368. Best value: 0.898569:  39%|███▉      | 389/1000 [8:50:50<18:58:10, 111.77s/it]"
     ]
    },
    {
     "name": "stdout",
     "output_type": "stream",
     "text": [
      "[I 2024-10-19 23:41:56,142] Trial 388 finished with value: 0.8936605453491211 and parameters: {'n_hidden_layers': 2, 'activation': 'elu', 'learning_rate': 0.001044989232965171, 'optimizer': 'adam', 'dropout_rate': 0.26514800205022665, 'n_neurons': 119, 'batch_size': 2}. Best is trial 368 with value: 0.8985685110092163.\n"
     ]
    },
    {
     "name": "stderr",
     "output_type": "stream",
     "text": [
      "Best trial: 368. Best value: 0.898569:  39%|███▉      | 390/1000 [8:52:56<19:39:41, 116.04s/it]"
     ]
    },
    {
     "name": "stdout",
     "output_type": "stream",
     "text": [
      "[I 2024-10-19 23:44:02,136] Trial 389 finished with value: 0.8924335241317749 and parameters: {'n_hidden_layers': 2, 'activation': 'elu', 'learning_rate': 0.000649279466307253, 'optimizer': 'adam', 'dropout_rate': 0.2708155555564229, 'n_neurons': 123, 'batch_size': 2}. Best is trial 368 with value: 0.8985685110092163.\n"
     ]
    },
    {
     "name": "stderr",
     "output_type": "stream",
     "text": [
      "Best trial: 368. Best value: 0.898569:  39%|███▉      | 391/1000 [8:55:13<20:41:32, 122.32s/it]"
     ]
    },
    {
     "name": "stdout",
     "output_type": "stream",
     "text": [
      "[I 2024-10-19 23:46:19,117] Trial 390 finished with value: 0.8936605453491211 and parameters: {'n_hidden_layers': 2, 'activation': 'elu', 'learning_rate': 0.0007799970438279279, 'optimizer': 'adam', 'dropout_rate': 0.24021779322494122, 'n_neurons': 113, 'batch_size': 2}. Best is trial 368 with value: 0.8985685110092163.\n"
     ]
    },
    {
     "name": "stderr",
     "output_type": "stream",
     "text": [
      "Best trial: 368. Best value: 0.898569:  39%|███▉      | 392/1000 [8:58:02<23:00:33, 136.24s/it]"
     ]
    },
    {
     "name": "stdout",
     "output_type": "stream",
     "text": [
      "[I 2024-10-19 23:49:07,838] Trial 391 finished with value: 0.8932515382766724 and parameters: {'n_hidden_layers': 2, 'activation': 'elu', 'learning_rate': 0.0012281093081535463, 'optimizer': 'adam', 'dropout_rate': 0.25878293827229404, 'n_neurons': 106, 'batch_size': 2}. Best is trial 368 with value: 0.8985685110092163.\n"
     ]
    },
    {
     "name": "stderr",
     "output_type": "stream",
     "text": [
      "Best trial: 368. Best value: 0.898569:  39%|███▉      | 393/1000 [9:00:47<24:25:01, 144.81s/it]"
     ]
    },
    {
     "name": "stdout",
     "output_type": "stream",
     "text": [
      "[I 2024-10-19 23:51:52,657] Trial 392 finished with value: 0.890388548374176 and parameters: {'n_hidden_layers': 2, 'activation': 'elu', 'learning_rate': 0.0005750869704449633, 'optimizer': 'adam', 'dropout_rate': 0.2730927578538962, 'n_neurons': 111, 'batch_size': 2}. Best is trial 368 with value: 0.8985685110092163.\n"
     ]
    },
    {
     "name": "stderr",
     "output_type": "stream",
     "text": [
      "Best trial: 368. Best value: 0.898569:  39%|███▉      | 394/1000 [9:03:49<26:15:15, 155.97s/it]"
     ]
    },
    {
     "name": "stdout",
     "output_type": "stream",
     "text": [
      "[I 2024-10-19 23:54:54,643] Trial 393 finished with value: 0.8805726170539856 and parameters: {'n_hidden_layers': 2, 'activation': 'elu', 'learning_rate': 0.0007247180896575671, 'optimizer': 'sgd', 'dropout_rate': 0.2168564325158102, 'n_neurons': 120, 'batch_size': 2}. Best is trial 368 with value: 0.8985685110092163.\n"
     ]
    },
    {
     "name": "stderr",
     "output_type": "stream",
     "text": [
      "Best trial: 368. Best value: 0.898569:  40%|███▉      | 395/1000 [9:05:14<22:38:20, 134.71s/it]"
     ]
    },
    {
     "name": "stdout",
     "output_type": "stream",
     "text": [
      "[I 2024-10-19 23:56:19,761] Trial 394 finished with value: 0.8907975554466248 and parameters: {'n_hidden_layers': 2, 'activation': 'elu', 'learning_rate': 0.0005400475100232027, 'optimizer': 'adam', 'dropout_rate': 0.20641071930910512, 'n_neurons': 115, 'batch_size': 4}. Best is trial 368 with value: 0.8985685110092163.\n"
     ]
    },
    {
     "name": "stderr",
     "output_type": "stream",
     "text": [
      "Best trial: 368. Best value: 0.898569:  40%|███▉      | 396/1000 [9:08:32<25:46:40, 153.64s/it]"
     ]
    },
    {
     "name": "stdout",
     "output_type": "stream",
     "text": [
      "[I 2024-10-19 23:59:37,581] Trial 395 finished with value: 0.8936605453491211 and parameters: {'n_hidden_layers': 2, 'activation': 'tanh', 'learning_rate': 0.0002551469956297488, 'optimizer': 'adam', 'dropout_rate': 0.224216221666238, 'n_neurons': 125, 'batch_size': 2}. Best is trial 368 with value: 0.8985685110092163.\n"
     ]
    },
    {
     "name": "stderr",
     "output_type": "stream",
     "text": [
      "Best trial: 368. Best value: 0.898569:  40%|███▉      | 397/1000 [9:09:54<22:09:10, 132.26s/it]"
     ]
    },
    {
     "name": "stdout",
     "output_type": "stream",
     "text": [
      "[I 2024-10-20 00:00:59,935] Trial 396 finished with value: 0.8916155695915222 and parameters: {'n_hidden_layers': 2, 'activation': 'elu', 'learning_rate': 0.0009825461979442731, 'optimizer': 'adam', 'dropout_rate': 0.35132769668779323, 'n_neurons': 108, 'batch_size': 4}. Best is trial 368 with value: 0.8985685110092163.\n"
     ]
    },
    {
     "name": "stderr",
     "output_type": "stream",
     "text": [
      "Best trial: 368. Best value: 0.898569:  40%|███▉      | 398/1000 [9:12:33<23:26:46, 140.21s/it]"
     ]
    },
    {
     "name": "stdout",
     "output_type": "stream",
     "text": [
      "[I 2024-10-20 00:03:38,702] Trial 397 finished with value: 0.8912065625190735 and parameters: {'n_hidden_layers': 2, 'activation': 'elu', 'learning_rate': 0.0008580449205902643, 'optimizer': 'adam', 'dropout_rate': 0.3780057079522702, 'n_neurons': 117, 'batch_size': 2}. Best is trial 368 with value: 0.8985685110092163.\n"
     ]
    },
    {
     "name": "stderr",
     "output_type": "stream",
     "text": [
      "Best trial: 368. Best value: 0.898569:  40%|███▉      | 399/1000 [9:13:30<19:15:18, 115.34s/it]"
     ]
    },
    {
     "name": "stdout",
     "output_type": "stream",
     "text": [
      "[I 2024-10-20 00:04:36,005] Trial 398 finished with value: 0.8928425312042236 and parameters: {'n_hidden_layers': 2, 'activation': 'elu', 'learning_rate': 0.0013472618814006274, 'optimizer': 'adam', 'dropout_rate': 0.25283422539928135, 'n_neurons': 71, 'batch_size': 4}. Best is trial 368 with value: 0.8985685110092163.\n"
     ]
    },
    {
     "name": "stderr",
     "output_type": "stream",
     "text": [
      "Best trial: 368. Best value: 0.898569:  40%|████      | 400/1000 [9:14:06<15:14:53, 91.49s/it] "
     ]
    },
    {
     "name": "stdout",
     "output_type": "stream",
     "text": [
      "[I 2024-10-20 00:05:11,849] Trial 399 finished with value: 0.8948875069618225 and parameters: {'n_hidden_layers': 3, 'activation': 'elu', 'learning_rate': 0.0006436739259544364, 'optimizer': 'adam', 'dropout_rate': 0.27941560613360816, 'n_neurons': 89, 'batch_size': 16}. Best is trial 368 with value: 0.8985685110092163.\n"
     ]
    },
    {
     "name": "stderr",
     "output_type": "stream",
     "text": [
      "Best trial: 368. Best value: 0.898569:  40%|████      | 401/1000 [9:16:57<19:11:49, 115.38s/it]"
     ]
    },
    {
     "name": "stdout",
     "output_type": "stream",
     "text": [
      "[I 2024-10-20 00:08:02,960] Trial 400 finished with value: 0.8912065625190735 and parameters: {'n_hidden_layers': 2, 'activation': 'elu', 'learning_rate': 0.00047482881879857804, 'optimizer': 'adam', 'dropout_rate': 0.36207362184902664, 'n_neurons': 84, 'batch_size': 2}. Best is trial 368 with value: 0.8985685110092163.\n"
     ]
    },
    {
     "name": "stderr",
     "output_type": "stream",
     "text": [
      "Best trial: 368. Best value: 0.898569:  40%|████      | 402/1000 [9:18:04<16:45:50, 100.92s/it]"
     ]
    },
    {
     "name": "stdout",
     "output_type": "stream",
     "text": [
      "[I 2024-10-20 00:09:10,151] Trial 401 finished with value: 0.8944784998893738 and parameters: {'n_hidden_layers': 3, 'activation': 'elu', 'learning_rate': 0.000751840350486791, 'optimizer': 'adam', 'dropout_rate': 0.23536914585137017, 'n_neurons': 110, 'batch_size': 4}. Best is trial 368 with value: 0.8985685110092163.\n"
     ]
    },
    {
     "name": "stderr",
     "output_type": "stream",
     "text": [
      "Best trial: 368. Best value: 0.898569:  40%|████      | 403/1000 [9:20:07<17:49:06, 107.45s/it]"
     ]
    },
    {
     "name": "stdout",
     "output_type": "stream",
     "text": [
      "[I 2024-10-20 00:11:12,833] Trial 402 finished with value: 0.8850715756416321 and parameters: {'n_hidden_layers': 3, 'activation': 'elu', 'learning_rate': 5.230366740324504e-05, 'optimizer': 'adam', 'dropout_rate': 0.33078792384055966, 'n_neurons': 123, 'batch_size': 4}. Best is trial 368 with value: 0.8985685110092163.\n"
     ]
    },
    {
     "name": "stderr",
     "output_type": "stream",
     "text": [
      "Best trial: 368. Best value: 0.898569:  40%|████      | 404/1000 [9:21:49<17:30:53, 105.79s/it]"
     ]
    },
    {
     "name": "stdout",
     "output_type": "stream",
     "text": [
      "[I 2024-10-20 00:12:54,764] Trial 403 finished with value: 0.8924335241317749 and parameters: {'n_hidden_layers': 3, 'activation': 'elu', 'learning_rate': 0.0011043267149639909, 'optimizer': 'adam', 'dropout_rate': 0.298059058349558, 'n_neurons': 113, 'batch_size': 2}. Best is trial 368 with value: 0.8985685110092163.\n"
     ]
    },
    {
     "name": "stderr",
     "output_type": "stream",
     "text": [
      "Best trial: 368. Best value: 0.898569:  40%|████      | 405/1000 [9:23:01<15:49:24, 95.74s/it] "
     ]
    },
    {
     "name": "stdout",
     "output_type": "stream",
     "text": [
      "[I 2024-10-20 00:14:07,045] Trial 404 finished with value: 0.8912065625190735 and parameters: {'n_hidden_layers': 2, 'activation': 'elu', 'learning_rate': 0.0008745454244970671, 'optimizer': 'adam', 'dropout_rate': 0.36608963838999886, 'n_neurons': 120, 'batch_size': 4}. Best is trial 368 with value: 0.8985685110092163.\n"
     ]
    },
    {
     "name": "stderr",
     "output_type": "stream",
     "text": [
      "Best trial: 368. Best value: 0.898569:  41%|████      | 406/1000 [9:26:20<20:53:56, 126.66s/it]"
     ]
    },
    {
     "name": "stdout",
     "output_type": "stream",
     "text": [
      "[I 2024-10-20 00:17:25,853] Trial 405 finished with value: 0.8936605453491211 and parameters: {'n_hidden_layers': 3, 'activation': 'elu', 'learning_rate': 0.00029203860015998545, 'optimizer': 'adam', 'dropout_rate': 0.22656576943488416, 'n_neurons': 67, 'batch_size': 2}. Best is trial 368 with value: 0.8985685110092163.\n"
     ]
    },
    {
     "name": "stderr",
     "output_type": "stream",
     "text": [
      "Best trial: 368. Best value: 0.898569:  41%|████      | 407/1000 [9:27:26<17:53:26, 108.61s/it]"
     ]
    },
    {
     "name": "stdout",
     "output_type": "stream",
     "text": [
      "[I 2024-10-20 00:18:32,350] Trial 406 finished with value: 0.8920245170593262 and parameters: {'n_hidden_layers': 3, 'activation': 'elu', 'learning_rate': 0.0006739272301515469, 'optimizer': 'adam', 'dropout_rate': 0.24553336679284998, 'n_neurons': 118, 'batch_size': 4}. Best is trial 368 with value: 0.8985685110092163.\n"
     ]
    },
    {
     "name": "stderr",
     "output_type": "stream",
     "text": [
      "Best trial: 368. Best value: 0.898569:  41%|████      | 408/1000 [9:28:33<15:45:53, 95.87s/it] "
     ]
    },
    {
     "name": "stdout",
     "output_type": "stream",
     "text": [
      "[I 2024-10-20 00:19:38,479] Trial 407 finished with value: 0.8593047261238098 and parameters: {'n_hidden_layers': 2, 'activation': 'elu', 'learning_rate': 0.0005436071130568265, 'optimizer': 'rmsprop', 'dropout_rate': 0.2141514421087504, 'n_neurons': 122, 'batch_size': 2}. Best is trial 368 with value: 0.8985685110092163.\n"
     ]
    },
    {
     "name": "stderr",
     "output_type": "stream",
     "text": [
      "Best trial: 368. Best value: 0.898569:  41%|████      | 409/1000 [9:29:51<14:53:55, 90.75s/it]"
     ]
    },
    {
     "name": "stdout",
     "output_type": "stream",
     "text": [
      "[I 2024-10-20 00:20:57,302] Trial 408 finished with value: 0.8932515382766724 and parameters: {'n_hidden_layers': 3, 'activation': 'elu', 'learning_rate': 0.0007916529871497899, 'optimizer': 'adam', 'dropout_rate': 0.27188777033730394, 'n_neurons': 109, 'batch_size': 4}. Best is trial 368 with value: 0.8985685110092163.\n"
     ]
    },
    {
     "name": "stderr",
     "output_type": "stream",
     "text": [
      "Best trial: 368. Best value: 0.898569:  41%|████      | 410/1000 [9:31:18<14:39:10, 89.41s/it]"
     ]
    },
    {
     "name": "stdout",
     "output_type": "stream",
     "text": [
      "[I 2024-10-20 00:22:23,570] Trial 409 finished with value: 0.8944784998893738 and parameters: {'n_hidden_layers': 3, 'activation': 'elu', 'learning_rate': 0.0006033431027106594, 'optimizer': 'adam', 'dropout_rate': 0.26169961224781846, 'n_neurons': 115, 'batch_size': 4}. Best is trial 368 with value: 0.8985685110092163.\n"
     ]
    },
    {
     "name": "stderr",
     "output_type": "stream",
     "text": [
      "Best trial: 368. Best value: 0.898569:  41%|████      | 411/1000 [9:32:59<15:14:17, 93.14s/it]"
     ]
    },
    {
     "name": "stdout",
     "output_type": "stream",
     "text": [
      "[I 2024-10-20 00:24:05,405] Trial 410 finished with value: 0.8961145281791687 and parameters: {'n_hidden_layers': 3, 'activation': 'elu', 'learning_rate': 0.0011463827242370922, 'optimizer': 'adam', 'dropout_rate': 0.30444574841848215, 'n_neurons': 105, 'batch_size': 2}. Best is trial 368 with value: 0.8985685110092163.\n"
     ]
    },
    {
     "name": "stderr",
     "output_type": "stream",
     "text": [
      "Best trial: 368. Best value: 0.898569:  41%|████      | 412/1000 [9:35:00<16:34:20, 101.46s/it]"
     ]
    },
    {
     "name": "stdout",
     "output_type": "stream",
     "text": [
      "[I 2024-10-20 00:26:06,301] Trial 411 finished with value: 0.8944784998893738 and parameters: {'n_hidden_layers': 2, 'activation': 'elu', 'learning_rate': 0.0012317380781335535, 'optimizer': 'adam', 'dropout_rate': 0.3095205183890068, 'n_neurons': 99, 'batch_size': 2}. Best is trial 368 with value: 0.8985685110092163.\n"
     ]
    },
    {
     "name": "stderr",
     "output_type": "stream",
     "text": [
      "Best trial: 368. Best value: 0.898569:  41%|████▏     | 413/1000 [9:35:22<12:38:13, 77.50s/it] "
     ]
    },
    {
     "name": "stdout",
     "output_type": "stream",
     "text": [
      "[I 2024-10-20 00:26:27,889] Trial 412 finished with value: 0.8916155695915222 and parameters: {'n_hidden_layers': 3, 'activation': 'elu', 'learning_rate': 0.0010518659099690438, 'optimizer': 'adam', 'dropout_rate': 0.2950467702529732, 'n_neurons': 103, 'batch_size': 32}. Best is trial 368 with value: 0.8985685110092163.\n"
     ]
    },
    {
     "name": "stderr",
     "output_type": "stream",
     "text": [
      "Best trial: 368. Best value: 0.898569:  41%|████▏     | 414/1000 [9:36:17<11:32:15, 70.88s/it]"
     ]
    },
    {
     "name": "stdout",
     "output_type": "stream",
     "text": [
      "[I 2024-10-20 00:27:23,321] Trial 413 finished with value: 0.8924335241317749 and parameters: {'n_hidden_layers': 3, 'activation': 'elu', 'learning_rate': 0.0013985854845204252, 'optimizer': 'adam', 'dropout_rate': 0.30133066196656927, 'n_neurons': 104, 'batch_size': 4}. Best is trial 368 with value: 0.8985685110092163.\n"
     ]
    },
    {
     "name": "stderr",
     "output_type": "stream",
     "text": [
      "Best trial: 368. Best value: 0.898569:  42%|████▏     | 415/1000 [9:38:34<14:43:01, 90.57s/it]"
     ]
    },
    {
     "name": "stdout",
     "output_type": "stream",
     "text": [
      "[I 2024-10-20 00:29:39,820] Trial 414 finished with value: 0.8912065625190735 and parameters: {'n_hidden_layers': 3, 'activation': 'elu', 'learning_rate': 0.0011692197677947, 'optimizer': 'adam', 'dropout_rate': 0.28860662211377985, 'n_neurons': 106, 'batch_size': 2}. Best is trial 368 with value: 0.8985685110092163.\n"
     ]
    },
    {
     "name": "stderr",
     "output_type": "stream",
     "text": [
      "Best trial: 368. Best value: 0.898569:  42%|████▏     | 416/1000 [9:39:46<13:47:59, 85.07s/it]"
     ]
    },
    {
     "name": "stdout",
     "output_type": "stream",
     "text": [
      "[I 2024-10-20 00:30:52,056] Trial 415 finished with value: 0.8920245170593262 and parameters: {'n_hidden_layers': 2, 'activation': 'elu', 'learning_rate': 0.0009654560437988241, 'optimizer': 'adam', 'dropout_rate': 0.3032760402014987, 'n_neurons': 105, 'batch_size': 4}. Best is trial 368 with value: 0.8985685110092163.\n"
     ]
    },
    {
     "name": "stderr",
     "output_type": "stream",
     "text": [
      "Best trial: 368. Best value: 0.898569:  42%|████▏     | 417/1000 [9:41:29<14:39:22, 90.50s/it]"
     ]
    },
    {
     "name": "stdout",
     "output_type": "stream",
     "text": [
      "[I 2024-10-20 00:32:35,242] Trial 416 finished with value: 0.8805726170539856 and parameters: {'n_hidden_layers': 3, 'activation': 'elu', 'learning_rate': 0.0010036558357693112, 'optimizer': 'sgd', 'dropout_rate': 0.31389686741634404, 'n_neurons': 107, 'batch_size': 4}. Best is trial 368 with value: 0.8985685110092163.\n"
     ]
    },
    {
     "name": "stderr",
     "output_type": "stream",
     "text": [
      "Best trial: 368. Best value: 0.898569:  42%|████▏     | 418/1000 [9:41:41<10:47:12, 66.72s/it]"
     ]
    },
    {
     "name": "stdout",
     "output_type": "stream",
     "text": [
      "[I 2024-10-20 00:32:46,478] Trial 417 finished with value: 0.8924335241317749 and parameters: {'n_hidden_layers': 3, 'activation': 'tanh', 'learning_rate': 0.000894226194418794, 'optimizer': 'adam', 'dropout_rate': 0.27684249708088154, 'n_neurons': 111, 'batch_size': 128}. Best is trial 368 with value: 0.8985685110092163.\n"
     ]
    },
    {
     "name": "stderr",
     "output_type": "stream",
     "text": [
      "Best trial: 368. Best value: 0.898569:  42%|████▏     | 419/1000 [9:43:21<12:23:31, 76.78s/it]"
     ]
    },
    {
     "name": "stdout",
     "output_type": "stream",
     "text": [
      "[I 2024-10-20 00:34:26,738] Trial 418 finished with value: 0.8920245170593262 and parameters: {'n_hidden_layers': 3, 'activation': 'elu', 'learning_rate': 0.001248154136612238, 'optimizer': 'adam', 'dropout_rate': 0.17475769307147715, 'n_neurons': 108, 'batch_size': 2}. Best is trial 368 with value: 0.8985685110092163.\n"
     ]
    },
    {
     "name": "stderr",
     "output_type": "stream",
     "text": [
      "Best trial: 368. Best value: 0.898569:  42%|████▏     | 420/1000 [9:44:22<11:38:06, 72.22s/it]"
     ]
    },
    {
     "name": "stdout",
     "output_type": "stream",
     "text": [
      "[I 2024-10-20 00:35:28,301] Trial 419 finished with value: 0.8932515382766724 and parameters: {'n_hidden_layers': 3, 'activation': 'elu', 'learning_rate': 0.0008011401593439736, 'optimizer': 'adam', 'dropout_rate': 0.28268379606673744, 'n_neurons': 101, 'batch_size': 4}. Best is trial 368 with value: 0.8985685110092163.\n"
     ]
    },
    {
     "name": "stderr",
     "output_type": "stream",
     "text": [
      "Best trial: 368. Best value: 0.898569:  42%|████▏     | 421/1000 [9:47:23<16:49:46, 104.64s/it]"
     ]
    },
    {
     "name": "stdout",
     "output_type": "stream",
     "text": [
      "[I 2024-10-20 00:38:28,592] Trial 420 finished with value: 0.8879345655441284 and parameters: {'n_hidden_layers': 2, 'activation': 'elu', 'learning_rate': 0.0010791591884583695, 'optimizer': 'adam', 'dropout_rate': 0.23696503258663448, 'n_neurons': 112, 'batch_size': 1}. Best is trial 368 with value: 0.8985685110092163.\n"
     ]
    },
    {
     "name": "stderr",
     "output_type": "stream",
     "text": [
      "Best trial: 368. Best value: 0.898569:  42%|████▏     | 422/1000 [9:49:01<16:29:09, 102.68s/it]"
     ]
    },
    {
     "name": "stdout",
     "output_type": "stream",
     "text": [
      "[I 2024-10-20 00:40:06,703] Trial 421 finished with value: 0.8846625685691833 and parameters: {'n_hidden_layers': 3, 'activation': 'elu', 'learning_rate': 0.0015103873995573058, 'optimizer': 'adam', 'dropout_rate': 0.29327966962961766, 'n_neurons': 62, 'batch_size': 2}. Best is trial 368 with value: 0.8985685110092163.\n"
     ]
    },
    {
     "name": "stderr",
     "output_type": "stream",
     "text": [
      "Best trial: 368. Best value: 0.898569:  42%|████▏     | 423/1000 [9:50:55<17:01:23, 106.21s/it]"
     ]
    },
    {
     "name": "stdout",
     "output_type": "stream",
     "text": [
      "[I 2024-10-20 00:42:01,151] Trial 422 finished with value: 0.8932515382766724 and parameters: {'n_hidden_layers': 3, 'activation': 'elu', 'learning_rate': 0.000343533502236871, 'optimizer': 'adam', 'dropout_rate': 0.30250599909361914, 'n_neurons': 95, 'batch_size': 4}. Best is trial 368 with value: 0.8985685110092163.\n"
     ]
    },
    {
     "name": "stderr",
     "output_type": "stream",
     "text": [
      "Best trial: 368. Best value: 0.898569:  42%|████▏     | 424/1000 [9:53:04<18:03:49, 112.90s/it]"
     ]
    },
    {
     "name": "stdout",
     "output_type": "stream",
     "text": [
      "[I 2024-10-20 00:44:09,653] Trial 423 finished with value: 0.8924335241317749 and parameters: {'n_hidden_layers': 2, 'activation': 'elu', 'learning_rate': 0.0007571658974273854, 'optimizer': 'adam', 'dropout_rate': 0.22879439256486178, 'n_neurons': 109, 'batch_size': 2}. Best is trial 368 with value: 0.8985685110092163.\n"
     ]
    },
    {
     "name": "stderr",
     "output_type": "stream",
     "text": [
      "Best trial: 368. Best value: 0.898569:  42%|████▎     | 425/1000 [9:54:01<15:23:00, 96.31s/it] "
     ]
    },
    {
     "name": "stdout",
     "output_type": "stream",
     "text": [
      "[I 2024-10-20 00:45:07,272] Trial 424 finished with value: 0.8965235352516174 and parameters: {'n_hidden_layers': 3, 'activation': 'elu', 'learning_rate': 0.000904666038896265, 'optimizer': 'adam', 'dropout_rate': 0.31112332055177455, 'n_neurons': 113, 'batch_size': 4}. Best is trial 368 with value: 0.8985685110092163.\n"
     ]
    },
    {
     "name": "stderr",
     "output_type": "stream",
     "text": [
      "Best trial: 368. Best value: 0.898569:  43%|████▎     | 426/1000 [9:55:00<13:34:00, 85.09s/it]"
     ]
    },
    {
     "name": "stdout",
     "output_type": "stream",
     "text": [
      "[I 2024-10-20 00:46:06,163] Trial 425 finished with value: 0.8932515382766724 and parameters: {'n_hidden_layers': 3, 'activation': 'elu', 'learning_rate': 0.0009876280231021822, 'optimizer': 'adam', 'dropout_rate': 0.44022926650820526, 'n_neurons': 113, 'batch_size': 4}. Best is trial 368 with value: 0.8985685110092163.\n"
     ]
    },
    {
     "name": "stderr",
     "output_type": "stream",
     "text": [
      "Best trial: 368. Best value: 0.898569:  43%|████▎     | 427/1000 [9:56:47<14:33:57, 91.51s/it]"
     ]
    },
    {
     "name": "stdout",
     "output_type": "stream",
     "text": [
      "[I 2024-10-20 00:47:52,672] Trial 426 finished with value: 0.8899795413017273 and parameters: {'n_hidden_layers': 3, 'activation': 'elu', 'learning_rate': 0.001121033317616578, 'optimizer': 'adam', 'dropout_rate': 0.3279312534460199, 'n_neurons': 111, 'batch_size': 2}. Best is trial 368 with value: 0.8985685110092163.\n"
     ]
    },
    {
     "name": "stderr",
     "output_type": "stream",
     "text": [
      "Best trial: 368. Best value: 0.898569:  43%|████▎     | 428/1000 [9:58:01<13:41:49, 86.21s/it]"
     ]
    },
    {
     "name": "stdout",
     "output_type": "stream",
     "text": [
      "[I 2024-10-20 00:49:06,490] Trial 427 finished with value: 0.8932515382766724 and parameters: {'n_hidden_layers': 3, 'activation': 'elu', 'learning_rate': 0.0008906016398105504, 'optimizer': 'adam', 'dropout_rate': 0.32135508133509855, 'n_neurons': 106, 'batch_size': 4}. Best is trial 368 with value: 0.8985685110092163.\n"
     ]
    },
    {
     "name": "stderr",
     "output_type": "stream",
     "text": [
      "Best trial: 368. Best value: 0.898569:  43%|████▎     | 429/1000 [9:58:27<10:50:52, 68.39s/it]"
     ]
    },
    {
     "name": "stdout",
     "output_type": "stream",
     "text": [
      "[I 2024-10-20 00:49:33,322] Trial 428 finished with value: 0.8940695524215698 and parameters: {'n_hidden_layers': 3, 'activation': 'elu', 'learning_rate': 0.0007024623541436553, 'optimizer': 'adam', 'dropout_rate': 0.19639786638036677, 'n_neurons': 109, 'batch_size': 16}. Best is trial 368 with value: 0.8985685110092163.\n"
     ]
    },
    {
     "name": "stderr",
     "output_type": "stream",
     "text": [
      "Best trial: 368. Best value: 0.898569:  43%|████▎     | 430/1000 [10:00:06<12:15:11, 77.39s/it]"
     ]
    },
    {
     "name": "stdout",
     "output_type": "stream",
     "text": [
      "[I 2024-10-20 00:51:11,699] Trial 429 finished with value: 0.8952965140342712 and parameters: {'n_hidden_layers': 3, 'activation': 'elu', 'learning_rate': 0.0012820484779934253, 'optimizer': 'adam', 'dropout_rate': 0.31348046626659226, 'n_neurons': 114, 'batch_size': 2}. Best is trial 368 with value: 0.8985685110092163.\n"
     ]
    },
    {
     "name": "stderr",
     "output_type": "stream",
     "text": [
      "Best trial: 368. Best value: 0.898569:  43%|████▎     | 431/1000 [10:01:49<13:26:15, 85.02s/it]"
     ]
    },
    {
     "name": "stdout",
     "output_type": "stream",
     "text": [
      "[I 2024-10-20 00:52:54,524] Trial 430 finished with value: 0.8912065625190735 and parameters: {'n_hidden_layers': 3, 'activation': 'elu', 'learning_rate': 0.00038992651086481965, 'optimizer': 'adam', 'dropout_rate': 0.4155605601434049, 'n_neurons': 110, 'batch_size': 4}. Best is trial 368 with value: 0.8985685110092163.\n"
     ]
    },
    {
     "name": "stderr",
     "output_type": "stream",
     "text": [
      "Best trial: 368. Best value: 0.898569:  43%|████▎     | 432/1000 [10:02:39<11:45:33, 74.53s/it]"
     ]
    },
    {
     "name": "stdout",
     "output_type": "stream",
     "text": [
      "[I 2024-10-20 00:53:44,581] Trial 431 finished with value: 0.8793455958366394 and parameters: {'n_hidden_layers': 3, 'activation': 'elu', 'learning_rate': 0.00048108979738995965, 'optimizer': 'rmsprop', 'dropout_rate': 0.21956122706264686, 'n_neurons': 112, 'batch_size': 4}. Best is trial 368 with value: 0.8985685110092163.\n"
     ]
    },
    {
     "name": "stderr",
     "output_type": "stream",
     "text": [
      "Best trial: 368. Best value: 0.898569:  43%|████▎     | 433/1000 [10:04:08<12:25:42, 78.91s/it]"
     ]
    },
    {
     "name": "stdout",
     "output_type": "stream",
     "text": [
      "[I 2024-10-20 00:55:13,711] Trial 432 finished with value: 0.8928425312042236 and parameters: {'n_hidden_layers': 3, 'activation': 'elu', 'learning_rate': 0.0017160439489545434, 'optimizer': 'adam', 'dropout_rate': 0.18617380885046367, 'n_neurons': 104, 'batch_size': 2}. Best is trial 368 with value: 0.8985685110092163.\n"
     ]
    },
    {
     "name": "stderr",
     "output_type": "stream",
     "text": [
      "Best trial: 368. Best value: 0.898569:  43%|████▎     | 434/1000 [10:05:09<11:34:14, 73.59s/it]"
     ]
    },
    {
     "name": "stdout",
     "output_type": "stream",
     "text": [
      "[I 2024-10-20 00:56:14,899] Trial 433 finished with value: 0.8961145281791687 and parameters: {'n_hidden_layers': 3, 'activation': 'elu', 'learning_rate': 0.0008571771886377273, 'optimizer': 'adam', 'dropout_rate': 0.26654187155281367, 'n_neurons': 107, 'batch_size': 4}. Best is trial 368 with value: 0.8985685110092163.\n"
     ]
    },
    {
     "name": "stderr",
     "output_type": "stream",
     "text": [
      "Best trial: 368. Best value: 0.898569:  44%|████▎     | 435/1000 [10:06:12<11:04:03, 70.52s/it]"
     ]
    },
    {
     "name": "stdout",
     "output_type": "stream",
     "text": [
      "[I 2024-10-20 00:57:18,243] Trial 434 finished with value: 0.8895705342292786 and parameters: {'n_hidden_layers': 3, 'activation': 'elu', 'learning_rate': 0.0009260264911245475, 'optimizer': 'adam', 'dropout_rate': 0.27290826293967285, 'n_neurons': 101, 'batch_size': 4}. Best is trial 368 with value: 0.8985685110092163.\n"
     ]
    },
    {
     "name": "stderr",
     "output_type": "stream",
     "text": [
      "Best trial: 368. Best value: 0.898569:  44%|████▎     | 436/1000 [10:09:57<18:17:13, 116.73s/it]"
     ]
    },
    {
     "name": "stdout",
     "output_type": "stream",
     "text": [
      "[I 2024-10-20 01:01:02,782] Trial 435 finished with value: 0.8879345655441284 and parameters: {'n_hidden_layers': 3, 'activation': 'elu', 'learning_rate': 4.15779506313097e-05, 'optimizer': 'adam', 'dropout_rate': 0.2559590794513698, 'n_neurons': 107, 'batch_size': 2}. Best is trial 368 with value: 0.8985685110092163.\n"
     ]
    },
    {
     "name": "stderr",
     "output_type": "stream",
     "text": [
      "Best trial: 368. Best value: 0.898569:  44%|████▎     | 437/1000 [10:11:11<16:14:51, 103.89s/it]"
     ]
    },
    {
     "name": "stdout",
     "output_type": "stream",
     "text": [
      "[I 2024-10-20 01:02:16,732] Trial 436 finished with value: 0.8948875069618225 and parameters: {'n_hidden_layers': 3, 'activation': 'elu', 'learning_rate': 0.0008300832388842824, 'optimizer': 'adam', 'dropout_rate': 0.2661322515699398, 'n_neurons': 105, 'batch_size': 4}. Best is trial 368 with value: 0.8985685110092163.\n"
     ]
    },
    {
     "name": "stderr",
     "output_type": "stream",
     "text": [
      "Best trial: 368. Best value: 0.898569:  44%|████▍     | 438/1000 [10:12:49<15:57:29, 102.22s/it]"
     ]
    },
    {
     "name": "stdout",
     "output_type": "stream",
     "text": [
      "[I 2024-10-20 01:03:55,058] Trial 437 finished with value: 0.8875255584716797 and parameters: {'n_hidden_layers': 3, 'activation': 'elu', 'learning_rate': 0.0011128974914415386, 'optimizer': 'adam', 'dropout_rate': 0.25000836798152665, 'n_neurons': 108, 'batch_size': 2}. Best is trial 368 with value: 0.8985685110092163.\n"
     ]
    },
    {
     "name": "stderr",
     "output_type": "stream",
     "text": [
      "Best trial: 368. Best value: 0.898569:  44%|████▍     | 439/1000 [10:14:44<16:31:12, 106.01s/it]"
     ]
    },
    {
     "name": "stdout",
     "output_type": "stream",
     "text": [
      "[I 2024-10-20 01:05:49,912] Trial 438 finished with value: 0.8936605453491211 and parameters: {'n_hidden_layers': 3, 'activation': 'elu', 'learning_rate': 0.0003086347710114049, 'optimizer': 'adam', 'dropout_rate': 0.2664721486012046, 'n_neurons': 103, 'batch_size': 4}. Best is trial 368 with value: 0.8985685110092163.\n"
     ]
    },
    {
     "name": "stderr",
     "output_type": "stream",
     "text": [
      "Best trial: 368. Best value: 0.898569:  44%|████▍     | 440/1000 [10:17:59<20:38:35, 132.71s/it]"
     ]
    },
    {
     "name": "stdout",
     "output_type": "stream",
     "text": [
      "[I 2024-10-20 01:09:04,905] Trial 439 finished with value: 0.8809816241264343 and parameters: {'n_hidden_layers': 3, 'activation': 'tanh', 'learning_rate': 0.0009824172650988545, 'optimizer': 'sgd', 'dropout_rate': 0.2576427962818151, 'n_neurons': 110, 'batch_size': 2}. Best is trial 368 with value: 0.8985685110092163.\n"
     ]
    },
    {
     "name": "stderr",
     "output_type": "stream",
     "text": [
      "Best trial: 368. Best value: 0.898569:  44%|████▍     | 441/1000 [10:18:19<15:21:05, 98.86s/it] "
     ]
    },
    {
     "name": "stdout",
     "output_type": "stream",
     "text": [
      "[I 2024-10-20 01:09:24,807] Trial 440 finished with value: 0.8944784998893738 and parameters: {'n_hidden_layers': 3, 'activation': 'elu', 'learning_rate': 0.0013589932486663416, 'optimizer': 'adam', 'dropout_rate': 0.20914722807242425, 'n_neurons': 107, 'batch_size': 32}. Best is trial 368 with value: 0.8985685110092163.\n"
     ]
    },
    {
     "name": "stderr",
     "output_type": "stream",
     "text": [
      "Best trial: 368. Best value: 0.898569:  44%|████▍     | 442/1000 [10:19:54<15:08:58, 97.74s/it]"
     ]
    },
    {
     "name": "stdout",
     "output_type": "stream",
     "text": [
      "[I 2024-10-20 01:10:59,918] Trial 441 finished with value: 0.8916155695915222 and parameters: {'n_hidden_layers': 3, 'activation': 'elu', 'learning_rate': 0.0007870538344312905, 'optimizer': 'adam', 'dropout_rate': 0.46165454750521173, 'n_neurons': 112, 'batch_size': 4}. Best is trial 368 with value: 0.8985685110092163.\n"
     ]
    },
    {
     "name": "stderr",
     "output_type": "stream",
     "text": [
      "Best trial: 368. Best value: 0.898569:  44%|████▍     | 443/1000 [10:22:56<19:02:34, 123.08s/it]"
     ]
    },
    {
     "name": "stdout",
     "output_type": "stream",
     "text": [
      "[I 2024-10-20 01:14:02,118] Trial 442 finished with value: 0.8924335241317749 and parameters: {'n_hidden_layers': 3, 'activation': 'elu', 'learning_rate': 0.00023810278502039883, 'optimizer': 'adam', 'dropout_rate': 0.24547715334632558, 'n_neurons': 108, 'batch_size': 2}. Best is trial 368 with value: 0.8985685110092163.\n"
     ]
    },
    {
     "name": "stderr",
     "output_type": "stream",
     "text": [
      "Best trial: 368. Best value: 0.898569:  44%|████▍     | 444/1000 [10:24:16<17:00:51, 110.16s/it]"
     ]
    },
    {
     "name": "stdout",
     "output_type": "stream",
     "text": [
      "[I 2024-10-20 01:15:22,150] Trial 443 finished with value: 0.8932515382766724 and parameters: {'n_hidden_layers': 3, 'activation': 'elu', 'learning_rate': 0.00044151282859725144, 'optimizer': 'adam', 'dropout_rate': 0.23656643511300007, 'n_neurons': 105, 'batch_size': 4}. Best is trial 368 with value: 0.8985685110092163.\n"
     ]
    },
    {
     "name": "stderr",
     "output_type": "stream",
     "text": [
      "Best trial: 368. Best value: 0.898569:  44%|████▍     | 445/1000 [10:26:07<17:00:04, 110.28s/it]"
     ]
    },
    {
     "name": "stdout",
     "output_type": "stream",
     "text": [
      "[I 2024-10-20 01:17:12,697] Trial 444 finished with value: 0.8920245170593262 and parameters: {'n_hidden_layers': 3, 'activation': 'elu', 'learning_rate': 0.0006451848034110689, 'optimizer': 'adam', 'dropout_rate': 0.3345324522089148, 'n_neurons': 17, 'batch_size': 4}. Best is trial 368 with value: 0.8985685110092163.\n"
     ]
    },
    {
     "name": "stderr",
     "output_type": "stream",
     "text": [
      "Best trial: 368. Best value: 0.898569:  45%|████▍     | 446/1000 [10:26:18<12:23:36, 80.53s/it] "
     ]
    },
    {
     "name": "stdout",
     "output_type": "stream",
     "text": [
      "[I 2024-10-20 01:17:23,828] Trial 445 finished with value: 0.8912065625190735 and parameters: {'n_hidden_layers': 3, 'activation': 'elu', 'learning_rate': 0.0011779543960986707, 'optimizer': 'adam', 'dropout_rate': 0.2626217447542929, 'n_neurons': 110, 'batch_size': 128}. Best is trial 368 with value: 0.8985685110092163.\n"
     ]
    },
    {
     "name": "stderr",
     "output_type": "stream",
     "text": [
      "Best trial: 368. Best value: 0.898569:  45%|████▍     | 447/1000 [10:28:04<13:33:42, 88.29s/it]"
     ]
    },
    {
     "name": "stdout",
     "output_type": "stream",
     "text": [
      "[I 2024-10-20 01:19:10,205] Trial 446 finished with value: 0.8936605453491211 and parameters: {'n_hidden_layers': 3, 'activation': 'elu', 'learning_rate': 0.0008904931813909679, 'optimizer': 'adam', 'dropout_rate': 0.22846173528291, 'n_neurons': 128, 'batch_size': 2}. Best is trial 368 with value: 0.8985685110092163.\n"
     ]
    },
    {
     "name": "stderr",
     "output_type": "stream",
     "text": [
      "Best trial: 368. Best value: 0.898569:  45%|████▍     | 448/1000 [10:29:38<13:48:08, 90.02s/it]"
     ]
    },
    {
     "name": "stdout",
     "output_type": "stream",
     "text": [
      "[I 2024-10-20 01:20:44,254] Trial 447 finished with value: 0.8916155695915222 and parameters: {'n_hidden_layers': 3, 'activation': 'elu', 'learning_rate': 0.00037583264468287294, 'optimizer': 'adam', 'dropout_rate': 0.2826227565827726, 'n_neurons': 114, 'batch_size': 4}. Best is trial 368 with value: 0.8985685110092163.\n"
     ]
    },
    {
     "name": "stderr",
     "output_type": "stream",
     "text": [
      "Best trial: 368. Best value: 0.898569:  45%|████▍     | 449/1000 [10:31:56<15:57:51, 104.30s/it]"
     ]
    },
    {
     "name": "stdout",
     "output_type": "stream",
     "text": [
      "[I 2024-10-20 01:23:01,896] Trial 448 finished with value: 0.8936605453491211 and parameters: {'n_hidden_layers': 3, 'activation': 'elu', 'learning_rate': 0.000716640045091902, 'optimizer': 'adam', 'dropout_rate': 0.24128012466673787, 'n_neurons': 112, 'batch_size': 2}. Best is trial 368 with value: 0.8985685110092163.\n"
     ]
    },
    {
     "name": "stderr",
     "output_type": "stream",
     "text": [
      "Best trial: 368. Best value: 0.898569:  45%|████▌     | 450/1000 [10:33:14<14:44:19, 96.47s/it] "
     ]
    },
    {
     "name": "stdout",
     "output_type": "stream",
     "text": [
      "[I 2024-10-20 01:24:20,095] Trial 449 finished with value: 0.8907975554466248 and parameters: {'n_hidden_layers': 3, 'activation': 'elu', 'learning_rate': 0.0008681177387254346, 'optimizer': 'adam', 'dropout_rate': 0.38570757011320983, 'n_neurons': 108, 'batch_size': 4}. Best is trial 368 with value: 0.8985685110092163.\n"
     ]
    },
    {
     "name": "stderr",
     "output_type": "stream",
     "text": [
      "Best trial: 368. Best value: 0.898569:  45%|████▌     | 451/1000 [10:35:00<15:08:44, 99.32s/it]"
     ]
    },
    {
     "name": "stdout",
     "output_type": "stream",
     "text": [
      "[I 2024-10-20 01:26:06,050] Trial 450 finished with value: 0.8952965140342712 and parameters: {'n_hidden_layers': 3, 'activation': 'elu', 'learning_rate': 0.0009734647577360157, 'optimizer': 'adam', 'dropout_rate': 0.2190630701701947, 'n_neurons': 126, 'batch_size': 2}. Best is trial 368 with value: 0.8985685110092163.\n"
     ]
    },
    {
     "name": "stderr",
     "output_type": "stream",
     "text": [
      "Best trial: 368. Best value: 0.898569:  45%|████▌     | 452/1000 [10:39:33<23:01:57, 151.31s/it]"
     ]
    },
    {
     "name": "stdout",
     "output_type": "stream",
     "text": [
      "[I 2024-10-20 01:30:38,673] Trial 451 finished with value: 0.8887525796890259 and parameters: {'n_hidden_layers': 3, 'activation': 'elu', 'learning_rate': 0.0005940890810846951, 'optimizer': 'adam', 'dropout_rate': 0.20266612103919032, 'n_neurons': 115, 'batch_size': 1}. Best is trial 368 with value: 0.8985685110092163.\n"
     ]
    },
    {
     "name": "stderr",
     "output_type": "stream",
     "text": [
      "Best trial: 368. Best value: 0.898569:  45%|████▌     | 453/1000 [10:40:19<18:13:06, 119.90s/it]"
     ]
    },
    {
     "name": "stdout",
     "output_type": "stream",
     "text": [
      "[I 2024-10-20 01:31:25,292] Trial 452 finished with value: 0.8944784998893738 and parameters: {'n_hidden_layers': 3, 'activation': 'elu', 'learning_rate': 0.001101887299011669, 'optimizer': 'adam', 'dropout_rate': 0.272819915268097, 'n_neurons': 55, 'batch_size': 8}. Best is trial 368 with value: 0.8985685110092163.\n"
     ]
    },
    {
     "name": "stderr",
     "output_type": "stream",
     "text": [
      "Best trial: 368. Best value: 0.898569:  45%|████▌     | 454/1000 [10:41:02<14:39:37, 96.66s/it] "
     ]
    },
    {
     "name": "stdout",
     "output_type": "stream",
     "text": [
      "[I 2024-10-20 01:32:07,730] Trial 453 finished with value: 0.8822085857391357 and parameters: {'n_hidden_layers': 3, 'activation': 'elu', 'learning_rate': 0.0007610047813906123, 'optimizer': 'rmsprop', 'dropout_rate': 0.3461686194003937, 'n_neurons': 110, 'batch_size': 4}. Best is trial 368 with value: 0.8985685110092163.\n"
     ]
    },
    {
     "name": "stderr",
     "output_type": "stream",
     "text": [
      "Best trial: 368. Best value: 0.898569:  46%|████▌     | 455/1000 [10:42:59<15:35:13, 102.96s/it]"
     ]
    },
    {
     "name": "stdout",
     "output_type": "stream",
     "text": [
      "[I 2024-10-20 01:34:05,383] Trial 454 finished with value: 0.8907975554466248 and parameters: {'n_hidden_layers': 3, 'activation': 'elu', 'learning_rate': 0.0002826763343058863, 'optimizer': 'adam', 'dropout_rate': 0.25640778600968, 'n_neurons': 105, 'batch_size': 4}. Best is trial 368 with value: 0.8985685110092163.\n"
     ]
    },
    {
     "name": "stderr",
     "output_type": "stream",
     "text": [
      "Best trial: 368. Best value: 0.898569:  46%|████▌     | 456/1000 [10:45:07<16:39:11, 110.20s/it]"
     ]
    },
    {
     "name": "stdout",
     "output_type": "stream",
     "text": [
      "[I 2024-10-20 01:36:12,494] Trial 455 finished with value: 0.8969325423240662 and parameters: {'n_hidden_layers': 3, 'activation': 'elu', 'learning_rate': 0.0004901679801644202, 'optimizer': 'adam', 'dropout_rate': 0.23218591781134626, 'n_neurons': 113, 'batch_size': 2}. Best is trial 368 with value: 0.8985685110092163.\n"
     ]
    },
    {
     "name": "stderr",
     "output_type": "stream",
     "text": [
      "Best trial: 368. Best value: 0.898569:  46%|████▌     | 457/1000 [10:45:44<13:18:56, 88.28s/it] "
     ]
    },
    {
     "name": "stdout",
     "output_type": "stream",
     "text": [
      "[I 2024-10-20 01:36:49,621] Trial 456 finished with value: 0.8932515382766724 and parameters: {'n_hidden_layers': 3, 'activation': 'elu', 'learning_rate': 0.000352066617103175, 'optimizer': 'adam', 'dropout_rate': 0.23265456576769206, 'n_neurons': 116, 'batch_size': 16}. Best is trial 368 with value: 0.8985685110092163.\n"
     ]
    },
    {
     "name": "stderr",
     "output_type": "stream",
     "text": [
      "Best trial: 368. Best value: 0.898569:  46%|████▌     | 458/1000 [10:47:09<13:10:47, 87.54s/it]"
     ]
    },
    {
     "name": "stdout",
     "output_type": "stream",
     "text": [
      "[I 2024-10-20 01:38:15,435] Trial 457 finished with value: 0.8907975554466248 and parameters: {'n_hidden_layers': 3, 'activation': 'elu', 'learning_rate': 0.0004344450220827074, 'optimizer': 'adam', 'dropout_rate': 0.2221853716257069, 'n_neurons': 113, 'batch_size': 4}. Best is trial 368 with value: 0.8985685110092163.\n"
     ]
    },
    {
     "name": "stderr",
     "output_type": "stream",
     "text": [
      "Best trial: 368. Best value: 0.898569:  46%|████▌     | 459/1000 [10:49:18<15:00:16, 99.85s/it]"
     ]
    },
    {
     "name": "stdout",
     "output_type": "stream",
     "text": [
      "[I 2024-10-20 01:40:23,991] Trial 458 finished with value: 0.8944784998893738 and parameters: {'n_hidden_layers': 3, 'activation': 'elu', 'learning_rate': 0.0006547140269787086, 'optimizer': 'adam', 'dropout_rate': 0.2437945648754499, 'n_neurons': 116, 'batch_size': 2}. Best is trial 368 with value: 0.8985685110092163.\n"
     ]
    },
    {
     "name": "stderr",
     "output_type": "stream",
     "text": [
      "Best trial: 368. Best value: 0.898569:  46%|████▌     | 460/1000 [10:50:12<12:55:33, 86.17s/it]"
     ]
    },
    {
     "name": "stdout",
     "output_type": "stream",
     "text": [
      "[I 2024-10-20 01:41:18,262] Trial 459 finished with value: 0.8899795413017273 and parameters: {'n_hidden_layers': 3, 'activation': 'elu', 'learning_rate': 0.001017941809798279, 'optimizer': 'adam', 'dropout_rate': 0.11257549650321755, 'n_neurons': 112, 'batch_size': 4}. Best is trial 368 with value: 0.8985685110092163.\n"
     ]
    },
    {
     "name": "stderr",
     "output_type": "stream",
     "text": [
      "Best trial: 368. Best value: 0.898569:  46%|████▌     | 461/1000 [10:51:44<13:08:09, 87.74s/it]"
     ]
    },
    {
     "name": "stdout",
     "output_type": "stream",
     "text": [
      "[I 2024-10-20 01:42:49,643] Trial 460 finished with value: 0.8936605453491211 and parameters: {'n_hidden_layers': 3, 'activation': 'elu', 'learning_rate': 0.0008211741227629727, 'optimizer': 'adam', 'dropout_rate': 0.22545598801756547, 'n_neurons': 115, 'batch_size': 2}. Best is trial 368 with value: 0.8985685110092163.\n"
     ]
    },
    {
     "name": "stderr",
     "output_type": "stream",
     "text": [
      "Best trial: 368. Best value: 0.898569:  46%|████▌     | 462/1000 [10:52:44<11:53:57, 79.62s/it]"
     ]
    },
    {
     "name": "stdout",
     "output_type": "stream",
     "text": [
      "[I 2024-10-20 01:43:50,339] Trial 461 finished with value: 0.8858895897865295 and parameters: {'n_hidden_layers': 3, 'activation': 'elu', 'learning_rate': 0.0013397571466424655, 'optimizer': 'adam', 'dropout_rate': 0.2365671470246475, 'n_neurons': 124, 'batch_size': 4}. Best is trial 368 with value: 0.8985685110092163.\n"
     ]
    },
    {
     "name": "stderr",
     "output_type": "stream",
     "text": [
      "Best trial: 368. Best value: 0.898569:  46%|████▋     | 463/1000 [10:53:43<10:57:27, 73.46s/it]"
     ]
    },
    {
     "name": "stdout",
     "output_type": "stream",
     "text": [
      "[I 2024-10-20 01:44:49,413] Trial 462 finished with value: 0.869529664516449 and parameters: {'n_hidden_layers': 3, 'activation': 'tanh', 'learning_rate': 0.0006940849613031645, 'optimizer': 'sgd', 'dropout_rate': 0.2135383289177754, 'n_neurons': 118, 'batch_size': 8}. Best is trial 368 with value: 0.8985685110092163.\n"
     ]
    },
    {
     "name": "stderr",
     "output_type": "stream",
     "text": [
      "Best trial: 368. Best value: 0.898569:  46%|████▋     | 464/1000 [10:55:38<12:46:11, 85.77s/it]"
     ]
    },
    {
     "name": "stdout",
     "output_type": "stream",
     "text": [
      "[I 2024-10-20 01:46:43,900] Trial 463 finished with value: 0.8924335241317749 and parameters: {'n_hidden_layers': 3, 'activation': 'elu', 'learning_rate': 0.0005120468918350735, 'optimizer': 'adam', 'dropout_rate': 0.2517350230232131, 'n_neurons': 113, 'batch_size': 2}. Best is trial 368 with value: 0.8985685110092163.\n"
     ]
    },
    {
     "name": "stderr",
     "output_type": "stream",
     "text": [
      "Best trial: 368. Best value: 0.898569:  46%|████▋     | 465/1000 [10:56:41<11:44:36, 79.02s/it]"
     ]
    },
    {
     "name": "stdout",
     "output_type": "stream",
     "text": [
      "[I 2024-10-20 01:47:47,184] Trial 464 finished with value: 0.8948875069618225 and parameters: {'n_hidden_layers': 3, 'activation': 'elu', 'learning_rate': 0.0009083294360143298, 'optimizer': 'adam', 'dropout_rate': 0.23262096513133823, 'n_neurons': 111, 'batch_size': 4}. Best is trial 368 with value: 0.8985685110092163.\n"
     ]
    },
    {
     "name": "stderr",
     "output_type": "stream",
     "text": [
      "Best trial: 368. Best value: 0.898569:  47%|████▋     | 466/1000 [10:59:02<14:27:35, 97.48s/it]"
     ]
    },
    {
     "name": "stdout",
     "output_type": "stream",
     "text": [
      "[I 2024-10-20 01:50:07,740] Trial 465 finished with value: 0.8928425312042236 and parameters: {'n_hidden_layers': 3, 'activation': 'elu', 'learning_rate': 0.00039133204591549356, 'optimizer': 'adam', 'dropout_rate': 0.27724324839261466, 'n_neurons': 122, 'batch_size': 2}. Best is trial 368 with value: 0.8985685110092163.\n"
     ]
    },
    {
     "name": "stderr",
     "output_type": "stream",
     "text": [
      "Best trial: 368. Best value: 0.898569:  47%|████▋     | 467/1000 [11:00:00<12:40:34, 85.62s/it]"
     ]
    },
    {
     "name": "stdout",
     "output_type": "stream",
     "text": [
      "[I 2024-10-20 01:51:05,678] Trial 466 finished with value: 0.8944784998893738 and parameters: {'n_hidden_layers': 3, 'activation': 'elu', 'learning_rate': 0.0011980419155803248, 'optimizer': 'adam', 'dropout_rate': 0.20889713574803478, 'n_neurons': 102, 'batch_size': 4}. Best is trial 368 with value: 0.8985685110092163.\n"
     ]
    },
    {
     "name": "stderr",
     "output_type": "stream",
     "text": [
      "Best trial: 368. Best value: 0.898569:  47%|████▋     | 468/1000 [11:01:47<13:35:58, 92.03s/it]"
     ]
    },
    {
     "name": "stdout",
     "output_type": "stream",
     "text": [
      "[I 2024-10-20 01:52:52,658] Trial 467 finished with value: 0.8920245170593262 and parameters: {'n_hidden_layers': 3, 'activation': 'elu', 'learning_rate': 0.00032106340361831885, 'optimizer': 'adam', 'dropout_rate': 0.30759551664721313, 'n_neurons': 126, 'batch_size': 4}. Best is trial 368 with value: 0.8985685110092163.\n"
     ]
    },
    {
     "name": "stderr",
     "output_type": "stream",
     "text": [
      "Best trial: 368. Best value: 0.898569:  47%|████▋     | 469/1000 [11:02:09<10:28:30, 71.02s/it]"
     ]
    },
    {
     "name": "stdout",
     "output_type": "stream",
     "text": [
      "[I 2024-10-20 01:53:14,652] Trial 468 finished with value: 0.8916155695915222 and parameters: {'n_hidden_layers': 3, 'activation': 'elu', 'learning_rate': 0.0005996693881141991, 'optimizer': 'adam', 'dropout_rate': 0.3198563274675524, 'n_neurons': 107, 'batch_size': 32}. Best is trial 368 with value: 0.8985685110092163.\n"
     ]
    },
    {
     "name": "stderr",
     "output_type": "stream",
     "text": [
      "Best trial: 368. Best value: 0.898569:  47%|████▋     | 470/1000 [11:03:57<12:07:08, 82.32s/it]"
     ]
    },
    {
     "name": "stdout",
     "output_type": "stream",
     "text": [
      "[I 2024-10-20 01:55:03,336] Trial 469 finished with value: 0.8916155695915222 and parameters: {'n_hidden_layers': 3, 'activation': 'elu', 'learning_rate': 0.0007696193887257693, 'optimizer': 'adam', 'dropout_rate': 0.24080641442044354, 'n_neurons': 117, 'batch_size': 2}. Best is trial 368 with value: 0.8985685110092163.\n"
     ]
    },
    {
     "name": "stderr",
     "output_type": "stream",
     "text": [
      "Best trial: 368. Best value: 0.898569:  47%|████▋     | 471/1000 [11:04:51<10:49:39, 73.69s/it]"
     ]
    },
    {
     "name": "stdout",
     "output_type": "stream",
     "text": [
      "[I 2024-10-20 01:55:56,881] Trial 470 finished with value: 0.8924335241317749 and parameters: {'n_hidden_layers': 3, 'activation': 'elu', 'learning_rate': 0.0009996783135978256, 'optimizer': 'adam', 'dropout_rate': 0.22100829981773962, 'n_neurons': 114, 'batch_size': 4}. Best is trial 368 with value: 0.8985685110092163.\n"
     ]
    },
    {
     "name": "stderr",
     "output_type": "stream",
     "text": [
      "Best trial: 368. Best value: 0.898569:  47%|████▋     | 472/1000 [11:06:04<10:46:17, 73.44s/it]"
     ]
    },
    {
     "name": "stdout",
     "output_type": "stream",
     "text": [
      "[I 2024-10-20 01:57:09,757] Trial 471 finished with value: 0.8858895897865295 and parameters: {'n_hidden_layers': 3, 'activation': 'relu', 'learning_rate': 0.00046042570691666673, 'optimizer': 'adam', 'dropout_rate': 0.28846545300660914, 'n_neurons': 99, 'batch_size': 2}. Best is trial 368 with value: 0.8985685110092163.\n"
     ]
    },
    {
     "name": "stderr",
     "output_type": "stream",
     "text": [
      "Best trial: 368. Best value: 0.898569:  47%|████▋     | 473/1000 [11:07:09<10:22:55, 70.92s/it]"
     ]
    },
    {
     "name": "stdout",
     "output_type": "stream",
     "text": [
      "[I 2024-10-20 01:58:14,797] Trial 472 finished with value: 0.8846625685691833 and parameters: {'n_hidden_layers': 3, 'activation': 'elu', 'learning_rate': 6.585150318040257e-05, 'optimizer': 'adam', 'dropout_rate': 0.26266473107032356, 'n_neurons': 111, 'batch_size': 8}. Best is trial 368 with value: 0.8985685110092163.\n"
     ]
    },
    {
     "name": "stderr",
     "output_type": "stream",
     "text": [
      "Best trial: 368. Best value: 0.898569:  47%|████▋     | 474/1000 [11:08:25<10:35:59, 72.55s/it]"
     ]
    },
    {
     "name": "stdout",
     "output_type": "stream",
     "text": [
      "[I 2024-10-20 01:59:31,138] Trial 473 finished with value: 0.8920245170593262 and parameters: {'n_hidden_layers': 3, 'activation': 'elu', 'learning_rate': 0.0008716999458620705, 'optimizer': 'adam', 'dropout_rate': 0.2519968366107688, 'n_neurons': 120, 'batch_size': 4}. Best is trial 368 with value: 0.8985685110092163.\n"
     ]
    },
    {
     "name": "stderr",
     "output_type": "stream",
     "text": [
      "Best trial: 368. Best value: 0.898569:  48%|████▊     | 475/1000 [11:08:32<7:43:12, 52.94s/it] "
     ]
    },
    {
     "name": "stdout",
     "output_type": "stream",
     "text": [
      "[I 2024-10-20 01:59:38,317] Trial 474 finished with value: 0.8883435726165771 and parameters: {'n_hidden_layers': 3, 'activation': 'elu', 'learning_rate': 0.006448577645322798, 'optimizer': 'adam', 'dropout_rate': 0.22990232908861216, 'n_neurons': 109, 'batch_size': 128}. Best is trial 368 with value: 0.8985685110092163.\n"
     ]
    },
    {
     "name": "stderr",
     "output_type": "stream",
     "text": [
      "Best trial: 368. Best value: 0.898569:  48%|████▊     | 476/1000 [11:10:37<10:50:23, 74.47s/it]"
     ]
    },
    {
     "name": "stdout",
     "output_type": "stream",
     "text": [
      "[I 2024-10-20 02:01:43,038] Trial 475 finished with value: 0.8936605453491211 and parameters: {'n_hidden_layers': 3, 'activation': 'elu', 'learning_rate': 0.0007536999237911273, 'optimizer': 'adam', 'dropout_rate': 0.27230498490841615, 'n_neurons': 125, 'batch_size': 2}. Best is trial 368 with value: 0.8985685110092163.\n"
     ]
    },
    {
     "name": "stderr",
     "output_type": "stream",
     "text": [
      "Best trial: 368. Best value: 0.898569:  48%|████▊     | 477/1000 [11:11:55<10:59:22, 75.64s/it]"
     ]
    },
    {
     "name": "stdout",
     "output_type": "stream",
     "text": [
      "[I 2024-10-20 02:03:01,416] Trial 476 finished with value: 0.8916155695915222 and parameters: {'n_hidden_layers': 3, 'activation': 'elu', 'learning_rate': 0.000607713806425887, 'optimizer': 'adam', 'dropout_rate': 0.29605363159982784, 'n_neurons': 114, 'batch_size': 4}. Best is trial 368 with value: 0.8985685110092163.\n"
     ]
    },
    {
     "name": "stderr",
     "output_type": "stream",
     "text": [
      "Best trial: 368. Best value: 0.898569:  48%|████▊     | 478/1000 [11:14:23<14:04:32, 97.07s/it]"
     ]
    },
    {
     "name": "stdout",
     "output_type": "stream",
     "text": [
      "[I 2024-10-20 02:05:28,490] Trial 477 finished with value: 0.8895705342292786 and parameters: {'n_hidden_layers': 3, 'activation': 'elu', 'learning_rate': 0.001056708241988905, 'optimizer': 'adam', 'dropout_rate': 0.31324983749253066, 'n_neurons': 106, 'batch_size': 1}. Best is trial 368 with value: 0.8985685110092163.\n"
     ]
    },
    {
     "name": "stderr",
     "output_type": "stream",
     "text": [
      "Best trial: 368. Best value: 0.898569:  48%|████▊     | 479/1000 [11:15:23<12:26:29, 85.97s/it]"
     ]
    },
    {
     "name": "stdout",
     "output_type": "stream",
     "text": [
      "[I 2024-10-20 02:06:28,548] Trial 478 finished with value: 0.8654396533966064 and parameters: {'n_hidden_layers': 3, 'activation': 'elu', 'learning_rate': 0.0005265570283657297, 'optimizer': 'rmsprop', 'dropout_rate': 0.2146464613437681, 'n_neurons': 111, 'batch_size': 2}. Best is trial 368 with value: 0.8985685110092163.\n"
     ]
    },
    {
     "name": "stderr",
     "output_type": "stream",
     "text": [
      "Best trial: 368. Best value: 0.898569:  48%|████▊     | 480/1000 [11:16:27<11:30:15, 79.65s/it]"
     ]
    },
    {
     "name": "stdout",
     "output_type": "stream",
     "text": [
      "[I 2024-10-20 02:07:33,443] Trial 479 finished with value: 0.8924335241317749 and parameters: {'n_hidden_layers': 3, 'activation': 'elu', 'learning_rate': 0.0007097992348649235, 'optimizer': 'adam', 'dropout_rate': 0.2848022914996568, 'n_neurons': 119, 'batch_size': 4}. Best is trial 368 with value: 0.8985685110092163.\n"
     ]
    },
    {
     "name": "stderr",
     "output_type": "stream",
     "text": [
      "Best trial: 368. Best value: 0.898569:  48%|████▊     | 481/1000 [11:18:03<12:11:18, 84.55s/it]"
     ]
    },
    {
     "name": "stdout",
     "output_type": "stream",
     "text": [
      "[I 2024-10-20 02:09:09,420] Trial 480 finished with value: 0.8912065625190735 and parameters: {'n_hidden_layers': 3, 'activation': 'elu', 'learning_rate': 0.0008453727296684746, 'optimizer': 'adam', 'dropout_rate': 0.246067733867581, 'n_neurons': 41, 'batch_size': 4}. Best is trial 368 with value: 0.8985685110092163.\n"
     ]
    },
    {
     "name": "stderr",
     "output_type": "stream",
     "text": [
      "Best trial: 368. Best value: 0.898569:  48%|████▊     | 482/1000 [11:19:54<13:16:01, 92.20s/it]"
     ]
    },
    {
     "name": "stdout",
     "output_type": "stream",
     "text": [
      "[I 2024-10-20 02:10:59,493] Trial 481 finished with value: 0.89570552110672 and parameters: {'n_hidden_layers': 3, 'activation': 'elu', 'learning_rate': 0.0014540517048641306, 'optimizer': 'adam', 'dropout_rate': 0.22529046904932348, 'n_neurons': 116, 'batch_size': 2}. Best is trial 368 with value: 0.8985685110092163.\n"
     ]
    },
    {
     "name": "stderr",
     "output_type": "stream",
     "text": [
      "Best trial: 368. Best value: 0.898569:  48%|████▊     | 483/1000 [11:20:56<11:58:18, 83.36s/it]"
     ]
    },
    {
     "name": "stdout",
     "output_type": "stream",
     "text": [
      "[I 2024-10-20 02:12:02,225] Trial 482 finished with value: 0.8924335241317749 and parameters: {'n_hidden_layers': 3, 'activation': 'elu', 'learning_rate': 0.0011741089812070944, 'optimizer': 'adam', 'dropout_rate': 0.23698071077008745, 'n_neurons': 123, 'batch_size': 4}. Best is trial 368 with value: 0.8985685110092163.\n"
     ]
    },
    {
     "name": "stderr",
     "output_type": "stream",
     "text": [
      "Best trial: 368. Best value: 0.898569:  48%|████▊     | 484/1000 [11:21:41<10:17:59, 71.86s/it]"
     ]
    },
    {
     "name": "stdout",
     "output_type": "stream",
     "text": [
      "[I 2024-10-20 02:12:47,242] Trial 483 finished with value: 0.8907975554466248 and parameters: {'n_hidden_layers': 3, 'activation': 'tanh', 'learning_rate': 0.00040875207455425515, 'optimizer': 'adam', 'dropout_rate': 0.26194079879268783, 'n_neurons': 109, 'batch_size': 8}. Best is trial 368 with value: 0.8985685110092163.\n"
     ]
    },
    {
     "name": "stderr",
     "output_type": "stream",
     "text": [
      "Best trial: 368. Best value: 0.898569:  48%|████▊     | 485/1000 [11:24:53<15:24:35, 107.72s/it]"
     ]
    },
    {
     "name": "stdout",
     "output_type": "stream",
     "text": [
      "[I 2024-10-20 02:15:58,637] Trial 484 finished with value: 0.8805726170539856 and parameters: {'n_hidden_layers': 3, 'activation': 'elu', 'learning_rate': 0.0006717293191182005, 'optimizer': 'sgd', 'dropout_rate': 0.2688135308977061, 'n_neurons': 112, 'batch_size': 2}. Best is trial 368 with value: 0.8985685110092163.\n"
     ]
    },
    {
     "name": "stderr",
     "output_type": "stream",
     "text": [
      "Best trial: 368. Best value: 0.898569:  49%|████▊     | 486/1000 [11:26:24<14:41:47, 102.93s/it]"
     ]
    },
    {
     "name": "stdout",
     "output_type": "stream",
     "text": [
      "[I 2024-10-20 02:17:30,403] Trial 485 finished with value: 0.8944784998893738 and parameters: {'n_hidden_layers': 3, 'activation': 'elu', 'learning_rate': 0.0009585146639017612, 'optimizer': 'adam', 'dropout_rate': 0.3055647798130432, 'n_neurons': 121, 'batch_size': 4}. Best is trial 368 with value: 0.8985685110092163.\n"
     ]
    },
    {
     "name": "stderr",
     "output_type": "stream",
     "text": [
      "Best trial: 368. Best value: 0.898569:  49%|████▊     | 487/1000 [11:28:47<16:21:22, 114.78s/it]"
     ]
    },
    {
     "name": "stdout",
     "output_type": "stream",
     "text": [
      "[I 2024-10-20 02:19:52,830] Trial 486 finished with value: 0.8936605453491211 and parameters: {'n_hidden_layers': 3, 'activation': 'elu', 'learning_rate': 0.00035187743136397926, 'optimizer': 'adam', 'dropout_rate': 0.32645479079551365, 'n_neurons': 117, 'batch_size': 2}. Best is trial 368 with value: 0.8985685110092163.\n"
     ]
    },
    {
     "name": "stderr",
     "output_type": "stream",
     "text": [
      "Best trial: 368. Best value: 0.898569:  49%|████▉     | 488/1000 [11:30:29<15:48:03, 111.10s/it]"
     ]
    },
    {
     "name": "stdout",
     "output_type": "stream",
     "text": [
      "[I 2024-10-20 02:21:35,341] Trial 487 finished with value: 0.8891615271568298 and parameters: {'n_hidden_layers': 3, 'activation': 'elu', 'learning_rate': 0.0005835559702970462, 'optimizer': 'adam', 'dropout_rate': 0.20569326299672866, 'n_neurons': 20, 'batch_size': 4}. Best is trial 368 with value: 0.8985685110092163.\n"
     ]
    },
    {
     "name": "stderr",
     "output_type": "stream",
     "text": [
      "Best trial: 368. Best value: 0.898569:  49%|████▉     | 489/1000 [11:30:44<11:40:24, 82.24s/it] "
     ]
    },
    {
     "name": "stdout",
     "output_type": "stream",
     "text": [
      "[I 2024-10-20 02:21:50,242] Trial 488 finished with value: 0.8789365887641907 and parameters: {'n_hidden_layers': 3, 'activation': 'elu', 'learning_rate': 2.2094135686829308e-05, 'optimizer': 'adam', 'dropout_rate': 0.2802943196300268, 'n_neurons': 107, 'batch_size': 64}. Best is trial 368 with value: 0.8985685110092163.\n"
     ]
    },
    {
     "name": "stderr",
     "output_type": "stream",
     "text": [
      "Best trial: 368. Best value: 0.898569:  49%|████▉     | 490/1000 [11:31:10<9:14:14, 65.20s/it] "
     ]
    },
    {
     "name": "stdout",
     "output_type": "stream",
     "text": [
      "[I 2024-10-20 02:22:15,695] Trial 489 finished with value: 0.8907975554466248 and parameters: {'n_hidden_layers': 3, 'activation': 'elu', 'learning_rate': 0.0008021562408871993, 'optimizer': 'adam', 'dropout_rate': 0.1912072900779358, 'n_neurons': 128, 'batch_size': 16}. Best is trial 368 with value: 0.8985685110092163.\n"
     ]
    },
    {
     "name": "stderr",
     "output_type": "stream",
     "text": [
      "Best trial: 368. Best value: 0.898569:  49%|████▉     | 491/1000 [11:32:29<9:50:09, 69.57s/it]"
     ]
    },
    {
     "name": "stdout",
     "output_type": "stream",
     "text": [
      "[I 2024-10-20 02:23:35,440] Trial 490 finished with value: 0.8916155695915222 and parameters: {'n_hidden_layers': 3, 'activation': 'elu', 'learning_rate': 0.0004707366181103866, 'optimizer': 'adam', 'dropout_rate': 0.22517566524646607, 'n_neurons': 104, 'batch_size': 4}. Best is trial 368 with value: 0.8985685110092163.\n"
     ]
    },
    {
     "name": "stderr",
     "output_type": "stream",
     "text": [
      "Best trial: 368. Best value: 0.898569:  49%|████▉     | 492/1000 [11:35:16<13:54:45, 98.59s/it]"
     ]
    },
    {
     "name": "stdout",
     "output_type": "stream",
     "text": [
      "[I 2024-10-20 02:26:21,767] Trial 491 finished with value: 0.8916155695915222 and parameters: {'n_hidden_layers': 3, 'activation': 'elu', 'learning_rate': 0.0009495013548886316, 'optimizer': 'adam', 'dropout_rate': 0.29406802641571905, 'n_neurons': 110, 'batch_size': 2}. Best is trial 368 with value: 0.8985685110092163.\n"
     ]
    },
    {
     "name": "stderr",
     "output_type": "stream",
     "text": [
      "Best trial: 368. Best value: 0.898569:  49%|████▉     | 493/1000 [11:37:13<14:40:17, 104.18s/it]"
     ]
    },
    {
     "name": "stdout",
     "output_type": "stream",
     "text": [
      "[I 2024-10-20 02:28:18,967] Trial 492 finished with value: 0.89570552110672 and parameters: {'n_hidden_layers': 3, 'activation': 'elu', 'learning_rate': 0.0002798671992464332, 'optimizer': 'adam', 'dropout_rate': 0.3175606567172381, 'n_neurons': 113, 'batch_size': 4}. Best is trial 368 with value: 0.8985685110092163.\n"
     ]
    },
    {
     "name": "stderr",
     "output_type": "stream",
     "text": [
      "Best trial: 368. Best value: 0.898569:  49%|████▉     | 494/1000 [11:38:11<12:41:37, 90.31s/it] "
     ]
    },
    {
     "name": "stdout",
     "output_type": "stream",
     "text": [
      "[I 2024-10-20 02:29:16,928] Trial 493 finished with value: 0.8813905715942383 and parameters: {'n_hidden_layers': 3, 'activation': 'relu', 'learning_rate': 0.0006824005524253558, 'optimizer': 'adam', 'dropout_rate': 0.25017005670835535, 'n_neurons': 115, 'batch_size': 2}. Best is trial 368 with value: 0.8985685110092163.\n"
     ]
    },
    {
     "name": "stderr",
     "output_type": "stream",
     "text": [
      "Best trial: 368. Best value: 0.898569:  50%|████▉     | 495/1000 [11:38:48<10:26:35, 74.45s/it]"
     ]
    },
    {
     "name": "stdout",
     "output_type": "stream",
     "text": [
      "[I 2024-10-20 02:29:54,357] Trial 494 finished with value: 0.8936605453491211 and parameters: {'n_hidden_layers': 3, 'activation': 'elu', 'learning_rate': 0.0011371076860199974, 'optimizer': 'adam', 'dropout_rate': 0.23067400885918857, 'n_neurons': 125, 'batch_size': 8}. Best is trial 368 with value: 0.8985685110092163.\n"
     ]
    },
    {
     "name": "stderr",
     "output_type": "stream",
     "text": [
      "Best trial: 368. Best value: 0.898569:  50%|████▉     | 496/1000 [11:40:38<11:54:04, 85.01s/it]"
     ]
    },
    {
     "name": "stdout",
     "output_type": "stream",
     "text": [
      "[I 2024-10-20 02:31:44,012] Trial 495 finished with value: 0.890388548374176 and parameters: {'n_hidden_layers': 3, 'activation': 'elu', 'learning_rate': 0.00043116141050447465, 'optimizer': 'adam', 'dropout_rate': 0.2391238295954334, 'n_neurons': 27, 'batch_size': 4}. Best is trial 368 with value: 0.8985685110092163.\n"
     ]
    },
    {
     "name": "stderr",
     "output_type": "stream",
     "text": [
      "Best trial: 368. Best value: 0.898569:  50%|████▉     | 497/1000 [11:42:37<13:17:51, 95.17s/it]"
     ]
    },
    {
     "name": "stdout",
     "output_type": "stream",
     "text": [
      "[I 2024-10-20 02:33:42,898] Trial 496 finished with value: 0.8924335241317749 and parameters: {'n_hidden_layers': 3, 'activation': 'elu', 'learning_rate': 0.0005384803141188988, 'optimizer': 'adam', 'dropout_rate': 0.21909046475962532, 'n_neurons': 122, 'batch_size': 2}. Best is trial 368 with value: 0.8985685110092163.\n"
     ]
    },
    {
     "name": "stderr",
     "output_type": "stream",
     "text": [
      "Best trial: 368. Best value: 0.898569:  50%|████▉     | 498/1000 [11:43:36<11:45:53, 84.37s/it]"
     ]
    },
    {
     "name": "stdout",
     "output_type": "stream",
     "text": [
      "[I 2024-10-20 02:34:42,062] Trial 497 finished with value: 0.890388548374176 and parameters: {'n_hidden_layers': 3, 'activation': 'elu', 'learning_rate': 0.0015697612420765255, 'optimizer': 'adam', 'dropout_rate': 0.1979703483195162, 'n_neurons': 119, 'batch_size': 4}. Best is trial 368 with value: 0.8985685110092163.\n"
     ]
    },
    {
     "name": "stderr",
     "output_type": "stream",
     "text": [
      "Best trial: 368. Best value: 0.898569:  50%|████▉     | 499/1000 [11:46:31<15:32:25, 111.67s/it]"
     ]
    },
    {
     "name": "stdout",
     "output_type": "stream",
     "text": [
      "[I 2024-10-20 02:37:37,424] Trial 498 finished with value: 0.8842535614967346 and parameters: {'n_hidden_layers': 1, 'activation': 'elu', 'learning_rate': 0.0008032185826136608, 'optimizer': 'adam', 'dropout_rate': 0.28699437882112244, 'n_neurons': 109, 'batch_size': 2}. Best is trial 368 with value: 0.8985685110092163.\n"
     ]
    },
    {
     "name": "stderr",
     "output_type": "stream",
     "text": [
      "Best trial: 368. Best value: 0.898569:  50%|█████     | 500/1000 [11:47:19<12:49:04, 92.29s/it] "
     ]
    },
    {
     "name": "stdout",
     "output_type": "stream",
     "text": [
      "[I 2024-10-20 02:38:24,497] Trial 499 finished with value: 0.8805726170539856 and parameters: {'n_hidden_layers': 3, 'activation': 'elu', 'learning_rate': 0.0010121707082869007, 'optimizer': 'rmsprop', 'dropout_rate': 0.30396582267965894, 'n_neurons': 112, 'batch_size': 4}. Best is trial 368 with value: 0.8985685110092163.\n"
     ]
    },
    {
     "name": "stderr",
     "output_type": "stream",
     "text": [
      "Best trial: 368. Best value: 0.898569:  50%|█████     | 501/1000 [11:47:40<9:51:53, 71.17s/it] "
     ]
    },
    {
     "name": "stdout",
     "output_type": "stream",
     "text": [
      "[I 2024-10-20 02:38:46,382] Trial 500 finished with value: 0.8940695524215698 and parameters: {'n_hidden_layers': 3, 'activation': 'elu', 'learning_rate': 0.0006134072796236048, 'optimizer': 'adam', 'dropout_rate': 0.2754962973781809, 'n_neurons': 107, 'batch_size': 32}. Best is trial 368 with value: 0.8985685110092163.\n"
     ]
    },
    {
     "name": "stderr",
     "output_type": "stream",
     "text": [
      "Best trial: 368. Best value: 0.898569:  50%|█████     | 502/1000 [11:49:41<11:53:16, 85.94s/it]"
     ]
    },
    {
     "name": "stdout",
     "output_type": "stream",
     "text": [
      "[I 2024-10-20 02:40:46,777] Trial 501 finished with value: 0.890388548374176 and parameters: {'n_hidden_layers': 3, 'activation': 'elu', 'learning_rate': 0.00012501847326771513, 'optimizer': 'adam', 'dropout_rate': 0.26545132077229766, 'n_neurons': 117, 'batch_size': 4}. Best is trial 368 with value: 0.8985685110092163.\n"
     ]
    },
    {
     "name": "stderr",
     "output_type": "stream",
     "text": [
      "Best trial: 368. Best value: 0.898569:  50%|█████     | 503/1000 [11:51:47<13:32:40, 98.11s/it]"
     ]
    },
    {
     "name": "stdout",
     "output_type": "stream",
     "text": [
      "[I 2024-10-20 02:42:53,289] Trial 502 finished with value: 0.8928425312042236 and parameters: {'n_hidden_layers': 2, 'activation': 'elu', 'learning_rate': 0.000853651562540033, 'optimizer': 'adam', 'dropout_rate': 0.33383229624449734, 'n_neurons': 114, 'batch_size': 2}. Best is trial 368 with value: 0.8985685110092163.\n"
     ]
    },
    {
     "name": "stderr",
     "output_type": "stream",
     "text": [
      "Best trial: 368. Best value: 0.898569:  50%|█████     | 504/1000 [11:52:53<12:10:11, 88.33s/it]"
     ]
    },
    {
     "name": "stdout",
     "output_type": "stream",
     "text": [
      "[I 2024-10-20 02:43:58,800] Trial 503 finished with value: 0.890388548374176 and parameters: {'n_hidden_layers': 3, 'activation': 'elu', 'learning_rate': 0.0013175704487346424, 'optimizer': 'adam', 'dropout_rate': 0.2131011990500339, 'n_neurons': 102, 'batch_size': 4}. Best is trial 368 with value: 0.8985685110092163.\n"
     ]
    },
    {
     "name": "stderr",
     "output_type": "stream",
     "text": [
      "Best trial: 368. Best value: 0.898569:  50%|█████     | 505/1000 [11:53:05<8:59:41, 65.42s/it] "
     ]
    },
    {
     "name": "stdout",
     "output_type": "stream",
     "text": [
      "[I 2024-10-20 02:44:10,757] Trial 504 finished with value: 0.8883435726165771 and parameters: {'n_hidden_layers': 3, 'activation': 'elu', 'learning_rate': 0.0007225000578639225, 'optimizer': 'adam', 'dropout_rate': 0.37124462701340755, 'n_neurons': 124, 'batch_size': 128}. Best is trial 368 with value: 0.8985685110092163.\n"
     ]
    },
    {
     "name": "stderr",
     "output_type": "stream",
     "text": [
      "Best trial: 368. Best value: 0.898569:  51%|█████     | 506/1000 [11:54:11<8:59:20, 65.51s/it]"
     ]
    },
    {
     "name": "stdout",
     "output_type": "stream",
     "text": [
      "[I 2024-10-20 02:45:16,472] Trial 505 finished with value: 0.8932515382766724 and parameters: {'n_hidden_layers': 3, 'activation': 'tanh', 'learning_rate': 0.00033283749401610233, 'optimizer': 'adam', 'dropout_rate': 0.32321996506815937, 'n_neurons': 121, 'batch_size': 8}. Best is trial 368 with value: 0.8985685110092163.\n"
     ]
    },
    {
     "name": "stderr",
     "output_type": "stream",
     "text": [
      "Best trial: 368. Best value: 0.898569:  51%|█████     | 507/1000 [11:56:36<12:15:36, 89.53s/it]"
     ]
    },
    {
     "name": "stdout",
     "output_type": "stream",
     "text": [
      "[I 2024-10-20 02:47:42,046] Trial 506 finished with value: 0.8952965140342712 and parameters: {'n_hidden_layers': 3, 'activation': 'elu', 'learning_rate': 0.0005097482759726457, 'optimizer': 'adam', 'dropout_rate': 0.2554683387357039, 'n_neurons': 110, 'batch_size': 2}. Best is trial 368 with value: 0.8985685110092163.\n"
     ]
    },
    {
     "name": "stderr",
     "output_type": "stream",
     "text": [
      "Best trial: 368. Best value: 0.898569:  51%|█████     | 508/1000 [11:58:20<12:49:12, 93.81s/it]"
     ]
    },
    {
     "name": "stdout",
     "output_type": "stream",
     "text": [
      "[I 2024-10-20 02:49:25,839] Trial 507 finished with value: 0.8813905715942383 and parameters: {'n_hidden_layers': 3, 'activation': 'elu', 'learning_rate': 0.0009119770732099382, 'optimizer': 'sgd', 'dropout_rate': 0.31191320746596846, 'n_neurons': 106, 'batch_size': 4}. Best is trial 368 with value: 0.8985685110092163.\n"
     ]
    },
    {
     "name": "stderr",
     "output_type": "stream",
     "text": [
      "Best trial: 368. Best value: 0.898569:  51%|█████     | 509/1000 [12:01:23<16:26:48, 120.59s/it]"
     ]
    },
    {
     "name": "stdout",
     "output_type": "stream",
     "text": [
      "[I 2024-10-20 02:52:28,914] Trial 508 finished with value: 0.8842535614967346 and parameters: {'n_hidden_layers': 2, 'activation': 'elu', 'learning_rate': 0.0010937826458891182, 'optimizer': 'adam', 'dropout_rate': 0.2994414484914762, 'n_neurons': 115, 'batch_size': 1}. Best is trial 368 with value: 0.8985685110092163.\n"
     ]
    },
    {
     "name": "stderr",
     "output_type": "stream",
     "text": [
      "Best trial: 368. Best value: 0.898569:  51%|█████     | 510/1000 [12:03:23<16:22:52, 120.35s/it]"
     ]
    },
    {
     "name": "stdout",
     "output_type": "stream",
     "text": [
      "[I 2024-10-20 02:54:28,716] Trial 509 finished with value: 0.8920245170593262 and parameters: {'n_hidden_layers': 3, 'activation': 'elu', 'learning_rate': 0.0007584913139418719, 'optimizer': 'adam', 'dropout_rate': 0.23308424860151633, 'n_neurons': 111, 'batch_size': 2}. Best is trial 368 with value: 0.8985685110092163.\n"
     ]
    },
    {
     "name": "stderr",
     "output_type": "stream",
     "text": [
      "Best trial: 368. Best value: 0.898569:  51%|█████     | 511/1000 [12:04:51<15:01:19, 110.59s/it]"
     ]
    },
    {
     "name": "stdout",
     "output_type": "stream",
     "text": [
      "[I 2024-10-20 02:55:56,535] Trial 510 finished with value: 0.8936605453491211 and parameters: {'n_hidden_layers': 3, 'activation': 'elu', 'learning_rate': 0.00040299246973238403, 'optimizer': 'adam', 'dropout_rate': 0.24124942615220735, 'n_neurons': 118, 'batch_size': 4}. Best is trial 368 with value: 0.8985685110092163.\n"
     ]
    },
    {
     "name": "stderr",
     "output_type": "stream",
     "text": [
      "Best trial: 368. Best value: 0.898569:  51%|█████     | 512/1000 [12:07:10<16:09:12, 119.16s/it]"
     ]
    },
    {
     "name": "stdout",
     "output_type": "stream",
     "text": [
      "[I 2024-10-20 02:58:15,703] Trial 511 finished with value: 0.8944784998893738 and parameters: {'n_hidden_layers': 3, 'activation': 'elu', 'learning_rate': 0.0005674811376747984, 'optimizer': 'adam', 'dropout_rate': 0.28200165935405636, 'n_neurons': 108, 'batch_size': 2}. Best is trial 368 with value: 0.8985685110092163.\n"
     ]
    },
    {
     "name": "stderr",
     "output_type": "stream",
     "text": [
      "Best trial: 368. Best value: 0.898569:  51%|█████▏    | 513/1000 [12:08:34<14:43:09, 108.81s/it]"
     ]
    },
    {
     "name": "stdout",
     "output_type": "stream",
     "text": [
      "[I 2024-10-20 02:59:40,343] Trial 512 finished with value: 0.8952965140342712 and parameters: {'n_hidden_layers': 3, 'activation': 'elu', 'learning_rate': 0.0006660141884678931, 'optimizer': 'adam', 'dropout_rate': 0.2678957557228679, 'n_neurons': 120, 'batch_size': 4}. Best is trial 368 with value: 0.8985685110092163.\n"
     ]
    },
    {
     "name": "stderr",
     "output_type": "stream",
     "text": [
      "Best trial: 368. Best value: 0.898569:  51%|█████▏    | 514/1000 [12:09:52<13:24:56, 99.37s/it] "
     ]
    },
    {
     "name": "stdout",
     "output_type": "stream",
     "text": [
      "[I 2024-10-20 03:00:57,708] Trial 513 finished with value: 0.8961145281791687 and parameters: {'n_hidden_layers': 2, 'activation': 'elu', 'learning_rate': 0.0008854585222158245, 'optimizer': 'adam', 'dropout_rate': 0.2225262009526871, 'n_neurons': 76, 'batch_size': 4}. Best is trial 368 with value: 0.8985685110092163.\n"
     ]
    },
    {
     "name": "stderr",
     "output_type": "stream",
     "text": [
      "Best trial: 368. Best value: 0.898569:  52%|█████▏    | 515/1000 [12:11:01<12:10:13, 90.34s/it]"
     ]
    },
    {
     "name": "stdout",
     "output_type": "stream",
     "text": [
      "[I 2024-10-20 03:02:06,961] Trial 514 finished with value: 0.8920245170593262 and parameters: {'n_hidden_layers': 2, 'activation': 'elu', 'learning_rate': 0.0012428339038382259, 'optimizer': 'adam', 'dropout_rate': 0.21938424147925767, 'n_neurons': 103, 'batch_size': 4}. Best is trial 368 with value: 0.8985685110092163.\n"
     ]
    },
    {
     "name": "stderr",
     "output_type": "stream",
     "text": [
      "Best trial: 368. Best value: 0.898569:  52%|█████▏    | 516/1000 [12:12:09<11:15:31, 83.74s/it]"
     ]
    },
    {
     "name": "stdout",
     "output_type": "stream",
     "text": [
      "[I 2024-10-20 03:03:15,315] Trial 515 finished with value: 0.8912065625190735 and parameters: {'n_hidden_layers': 2, 'activation': 'elu', 'learning_rate': 0.0010197646567889531, 'optimizer': 'adam', 'dropout_rate': 0.20421208009826625, 'n_neurons': 93, 'batch_size': 4}. Best is trial 368 with value: 0.8985685110092163.\n"
     ]
    },
    {
     "name": "stderr",
     "output_type": "stream",
     "text": [
      "Best trial: 368. Best value: 0.898569:  52%|█████▏    | 517/1000 [12:13:56<12:08:58, 90.55s/it]"
     ]
    },
    {
     "name": "stdout",
     "output_type": "stream",
     "text": [
      "[I 2024-10-20 03:05:01,766] Trial 516 finished with value: 0.8932515382766724 and parameters: {'n_hidden_layers': 2, 'activation': 'elu', 'learning_rate': 0.0008833144578875965, 'optimizer': 'adam', 'dropout_rate': 0.22374375685469297, 'n_neurons': 35, 'batch_size': 4}. Best is trial 368 with value: 0.8985685110092163.\n"
     ]
    },
    {
     "name": "stderr",
     "output_type": "stream",
     "text": [
      "Best trial: 368. Best value: 0.898569:  52%|█████▏    | 518/1000 [12:15:04<11:14:00, 83.90s/it]"
     ]
    },
    {
     "name": "stdout",
     "output_type": "stream",
     "text": [
      "[I 2024-10-20 03:06:10,140] Trial 517 finished with value: 0.8920245170593262 and parameters: {'n_hidden_layers': 2, 'activation': 'elu', 'learning_rate': 0.0011559772648223493, 'optimizer': 'adam', 'dropout_rate': 0.21367271866213694, 'n_neurons': 77, 'batch_size': 4}. Best is trial 368 with value: 0.8985685110092163.\n"
     ]
    },
    {
     "name": "stderr",
     "output_type": "stream",
     "text": [
      "Best trial: 368. Best value: 0.898569:  52%|█████▏    | 519/1000 [12:15:48<9:35:53, 71.84s/it] "
     ]
    },
    {
     "name": "stdout",
     "output_type": "stream",
     "text": [
      "[I 2024-10-20 03:06:53,825] Trial 518 finished with value: 0.8932515382766724 and parameters: {'n_hidden_layers': 2, 'activation': 'relu', 'learning_rate': 0.0003656034765472201, 'optimizer': 'adam', 'dropout_rate': 0.2305642819400806, 'n_neurons': 127, 'batch_size': 4}. Best is trial 368 with value: 0.8985685110092163.\n"
     ]
    },
    {
     "name": "stderr",
     "output_type": "stream",
     "text": [
      "Best trial: 368. Best value: 0.898569:  52%|█████▏    | 520/1000 [12:17:42<11:15:33, 84.45s/it]"
     ]
    },
    {
     "name": "stdout",
     "output_type": "stream",
     "text": [
      "[I 2024-10-20 03:08:47,691] Trial 519 finished with value: 0.8928425312042236 and parameters: {'n_hidden_layers': 2, 'activation': 'elu', 'learning_rate': 0.0003075518969020614, 'optimizer': 'adam', 'dropout_rate': 0.16356547651412323, 'n_neurons': 123, 'batch_size': 4}. Best is trial 368 with value: 0.8985685110092163.\n"
     ]
    },
    {
     "name": "stderr",
     "output_type": "stream",
     "text": [
      "Best trial: 368. Best value: 0.898569:  52%|█████▏    | 521/1000 [12:18:58<10:55:25, 82.10s/it]"
     ]
    },
    {
     "name": "stdout",
     "output_type": "stream",
     "text": [
      "[I 2024-10-20 03:10:04,316] Trial 520 finished with value: 0.8907975554466248 and parameters: {'n_hidden_layers': 2, 'activation': 'elu', 'learning_rate': 0.0009617335816403098, 'optimizer': 'adam', 'dropout_rate': 0.18678500973792483, 'n_neurons': 90, 'batch_size': 4}. Best is trial 368 with value: 0.8985685110092163.\n"
     ]
    },
    {
     "name": "stderr",
     "output_type": "stream",
     "text": [
      "Best trial: 368. Best value: 0.898569:  52%|█████▏    | 522/1000 [12:20:42<11:45:44, 88.59s/it]"
     ]
    },
    {
     "name": "stdout",
     "output_type": "stream",
     "text": [
      "[I 2024-10-20 03:11:48,040] Trial 521 finished with value: 0.8916155695915222 and parameters: {'n_hidden_layers': 2, 'activation': 'elu', 'learning_rate': 0.000840976122606752, 'optimizer': 'adam', 'dropout_rate': 0.22531570391623323, 'n_neurons': 30, 'batch_size': 4}. Best is trial 368 with value: 0.8985685110092163.\n"
     ]
    },
    {
     "name": "stderr",
     "output_type": "stream",
     "text": [
      "Best trial: 368. Best value: 0.898569:  52%|█████▏    | 523/1000 [12:22:30<12:30:23, 94.39s/it]"
     ]
    },
    {
     "name": "stdout",
     "output_type": "stream",
     "text": [
      "[I 2024-10-20 03:13:35,969] Trial 522 finished with value: 0.8920245170593262 and parameters: {'n_hidden_layers': 2, 'activation': 'elu', 'learning_rate': 0.00047120348438906, 'optimizer': 'adam', 'dropout_rate': 0.24815103400533056, 'n_neurons': 83, 'batch_size': 4}. Best is trial 368 with value: 0.8985685110092163.\n"
     ]
    },
    {
     "name": "stderr",
     "output_type": "stream",
     "text": [
      "Best trial: 368. Best value: 0.898569:  52%|█████▏    | 524/1000 [12:23:24<10:51:30, 82.12s/it]"
     ]
    },
    {
     "name": "stdout",
     "output_type": "stream",
     "text": [
      "[I 2024-10-20 03:14:29,468] Trial 523 finished with value: 0.8973414897918701 and parameters: {'n_hidden_layers': 2, 'activation': 'elu', 'learning_rate': 0.0013094292046543924, 'optimizer': 'adam', 'dropout_rate': 0.21813557944441472, 'n_neurons': 126, 'batch_size': 8}. Best is trial 368 with value: 0.8985685110092163.\n"
     ]
    },
    {
     "name": "stderr",
     "output_type": "stream",
     "text": [
      "Best trial: 368. Best value: 0.898569:  52%|█████▎    | 525/1000 [12:24:12<9:29:11, 71.90s/it] "
     ]
    },
    {
     "name": "stdout",
     "output_type": "stream",
     "text": [
      "[I 2024-10-20 03:15:17,506] Trial 524 finished with value: 0.8948875069618225 and parameters: {'n_hidden_layers': 2, 'activation': 'elu', 'learning_rate': 0.0015980552865090224, 'optimizer': 'adam', 'dropout_rate': 0.2145674878457239, 'n_neurons': 46, 'batch_size': 8}. Best is trial 368 with value: 0.8985685110092163.\n"
     ]
    },
    {
     "name": "stderr",
     "output_type": "stream",
     "text": [
      "Best trial: 368. Best value: 0.898569:  53%|█████▎    | 526/1000 [12:24:45<7:57:23, 60.43s/it]"
     ]
    },
    {
     "name": "stdout",
     "output_type": "stream",
     "text": [
      "[I 2024-10-20 03:15:51,180] Trial 525 finished with value: 0.8932515382766724 and parameters: {'n_hidden_layers': 2, 'activation': 'elu', 'learning_rate': 0.002076261762679876, 'optimizer': 'adam', 'dropout_rate': 0.2322764131209212, 'n_neurons': 61, 'batch_size': 8}. Best is trial 368 with value: 0.8985685110092163.\n"
     ]
    },
    {
     "name": "stderr",
     "output_type": "stream",
     "text": [
      "Best trial: 368. Best value: 0.898569:  53%|█████▎    | 527/1000 [12:25:11<6:34:36, 50.06s/it]"
     ]
    },
    {
     "name": "stdout",
     "output_type": "stream",
     "text": [
      "[I 2024-10-20 03:16:17,029] Trial 526 finished with value: 0.8875255584716797 and parameters: {'n_hidden_layers': 2, 'activation': 'elu', 'learning_rate': 0.0015235737991294643, 'optimizer': 'rmsprop', 'dropout_rate': 0.2201422493548155, 'n_neurons': 128, 'batch_size': 8}. Best is trial 368 with value: 0.8985685110092163.\n"
     ]
    },
    {
     "name": "stderr",
     "output_type": "stream",
     "text": [
      "Best trial: 368. Best value: 0.898569:  53%|█████▎    | 528/1000 [12:25:52<6:11:05, 47.17s/it]"
     ]
    },
    {
     "name": "stdout",
     "output_type": "stream",
     "text": [
      "[I 2024-10-20 03:16:57,471] Trial 527 finished with value: 0.8936605453491211 and parameters: {'n_hidden_layers': 2, 'activation': 'elu', 'learning_rate': 0.0018490214474625943, 'optimizer': 'adam', 'dropout_rate': 0.21019844449829167, 'n_neurons': 124, 'batch_size': 8}. Best is trial 368 with value: 0.8985685110092163.\n"
     ]
    },
    {
     "name": "stderr",
     "output_type": "stream",
     "text": [
      "Best trial: 368. Best value: 0.898569:  53%|█████▎    | 529/1000 [12:26:34<6:00:24, 45.91s/it]"
     ]
    },
    {
     "name": "stdout",
     "output_type": "stream",
     "text": [
      "[I 2024-10-20 03:17:40,444] Trial 528 finished with value: 0.890388548374176 and parameters: {'n_hidden_layers': 2, 'activation': 'tanh', 'learning_rate': 0.001382725088867563, 'optimizer': 'adam', 'dropout_rate': 0.22436519533633287, 'n_neurons': 59, 'batch_size': 8}. Best is trial 368 with value: 0.8985685110092163.\n"
     ]
    },
    {
     "name": "stderr",
     "output_type": "stream",
     "text": [
      "Best trial: 368. Best value: 0.898569:  53%|█████▎    | 530/1000 [12:27:21<6:01:01, 46.09s/it]"
     ]
    },
    {
     "name": "stdout",
     "output_type": "stream",
     "text": [
      "[I 2024-10-20 03:18:26,945] Trial 529 finished with value: 0.8940695524215698 and parameters: {'n_hidden_layers': 2, 'activation': 'elu', 'learning_rate': 0.001306697764334537, 'optimizer': 'adam', 'dropout_rate': 0.240727614971834, 'n_neurons': 126, 'batch_size': 8}. Best is trial 368 with value: 0.8985685110092163.\n"
     ]
    },
    {
     "name": "stderr",
     "output_type": "stream",
     "text": [
      "Best trial: 368. Best value: 0.898569:  53%|█████▎    | 531/1000 [12:28:16<6:20:10, 48.64s/it]"
     ]
    },
    {
     "name": "stdout",
     "output_type": "stream",
     "text": [
      "[I 2024-10-20 03:19:21,526] Trial 530 finished with value: 0.8744376301765442 and parameters: {'n_hidden_layers': 2, 'activation': 'elu', 'learning_rate': 0.0011525498652731937, 'optimizer': 'sgd', 'dropout_rate': 0.2180181271143723, 'n_neurons': 126, 'batch_size': 8}. Best is trial 368 with value: 0.8985685110092163.\n"
     ]
    },
    {
     "name": "stderr",
     "output_type": "stream",
     "text": [
      "Best trial: 368. Best value: 0.898569:  53%|█████▎    | 532/1000 [12:29:07<6:25:56, 49.48s/it]"
     ]
    },
    {
     "name": "stdout",
     "output_type": "stream",
     "text": [
      "[I 2024-10-20 03:20:12,973] Trial 531 finished with value: 0.8924335241317749 and parameters: {'n_hidden_layers': 2, 'activation': 'elu', 'learning_rate': 0.001035956253437486, 'optimizer': 'adam', 'dropout_rate': 0.22774969450636218, 'n_neurons': 49, 'batch_size': 8}. Best is trial 368 with value: 0.8985685110092163.\n"
     ]
    },
    {
     "name": "stderr",
     "output_type": "stream",
     "text": [
      "Best trial: 368. Best value: 0.898569:  53%|█████▎    | 533/1000 [12:30:15<7:08:33, 55.06s/it]"
     ]
    },
    {
     "name": "stdout",
     "output_type": "stream",
     "text": [
      "[I 2024-10-20 03:21:21,059] Trial 532 finished with value: 0.8948875069618225 and parameters: {'n_hidden_layers': 2, 'activation': 'elu', 'learning_rate': 0.0012678055036558378, 'optimizer': 'adam', 'dropout_rate': 0.23488781807098008, 'n_neurons': 124, 'batch_size': 4}. Best is trial 368 with value: 0.8985685110092163.\n"
     ]
    },
    {
     "name": "stderr",
     "output_type": "stream",
     "text": [
      "Best trial: 368. Best value: 0.898569:  53%|█████▎    | 534/1000 [12:31:39<8:15:16, 63.77s/it]"
     ]
    },
    {
     "name": "stdout",
     "output_type": "stream",
     "text": [
      "[I 2024-10-20 03:22:45,148] Trial 533 finished with value: 0.8932515382766724 and parameters: {'n_hidden_layers': 2, 'activation': 'elu', 'learning_rate': 0.0011082019771282226, 'optimizer': 'adam', 'dropout_rate': 0.274232336932925, 'n_neurons': 97, 'batch_size': 4}. Best is trial 368 with value: 0.8985685110092163.\n"
     ]
    },
    {
     "name": "stderr",
     "output_type": "stream",
     "text": [
      "Best trial: 368. Best value: 0.898569:  54%|█████▎    | 535/1000 [12:32:14<7:06:46, 55.07s/it]"
     ]
    },
    {
     "name": "stdout",
     "output_type": "stream",
     "text": [
      "[I 2024-10-20 03:23:19,912] Trial 534 finished with value: 0.8924335241317749 and parameters: {'n_hidden_layers': 2, 'activation': 'elu', 'learning_rate': 0.0009228315752310484, 'optimizer': 'adam', 'dropout_rate': 0.2904958635211074, 'n_neurons': 122, 'batch_size': 16}. Best is trial 368 with value: 0.8985685110092163.\n"
     ]
    },
    {
     "name": "stderr",
     "output_type": "stream",
     "text": [
      "Best trial: 368. Best value: 0.898569:  54%|█████▎    | 536/1000 [12:32:28<5:30:10, 42.69s/it]"
     ]
    },
    {
     "name": "stdout",
     "output_type": "stream",
     "text": [
      "[I 2024-10-20 03:23:33,735] Trial 535 finished with value: 0.8862985968589783 and parameters: {'n_hidden_layers': 2, 'activation': 'elu', 'learning_rate': 0.0006652041580825379, 'optimizer': 'adam', 'dropout_rate': 0.26093280576382616, 'n_neurons': 126, 'batch_size': 64}. Best is trial 368 with value: 0.8985685110092163.\n"
     ]
    },
    {
     "name": "stderr",
     "output_type": "stream",
     "text": [
      "Best trial: 368. Best value: 0.898569:  54%|█████▎    | 537/1000 [12:33:06<5:19:16, 41.37s/it]"
     ]
    },
    {
     "name": "stdout",
     "output_type": "stream",
     "text": [
      "[I 2024-10-20 03:24:12,027] Trial 536 finished with value: 0.8895705342292786 and parameters: {'n_hidden_layers': 2, 'activation': 'elu', 'learning_rate': 0.0017666754987699061, 'optimizer': 'adam', 'dropout_rate': 0.33074846646068834, 'n_neurons': 123, 'batch_size': 8}. Best is trial 368 with value: 0.8985685110092163.\n"
     ]
    },
    {
     "name": "stderr",
     "output_type": "stream",
     "text": [
      "Best trial: 368. Best value: 0.898569:  54%|█████▍    | 538/1000 [12:34:12<6:15:09, 48.72s/it]"
     ]
    },
    {
     "name": "stdout",
     "output_type": "stream",
     "text": [
      "[I 2024-10-20 03:25:17,894] Trial 537 finished with value: 0.8932515382766724 and parameters: {'n_hidden_layers': 2, 'activation': 'elu', 'learning_rate': 0.0014436004827194323, 'optimizer': 'adam', 'dropout_rate': 0.2094643366197653, 'n_neurons': 122, 'batch_size': 4}. Best is trial 368 with value: 0.8985685110092163.\n"
     ]
    },
    {
     "name": "stderr",
     "output_type": "stream",
     "text": [
      "Best trial: 368. Best value: 0.898569:  54%|█████▍    | 539/1000 [12:34:49<5:46:43, 45.13s/it]"
     ]
    },
    {
     "name": "stdout",
     "output_type": "stream",
     "text": [
      "[I 2024-10-20 03:25:54,630] Trial 538 finished with value: 0.8912065625190735 and parameters: {'n_hidden_layers': 2, 'activation': 'relu', 'learning_rate': 0.0007408915755074428, 'optimizer': 'adam', 'dropout_rate': 0.24690382045274462, 'n_neurons': 72, 'batch_size': 4}. Best is trial 368 with value: 0.8985685110092163.\n"
     ]
    },
    {
     "name": "stderr",
     "output_type": "stream",
     "text": [
      "Best trial: 368. Best value: 0.898569:  54%|█████▍    | 540/1000 [12:36:24<7:40:47, 60.10s/it]"
     ]
    },
    {
     "name": "stdout",
     "output_type": "stream",
     "text": [
      "[I 2024-10-20 03:27:29,685] Trial 539 finished with value: 0.8842535614967346 and parameters: {'n_hidden_layers': 1, 'activation': 'elu', 'learning_rate': 0.0008344257772542388, 'optimizer': 'adam', 'dropout_rate': 0.3089800123987489, 'n_neurons': 120, 'batch_size': 4}. Best is trial 368 with value: 0.8985685110092163.\n"
     ]
    },
    {
     "name": "stderr",
     "output_type": "stream",
     "text": [
      "Best trial: 368. Best value: 0.898569:  54%|█████▍    | 541/1000 [12:36:44<6:08:09, 48.12s/it]"
     ]
    },
    {
     "name": "stdout",
     "output_type": "stream",
     "text": [
      "[I 2024-10-20 03:27:49,857] Trial 540 finished with value: 0.887116551399231 and parameters: {'n_hidden_layers': 2, 'activation': 'elu', 'learning_rate': 0.0006016364053970586, 'optimizer': 'adam', 'dropout_rate': 0.3412610353433219, 'n_neurons': 85, 'batch_size': 32}. Best is trial 368 with value: 0.8985685110092163.\n"
     ]
    },
    {
     "name": "stderr",
     "output_type": "stream",
     "text": [
      "Best trial: 368. Best value: 0.898569:  54%|█████▍    | 542/1000 [12:37:50<6:49:01, 53.58s/it]"
     ]
    },
    {
     "name": "stdout",
     "output_type": "stream",
     "text": [
      "[I 2024-10-20 03:28:56,180] Trial 541 finished with value: 0.8928425312042236 and parameters: {'n_hidden_layers': 2, 'activation': 'elu', 'learning_rate': 0.001023398904442028, 'optimizer': 'adam', 'dropout_rate': 0.2990197160591406, 'n_neurons': 128, 'batch_size': 4}. Best is trial 368 with value: 0.8985685110092163.\n"
     ]
    },
    {
     "name": "stderr",
     "output_type": "stream",
     "text": [
      "Best trial: 368. Best value: 0.898569:  54%|█████▍    | 543/1000 [12:38:36<6:30:11, 51.23s/it]"
     ]
    },
    {
     "name": "stdout",
     "output_type": "stream",
     "text": [
      "[I 2024-10-20 03:29:41,912] Trial 542 finished with value: 0.8969325423240662 and parameters: {'n_hidden_layers': 2, 'activation': 'elu', 'learning_rate': 0.0012456809400116938, 'optimizer': 'adam', 'dropout_rate': 0.2379964667876813, 'n_neurons': 125, 'batch_size': 8}. Best is trial 368 with value: 0.8985685110092163.\n"
     ]
    },
    {
     "name": "stderr",
     "output_type": "stream",
     "text": [
      "Best trial: 368. Best value: 0.898569:  54%|█████▍    | 544/1000 [12:39:13<5:56:25, 46.90s/it]"
     ]
    },
    {
     "name": "stdout",
     "output_type": "stream",
     "text": [
      "[I 2024-10-20 03:30:18,708] Trial 543 finished with value: 0.887116551399231 and parameters: {'n_hidden_layers': 2, 'activation': 'elu', 'learning_rate': 0.001337500523750992, 'optimizer': 'rmsprop', 'dropout_rate': 0.31776170142918264, 'n_neurons': 126, 'batch_size': 8}. Best is trial 368 with value: 0.8985685110092163.\n"
     ]
    },
    {
     "name": "stderr",
     "output_type": "stream",
     "text": [
      "Best trial: 368. Best value: 0.898569:  55%|█████▍    | 545/1000 [12:39:55<5:44:57, 45.49s/it]"
     ]
    },
    {
     "name": "stdout",
     "output_type": "stream",
     "text": [
      "[I 2024-10-20 03:31:00,906] Trial 544 finished with value: 0.8924335241317749 and parameters: {'n_hidden_layers': 2, 'activation': 'elu', 'learning_rate': 0.0016133294765826697, 'optimizer': 'adam', 'dropout_rate': 0.25605285437936853, 'n_neurons': 75, 'batch_size': 8}. Best is trial 368 with value: 0.8985685110092163.\n"
     ]
    },
    {
     "name": "stderr",
     "output_type": "stream",
     "text": [
      "Best trial: 368. Best value: 0.898569:  55%|█████▍    | 546/1000 [12:40:43<5:49:11, 46.15s/it]"
     ]
    },
    {
     "name": "stdout",
     "output_type": "stream",
     "text": [
      "[I 2024-10-20 03:31:48,594] Trial 545 finished with value: 0.8916155695915222 and parameters: {'n_hidden_layers': 2, 'activation': 'elu', 'learning_rate': 0.0012186816680654002, 'optimizer': 'adam', 'dropout_rate': 0.24277272434527195, 'n_neurons': 66, 'batch_size': 8}. Best is trial 368 with value: 0.8985685110092163.\n"
     ]
    },
    {
     "name": "stderr",
     "output_type": "stream",
     "text": [
      "Best trial: 368. Best value: 0.898569:  55%|█████▍    | 547/1000 [12:41:38<6:09:06, 48.89s/it]"
     ]
    },
    {
     "name": "stdout",
     "output_type": "stream",
     "text": [
      "[I 2024-10-20 03:32:43,878] Trial 546 finished with value: 0.8932515382766724 and parameters: {'n_hidden_layers': 2, 'activation': 'elu', 'learning_rate': 0.0011127475156235721, 'optimizer': 'adam', 'dropout_rate': 0.28856145788067916, 'n_neurons': 125, 'batch_size': 8}. Best is trial 368 with value: 0.8985685110092163.\n"
     ]
    },
    {
     "name": "stderr",
     "output_type": "stream",
     "text": [
      "Best trial: 368. Best value: 0.898569:  55%|█████▍    | 548/1000 [12:42:18<5:49:14, 46.36s/it]"
     ]
    },
    {
     "name": "stdout",
     "output_type": "stream",
     "text": [
      "[I 2024-10-20 03:33:24,337] Trial 547 finished with value: 0.8916155695915222 and parameters: {'n_hidden_layers': 2, 'activation': 'elu', 'learning_rate': 0.0014303670793578932, 'optimizer': 'adam', 'dropout_rate': 0.2796151375062025, 'n_neurons': 87, 'batch_size': 8}. Best is trial 368 with value: 0.8985685110092163.\n"
     ]
    },
    {
     "name": "stderr",
     "output_type": "stream",
     "text": [
      "Best trial: 368. Best value: 0.898569:  55%|█████▍    | 549/1000 [12:43:07<5:52:48, 46.94s/it]"
     ]
    },
    {
     "name": "stdout",
     "output_type": "stream",
     "text": [
      "[I 2024-10-20 03:34:12,623] Trial 548 finished with value: 0.8899795413017273 and parameters: {'n_hidden_layers': 2, 'activation': 'elu', 'learning_rate': 0.0009719069253894477, 'optimizer': 'adam', 'dropout_rate': 0.22643470827732112, 'n_neurons': 124, 'batch_size': 8}. Best is trial 368 with value: 0.8985685110092163.\n"
     ]
    },
    {
     "name": "stderr",
     "output_type": "stream",
     "text": [
      "Best trial: 368. Best value: 0.898569:  55%|█████▌    | 550/1000 [12:43:51<5:46:42, 46.23s/it]"
     ]
    },
    {
     "name": "stdout",
     "output_type": "stream",
     "text": [
      "[I 2024-10-20 03:34:57,193] Trial 549 finished with value: 0.8932515382766724 and parameters: {'n_hidden_layers': 2, 'activation': 'elu', 'learning_rate': 0.0012413548274733102, 'optimizer': 'adam', 'dropout_rate': 0.23699691583334787, 'n_neurons': 128, 'batch_size': 8}. Best is trial 368 with value: 0.8985685110092163.\n"
     ]
    },
    {
     "name": "stderr",
     "output_type": "stream",
     "text": [
      "Best trial: 368. Best value: 0.898569:  55%|█████▌    | 551/1000 [12:44:32<5:33:25, 44.55s/it]"
     ]
    },
    {
     "name": "stdout",
     "output_type": "stream",
     "text": [
      "[I 2024-10-20 03:35:37,846] Trial 550 finished with value: 0.8916155695915222 and parameters: {'n_hidden_layers': 2, 'activation': 'tanh', 'learning_rate': 0.0009185291592089544, 'optimizer': 'adam', 'dropout_rate': 0.26652249837838843, 'n_neurons': 122, 'batch_size': 8}. Best is trial 368 with value: 0.8985685110092163.\n"
     ]
    },
    {
     "name": "stderr",
     "output_type": "stream",
     "text": [
      "Best trial: 368. Best value: 0.898569:  55%|█████▌    | 552/1000 [12:46:10<7:31:50, 60.51s/it]"
     ]
    },
    {
     "name": "stdout",
     "output_type": "stream",
     "text": [
      "[I 2024-10-20 03:37:15,596] Trial 551 finished with value: 0.8793455958366394 and parameters: {'n_hidden_layers': 2, 'activation': 'elu', 'learning_rate': 0.0007760243461431155, 'optimizer': 'sgd', 'dropout_rate': 0.32451860943806476, 'n_neurons': 124, 'batch_size': 4}. Best is trial 368 with value: 0.8985685110092163.\n"
     ]
    },
    {
     "name": "stderr",
     "output_type": "stream",
     "text": [
      "Best trial: 368. Best value: 0.898569:  55%|█████▌    | 553/1000 [12:47:53<9:07:32, 73.50s/it]"
     ]
    },
    {
     "name": "stdout",
     "output_type": "stream",
     "text": [
      "[I 2024-10-20 03:38:59,383] Trial 552 finished with value: 0.8928425312042236 and parameters: {'n_hidden_layers': 2, 'activation': 'elu', 'learning_rate': 0.001052440897712816, 'optimizer': 'adam', 'dropout_rate': 0.2515454458826156, 'n_neurons': 120, 'batch_size': 4}. Best is trial 368 with value: 0.8985685110092163.\n"
     ]
    },
    {
     "name": "stderr",
     "output_type": "stream",
     "text": [
      "Best trial: 368. Best value: 0.898569:  55%|█████▌    | 554/1000 [12:48:45<8:16:19, 66.77s/it]"
     ]
    },
    {
     "name": "stdout",
     "output_type": "stream",
     "text": [
      "[I 2024-10-20 03:39:50,458] Trial 553 finished with value: 0.8936605453491211 and parameters: {'n_hidden_layers': 2, 'activation': 'elu', 'learning_rate': 0.001181539893278174, 'optimizer': 'adam', 'dropout_rate': 0.21853473898365722, 'n_neurons': 68, 'batch_size': 8}. Best is trial 368 with value: 0.8985685110092163.\n"
     ]
    },
    {
     "name": "stderr",
     "output_type": "stream",
     "text": [
      "Best trial: 368. Best value: 0.898569:  56%|█████▌    | 555/1000 [12:50:13<9:02:58, 73.21s/it]"
     ]
    },
    {
     "name": "stdout",
     "output_type": "stream",
     "text": [
      "[I 2024-10-20 03:41:18,692] Trial 554 finished with value: 0.8944784998893738 and parameters: {'n_hidden_layers': 2, 'activation': 'elu', 'learning_rate': 0.0008642136784233667, 'optimizer': 'adam', 'dropout_rate': 0.22983584338507934, 'n_neurons': 125, 'batch_size': 4}. Best is trial 368 with value: 0.8985685110092163.\n"
     ]
    },
    {
     "name": "stderr",
     "output_type": "stream",
     "text": [
      "Best trial: 368. Best value: 0.898569:  56%|█████▌    | 556/1000 [12:50:23<6:42:35, 54.41s/it]"
     ]
    },
    {
     "name": "stdout",
     "output_type": "stream",
     "text": [
      "[I 2024-10-20 03:41:29,223] Trial 555 finished with value: 0.8862985968589783 and parameters: {'n_hidden_layers': 2, 'activation': 'elu', 'learning_rate': 0.0007279526818307206, 'optimizer': 'adam', 'dropout_rate': 0.27737845869832667, 'n_neurons': 128, 'batch_size': 128}. Best is trial 368 with value: 0.8985685110092163.\n"
     ]
    },
    {
     "name": "stderr",
     "output_type": "stream",
     "text": [
      "Best trial: 368. Best value: 0.898569:  56%|█████▌    | 557/1000 [12:51:54<8:02:49, 65.39s/it]"
     ]
    },
    {
     "name": "stdout",
     "output_type": "stream",
     "text": [
      "[I 2024-10-20 03:43:00,256] Trial 556 finished with value: 0.8940695524215698 and parameters: {'n_hidden_layers': 2, 'activation': 'elu', 'learning_rate': 0.0010414256269532832, 'optimizer': 'adam', 'dropout_rate': 0.3038748459862391, 'n_neurons': 52, 'batch_size': 4}. Best is trial 368 with value: 0.8985685110092163.\n"
     ]
    },
    {
     "name": "stderr",
     "output_type": "stream",
     "text": [
      "Best trial: 368. Best value: 0.898569:  56%|█████▌    | 558/1000 [12:55:59<14:38:37, 119.27s/it]"
     ]
    },
    {
     "name": "stdout",
     "output_type": "stream",
     "text": [
      "[I 2024-10-20 03:47:05,235] Trial 557 finished with value: 0.8936605453491211 and parameters: {'n_hidden_layers': 2, 'activation': 'elu', 'learning_rate': 0.001486903509141022, 'optimizer': 'adam', 'dropout_rate': 0.29394238435353426, 'n_neurons': 121, 'batch_size': 1}. Best is trial 368 with value: 0.8985685110092163.\n"
     ]
    },
    {
     "name": "stderr",
     "output_type": "stream",
     "text": [
      "Best trial: 368. Best value: 0.898569:  56%|█████▌    | 559/1000 [12:57:37<13:48:35, 112.73s/it]"
     ]
    },
    {
     "name": "stdout",
     "output_type": "stream",
     "text": [
      "[I 2024-10-20 03:48:42,722] Trial 558 finished with value: 0.8948875069618225 and parameters: {'n_hidden_layers': 2, 'activation': 'elu', 'learning_rate': 0.0006569480051434033, 'optimizer': 'adam', 'dropout_rate': 0.21409756958687104, 'n_neurons': 119, 'batch_size': 4}. Best is trial 368 with value: 0.8985685110092163.\n"
     ]
    },
    {
     "name": "stderr",
     "output_type": "stream",
     "text": [
      "Best trial: 368. Best value: 0.898569:  56%|█████▌    | 560/1000 [12:58:28<11:31:25, 94.29s/it] "
     ]
    },
    {
     "name": "stdout",
     "output_type": "stream",
     "text": [
      "[I 2024-10-20 03:49:33,961] Trial 559 finished with value: 0.8948875069618225 and parameters: {'n_hidden_layers': 3, 'activation': 'elu', 'learning_rate': 0.0008587557543428128, 'optimizer': 'adam', 'dropout_rate': 0.3375053683204293, 'n_neurons': 124, 'batch_size': 8}. Best is trial 368 with value: 0.8985685110092163.\n"
     ]
    },
    {
     "name": "stderr",
     "output_type": "stream",
     "text": [
      "Best trial: 368. Best value: 0.898569:  56%|█████▌    | 561/1000 [12:58:59<9:10:07, 75.19s/it] "
     ]
    },
    {
     "name": "stdout",
     "output_type": "stream",
     "text": [
      "[I 2024-10-20 03:50:04,585] Trial 560 finished with value: 0.8854805827140808 and parameters: {'n_hidden_layers': 2, 'activation': 'relu', 'learning_rate': 0.0012262625541951944, 'optimizer': 'adam', 'dropout_rate': 0.20273271637597037, 'n_neurons': 126, 'batch_size': 4}. Best is trial 368 with value: 0.8985685110092163.\n"
     ]
    },
    {
     "name": "stderr",
     "output_type": "stream",
     "text": [
      "Best trial: 368. Best value: 0.898569:  56%|█████▌    | 562/1000 [13:00:13<9:06:54, 74.92s/it]"
     ]
    },
    {
     "name": "stdout",
     "output_type": "stream",
     "text": [
      "[I 2024-10-20 03:51:18,874] Trial 561 finished with value: 0.8940695524215698 and parameters: {'n_hidden_layers': 3, 'activation': 'elu', 'learning_rate': 0.0009504363398035364, 'optimizer': 'adam', 'dropout_rate': 0.28450950530589253, 'n_neurons': 79, 'batch_size': 4}. Best is trial 368 with value: 0.8985685110092163.\n"
     ]
    },
    {
     "name": "stderr",
     "output_type": "stream",
     "text": [
      "Best trial: 368. Best value: 0.898569:  56%|█████▋    | 563/1000 [13:01:40<9:32:01, 78.54s/it]"
     ]
    },
    {
     "name": "stdout",
     "output_type": "stream",
     "text": [
      "[I 2024-10-20 03:52:45,865] Trial 562 finished with value: 0.8961145281791687 and parameters: {'n_hidden_layers': 3, 'activation': 'elu', 'learning_rate': 0.0007730369783638, 'optimizer': 'adam', 'dropout_rate': 0.2710524810082146, 'n_neurons': 118, 'batch_size': 4}. Best is trial 368 with value: 0.8985685110092163.\n"
     ]
    },
    {
     "name": "stderr",
     "output_type": "stream",
     "text": [
      "Best trial: 368. Best value: 0.898569:  56%|█████▋    | 564/1000 [13:02:59<9:32:05, 78.73s/it]"
     ]
    },
    {
     "name": "stdout",
     "output_type": "stream",
     "text": [
      "[I 2024-10-20 03:54:05,029] Trial 563 finished with value: 0.8932515382766724 and parameters: {'n_hidden_layers': 3, 'activation': 'elu', 'learning_rate': 0.0007893001497657548, 'optimizer': 'adam', 'dropout_rate': 0.26983137928683254, 'n_neurons': 119, 'batch_size': 4}. Best is trial 368 with value: 0.8985685110092163.\n"
     ]
    },
    {
     "name": "stderr",
     "output_type": "stream",
     "text": [
      "Best trial: 368. Best value: 0.898569:  56%|█████▋    | 565/1000 [13:03:28<7:42:56, 63.85s/it]"
     ]
    },
    {
     "name": "stdout",
     "output_type": "stream",
     "text": [
      "[I 2024-10-20 03:54:34,180] Trial 564 finished with value: 0.887116551399231 and parameters: {'n_hidden_layers': 1, 'activation': 'elu', 'learning_rate': 0.0010778681586635413, 'optimizer': 'adam', 'dropout_rate': 0.2720552865631205, 'n_neurons': 123, 'batch_size': 16}. Best is trial 368 with value: 0.8985685110092163.\n"
     ]
    },
    {
     "name": "stderr",
     "output_type": "stream",
     "text": [
      "Best trial: 368. Best value: 0.898569:  57%|█████▋    | 566/1000 [13:04:23<7:22:54, 61.23s/it]"
     ]
    },
    {
     "name": "stdout",
     "output_type": "stream",
     "text": [
      "[I 2024-10-20 03:55:29,290] Trial 565 finished with value: 0.8936605453491211 and parameters: {'n_hidden_layers': 2, 'activation': 'elu', 'learning_rate': 0.0009095452998194337, 'optimizer': 'adam', 'dropout_rate': 0.2594751377419173, 'n_neurons': 118, 'batch_size': 8}. Best is trial 368 with value: 0.8985685110092163.\n"
     ]
    },
    {
     "name": "stderr",
     "output_type": "stream",
     "text": [
      "Best trial: 368. Best value: 0.898569:  57%|█████▋    | 567/1000 [13:05:21<7:14:40, 60.23s/it]"
     ]
    },
    {
     "name": "stdout",
     "output_type": "stream",
     "text": [
      "[I 2024-10-20 03:56:27,190] Trial 566 finished with value: 0.8912065625190735 and parameters: {'n_hidden_layers': 3, 'activation': 'elu', 'learning_rate': 0.0007397907340309966, 'optimizer': 'adam', 'dropout_rate': 0.2647416130488373, 'n_neurons': 121, 'batch_size': 4}. Best is trial 368 with value: 0.8985685110092163.\n"
     ]
    },
    {
     "name": "stderr",
     "output_type": "stream",
     "text": [
      "Best trial: 368. Best value: 0.898569:  57%|█████▋    | 568/1000 [13:06:43<8:00:15, 66.70s/it]"
     ]
    },
    {
     "name": "stdout",
     "output_type": "stream",
     "text": [
      "[I 2024-10-20 03:57:48,995] Trial 567 finished with value: 0.8944784998893738 and parameters: {'n_hidden_layers': 3, 'activation': 'elu', 'learning_rate': 0.0008417485494100395, 'optimizer': 'adam', 'dropout_rate': 0.27723494525659337, 'n_neurons': 121, 'batch_size': 4}. Best is trial 368 with value: 0.8985685110092163.\n"
     ]
    },
    {
     "name": "stderr",
     "output_type": "stream",
     "text": [
      "Best trial: 368. Best value: 0.898569:  57%|█████▋    | 569/1000 [13:06:58<6:06:47, 51.06s/it]"
     ]
    },
    {
     "name": "stdout",
     "output_type": "stream",
     "text": [
      "[I 2024-10-20 03:58:03,553] Trial 568 finished with value: 0.8920245170593262 and parameters: {'n_hidden_layers': 3, 'activation': 'elu', 'learning_rate': 0.0013361674754528079, 'optimizer': 'rmsprop', 'dropout_rate': 0.2826760827083248, 'n_neurons': 117, 'batch_size': 64}. Best is trial 368 with value: 0.8985685110092163.\n"
     ]
    },
    {
     "name": "stderr",
     "output_type": "stream",
     "text": [
      "Best trial: 368. Best value: 0.898569:  57%|█████▋    | 570/1000 [13:08:11<6:53:58, 57.76s/it]"
     ]
    },
    {
     "name": "stdout",
     "output_type": "stream",
     "text": [
      "[I 2024-10-20 03:59:16,962] Trial 569 finished with value: 0.8936605453491211 and parameters: {'n_hidden_layers': 2, 'activation': 'elu', 'learning_rate': 0.0017417969389710484, 'optimizer': 'adam', 'dropout_rate': 0.25710359122729465, 'n_neurons': 100, 'batch_size': 4}. Best is trial 368 with value: 0.8985685110092163.\n"
     ]
    },
    {
     "name": "stderr",
     "output_type": "stream",
     "text": [
      "Best trial: 368. Best value: 0.898569:  57%|█████▋    | 571/1000 [13:08:53<6:18:24, 52.92s/it]"
     ]
    },
    {
     "name": "stdout",
     "output_type": "stream",
     "text": [
      "[I 2024-10-20 03:59:58,592] Trial 570 finished with value: 0.8944784998893738 and parameters: {'n_hidden_layers': 3, 'activation': 'elu', 'learning_rate': 0.0009921099250447254, 'optimizer': 'adam', 'dropout_rate': 0.245869745962053, 'n_neurons': 122, 'batch_size': 8}. Best is trial 368 with value: 0.8985685110092163.\n"
     ]
    },
    {
     "name": "stderr",
     "output_type": "stream",
     "text": [
      "Best trial: 368. Best value: 0.898569:  57%|█████▋    | 572/1000 [13:10:22<7:35:57, 63.92s/it]"
     ]
    },
    {
     "name": "stdout",
     "output_type": "stream",
     "text": [
      "[I 2024-10-20 04:01:28,167] Trial 571 finished with value: 0.8920245170593262 and parameters: {'n_hidden_layers': 3, 'activation': 'elu', 'learning_rate': 0.0006983096666173321, 'optimizer': 'adam', 'dropout_rate': 0.29383258104220045, 'n_neurons': 126, 'batch_size': 4}. Best is trial 368 with value: 0.8985685110092163.\n"
     ]
    },
    {
     "name": "stderr",
     "output_type": "stream",
     "text": [
      "Best trial: 368. Best value: 0.898569:  57%|█████▋    | 573/1000 [13:11:38<7:59:29, 67.38s/it]"
     ]
    },
    {
     "name": "stdout",
     "output_type": "stream",
     "text": [
      "[I 2024-10-20 04:02:43,609] Trial 572 finished with value: 0.8912065625190735 and parameters: {'n_hidden_layers': 2, 'activation': 'elu', 'learning_rate': 0.0010794856175576641, 'optimizer': 'adam', 'dropout_rate': 0.3117550106325584, 'n_neurons': 119, 'batch_size': 4}. Best is trial 368 with value: 0.8985685110092163.\n"
     ]
    },
    {
     "name": "stderr",
     "output_type": "stream",
     "text": [
      "Best trial: 368. Best value: 0.898569:  57%|█████▋    | 574/1000 [13:12:00<6:23:03, 53.95s/it]"
     ]
    },
    {
     "name": "stdout",
     "output_type": "stream",
     "text": [
      "[I 2024-10-20 04:03:06,235] Trial 573 finished with value: 0.8924335241317749 and parameters: {'n_hidden_layers': 3, 'activation': 'elu', 'learning_rate': 0.0008178844794505198, 'optimizer': 'adam', 'dropout_rate': 0.27093293224052045, 'n_neurons': 123, 'batch_size': 32}. Best is trial 368 with value: 0.8985685110092163.\n"
     ]
    },
    {
     "name": "stderr",
     "output_type": "stream",
     "text": [
      "Best trial: 368. Best value: 0.898569:  57%|█████▊    | 575/1000 [13:13:08<6:50:23, 57.94s/it]"
     ]
    },
    {
     "name": "stdout",
     "output_type": "stream",
     "text": [
      "[I 2024-10-20 04:04:13,479] Trial 574 finished with value: 0.890388548374176 and parameters: {'n_hidden_layers': 3, 'activation': 'tanh', 'learning_rate': 0.0009335131357151486, 'optimizer': 'adam', 'dropout_rate': 0.2864661463982341, 'n_neurons': 118, 'batch_size': 4}. Best is trial 368 with value: 0.8985685110092163.\n"
     ]
    },
    {
     "name": "stderr",
     "output_type": "stream",
     "text": [
      "Best trial: 368. Best value: 0.898569:  58%|█████▊    | 576/1000 [13:13:48<6:12:21, 52.69s/it]"
     ]
    },
    {
     "name": "stdout",
     "output_type": "stream",
     "text": [
      "[I 2024-10-20 04:04:53,931] Trial 575 finished with value: 0.8924335241317749 and parameters: {'n_hidden_layers': 2, 'activation': 'elu', 'learning_rate': 0.0012091900890281594, 'optimizer': 'adam', 'dropout_rate': 0.22386964593694947, 'n_neurons': 121, 'batch_size': 8}. Best is trial 368 with value: 0.8985685110092163.\n"
     ]
    },
    {
     "name": "stderr",
     "output_type": "stream",
     "text": [
      "Best trial: 368. Best value: 0.898569:  58%|█████▊    | 577/1000 [13:15:32<8:00:50, 68.21s/it]"
     ]
    },
    {
     "name": "stdout",
     "output_type": "stream",
     "text": [
      "[I 2024-10-20 04:06:38,330] Trial 576 finished with value: 0.881799578666687 and parameters: {'n_hidden_layers': 3, 'activation': 'elu', 'learning_rate': 0.0006567714417457318, 'optimizer': 'sgd', 'dropout_rate': 0.3038812774679191, 'n_neurons': 116, 'batch_size': 4}. Best is trial 368 with value: 0.8985685110092163.\n"
     ]
    },
    {
     "name": "stderr",
     "output_type": "stream",
     "text": [
      "Best trial: 368. Best value: 0.898569:  58%|█████▊    | 578/1000 [13:15:45<6:02:38, 51.56s/it]"
     ]
    },
    {
     "name": "stdout",
     "output_type": "stream",
     "text": [
      "[I 2024-10-20 04:06:51,055] Trial 577 finished with value: 0.8883435726165771 and parameters: {'n_hidden_layers': 3, 'activation': 'elu', 'learning_rate': 0.000735659484986453, 'optimizer': 'adam', 'dropout_rate': 0.23756308772291118, 'n_neurons': 124, 'batch_size': 128}. Best is trial 368 with value: 0.8985685110092163.\n"
     ]
    },
    {
     "name": "stderr",
     "output_type": "stream",
     "text": [
      "Best trial: 368. Best value: 0.898569:  58%|█████▊    | 579/1000 [13:16:51<6:31:00, 55.73s/it]"
     ]
    },
    {
     "name": "stdout",
     "output_type": "stream",
     "text": [
      "[I 2024-10-20 04:07:56,498] Trial 578 finished with value: 0.8940695524215698 and parameters: {'n_hidden_layers': 2, 'activation': 'elu', 'learning_rate': 0.0013909586811326588, 'optimizer': 'adam', 'dropout_rate': 0.26061057078632244, 'n_neurons': 128, 'batch_size': 4}. Best is trial 368 with value: 0.8985685110092163.\n"
     ]
    },
    {
     "name": "stderr",
     "output_type": "stream",
     "text": [
      "Best trial: 368. Best value: 0.898569:  58%|█████▊    | 580/1000 [13:18:11<7:22:18, 63.19s/it]"
     ]
    },
    {
     "name": "stdout",
     "output_type": "stream",
     "text": [
      "[I 2024-10-20 04:09:17,100] Trial 579 finished with value: 0.890388548374176 and parameters: {'n_hidden_layers': 3, 'activation': 'elu', 'learning_rate': 0.000566156456368512, 'optimizer': 'adam', 'dropout_rate': 0.25293217653447664, 'n_neurons': 104, 'batch_size': 4}. Best is trial 368 with value: 0.8985685110092163.\n"
     ]
    },
    {
     "name": "stderr",
     "output_type": "stream",
     "text": [
      "Best trial: 368. Best value: 0.898569:  58%|█████▊    | 581/1000 [13:20:58<10:59:18, 94.41s/it]"
     ]
    },
    {
     "name": "stdout",
     "output_type": "stream",
     "text": [
      "[I 2024-10-20 04:12:04,364] Trial 580 finished with value: 0.887116551399231 and parameters: {'n_hidden_layers': 3, 'activation': 'elu', 'learning_rate': 0.000868152100405989, 'optimizer': 'adam', 'dropout_rate': 0.27868831328720606, 'n_neurons': 126, 'batch_size': 1}. Best is trial 368 with value: 0.8985685110092163.\n"
     ]
    },
    {
     "name": "stderr",
     "output_type": "stream",
     "text": [
      "Best trial: 368. Best value: 0.898569:  58%|█████▊    | 582/1000 [13:22:00<9:48:47, 84.51s/it] "
     ]
    },
    {
     "name": "stdout",
     "output_type": "stream",
     "text": [
      "[I 2024-10-20 04:13:05,787] Trial 581 finished with value: 0.8854805827140808 and parameters: {'n_hidden_layers': 2, 'activation': 'elu', 'learning_rate': 0.00015293726042490727, 'optimizer': 'adam', 'dropout_rate': 0.21913707453157552, 'n_neurons': 120, 'batch_size': 8}. Best is trial 368 with value: 0.8985685110092163.\n"
     ]
    },
    {
     "name": "stderr",
     "output_type": "stream",
     "text": [
      "Best trial: 368. Best value: 0.898569:  58%|█████▊    | 583/1000 [13:23:06<9:08:06, 78.87s/it]"
     ]
    },
    {
     "name": "stdout",
     "output_type": "stream",
     "text": [
      "[I 2024-10-20 04:14:11,471] Trial 582 finished with value: 0.8895705342292786 and parameters: {'n_hidden_layers': 3, 'activation': 'elu', 'learning_rate': 0.0010758732830127582, 'optimizer': 'adam', 'dropout_rate': 0.23209285247939815, 'n_neurons': 81, 'batch_size': 4}. Best is trial 368 with value: 0.8985685110092163.\n"
     ]
    },
    {
     "name": "stderr",
     "output_type": "stream",
     "text": [
      "Best trial: 368. Best value: 0.898569:  58%|█████▊    | 584/1000 [13:23:42<7:38:37, 66.15s/it]"
     ]
    },
    {
     "name": "stdout",
     "output_type": "stream",
     "text": [
      "[I 2024-10-20 04:14:47,945] Trial 583 finished with value: 0.890388548374176 and parameters: {'n_hidden_layers': 3, 'activation': 'relu', 'learning_rate': 0.0007676472547284406, 'optimizer': 'adam', 'dropout_rate': 0.2690713875265672, 'n_neurons': 122, 'batch_size': 4}. Best is trial 368 with value: 0.8985685110092163.\n"
     ]
    },
    {
     "name": "stderr",
     "output_type": "stream",
     "text": [
      "Best trial: 368. Best value: 0.898569:  58%|█████▊    | 585/1000 [13:24:48<7:36:25, 65.99s/it]"
     ]
    },
    {
     "name": "stdout",
     "output_type": "stream",
     "text": [
      "[I 2024-10-20 04:15:53,567] Trial 584 finished with value: 0.8932515382766724 and parameters: {'n_hidden_layers': 3, 'activation': 'elu', 'learning_rate': 0.0009608166256122997, 'optimizer': 'adam', 'dropout_rate': 0.2986418312891325, 'n_neurons': 117, 'batch_size': 4}. Best is trial 368 with value: 0.8985685110092163.\n"
     ]
    },
    {
     "name": "stderr",
     "output_type": "stream",
     "text": [
      "Best trial: 368. Best value: 0.898569:  59%|█████▊    | 586/1000 [13:25:49<7:25:14, 64.53s/it]"
     ]
    },
    {
     "name": "stdout",
     "output_type": "stream",
     "text": [
      "[I 2024-10-20 04:16:54,681] Trial 585 finished with value: 0.8912065625190735 and parameters: {'n_hidden_layers': 2, 'activation': 'elu', 'learning_rate': 0.0006267895476399498, 'optimizer': 'adam', 'dropout_rate': 0.20951528040394554, 'n_neurons': 125, 'batch_size': 8}. Best is trial 368 with value: 0.8985685110092163.\n"
     ]
    },
    {
     "name": "stderr",
     "output_type": "stream",
     "text": [
      "Best trial: 368. Best value: 0.898569:  59%|█████▊    | 587/1000 [13:26:59<7:36:17, 66.29s/it]"
     ]
    },
    {
     "name": "stdout",
     "output_type": "stream",
     "text": [
      "[I 2024-10-20 04:18:05,086] Trial 586 finished with value: 0.8899795413017273 and parameters: {'n_hidden_layers': 3, 'activation': 'elu', 'learning_rate': 0.0011830369343724073, 'optimizer': 'adam', 'dropout_rate': 0.24328297502312052, 'n_neurons': 115, 'batch_size': 4}. Best is trial 368 with value: 0.8985685110092163.\n"
     ]
    },
    {
     "name": "stderr",
     "output_type": "stream",
     "text": [
      "Best trial: 368. Best value: 0.898569:  59%|█████▉    | 588/1000 [13:28:07<7:38:53, 66.83s/it]"
     ]
    },
    {
     "name": "stdout",
     "output_type": "stream",
     "text": [
      "[I 2024-10-20 04:19:13,167] Trial 587 finished with value: 0.8887525796890259 and parameters: {'n_hidden_layers': 3, 'activation': 'elu', 'learning_rate': 0.0008200024512229783, 'optimizer': 'adam', 'dropout_rate': 0.316835729777731, 'n_neurons': 118, 'batch_size': 4}. Best is trial 368 with value: 0.8985685110092163.\n"
     ]
    },
    {
     "name": "stderr",
     "output_type": "stream",
     "text": [
      "Best trial: 368. Best value: 0.898569:  59%|█████▉    | 589/1000 [13:28:41<6:29:21, 56.84s/it]"
     ]
    },
    {
     "name": "stdout",
     "output_type": "stream",
     "text": [
      "[I 2024-10-20 04:19:46,709] Trial 588 finished with value: 0.869529664516449 and parameters: {'n_hidden_layers': 2, 'activation': 'elu', 'learning_rate': 1.0378820608866057e-05, 'optimizer': 'rmsprop', 'dropout_rate': 0.22337364979201785, 'n_neurons': 123, 'batch_size': 16}. Best is trial 368 with value: 0.8985685110092163.\n"
     ]
    },
    {
     "name": "stderr",
     "output_type": "stream",
     "text": [
      "Best trial: 368. Best value: 0.898569:  59%|█████▉    | 590/1000 [13:29:44<6:41:16, 58.72s/it]"
     ]
    },
    {
     "name": "stdout",
     "output_type": "stream",
     "text": [
      "[I 2024-10-20 04:20:49,819] Trial 589 finished with value: 0.8895705342292786 and parameters: {'n_hidden_layers': 3, 'activation': 'elu', 'learning_rate': 0.0015994933170798407, 'optimizer': 'adam', 'dropout_rate': 0.2906589902149497, 'n_neurons': 105, 'batch_size': 4}. Best is trial 368 with value: 0.8985685110092163.\n"
     ]
    },
    {
     "name": "stderr",
     "output_type": "stream",
     "text": [
      "Best trial: 368. Best value: 0.898569:  59%|█████▉    | 591/1000 [13:30:29<6:13:08, 54.74s/it]"
     ]
    },
    {
     "name": "stdout",
     "output_type": "stream",
     "text": [
      "[I 2024-10-20 04:21:35,265] Trial 590 finished with value: 0.8944784998893738 and parameters: {'n_hidden_layers': 3, 'activation': 'elu', 'learning_rate': 0.0005499959364412447, 'optimizer': 'adam', 'dropout_rate': 0.233464111992185, 'n_neurons': 120, 'batch_size': 8}. Best is trial 368 with value: 0.8985685110092163.\n"
     ]
    },
    {
     "name": "stderr",
     "output_type": "stream",
     "text": [
      "Best trial: 368. Best value: 0.898569:  59%|█████▉    | 592/1000 [13:31:50<7:04:46, 62.47s/it]"
     ]
    },
    {
     "name": "stdout",
     "output_type": "stream",
     "text": [
      "[I 2024-10-20 04:22:55,763] Trial 591 finished with value: 0.8936605453491211 and parameters: {'n_hidden_layers': 2, 'activation': 'elu', 'learning_rate': 0.0009968868007091214, 'optimizer': 'adam', 'dropout_rate': 0.2762984435591729, 'n_neurons': 116, 'batch_size': 4}. Best is trial 368 with value: 0.8985685110092163.\n"
     ]
    },
    {
     "name": "stderr",
     "output_type": "stream",
     "text": [
      "Best trial: 368. Best value: 0.898569:  59%|█████▉    | 593/1000 [13:32:06<5:28:45, 48.46s/it]"
     ]
    },
    {
     "name": "stdout",
     "output_type": "stream",
     "text": [
      "[I 2024-10-20 04:23:11,557] Trial 592 finished with value: 0.8895705342292786 and parameters: {'n_hidden_layers': 3, 'activation': 'elu', 'learning_rate': 0.0007150619740551629, 'optimizer': 'adam', 'dropout_rate': 0.26193628404055863, 'n_neurons': 126, 'batch_size': 64}. Best is trial 368 with value: 0.8985685110092163.\n"
     ]
    },
    {
     "name": "stderr",
     "output_type": "stream",
     "text": [
      "Best trial: 368. Best value: 0.898569:  59%|█████▉    | 594/1000 [13:33:18<6:17:17, 55.76s/it]"
     ]
    },
    {
     "name": "stdout",
     "output_type": "stream",
     "text": [
      "[I 2024-10-20 04:24:24,327] Trial 593 finished with value: 0.8944784998893738 and parameters: {'n_hidden_layers': 3, 'activation': 'elu', 'learning_rate': 0.0008651630073934337, 'optimizer': 'adam', 'dropout_rate': 0.3069874948176305, 'n_neurons': 107, 'batch_size': 4}. Best is trial 368 with value: 0.8985685110092163.\n"
     ]
    },
    {
     "name": "stderr",
     "output_type": "stream",
     "text": [
      "Best trial: 368. Best value: 0.898569:  60%|█████▉    | 595/1000 [13:34:33<6:54:07, 61.35s/it]"
     ]
    },
    {
     "name": "stdout",
     "output_type": "stream",
     "text": [
      "[I 2024-10-20 04:25:38,735] Trial 594 finished with value: 0.8932515382766724 and parameters: {'n_hidden_layers': 2, 'activation': 'elu', 'learning_rate': 0.0013125953611222982, 'optimizer': 'adam', 'dropout_rate': 0.251185748106571, 'n_neurons': 123, 'batch_size': 4}. Best is trial 368 with value: 0.8985685110092163.\n"
     ]
    },
    {
     "name": "stderr",
     "output_type": "stream",
     "text": [
      "Best trial: 368. Best value: 0.898569:  60%|█████▉    | 596/1000 [13:35:24<6:32:18, 58.26s/it]"
     ]
    },
    {
     "name": "stdout",
     "output_type": "stream",
     "text": [
      "[I 2024-10-20 04:26:29,792] Trial 595 finished with value: 0.8867075443267822 and parameters: {'n_hidden_layers': 1, 'activation': 'tanh', 'learning_rate': 0.001110409819884577, 'optimizer': 'adam', 'dropout_rate': 0.2838743823693941, 'n_neurons': 102, 'batch_size': 8}. Best is trial 368 with value: 0.8985685110092163.\n"
     ]
    },
    {
     "name": "stderr",
     "output_type": "stream",
     "text": [
      "Best trial: 368. Best value: 0.898569:  60%|█████▉    | 597/1000 [13:35:46<5:19:19, 47.54s/it]"
     ]
    },
    {
     "name": "stdout",
     "output_type": "stream",
     "text": [
      "[I 2024-10-20 04:26:52,318] Trial 596 finished with value: 0.8924335241317749 and parameters: {'n_hidden_layers': 3, 'activation': 'elu', 'learning_rate': 0.0006445471802843153, 'optimizer': 'adam', 'dropout_rate': 0.24101338323071325, 'n_neurons': 114, 'batch_size': 32}. Best is trial 368 with value: 0.8985685110092163.\n"
     ]
    },
    {
     "name": "stderr",
     "output_type": "stream",
     "text": [
      "Best trial: 368. Best value: 0.898569:  60%|█████▉    | 598/1000 [13:37:35<7:22:11, 66.00s/it]"
     ]
    },
    {
     "name": "stdout",
     "output_type": "stream",
     "text": [
      "[I 2024-10-20 04:28:41,382] Trial 597 finished with value: 0.8850715756416321 and parameters: {'n_hidden_layers': 3, 'activation': 'elu', 'learning_rate': 0.002308300035582155, 'optimizer': 'sgd', 'dropout_rate': 0.21411006311702943, 'n_neurons': 120, 'batch_size': 4}. Best is trial 368 with value: 0.8985685110092163.\n"
     ]
    },
    {
     "name": "stderr",
     "output_type": "stream",
     "text": [
      "Best trial: 368. Best value: 0.898569:  60%|█████▉    | 599/1000 [13:39:17<8:32:03, 76.62s/it]"
     ]
    },
    {
     "name": "stdout",
     "output_type": "stream",
     "text": [
      "[I 2024-10-20 04:30:22,774] Trial 598 finished with value: 0.8928425312042236 and parameters: {'n_hidden_layers': 2, 'activation': 'elu', 'learning_rate': 0.0009335022442718676, 'optimizer': 'adam', 'dropout_rate': 0.23004107853174358, 'n_neurons': 118, 'batch_size': 4}. Best is trial 368 with value: 0.8985685110092163.\n"
     ]
    },
    {
     "name": "stderr",
     "output_type": "stream",
     "text": [
      "Best trial: 368. Best value: 0.898569:  60%|██████    | 600/1000 [13:40:43<8:49:43, 79.46s/it]"
     ]
    },
    {
     "name": "stdout",
     "output_type": "stream",
     "text": [
      "[I 2024-10-20 04:31:48,862] Trial 599 finished with value: 0.8973414897918701 and parameters: {'n_hidden_layers': 3, 'activation': 'elu', 'learning_rate': 0.0007614721389987949, 'optimizer': 'adam', 'dropout_rate': 0.2958874217239542, 'n_neurons': 125, 'batch_size': 4}. Best is trial 368 with value: 0.8985685110092163.\n"
     ]
    },
    {
     "name": "stderr",
     "output_type": "stream",
     "text": [
      "Best trial: 368. Best value: 0.898569:  60%|██████    | 601/1000 [13:42:12<9:07:19, 82.30s/it]"
     ]
    },
    {
     "name": "stdout",
     "output_type": "stream",
     "text": [
      "[I 2024-10-20 04:33:17,806] Trial 600 finished with value: 0.89570552110672 and parameters: {'n_hidden_layers': 3, 'activation': 'elu', 'learning_rate': 0.0007341880988535131, 'optimizer': 'adam', 'dropout_rate': 0.2865904453611357, 'n_neurons': 127, 'batch_size': 4}. Best is trial 368 with value: 0.8985685110092163.\n"
     ]
    },
    {
     "name": "stderr",
     "output_type": "stream",
     "text": [
      "Best trial: 368. Best value: 0.898569:  60%|██████    | 602/1000 [13:42:56<7:50:21, 70.91s/it]"
     ]
    },
    {
     "name": "stdout",
     "output_type": "stream",
     "text": [
      "[I 2024-10-20 04:34:02,123] Trial 601 finished with value: 0.8936605453491211 and parameters: {'n_hidden_layers': 3, 'activation': 'elu', 'learning_rate': 0.0005817006933032899, 'optimizer': 'adam', 'dropout_rate': 0.29615693592273, 'n_neurons': 128, 'batch_size': 8}. Best is trial 368 with value: 0.8985685110092163.\n"
     ]
    },
    {
     "name": "stderr",
     "output_type": "stream",
     "text": [
      "Best trial: 368. Best value: 0.898569:  60%|██████    | 603/1000 [13:43:08<5:52:39, 53.30s/it]"
     ]
    },
    {
     "name": "stdout",
     "output_type": "stream",
     "text": [
      "[I 2024-10-20 04:34:14,330] Trial 602 finished with value: 0.8862985968589783 and parameters: {'n_hidden_layers': 3, 'activation': 'elu', 'learning_rate': 0.0005016831227413748, 'optimizer': 'adam', 'dropout_rate': 0.29981157153247245, 'n_neurons': 125, 'batch_size': 128}. Best is trial 368 with value: 0.8985685110092163.\n"
     ]
    },
    {
     "name": "stderr",
     "output_type": "stream",
     "text": [
      "Best trial: 368. Best value: 0.898569:  60%|██████    | 604/1000 [13:44:20<6:27:58, 58.78s/it]"
     ]
    },
    {
     "name": "stdout",
     "output_type": "stream",
     "text": [
      "[I 2024-10-20 04:35:25,917] Trial 603 finished with value: 0.8916155695915222 and parameters: {'n_hidden_layers': 3, 'activation': 'elu', 'learning_rate': 0.000673736602144313, 'optimizer': 'adam', 'dropout_rate': 0.2937079232903023, 'n_neurons': 124, 'batch_size': 4}. Best is trial 368 with value: 0.8985685110092163.\n"
     ]
    },
    {
     "name": "stderr",
     "output_type": "stream",
     "text": [
      "Best trial: 368. Best value: 0.898569:  60%|██████    | 605/1000 [13:48:05<11:55:15, 108.65s/it]"
     ]
    },
    {
     "name": "stdout",
     "output_type": "stream",
     "text": [
      "[I 2024-10-20 04:39:10,909] Trial 604 finished with value: 0.8932515382766724 and parameters: {'n_hidden_layers': 3, 'activation': 'elu', 'learning_rate': 0.0007777809081779283, 'optimizer': 'adam', 'dropout_rate': 0.2750673846447034, 'n_neurons': 126, 'batch_size': 1}. Best is trial 368 with value: 0.8985685110092163.\n"
     ]
    },
    {
     "name": "stderr",
     "output_type": "stream",
     "text": [
      "Best trial: 368. Best value: 0.898569:  61%|██████    | 606/1000 [13:49:34<11:14:40, 102.74s/it]"
     ]
    },
    {
     "name": "stdout",
     "output_type": "stream",
     "text": [
      "[I 2024-10-20 04:40:39,871] Trial 605 finished with value: 0.8961145281791687 and parameters: {'n_hidden_layers': 3, 'activation': 'elu', 'learning_rate': 0.000631372010431048, 'optimizer': 'adam', 'dropout_rate': 0.3044653175573723, 'n_neurons': 106, 'batch_size': 4}. Best is trial 368 with value: 0.8985685110092163.\n"
     ]
    },
    {
     "name": "stderr",
     "output_type": "stream",
     "text": [
      "Best trial: 368. Best value: 0.898569:  61%|██████    | 607/1000 [13:51:01<10:42:11, 98.05s/it] "
     ]
    },
    {
     "name": "stdout",
     "output_type": "stream",
     "text": [
      "[I 2024-10-20 04:42:06,959] Trial 606 finished with value: 0.8924335241317749 and parameters: {'n_hidden_layers': 3, 'activation': 'elu', 'learning_rate': 0.0005109035016392984, 'optimizer': 'adam', 'dropout_rate': 0.3041178665144299, 'n_neurons': 128, 'batch_size': 4}. Best is trial 368 with value: 0.8985685110092163.\n"
     ]
    },
    {
     "name": "stderr",
     "output_type": "stream",
     "text": [
      "Best trial: 368. Best value: 0.898569:  61%|██████    | 608/1000 [13:51:54<9:12:43, 84.60s/it] "
     ]
    },
    {
     "name": "stdout",
     "output_type": "stream",
     "text": [
      "[I 2024-10-20 04:43:00,193] Trial 607 finished with value: 0.8936605453491211 and parameters: {'n_hidden_layers': 3, 'activation': 'elu', 'learning_rate': 0.0005816777162647399, 'optimizer': 'adam', 'dropout_rate': 0.30971811458034526, 'n_neurons': 108, 'batch_size': 8}. Best is trial 368 with value: 0.8985685110092163.\n"
     ]
    },
    {
     "name": "stderr",
     "output_type": "stream",
     "text": [
      "Best trial: 368. Best value: 0.898569:  61%|██████    | 609/1000 [13:52:35<7:45:37, 71.45s/it]"
     ]
    },
    {
     "name": "stdout",
     "output_type": "stream",
     "text": [
      "[I 2024-10-20 04:43:40,959] Trial 608 finished with value: 0.8842535614967346 and parameters: {'n_hidden_layers': 3, 'activation': 'relu', 'learning_rate': 0.000678039434887776, 'optimizer': 'adam', 'dropout_rate': 0.3014168629010662, 'n_neurons': 124, 'batch_size': 4}. Best is trial 368 with value: 0.8985685110092163.\n"
     ]
    },
    {
     "name": "stderr",
     "output_type": "stream",
     "text": [
      "Best trial: 368. Best value: 0.898569:  61%|██████    | 610/1000 [13:55:03<10:14:00, 94.46s/it]"
     ]
    },
    {
     "name": "stdout",
     "output_type": "stream",
     "text": [
      "[I 2024-10-20 04:46:09,113] Trial 609 finished with value: 0.8944784998893738 and parameters: {'n_hidden_layers': 3, 'activation': 'elu', 'learning_rate': 0.00044441419354543637, 'optimizer': 'adam', 'dropout_rate': 0.312818196111659, 'n_neurons': 106, 'batch_size': 2}. Best is trial 368 with value: 0.8985685110092163.\n"
     ]
    },
    {
     "name": "stderr",
     "output_type": "stream",
     "text": [
      "Best trial: 368. Best value: 0.898569:  61%|██████    | 611/1000 [13:56:26<9:49:27, 90.92s/it] "
     ]
    },
    {
     "name": "stdout",
     "output_type": "stream",
     "text": [
      "[I 2024-10-20 04:47:31,765] Trial 610 finished with value: 0.8952965140342712 and parameters: {'n_hidden_layers': 3, 'activation': 'elu', 'learning_rate': 0.0006298364997092374, 'optimizer': 'adam', 'dropout_rate': 0.29114106531846784, 'n_neurons': 109, 'batch_size': 4}. Best is trial 368 with value: 0.8985685110092163.\n"
     ]
    },
    {
     "name": "stderr",
     "output_type": "stream",
     "text": [
      "Best trial: 368. Best value: 0.898569:  61%|██████    | 612/1000 [13:58:17<10:27:26, 97.03s/it]"
     ]
    },
    {
     "name": "stdout",
     "output_type": "stream",
     "text": [
      "[I 2024-10-20 04:49:23,043] Trial 611 finished with value: 0.8846625685691833 and parameters: {'n_hidden_layers': 3, 'activation': 'elu', 'learning_rate': 9.74964105989253e-05, 'optimizer': 'adam', 'dropout_rate': 0.28625820781960354, 'n_neurons': 38, 'batch_size': 4}. Best is trial 368 with value: 0.8985685110092163.\n"
     ]
    },
    {
     "name": "stderr",
     "output_type": "stream",
     "text": [
      "Best trial: 368. Best value: 0.898569:  61%|██████▏   | 613/1000 [13:59:45<10:07:23, 94.17s/it]"
     ]
    },
    {
     "name": "stdout",
     "output_type": "stream",
     "text": [
      "[I 2024-10-20 04:50:50,548] Trial 612 finished with value: 0.8744376301765442 and parameters: {'n_hidden_layers': 3, 'activation': 'elu', 'learning_rate': 0.0005175991639149682, 'optimizer': 'rmsprop', 'dropout_rate': 0.31420962026640403, 'n_neurons': 122, 'batch_size': 2}. Best is trial 368 with value: 0.8985685110092163.\n"
     ]
    },
    {
     "name": "stderr",
     "output_type": "stream",
     "text": [
      "Best trial: 368. Best value: 0.898569:  61%|██████▏   | 614/1000 [14:00:28<8:27:55, 78.95s/it] "
     ]
    },
    {
     "name": "stdout",
     "output_type": "stream",
     "text": [
      "[I 2024-10-20 04:51:33,993] Trial 613 finished with value: 0.8916155695915222 and parameters: {'n_hidden_layers': 3, 'activation': 'elu', 'learning_rate': 0.0007900493290959975, 'optimizer': 'adam', 'dropout_rate': 0.29848091882670125, 'n_neurons': 113, 'batch_size': 8}. Best is trial 368 with value: 0.8985685110092163.\n"
     ]
    },
    {
     "name": "stderr",
     "output_type": "stream",
     "text": [
      "Best trial: 368. Best value: 0.898569:  62%|██████▏   | 615/1000 [14:02:22<9:33:23, 89.36s/it]"
     ]
    },
    {
     "name": "stdout",
     "output_type": "stream",
     "text": [
      "[I 2024-10-20 04:53:27,635] Trial 614 finished with value: 0.8928425312042236 and parameters: {'n_hidden_layers': 3, 'activation': 'elu', 'learning_rate': 0.00058114272428477, 'optimizer': 'adam', 'dropout_rate': 0.3066674441236462, 'n_neurons': 43, 'batch_size': 4}. Best is trial 368 with value: 0.8985685110092163.\n"
     ]
    },
    {
     "name": "stderr",
     "output_type": "stream",
     "text": [
      "Best trial: 368. Best value: 0.898569:  62%|██████▏   | 616/1000 [14:02:50<7:34:29, 71.01s/it]"
     ]
    },
    {
     "name": "stdout",
     "output_type": "stream",
     "text": [
      "[I 2024-10-20 04:53:55,845] Trial 615 finished with value: 0.8912065625190735 and parameters: {'n_hidden_layers': 3, 'activation': 'elu', 'learning_rate': 0.0008446441714971573, 'optimizer': 'adam', 'dropout_rate': 0.2933788977818215, 'n_neurons': 122, 'batch_size': 16}. Best is trial 368 with value: 0.8985685110092163.\n"
     ]
    },
    {
     "name": "stderr",
     "output_type": "stream",
     "text": [
      "Best trial: 368. Best value: 0.898569:  62%|██████▏   | 617/1000 [14:03:57<7:26:06, 69.89s/it]"
     ]
    },
    {
     "name": "stdout",
     "output_type": "stream",
     "text": [
      "[I 2024-10-20 04:55:03,100] Trial 616 finished with value: 0.890388548374176 and parameters: {'n_hidden_layers': 3, 'activation': 'elu', 'learning_rate': 0.0007060628647855922, 'optimizer': 'adam', 'dropout_rate': 0.2818456771390719, 'n_neurons': 125, 'batch_size': 4}. Best is trial 368 with value: 0.8985685110092163.\n"
     ]
    },
    {
     "name": "stderr",
     "output_type": "stream",
     "text": [
      "Best trial: 368. Best value: 0.898569:  62%|██████▏   | 618/1000 [14:04:12<5:40:32, 53.49s/it]"
     ]
    },
    {
     "name": "stdout",
     "output_type": "stream",
     "text": [
      "[I 2024-10-20 04:55:18,330] Trial 617 finished with value: 0.8858895897865295 and parameters: {'n_hidden_layers': 3, 'activation': 'elu', 'learning_rate': 0.00046298070653751734, 'optimizer': 'adam', 'dropout_rate': 0.30740485944830614, 'n_neurons': 110, 'batch_size': 64}. Best is trial 368 with value: 0.8985685110092163.\n"
     ]
    },
    {
     "name": "stderr",
     "output_type": "stream",
     "text": [
      "Best trial: 368. Best value: 0.898569:  62%|██████▏   | 619/1000 [14:06:26<8:12:59, 77.64s/it]"
     ]
    },
    {
     "name": "stdout",
     "output_type": "stream",
     "text": [
      "[I 2024-10-20 04:57:32,306] Trial 618 finished with value: 0.8907975554466248 and parameters: {'n_hidden_layers': 3, 'activation': 'elu', 'learning_rate': 0.0009130571280854448, 'optimizer': 'adam', 'dropout_rate': 0.27492141084074934, 'n_neurons': 105, 'batch_size': 2}. Best is trial 368 with value: 0.8985685110092163.\n"
     ]
    },
    {
     "name": "stderr",
     "output_type": "stream",
     "text": [
      "Best trial: 368. Best value: 0.898569:  62%|██████▏   | 620/1000 [14:07:13<7:12:21, 68.27s/it]"
     ]
    },
    {
     "name": "stdout",
     "output_type": "stream",
     "text": [
      "[I 2024-10-20 04:58:18,712] Trial 619 finished with value: 0.8891615271568298 and parameters: {'n_hidden_layers': 3, 'activation': 'tanh', 'learning_rate': 0.0006389444791643163, 'optimizer': 'adam', 'dropout_rate': 0.2979093121273012, 'n_neurons': 113, 'batch_size': 4}. Best is trial 368 with value: 0.8985685110092163.\n"
     ]
    },
    {
     "name": "stderr",
     "output_type": "stream",
     "text": [
      "Best trial: 368. Best value: 0.898569:  62%|██████▏   | 621/1000 [14:08:03<6:36:27, 62.76s/it]"
     ]
    },
    {
     "name": "stdout",
     "output_type": "stream",
     "text": [
      "[I 2024-10-20 04:59:08,634] Trial 620 finished with value: 0.890388548374176 and parameters: {'n_hidden_layers': 3, 'activation': 'elu', 'learning_rate': 0.0007800834580648198, 'optimizer': 'adam', 'dropout_rate': 0.27002994333072283, 'n_neurons': 125, 'batch_size': 8}. Best is trial 368 with value: 0.8985685110092163.\n"
     ]
    },
    {
     "name": "stderr",
     "output_type": "stream",
     "text": [
      "Best trial: 368. Best value: 0.898569:  62%|██████▏   | 622/1000 [14:09:49<7:58:00, 75.87s/it]"
     ]
    },
    {
     "name": "stdout",
     "output_type": "stream",
     "text": [
      "[I 2024-10-20 05:00:55,104] Trial 621 finished with value: 0.8822085857391357 and parameters: {'n_hidden_layers': 3, 'activation': 'elu', 'learning_rate': 0.001005249322601968, 'optimizer': 'sgd', 'dropout_rate': 0.28717283739096905, 'n_neurons': 128, 'batch_size': 4}. Best is trial 368 with value: 0.8985685110092163.\n"
     ]
    },
    {
     "name": "stderr",
     "output_type": "stream",
     "text": [
      "Best trial: 368. Best value: 0.898569:  62%|██████▏   | 623/1000 [14:12:32<10:40:07, 101.88s/it]"
     ]
    },
    {
     "name": "stdout",
     "output_type": "stream",
     "text": [
      "[I 2024-10-20 05:03:37,648] Trial 622 finished with value: 0.8940695524215698 and parameters: {'n_hidden_layers': 3, 'activation': 'elu', 'learning_rate': 0.0005603058569530535, 'optimizer': 'adam', 'dropout_rate': 0.2625440936576193, 'n_neurons': 108, 'batch_size': 2}. Best is trial 368 with value: 0.8985685110092163.\n"
     ]
    },
    {
     "name": "stderr",
     "output_type": "stream",
     "text": [
      "Best trial: 368. Best value: 0.898569:  62%|██████▏   | 624/1000 [14:13:53<9:59:22, 95.65s/it]  "
     ]
    },
    {
     "name": "stdout",
     "output_type": "stream",
     "text": [
      "[I 2024-10-20 05:04:58,757] Trial 623 finished with value: 0.8895705342292786 and parameters: {'n_hidden_layers': 3, 'activation': 'elu', 'learning_rate': 0.0007095171343387771, 'optimizer': 'adam', 'dropout_rate': 0.3212088458508948, 'n_neurons': 122, 'batch_size': 4}. Best is trial 368 with value: 0.8985685110092163.\n"
     ]
    },
    {
     "name": "stderr",
     "output_type": "stream",
     "text": [
      "Best trial: 368. Best value: 0.898569:  62%|██████▎   | 625/1000 [14:15:06<9:15:14, 88.84s/it]"
     ]
    },
    {
     "name": "stdout",
     "output_type": "stream",
     "text": [
      "[I 2024-10-20 05:06:11,709] Trial 624 finished with value: 0.8965235352516174 and parameters: {'n_hidden_layers': 3, 'activation': 'elu', 'learning_rate': 0.0008823616175726011, 'optimizer': 'adam', 'dropout_rate': 0.26831377480178653, 'n_neurons': 111, 'batch_size': 4}. Best is trial 368 with value: 0.8985685110092163.\n"
     ]
    },
    {
     "name": "stderr",
     "output_type": "stream",
     "text": [
      "Best trial: 368. Best value: 0.898569:  63%|██████▎   | 626/1000 [14:16:45<9:33:00, 91.93s/it]"
     ]
    },
    {
     "name": "stdout",
     "output_type": "stream",
     "text": [
      "[I 2024-10-20 05:07:50,843] Trial 625 finished with value: 0.8948875069618225 and parameters: {'n_hidden_layers': 3, 'activation': 'elu', 'learning_rate': 0.0011388783730279036, 'optimizer': 'adam', 'dropout_rate': 0.26881886667617994, 'n_neurons': 115, 'batch_size': 2}. Best is trial 368 with value: 0.8985685110092163.\n"
     ]
    },
    {
     "name": "stderr",
     "output_type": "stream",
     "text": [
      "Best trial: 368. Best value: 0.898569:  63%|██████▎   | 627/1000 [14:17:33<8:09:03, 78.67s/it]"
     ]
    },
    {
     "name": "stdout",
     "output_type": "stream",
     "text": [
      "[I 2024-10-20 05:08:38,577] Trial 626 finished with value: 0.8924335241317749 and parameters: {'n_hidden_layers': 3, 'activation': 'elu', 'learning_rate': 0.0009053811994306645, 'optimizer': 'adam', 'dropout_rate': 0.25851480456917203, 'n_neurons': 112, 'batch_size': 8}. Best is trial 368 with value: 0.8985685110092163.\n"
     ]
    },
    {
     "name": "stderr",
     "output_type": "stream",
     "text": [
      "Best trial: 368. Best value: 0.898569:  63%|██████▎   | 628/1000 [14:17:54<6:21:39, 61.56s/it]"
     ]
    },
    {
     "name": "stdout",
     "output_type": "stream",
     "text": [
      "[I 2024-10-20 05:09:00,209] Trial 627 finished with value: 0.8916155695915222 and parameters: {'n_hidden_layers': 3, 'activation': 'elu', 'learning_rate': 0.0010338672487066787, 'optimizer': 'adam', 'dropout_rate': 0.26624592122239804, 'n_neurons': 55, 'batch_size': 32}. Best is trial 368 with value: 0.8985685110092163.\n"
     ]
    },
    {
     "name": "stderr",
     "output_type": "stream",
     "text": [
      "Best trial: 368. Best value: 0.898569:  63%|██████▎   | 629/1000 [14:19:09<6:45:32, 65.59s/it]"
     ]
    },
    {
     "name": "stdout",
     "output_type": "stream",
     "text": [
      "[I 2024-10-20 05:10:15,200] Trial 628 finished with value: 0.8887525796890259 and parameters: {'n_hidden_layers': 3, 'activation': 'elu', 'learning_rate': 0.001362366276846911, 'optimizer': 'adam', 'dropout_rate': 0.14057474798521047, 'n_neurons': 116, 'batch_size': 4}. Best is trial 368 with value: 0.8985685110092163.\n"
     ]
    },
    {
     "name": "stderr",
     "output_type": "stream",
     "text": [
      "Best trial: 368. Best value: 0.898569:  63%|██████▎   | 630/1000 [14:20:12<6:40:08, 64.89s/it]"
     ]
    },
    {
     "name": "stdout",
     "output_type": "stream",
     "text": [
      "[I 2024-10-20 05:11:18,452] Trial 629 finished with value: 0.8846625685691833 and parameters: {'n_hidden_layers': 3, 'activation': 'relu', 'learning_rate': 0.0009409061386147985, 'optimizer': 'adam', 'dropout_rate': 0.27837006808330994, 'n_neurons': 112, 'batch_size': 2}. Best is trial 368 with value: 0.8985685110092163.\n"
     ]
    },
    {
     "name": "stderr",
     "output_type": "stream",
     "text": [
      "Best trial: 368. Best value: 0.898569:  63%|██████▎   | 631/1000 [14:21:20<6:44:08, 65.71s/it]"
     ]
    },
    {
     "name": "stdout",
     "output_type": "stream",
     "text": [
      "[I 2024-10-20 05:12:26,098] Trial 630 finished with value: 0.8928425312042236 and parameters: {'n_hidden_layers': 3, 'activation': 'elu', 'learning_rate': 0.0008396577086087695, 'optimizer': 'adam', 'dropout_rate': 0.2563061315530275, 'n_neurons': 114, 'batch_size': 4}. Best is trial 368 with value: 0.8985685110092163.\n"
     ]
    },
    {
     "name": "stderr",
     "output_type": "stream",
     "text": [
      "Best trial: 368. Best value: 0.898569:  63%|██████▎   | 632/1000 [14:22:30<6:50:12, 66.88s/it]"
     ]
    },
    {
     "name": "stdout",
     "output_type": "stream",
     "text": [
      "[I 2024-10-20 05:13:35,704] Trial 631 finished with value: 0.8899795413017273 and parameters: {'n_hidden_layers': 3, 'activation': 'elu', 'learning_rate': 0.0011190569203484565, 'optimizer': 'adam', 'dropout_rate': 0.2719614987524532, 'n_neurons': 120, 'batch_size': 4}. Best is trial 368 with value: 0.8985685110092163.\n"
     ]
    },
    {
     "name": "stderr",
     "output_type": "stream",
     "text": [
      "Best trial: 368. Best value: 0.898569:  63%|██████▎   | 633/1000 [14:23:18<6:14:17, 61.19s/it]"
     ]
    },
    {
     "name": "stdout",
     "output_type": "stream",
     "text": [
      "[I 2024-10-20 05:14:23,617] Trial 632 finished with value: 0.8928425312042236 and parameters: {'n_hidden_layers': 3, 'activation': 'elu', 'learning_rate': 0.0008272369039059223, 'optimizer': 'adam', 'dropout_rate': 0.27909377502292454, 'n_neurons': 110, 'batch_size': 8}. Best is trial 368 with value: 0.8985685110092163.\n"
     ]
    },
    {
     "name": "stderr",
     "output_type": "stream",
     "text": [
      "Best trial: 368. Best value: 0.898569:  63%|██████▎   | 634/1000 [14:25:07<7:40:38, 75.51s/it]"
     ]
    },
    {
     "name": "stdout",
     "output_type": "stream",
     "text": [
      "[I 2024-10-20 05:16:12,551] Trial 633 finished with value: 0.8952965140342712 and parameters: {'n_hidden_layers': 3, 'activation': 'elu', 'learning_rate': 0.0012682862344445052, 'optimizer': 'adam', 'dropout_rate': 0.2645306105431663, 'n_neurons': 118, 'batch_size': 2}. Best is trial 368 with value: 0.8985685110092163.\n"
     ]
    },
    {
     "name": "stderr",
     "output_type": "stream",
     "text": [
      "Best trial: 368. Best value: 0.898569:  64%|██████▎   | 635/1000 [14:25:18<5:42:57, 56.38s/it]"
     ]
    },
    {
     "name": "stdout",
     "output_type": "stream",
     "text": [
      "[I 2024-10-20 05:16:24,271] Trial 634 finished with value: 0.8936605453491211 and parameters: {'n_hidden_layers': 3, 'activation': 'elu', 'learning_rate': 0.0019201636154760953, 'optimizer': 'rmsprop', 'dropout_rate': 0.252340574730555, 'n_neurons': 124, 'batch_size': 128}. Best is trial 368 with value: 0.8985685110092163.\n"
     ]
    },
    {
     "name": "stderr",
     "output_type": "stream",
     "text": [
      "Best trial: 368. Best value: 0.898569:  64%|██████▎   | 636/1000 [14:26:21<5:52:37, 58.12s/it]"
     ]
    },
    {
     "name": "stdout",
     "output_type": "stream",
     "text": [
      "[I 2024-10-20 05:17:26,476] Trial 635 finished with value: 0.8920245170593262 and parameters: {'n_hidden_layers': 3, 'activation': 'elu', 'learning_rate': 0.0009127986408645358, 'optimizer': 'adam', 'dropout_rate': 0.28181790846348476, 'n_neurons': 115, 'batch_size': 4}. Best is trial 368 with value: 0.8985685110092163.\n"
     ]
    },
    {
     "name": "stderr",
     "output_type": "stream",
     "text": [
      "Best trial: 368. Best value: 0.898569:  64%|██████▎   | 637/1000 [14:29:15<9:23:03, 93.07s/it]"
     ]
    },
    {
     "name": "stdout",
     "output_type": "stream",
     "text": [
      "[I 2024-10-20 05:20:21,077] Trial 636 finished with value: 0.8920245170593262 and parameters: {'n_hidden_layers': 3, 'activation': 'elu', 'learning_rate': 0.001455080127687134, 'optimizer': 'adam', 'dropout_rate': 0.20334705154867874, 'n_neurons': 111, 'batch_size': 1}. Best is trial 368 with value: 0.8985685110092163.\n"
     ]
    },
    {
     "name": "stderr",
     "output_type": "stream",
     "text": [
      "Best trial: 368. Best value: 0.898569:  64%|██████▍   | 638/1000 [14:30:33<8:53:55, 88.49s/it]"
     ]
    },
    {
     "name": "stdout",
     "output_type": "stream",
     "text": [
      "[I 2024-10-20 05:21:38,903] Trial 637 finished with value: 0.8952965140342712 and parameters: {'n_hidden_layers': 3, 'activation': 'elu', 'learning_rate': 0.000749132724675089, 'optimizer': 'adam', 'dropout_rate': 0.26684744850847525, 'n_neurons': 121, 'batch_size': 4}. Best is trial 368 with value: 0.8985685110092163.\n"
     ]
    },
    {
     "name": "stderr",
     "output_type": "stream",
     "text": [
      "Best trial: 368. Best value: 0.898569:  64%|██████▍   | 639/1000 [14:32:28<9:39:30, 96.32s/it]"
     ]
    },
    {
     "name": "stdout",
     "output_type": "stream",
     "text": [
      "[I 2024-10-20 05:23:33,470] Trial 638 finished with value: 0.8936605453491211 and parameters: {'n_hidden_layers': 3, 'activation': 'elu', 'learning_rate': 0.0010394514617361851, 'optimizer': 'adam', 'dropout_rate': 0.24882478029803845, 'n_neurons': 117, 'batch_size': 2}. Best is trial 368 with value: 0.8985685110092163.\n"
     ]
    },
    {
     "name": "stderr",
     "output_type": "stream",
     "text": [
      "Best trial: 368. Best value: 0.898569:  64%|██████▍   | 640/1000 [14:33:43<9:00:16, 90.05s/it]"
     ]
    },
    {
     "name": "stdout",
     "output_type": "stream",
     "text": [
      "[I 2024-10-20 05:24:48,883] Trial 639 finished with value: 0.8948875069618225 and parameters: {'n_hidden_layers': 3, 'activation': 'elu', 'learning_rate': 0.0007770557274264328, 'optimizer': 'adam', 'dropout_rate': 0.2191683164443291, 'n_neurons': 126, 'batch_size': 4}. Best is trial 368 with value: 0.8985685110092163.\n"
     ]
    },
    {
     "name": "stderr",
     "output_type": "stream",
     "text": [
      "Best trial: 368. Best value: 0.898569:  64%|██████▍   | 641/1000 [14:34:32<7:44:47, 77.68s/it]"
     ]
    },
    {
     "name": "stdout",
     "output_type": "stream",
     "text": [
      "[I 2024-10-20 05:25:37,709] Trial 640 finished with value: 0.8920245170593262 and parameters: {'n_hidden_layers': 3, 'activation': 'elu', 'learning_rate': 0.0012036672422347564, 'optimizer': 'adam', 'dropout_rate': 0.2778682954493444, 'n_neurons': 109, 'batch_size': 8}. Best is trial 368 with value: 0.8985685110092163.\n"
     ]
    },
    {
     "name": "stderr",
     "output_type": "stream",
     "text": [
      "Best trial: 368. Best value: 0.898569:  64%|██████▍   | 642/1000 [14:35:14<6:39:33, 66.96s/it]"
     ]
    },
    {
     "name": "stdout",
     "output_type": "stream",
     "text": [
      "[I 2024-10-20 05:26:19,668] Trial 641 finished with value: 0.8932515382766724 and parameters: {'n_hidden_layers': 3, 'activation': 'tanh', 'learning_rate': 0.0009577957688130223, 'optimizer': 'adam', 'dropout_rate': 0.21007629089614988, 'n_neurons': 112, 'batch_size': 4}. Best is trial 368 with value: 0.8985685110092163.\n"
     ]
    },
    {
     "name": "stderr",
     "output_type": "stream",
     "text": [
      "Best trial: 368. Best value: 0.898569:  64%|██████▍   | 643/1000 [14:38:18<10:07:35, 102.11s/it]"
     ]
    },
    {
     "name": "stdout",
     "output_type": "stream",
     "text": [
      "[I 2024-10-20 05:29:23,803] Trial 642 finished with value: 0.881799578666687 and parameters: {'n_hidden_layers': 2, 'activation': 'elu', 'learning_rate': 0.0008730395391102514, 'optimizer': 'sgd', 'dropout_rate': 0.2877866533720261, 'n_neurons': 119, 'batch_size': 2}. Best is trial 368 with value: 0.8985685110092163.\n"
     ]
    },
    {
     "name": "stderr",
     "output_type": "stream",
     "text": [
      "Best trial: 368. Best value: 0.898569:  64%|██████▍   | 644/1000 [14:39:22<8:57:47, 90.64s/it]  "
     ]
    },
    {
     "name": "stdout",
     "output_type": "stream",
     "text": [
      "[I 2024-10-20 05:30:27,661] Trial 643 finished with value: 0.8920245170593262 and parameters: {'n_hidden_layers': 3, 'activation': 'elu', 'learning_rate': 0.0016286055781122206, 'optimizer': 'adam', 'dropout_rate': 0.2718408301794272, 'n_neurons': 114, 'batch_size': 4}. Best is trial 368 with value: 0.8985685110092163.\n"
     ]
    },
    {
     "name": "stderr",
     "output_type": "stream",
     "text": [
      "Best trial: 368. Best value: 0.898569:  64%|██████▍   | 645/1000 [14:40:00<7:23:40, 74.99s/it]"
     ]
    },
    {
     "name": "stdout",
     "output_type": "stream",
     "text": [
      "[I 2024-10-20 05:31:06,130] Trial 644 finished with value: 0.8895705342292786 and parameters: {'n_hidden_layers': 3, 'activation': 'elu', 'learning_rate': 0.0003990907400179969, 'optimizer': 'adam', 'dropout_rate': 0.25622469345985105, 'n_neurons': 123, 'batch_size': 16}. Best is trial 368 with value: 0.8985685110092163.\n"
     ]
    },
    {
     "name": "stderr",
     "output_type": "stream",
     "text": [
      "Best trial: 368. Best value: 0.898569:  65%|██████▍   | 646/1000 [14:41:06<7:05:43, 72.16s/it]"
     ]
    },
    {
     "name": "stdout",
     "output_type": "stream",
     "text": [
      "[I 2024-10-20 05:32:11,687] Trial 645 finished with value: 0.8936605453491211 and parameters: {'n_hidden_layers': 3, 'activation': 'elu', 'learning_rate': 0.0010576860589258115, 'optimizer': 'adam', 'dropout_rate': 0.22392313549398957, 'n_neurons': 126, 'batch_size': 4}. Best is trial 368 with value: 0.8985685110092163.\n"
     ]
    },
    {
     "name": "stderr",
     "output_type": "stream",
     "text": [
      "Best trial: 368. Best value: 0.898569:  65%|██████▍   | 647/1000 [14:43:35<9:21:16, 95.40s/it]"
     ]
    },
    {
     "name": "stdout",
     "output_type": "stream",
     "text": [
      "[I 2024-10-20 05:34:41,316] Trial 646 finished with value: 0.8952965140342712 and parameters: {'n_hidden_layers': 2, 'activation': 'elu', 'learning_rate': 0.0007054977474223802, 'optimizer': 'adam', 'dropout_rate': 0.24032858044811012, 'n_neurons': 110, 'batch_size': 2}. Best is trial 368 with value: 0.8985685110092163.\n"
     ]
    },
    {
     "name": "stderr",
     "output_type": "stream",
     "text": [
      "Best trial: 368. Best value: 0.898569:  65%|██████▍   | 648/1000 [14:44:26<8:01:26, 82.06s/it]"
     ]
    },
    {
     "name": "stdout",
     "output_type": "stream",
     "text": [
      "[I 2024-10-20 05:35:32,264] Trial 647 finished with value: 0.8858895897865295 and parameters: {'n_hidden_layers': 1, 'activation': 'elu', 'learning_rate': 0.0008141337760648883, 'optimizer': 'adam', 'dropout_rate': 0.2635537669057181, 'n_neurons': 121, 'batch_size': 8}. Best is trial 368 with value: 0.8985685110092163.\n"
     ]
    },
    {
     "name": "stderr",
     "output_type": "stream",
     "text": [
      "Best trial: 368. Best value: 0.898569:  65%|██████▍   | 649/1000 [14:44:42<6:03:35, 62.15s/it]"
     ]
    },
    {
     "name": "stdout",
     "output_type": "stream",
     "text": [
      "[I 2024-10-20 05:35:47,955] Trial 648 finished with value: 0.8916155695915222 and parameters: {'n_hidden_layers': 3, 'activation': 'elu', 'learning_rate': 0.0012190447918687987, 'optimizer': 'adam', 'dropout_rate': 0.28850313175489883, 'n_neurons': 116, 'batch_size': 64}. Best is trial 368 with value: 0.8985685110092163.\n"
     ]
    },
    {
     "name": "stderr",
     "output_type": "stream",
     "text": [
      "Best trial: 368. Best value: 0.898569:  65%|██████▌   | 650/1000 [14:45:51<6:14:11, 64.15s/it]"
     ]
    },
    {
     "name": "stdout",
     "output_type": "stream",
     "text": [
      "[I 2024-10-20 05:36:56,761] Trial 649 finished with value: 0.89570552110672 and parameters: {'n_hidden_layers': 3, 'activation': 'elu', 'learning_rate': 0.0009915807038543925, 'optimizer': 'adam', 'dropout_rate': 0.21696129590821175, 'n_neurons': 128, 'batch_size': 4}. Best is trial 368 with value: 0.8985685110092163.\n"
     ]
    },
    {
     "name": "stderr",
     "output_type": "stream",
     "text": [
      "Best trial: 368. Best value: 0.898569:  65%|██████▌   | 651/1000 [14:47:18<6:52:52, 70.98s/it]"
     ]
    },
    {
     "name": "stdout",
     "output_type": "stream",
     "text": [
      "[I 2024-10-20 05:38:23,686] Trial 650 finished with value: 0.8920245170593262 and parameters: {'n_hidden_layers': 2, 'activation': 'elu', 'learning_rate': 0.0006781770998562668, 'optimizer': 'adam', 'dropout_rate': 0.2812777913245606, 'n_neurons': 113, 'batch_size': 4}. Best is trial 368 with value: 0.8985685110092163.\n"
     ]
    },
    {
     "name": "stderr",
     "output_type": "stream",
     "text": [
      "Best trial: 368. Best value: 0.898569:  65%|██████▌   | 652/1000 [14:48:19<6:35:37, 68.21s/it]"
     ]
    },
    {
     "name": "stdout",
     "output_type": "stream",
     "text": [
      "[I 2024-10-20 05:39:25,432] Trial 651 finished with value: 0.890388548374176 and parameters: {'n_hidden_layers': 3, 'activation': 'relu', 'learning_rate': 0.0008259859419921759, 'optimizer': 'adam', 'dropout_rate': 0.23189380219220765, 'n_neurons': 124, 'batch_size': 2}. Best is trial 368 with value: 0.8985685110092163.\n"
     ]
    },
    {
     "name": "stderr",
     "output_type": "stream",
     "text": [
      "Best trial: 368. Best value: 0.898569:  65%|██████▌   | 653/1000 [14:50:01<7:32:00, 78.16s/it]"
     ]
    },
    {
     "name": "stdout",
     "output_type": "stream",
     "text": [
      "[I 2024-10-20 05:41:06,798] Trial 652 finished with value: 0.8944784998893738 and parameters: {'n_hidden_layers': 3, 'activation': 'elu', 'learning_rate': 0.00048602468343274496, 'optimizer': 'adam', 'dropout_rate': 0.24389169502355323, 'n_neurons': 119, 'batch_size': 4}. Best is trial 368 with value: 0.8985685110092163.\n"
     ]
    },
    {
     "name": "stderr",
     "output_type": "stream",
     "text": [
      "Best trial: 368. Best value: 0.898569:  65%|██████▌   | 654/1000 [14:51:03<7:02:17, 73.23s/it]"
     ]
    },
    {
     "name": "stdout",
     "output_type": "stream",
     "text": [
      "[I 2024-10-20 05:42:08,526] Trial 653 finished with value: 0.8912065625190735 and parameters: {'n_hidden_layers': 2, 'activation': 'elu', 'learning_rate': 0.0008992802516039906, 'optimizer': 'adam', 'dropout_rate': 0.4261508242701191, 'n_neurons': 108, 'batch_size': 8}. Best is trial 368 with value: 0.8985685110092163.\n"
     ]
    },
    {
     "name": "stderr",
     "output_type": "stream",
     "text": [
      "Best trial: 368. Best value: 0.898569:  66%|██████▌   | 655/1000 [14:52:03<6:38:46, 69.35s/it]"
     ]
    },
    {
     "name": "stdout",
     "output_type": "stream",
     "text": [
      "[I 2024-10-20 05:43:08,837] Trial 654 finished with value: 0.8932515382766724 and parameters: {'n_hidden_layers': 3, 'activation': 'elu', 'learning_rate': 0.0011168267219026245, 'optimizer': 'adam', 'dropout_rate': 0.20393647272712934, 'n_neurons': 123, 'batch_size': 4}. Best is trial 368 with value: 0.8985685110092163.\n"
     ]
    },
    {
     "name": "stderr",
     "output_type": "stream",
     "text": [
      "Best trial: 368. Best value: 0.898569:  66%|██████▌   | 656/1000 [14:54:13<8:21:53, 87.54s/it]"
     ]
    },
    {
     "name": "stdout",
     "output_type": "stream",
     "text": [
      "[I 2024-10-20 05:45:18,813] Trial 655 finished with value: 0.8944784998893738 and parameters: {'n_hidden_layers': 3, 'activation': 'elu', 'learning_rate': 0.0005985918803335359, 'optimizer': 'adam', 'dropout_rate': 0.2938938341641649, 'n_neurons': 117, 'batch_size': 2}. Best is trial 368 with value: 0.8985685110092163.\n"
     ]
    },
    {
     "name": "stderr",
     "output_type": "stream",
     "text": [
      "Best trial: 368. Best value: 0.898569:  66%|██████▌   | 657/1000 [14:54:34<6:26:26, 67.60s/it]"
     ]
    },
    {
     "name": "stdout",
     "output_type": "stream",
     "text": [
      "[I 2024-10-20 05:45:39,888] Trial 656 finished with value: 0.8924335241317749 and parameters: {'n_hidden_layers': 2, 'activation': 'elu', 'learning_rate': 0.0014352679478939862, 'optimizer': 'adam', 'dropout_rate': 0.22822345869257843, 'n_neurons': 112, 'batch_size': 32}. Best is trial 368 with value: 0.8985685110092163.\n"
     ]
    },
    {
     "name": "stderr",
     "output_type": "stream",
     "text": [
      "Best trial: 368. Best value: 0.898569:  66%|██████▌   | 658/1000 [14:55:18<5:44:54, 60.51s/it]"
     ]
    },
    {
     "name": "stdout",
     "output_type": "stream",
     "text": [
      "[I 2024-10-20 05:46:23,852] Trial 657 finished with value: 0.8789365887641907 and parameters: {'n_hidden_layers': 3, 'activation': 'elu', 'learning_rate': 0.0007476320404995599, 'optimizer': 'rmsprop', 'dropout_rate': 0.2594393309304685, 'n_neurons': 110, 'batch_size': 4}. Best is trial 368 with value: 0.8985685110092163.\n"
     ]
    },
    {
     "name": "stderr",
     "output_type": "stream",
     "text": [
      "Best trial: 368. Best value: 0.898569:  66%|██████▌   | 659/1000 [14:57:09<7:10:44, 75.79s/it]"
     ]
    },
    {
     "name": "stdout",
     "output_type": "stream",
     "text": [
      "[I 2024-10-20 05:48:15,296] Trial 658 finished with value: 0.890388548374176 and parameters: {'n_hidden_layers': 3, 'activation': 'elu', 'learning_rate': 0.0003671625306053534, 'optimizer': 'adam', 'dropout_rate': 0.2717620744224165, 'n_neurons': 22, 'batch_size': 4}. Best is trial 368 with value: 0.8985685110092163.\n"
     ]
    },
    {
     "name": "stderr",
     "output_type": "stream",
     "text": [
      "Best trial: 368. Best value: 0.898569:  66%|██████▌   | 660/1000 [14:59:31<9:01:55, 95.63s/it]"
     ]
    },
    {
     "name": "stdout",
     "output_type": "stream",
     "text": [
      "[I 2024-10-20 05:50:37,231] Trial 659 finished with value: 0.8891615271568298 and parameters: {'n_hidden_layers': 3, 'activation': 'elu', 'learning_rate': 0.0009725530188987812, 'optimizer': 'adam', 'dropout_rate': 0.24744596408523967, 'n_neurons': 121, 'batch_size': 2}. Best is trial 368 with value: 0.8985685110092163.\n"
     ]
    },
    {
     "name": "stderr",
     "output_type": "stream",
     "text": [
      "Best trial: 368. Best value: 0.898569:  66%|██████▌   | 661/1000 [15:00:32<8:01:33, 85.23s/it]"
     ]
    },
    {
     "name": "stdout",
     "output_type": "stream",
     "text": [
      "[I 2024-10-20 05:51:38,195] Trial 660 finished with value: 0.8912065625190735 and parameters: {'n_hidden_layers': 2, 'activation': 'elu', 'learning_rate': 0.0005438330258985182, 'optimizer': 'adam', 'dropout_rate': 0.2748898111315506, 'n_neurons': 114, 'batch_size': 8}. Best is trial 368 with value: 0.8985685110092163.\n"
     ]
    },
    {
     "name": "stderr",
     "output_type": "stream",
     "text": [
      "Best trial: 368. Best value: 0.898569:  66%|██████▌   | 662/1000 [15:01:51<7:50:00, 83.43s/it]"
     ]
    },
    {
     "name": "stdout",
     "output_type": "stream",
     "text": [
      "[I 2024-10-20 05:52:57,425] Trial 661 finished with value: 0.8924335241317749 and parameters: {'n_hidden_layers': 3, 'activation': 'elu', 'learning_rate': 0.0006972991837375766, 'optimizer': 'adam', 'dropout_rate': 0.2173387623468083, 'n_neurons': 126, 'batch_size': 4}. Best is trial 368 with value: 0.8985685110092163.\n"
     ]
    },
    {
     "name": "stderr",
     "output_type": "stream",
     "text": [
      "Best trial: 368. Best value: 0.898569:  66%|██████▋   | 663/1000 [15:02:03<5:48:15, 62.01s/it]"
     ]
    },
    {
     "name": "stdout",
     "output_type": "stream",
     "text": [
      "[I 2024-10-20 05:53:09,436] Trial 662 finished with value: 0.8907975554466248 and parameters: {'n_hidden_layers': 3, 'activation': 'elu', 'learning_rate': 0.0008228202046156195, 'optimizer': 'adam', 'dropout_rate': 0.28485432107856035, 'n_neurons': 108, 'batch_size': 128}. Best is trial 368 with value: 0.8985685110092163.\n"
     ]
    },
    {
     "name": "stderr",
     "output_type": "stream",
     "text": [
      "Best trial: 368. Best value: 0.898569:  66%|██████▋   | 664/1000 [15:03:49<6:59:53, 74.98s/it]"
     ]
    },
    {
     "name": "stdout",
     "output_type": "stream",
     "text": [
      "[I 2024-10-20 05:54:54,690] Trial 663 finished with value: 0.8920245170593262 and parameters: {'n_hidden_layers': 3, 'activation': 'tanh', 'learning_rate': 0.00043052299874352763, 'optimizer': 'adam', 'dropout_rate': 0.2383694500098358, 'n_neurons': 123, 'batch_size': 2}. Best is trial 368 with value: 0.8985685110092163.\n"
     ]
    },
    {
     "name": "stderr",
     "output_type": "stream",
     "text": [
      "Best trial: 368. Best value: 0.898569:  66%|██████▋   | 665/1000 [15:05:29<7:41:09, 82.60s/it]"
     ]
    },
    {
     "name": "stdout",
     "output_type": "stream",
     "text": [
      "[I 2024-10-20 05:56:35,057] Trial 664 finished with value: 0.8809816241264343 and parameters: {'n_hidden_layers': 2, 'activation': 'elu', 'learning_rate': 0.001142001988375727, 'optimizer': 'sgd', 'dropout_rate': 0.22533115682294205, 'n_neurons': 119, 'batch_size': 4}. Best is trial 368 with value: 0.8985685110092163.\n"
     ]
    },
    {
     "name": "stderr",
     "output_type": "stream",
     "text": [
      "Best trial: 368. Best value: 0.898569:  67%|██████▋   | 666/1000 [15:08:22<10:10:39, 109.70s/it]"
     ]
    },
    {
     "name": "stdout",
     "output_type": "stream",
     "text": [
      "[I 2024-10-20 05:59:27,996] Trial 665 finished with value: 0.8940695524215698 and parameters: {'n_hidden_layers': 3, 'activation': 'elu', 'learning_rate': 0.0013156231831229373, 'optimizer': 'adam', 'dropout_rate': 0.26539014553840334, 'n_neurons': 112, 'batch_size': 1}. Best is trial 368 with value: 0.8985685110092163.\n"
     ]
    },
    {
     "name": "stderr",
     "output_type": "stream",
     "text": [
      "Best trial: 368. Best value: 0.898569:  67%|██████▋   | 667/1000 [15:09:43<9:20:49, 101.05s/it] "
     ]
    },
    {
     "name": "stdout",
     "output_type": "stream",
     "text": [
      "[I 2024-10-20 06:00:48,864] Trial 666 finished with value: 0.8948875069618225 and parameters: {'n_hidden_layers': 3, 'activation': 'elu', 'learning_rate': 0.0006418670185909642, 'optimizer': 'adam', 'dropout_rate': 0.2944207534198476, 'n_neurons': 125, 'batch_size': 4}. Best is trial 368 with value: 0.8985685110092163.\n"
     ]
    },
    {
     "name": "stderr",
     "output_type": "stream",
     "text": [
      "Best trial: 368. Best value: 0.898569:  67%|██████▋   | 668/1000 [15:10:33<7:55:17, 85.89s/it] "
     ]
    },
    {
     "name": "stdout",
     "output_type": "stream",
     "text": [
      "[I 2024-10-20 06:01:39,397] Trial 667 finished with value: 0.8948875069618225 and parameters: {'n_hidden_layers': 2, 'activation': 'elu', 'learning_rate': 0.0009344580776639121, 'optimizer': 'adam', 'dropout_rate': 0.3132750938409722, 'n_neurons': 116, 'batch_size': 8}. Best is trial 368 with value: 0.8985685110092163.\n"
     ]
    },
    {
     "name": "stderr",
     "output_type": "stream",
     "text": [
      "Best trial: 368. Best value: 0.898569:  67%|██████▋   | 669/1000 [15:12:22<8:31:04, 92.64s/it]"
     ]
    },
    {
     "name": "stdout",
     "output_type": "stream",
     "text": [
      "[I 2024-10-20 06:03:27,782] Trial 668 finished with value: 0.8944784998893738 and parameters: {'n_hidden_layers': 3, 'activation': 'elu', 'learning_rate': 0.0007652690550182636, 'optimizer': 'adam', 'dropout_rate': 0.21189441698374112, 'n_neurons': 128, 'batch_size': 2}. Best is trial 368 with value: 0.8985685110092163.\n"
     ]
    },
    {
     "name": "stderr",
     "output_type": "stream",
     "text": [
      "Best trial: 368. Best value: 0.898569:  67%|██████▋   | 670/1000 [15:13:25<7:40:15, 83.68s/it]"
     ]
    },
    {
     "name": "stdout",
     "output_type": "stream",
     "text": [
      "[I 2024-10-20 06:04:30,558] Trial 669 finished with value: 0.8952965140342712 and parameters: {'n_hidden_layers': 3, 'activation': 'elu', 'learning_rate': 0.0010371127367260597, 'optimizer': 'adam', 'dropout_rate': 0.3008636042852076, 'n_neurons': 121, 'batch_size': 4}. Best is trial 368 with value: 0.8985685110092163.\n"
     ]
    },
    {
     "name": "stderr",
     "output_type": "stream",
     "text": [
      "Best trial: 368. Best value: 0.898569:  67%|██████▋   | 671/1000 [15:14:06<6:30:01, 71.13s/it]"
     ]
    },
    {
     "name": "stdout",
     "output_type": "stream",
     "text": [
      "[I 2024-10-20 06:05:12,396] Trial 670 finished with value: 0.8846625685691833 and parameters: {'n_hidden_layers': 2, 'activation': 'elu', 'learning_rate': 0.008883034517663238, 'optimizer': 'adam', 'dropout_rate': 0.249832163948983, 'n_neurons': 109, 'batch_size': 4}. Best is trial 368 with value: 0.8985685110092163.\n"
     ]
    },
    {
     "name": "stderr",
     "output_type": "stream",
     "text": [
      "Best trial: 368. Best value: 0.898569:  67%|██████▋   | 672/1000 [15:16:07<7:50:35, 86.09s/it]"
     ]
    },
    {
     "name": "stdout",
     "output_type": "stream",
     "text": [
      "[I 2024-10-20 06:07:13,380] Trial 671 finished with value: 0.8916155695915222 and parameters: {'n_hidden_layers': 3, 'activation': 'elu', 'learning_rate': 0.0004884164048951078, 'optimizer': 'adam', 'dropout_rate': 0.2760900672675321, 'n_neurons': 91, 'batch_size': 2}. Best is trial 368 with value: 0.8985685110092163.\n"
     ]
    },
    {
     "name": "stderr",
     "output_type": "stream",
     "text": [
      "Best trial: 368. Best value: 0.898569:  67%|██████▋   | 673/1000 [15:17:24<7:34:02, 83.31s/it]"
     ]
    },
    {
     "name": "stdout",
     "output_type": "stream",
     "text": [
      "[I 2024-10-20 06:08:30,221] Trial 672 finished with value: 0.8940695524215698 and parameters: {'n_hidden_layers': 3, 'activation': 'elu', 'learning_rate': 0.0008586216371114532, 'optimizer': 'adam', 'dropout_rate': 0.23066839814979725, 'n_neurons': 114, 'batch_size': 4}. Best is trial 368 with value: 0.8985685110092163.\n"
     ]
    },
    {
     "name": "stderr",
     "output_type": "stream",
     "text": [
      "Best trial: 368. Best value: 0.898569:  67%|██████▋   | 674/1000 [15:18:02<6:18:56, 69.75s/it]"
     ]
    },
    {
     "name": "stdout",
     "output_type": "stream",
     "text": [
      "[I 2024-10-20 06:09:08,308] Trial 673 finished with value: 0.8916155695915222 and parameters: {'n_hidden_layers': 1, 'activation': 'relu', 'learning_rate': 0.000620097848864818, 'optimizer': 'adam', 'dropout_rate': 0.3194727686580433, 'n_neurons': 106, 'batch_size': 8}. Best is trial 368 with value: 0.8985685110092163.\n"
     ]
    },
    {
     "name": "stderr",
     "output_type": "stream",
     "text": [
      "Best trial: 368. Best value: 0.898569:  68%|██████▊   | 675/1000 [15:19:14<6:20:11, 70.19s/it]"
     ]
    },
    {
     "name": "stdout",
     "output_type": "stream",
     "text": [
      "[I 2024-10-20 06:10:19,532] Trial 674 finished with value: 0.8936605453491211 and parameters: {'n_hidden_layers': 3, 'activation': 'elu', 'learning_rate': 0.0007153794996651868, 'optimizer': 'adam', 'dropout_rate': 0.2603557095372561, 'n_neurons': 118, 'batch_size': 4}. Best is trial 368 with value: 0.8985685110092163.\n"
     ]
    },
    {
     "name": "stderr",
     "output_type": "stream",
     "text": [
      "Best trial: 368. Best value: 0.898569:  68%|██████▊   | 676/1000 [15:19:44<5:15:16, 58.38s/it]"
     ]
    },
    {
     "name": "stdout",
     "output_type": "stream",
     "text": [
      "[I 2024-10-20 06:10:50,370] Trial 675 finished with value: 0.8965235352516174 and parameters: {'n_hidden_layers': 3, 'activation': 'elu', 'learning_rate': 0.001247785806028871, 'optimizer': 'adam', 'dropout_rate': 0.2833358104650712, 'n_neurons': 111, 'batch_size': 16}. Best is trial 368 with value: 0.8985685110092163.\n"
     ]
    },
    {
     "name": "stderr",
     "output_type": "stream",
     "text": [
      "Best trial: 368. Best value: 0.898569:  68%|██████▊   | 677/1000 [15:20:13<4:26:20, 49.48s/it]"
     ]
    },
    {
     "name": "stdout",
     "output_type": "stream",
     "text": [
      "[I 2024-10-20 06:11:19,059] Trial 676 finished with value: 0.8928425312042236 and parameters: {'n_hidden_layers': 2, 'activation': 'elu', 'learning_rate': 0.0017461375110818282, 'optimizer': 'adam', 'dropout_rate': 0.2895955557179415, 'n_neurons': 111, 'batch_size': 16}. Best is trial 368 with value: 0.8985685110092163.\n"
     ]
    },
    {
     "name": "stderr",
     "output_type": "stream",
     "text": [
      "Best trial: 368. Best value: 0.898569:  68%|██████▊   | 678/1000 [15:20:40<3:48:33, 42.59s/it]"
     ]
    },
    {
     "name": "stdout",
     "output_type": "stream",
     "text": [
      "[I 2024-10-20 06:11:45,574] Trial 677 finished with value: 0.8907975554466248 and parameters: {'n_hidden_layers': 3, 'activation': 'elu', 'learning_rate': 0.0012338620854468326, 'optimizer': 'adam', 'dropout_rate': 0.2991067374163063, 'n_neurons': 110, 'batch_size': 16}. Best is trial 368 with value: 0.8985685110092163.\n"
     ]
    },
    {
     "name": "stderr",
     "output_type": "stream",
     "text": [
      "Best trial: 368. Best value: 0.898569:  68%|██████▊   | 679/1000 [15:21:07<3:22:42, 37.89s/it]"
     ]
    },
    {
     "name": "stdout",
     "output_type": "stream",
     "text": [
      "[I 2024-10-20 06:12:12,500] Trial 678 finished with value: 0.8936605453491211 and parameters: {'n_hidden_layers': 3, 'activation': 'elu', 'learning_rate': 0.00151828271674251, 'optimizer': 'adam', 'dropout_rate': 0.29022250778519887, 'n_neurons': 109, 'batch_size': 16}. Best is trial 368 with value: 0.8985685110092163.\n"
     ]
    },
    {
     "name": "stderr",
     "output_type": "stream",
     "text": [
      "Best trial: 368. Best value: 0.898569:  68%|██████▊   | 680/1000 [15:21:35<3:06:42, 35.01s/it]"
     ]
    },
    {
     "name": "stdout",
     "output_type": "stream",
     "text": [
      "[I 2024-10-20 06:12:40,790] Trial 679 finished with value: 0.8875255584716797 and parameters: {'n_hidden_layers': 2, 'activation': 'elu', 'learning_rate': 0.0013438842055332506, 'optimizer': 'rmsprop', 'dropout_rate': 0.28432656614476304, 'n_neurons': 106, 'batch_size': 16}. Best is trial 368 with value: 0.8985685110092163.\n"
     ]
    },
    {
     "name": "stderr",
     "output_type": "stream",
     "text": [
      "Best trial: 368. Best value: 0.898569:  68%|██████▊   | 681/1000 [15:21:59<2:48:47, 31.75s/it]"
     ]
    },
    {
     "name": "stdout",
     "output_type": "stream",
     "text": [
      "[I 2024-10-20 06:13:04,923] Trial 680 finished with value: 0.8948875069618225 and parameters: {'n_hidden_layers': 3, 'activation': 'elu', 'learning_rate': 0.0016115090089724394, 'optimizer': 'adam', 'dropout_rate': 0.19722931865379792, 'n_neurons': 112, 'batch_size': 16}. Best is trial 368 with value: 0.8985685110092163.\n"
     ]
    },
    {
     "name": "stderr",
     "output_type": "stream",
     "text": [
      "Best trial: 368. Best value: 0.898569:  68%|██████▊   | 682/1000 [15:22:31<2:48:29, 31.79s/it]"
     ]
    },
    {
     "name": "stdout",
     "output_type": "stream",
     "text": [
      "[I 2024-10-20 06:13:36,817] Trial 681 finished with value: 0.8936605453491211 and parameters: {'n_hidden_layers': 3, 'activation': 'elu', 'learning_rate': 0.0011999147113674047, 'optimizer': 'adam', 'dropout_rate': 0.31090993212823803, 'n_neurons': 107, 'batch_size': 16}. Best is trial 368 with value: 0.8985685110092163.\n"
     ]
    },
    {
     "name": "stderr",
     "output_type": "stream",
     "text": [
      "Best trial: 368. Best value: 0.898569:  68%|██████▊   | 683/1000 [15:24:38<5:18:43, 60.32s/it]"
     ]
    },
    {
     "name": "stdout",
     "output_type": "stream",
     "text": [
      "[I 2024-10-20 06:15:43,722] Trial 682 finished with value: 0.8940695524215698 and parameters: {'n_hidden_layers': 2, 'activation': 'elu', 'learning_rate': 0.0014189161220033847, 'optimizer': 'adam', 'dropout_rate': 0.23666712577975604, 'n_neurons': 104, 'batch_size': 2}. Best is trial 368 with value: 0.8985685110092163.\n"
     ]
    },
    {
     "name": "stderr",
     "output_type": "stream",
     "text": [
      "Best trial: 368. Best value: 0.898569:  68%|██████▊   | 684/1000 [15:25:06<4:27:31, 50.80s/it]"
     ]
    },
    {
     "name": "stdout",
     "output_type": "stream",
     "text": [
      "[I 2024-10-20 06:16:12,289] Trial 683 finished with value: 0.89570552110672 and parameters: {'n_hidden_layers': 3, 'activation': 'elu', 'learning_rate': 0.0012280656253151453, 'optimizer': 'adam', 'dropout_rate': 0.22410575731121907, 'n_neurons': 110, 'batch_size': 16}. Best is trial 368 with value: 0.8985685110092163.\n"
     ]
    },
    {
     "name": "stderr",
     "output_type": "stream",
     "text": [
      "Best trial: 368. Best value: 0.898569:  68%|██████▊   | 685/1000 [15:25:42<4:02:28, 46.19s/it]"
     ]
    },
    {
     "name": "stdout",
     "output_type": "stream",
     "text": [
      "[I 2024-10-20 06:16:47,714] Trial 684 finished with value: 0.8932515382766724 and parameters: {'n_hidden_layers': 3, 'activation': 'elu', 'learning_rate': 0.0010721171295628884, 'optimizer': 'adam', 'dropout_rate': 0.2947185545645344, 'n_neurons': 59, 'batch_size': 16}. Best is trial 368 with value: 0.8985685110092163.\n"
     ]
    },
    {
     "name": "stderr",
     "output_type": "stream",
     "text": [
      "Best trial: 368. Best value: 0.898569:  69%|██████▊   | 686/1000 [15:26:11<3:34:55, 41.07s/it]"
     ]
    },
    {
     "name": "stdout",
     "output_type": "stream",
     "text": [
      "[I 2024-10-20 06:17:16,846] Trial 685 finished with value: 0.8936605453491211 and parameters: {'n_hidden_layers': 3, 'activation': 'elu', 'learning_rate': 0.0011294041310341834, 'optimizer': 'adam', 'dropout_rate': 0.20792358868805744, 'n_neurons': 113, 'batch_size': 16}. Best is trial 368 with value: 0.8985685110092163.\n"
     ]
    },
    {
     "name": "stderr",
     "output_type": "stream",
     "text": [
      "Best trial: 368. Best value: 0.898569:  69%|██████▊   | 687/1000 [15:26:43<3:19:32, 38.25s/it]"
     ]
    },
    {
     "name": "stdout",
     "output_type": "stream",
     "text": [
      "[I 2024-10-20 06:17:48,524] Trial 686 finished with value: 0.852351725101471 and parameters: {'n_hidden_layers': 2, 'activation': 'tanh', 'learning_rate': 0.0010121108084159332, 'optimizer': 'sgd', 'dropout_rate': 0.30285386966457406, 'n_neurons': 107, 'batch_size': 16}. Best is trial 368 with value: 0.8985685110092163.\n"
     ]
    },
    {
     "name": "stderr",
     "output_type": "stream",
     "text": [
      "Best trial: 368. Best value: 0.898569:  69%|██████▉   | 688/1000 [15:27:07<2:57:29, 34.13s/it]"
     ]
    },
    {
     "name": "stdout",
     "output_type": "stream",
     "text": [
      "[I 2024-10-20 06:18:13,042] Trial 687 finished with value: 0.8940695524215698 and parameters: {'n_hidden_layers': 3, 'activation': 'elu', 'learning_rate': 0.0018805069601721604, 'optimizer': 'adam', 'dropout_rate': 0.21913143559965925, 'n_neurons': 96, 'batch_size': 16}. Best is trial 368 with value: 0.8985685110092163.\n"
     ]
    },
    {
     "name": "stderr",
     "output_type": "stream",
     "text": [
      "Best trial: 368. Best value: 0.898569:  69%|██████▉   | 689/1000 [15:27:22<2:27:18, 28.42s/it]"
     ]
    },
    {
     "name": "stdout",
     "output_type": "stream",
     "text": [
      "[I 2024-10-20 06:18:28,130] Trial 688 finished with value: 0.8924335241317749 and parameters: {'n_hidden_layers': 3, 'activation': 'elu', 'learning_rate': 0.0013453050144385534, 'optimizer': 'adam', 'dropout_rate': 0.2831841490713934, 'n_neurons': 70, 'batch_size': 64}. Best is trial 368 with value: 0.8985685110092163.\n"
     ]
    },
    {
     "name": "stderr",
     "output_type": "stream",
     "text": [
      "Best trial: 368. Best value: 0.898569:  69%|██████▉   | 690/1000 [15:29:42<5:20:08, 61.96s/it]"
     ]
    },
    {
     "name": "stdout",
     "output_type": "stream",
     "text": [
      "[I 2024-10-20 06:20:48,365] Trial 689 finished with value: 0.8952965140342712 and parameters: {'n_hidden_layers': 3, 'activation': 'elu', 'learning_rate': 0.00042659324401881515, 'optimizer': 'adam', 'dropout_rate': 0.27987794667798177, 'n_neurons': 111, 'batch_size': 2}. Best is trial 368 with value: 0.8985685110092163.\n"
     ]
    },
    {
     "name": "stderr",
     "output_type": "stream",
     "text": [
      "Best trial: 368. Best value: 0.898569:  69%|██████▉   | 691/1000 [15:30:33<5:01:52, 58.62s/it]"
     ]
    },
    {
     "name": "stdout",
     "output_type": "stream",
     "text": [
      "[I 2024-10-20 06:21:39,176] Trial 690 finished with value: 0.8944784998893738 and parameters: {'n_hidden_layers': 2, 'activation': 'elu', 'learning_rate': 0.0015094681647918405, 'optimizer': 'adam', 'dropout_rate': 0.3257167622535644, 'n_neurons': 73, 'batch_size': 8}. Best is trial 368 with value: 0.8985685110092163.\n"
     ]
    },
    {
     "name": "stderr",
     "output_type": "stream",
     "text": [
      "Best trial: 368. Best value: 0.898569:  69%|██████▉   | 692/1000 [15:33:12<7:35:01, 88.64s/it]"
     ]
    },
    {
     "name": "stdout",
     "output_type": "stream",
     "text": [
      "[I 2024-10-20 06:24:17,868] Trial 691 finished with value: 0.8940695524215698 and parameters: {'n_hidden_layers': 3, 'activation': 'elu', 'learning_rate': 0.00036691692680766784, 'optimizer': 'adam', 'dropout_rate': 0.3074717379669482, 'n_neurons': 108, 'batch_size': 2}. Best is trial 368 with value: 0.8985685110092163.\n"
     ]
    },
    {
     "name": "stderr",
     "output_type": "stream",
     "text": [
      "Best trial: 368. Best value: 0.898569:  69%|██████▉   | 693/1000 [15:33:56<6:24:28, 75.14s/it]"
     ]
    },
    {
     "name": "stdout",
     "output_type": "stream",
     "text": [
      "[I 2024-10-20 06:25:01,516] Trial 692 finished with value: 0.8948875069618225 and parameters: {'n_hidden_layers': 2, 'activation': 'elu', 'learning_rate': 0.002547353896551761, 'optimizer': 'adam', 'dropout_rate': 0.23517288241119147, 'n_neurons': 124, 'batch_size': 8}. Best is trial 368 with value: 0.8985685110092163.\n"
     ]
    },
    {
     "name": "stderr",
     "output_type": "stream",
     "text": [
      "Best trial: 368. Best value: 0.898569:  69%|██████▉   | 694/1000 [15:36:30<8:24:13, 98.87s/it]"
     ]
    },
    {
     "name": "stdout",
     "output_type": "stream",
     "text": [
      "[I 2024-10-20 06:27:35,741] Trial 693 finished with value: 0.8907975554466248 and parameters: {'n_hidden_layers': 3, 'activation': 'elu', 'learning_rate': 0.0009260403078634081, 'optimizer': 'adam', 'dropout_rate': 0.49034096483690404, 'n_neurons': 126, 'batch_size': 2}. Best is trial 368 with value: 0.8985685110092163.\n"
     ]
    },
    {
     "name": "stderr",
     "output_type": "stream",
     "text": [
      "Best trial: 368. Best value: 0.898569:  70%|██████▉   | 695/1000 [15:38:00<8:09:29, 96.29s/it]"
     ]
    },
    {
     "name": "stdout",
     "output_type": "stream",
     "text": [
      "[I 2024-10-20 06:29:06,027] Trial 694 finished with value: 0.8932515382766724 and parameters: {'n_hidden_layers': 3, 'activation': 'elu', 'learning_rate': 0.0010813054223525397, 'optimizer': 'adam', 'dropout_rate': 0.2944296846797902, 'n_neurons': 114, 'batch_size': 2}. Best is trial 368 with value: 0.8985685110092163.\n"
     ]
    },
    {
     "name": "stderr",
     "output_type": "stream",
     "text": [
      "Best trial: 368. Best value: 0.898569:  70%|██████▉   | 696/1000 [15:38:14<6:03:14, 71.69s/it]"
     ]
    },
    {
     "name": "stdout",
     "output_type": "stream",
     "text": [
      "[I 2024-10-20 06:29:20,315] Trial 695 finished with value: 0.8834356069564819 and parameters: {'n_hidden_layers': 3, 'activation': 'relu', 'learning_rate': 0.00025693015575411956, 'optimizer': 'adam', 'dropout_rate': 0.22859590938414492, 'n_neurons': 110, 'batch_size': 32}. Best is trial 368 with value: 0.8985685110092163.\n"
     ]
    },
    {
     "name": "stderr",
     "output_type": "stream",
     "text": [
      "Best trial: 368. Best value: 0.898569:  70%|██████▉   | 697/1000 [15:39:15<5:45:43, 68.46s/it]"
     ]
    },
    {
     "name": "stdout",
     "output_type": "stream",
     "text": [
      "[I 2024-10-20 06:30:21,235] Trial 696 finished with value: 0.8912065625190735 and parameters: {'n_hidden_layers': 2, 'activation': 'elu', 'learning_rate': 0.0005367298282684754, 'optimizer': 'adam', 'dropout_rate': 0.21341318497700218, 'n_neurons': 103, 'batch_size': 8}. Best is trial 368 with value: 0.8985685110092163.\n"
     ]
    },
    {
     "name": "stderr",
     "output_type": "stream",
     "text": [
      "Best trial: 368. Best value: 0.898569:  70%|██████▉   | 698/1000 [15:39:27<4:19:21, 51.53s/it]"
     ]
    },
    {
     "name": "stdout",
     "output_type": "stream",
     "text": [
      "[I 2024-10-20 06:30:33,251] Trial 697 finished with value: 0.8875255584716797 and parameters: {'n_hidden_layers': 3, 'activation': 'elu', 'learning_rate': 0.0009106155000814084, 'optimizer': 'adam', 'dropout_rate': 0.2696607265504584, 'n_neurons': 112, 'batch_size': 128}. Best is trial 368 with value: 0.8985685110092163.\n"
     ]
    },
    {
     "name": "stderr",
     "output_type": "stream",
     "text": [
      "Best trial: 368. Best value: 0.898569:  70%|██████▉   | 699/1000 [15:42:53<8:10:38, 97.80s/it]"
     ]
    },
    {
     "name": "stdout",
     "output_type": "stream",
     "text": [
      "[I 2024-10-20 06:33:59,031] Trial 698 finished with value: 0.890388548374176 and parameters: {'n_hidden_layers': 3, 'activation': 'elu', 'learning_rate': 0.0012170546942560224, 'optimizer': 'adam', 'dropout_rate': 0.24330399762961913, 'n_neurons': 115, 'batch_size': 1}. Best is trial 368 with value: 0.8985685110092163.\n"
     ]
    },
    {
     "name": "stderr",
     "output_type": "stream",
     "text": [
      "Best trial: 368. Best value: 0.898569:  70%|███████   | 700/1000 [15:43:29<6:35:39, 79.13s/it]"
     ]
    },
    {
     "name": "stdout",
     "output_type": "stream",
     "text": [
      "[I 2024-10-20 06:34:34,598] Trial 699 finished with value: 0.8928425312042236 and parameters: {'n_hidden_layers': 2, 'activation': 'elu', 'learning_rate': 0.0010049321059701812, 'optimizer': 'adam', 'dropout_rate': 0.31555767759461695, 'n_neurons': 123, 'batch_size': 16}. Best is trial 368 with value: 0.8985685110092163.\n"
     ]
    },
    {
     "name": "stderr",
     "output_type": "stream",
     "text": [
      "Best trial: 368. Best value: 0.898569:  70%|███████   | 701/1000 [15:44:28<6:05:02, 73.25s/it]"
     ]
    },
    {
     "name": "stdout",
     "output_type": "stream",
     "text": [
      "[I 2024-10-20 06:35:34,133] Trial 700 finished with value: 0.8703476190567017 and parameters: {'n_hidden_layers': 3, 'activation': 'elu', 'learning_rate': 0.0008498742366409055, 'optimizer': 'rmsprop', 'dropout_rate': 0.122247689039064, 'n_neurons': 128, 'batch_size': 2}. Best is trial 368 with value: 0.8985685110092163.\n"
     ]
    },
    {
     "name": "stderr",
     "output_type": "stream",
     "text": [
      "Best trial: 368. Best value: 0.898569:  70%|███████   | 702/1000 [15:45:34<5:52:13, 70.92s/it]"
     ]
    },
    {
     "name": "stdout",
     "output_type": "stream",
     "text": [
      "[I 2024-10-20 06:36:39,598] Trial 701 finished with value: 0.8842535614967346 and parameters: {'n_hidden_layers': 3, 'activation': 'elu', 'learning_rate': 3.17742255538715e-05, 'optimizer': 'adam', 'dropout_rate': 0.28717402756049765, 'n_neurons': 108, 'batch_size': 8}. Best is trial 368 with value: 0.8985685110092163.\n"
     ]
    },
    {
     "name": "stderr",
     "output_type": "stream",
     "text": [
      "Best trial: 368. Best value: 0.898569:  70%|███████   | 703/1000 [15:48:00<7:42:28, 93.43s/it]"
     ]
    },
    {
     "name": "stdout",
     "output_type": "stream",
     "text": [
      "[I 2024-10-20 06:39:05,558] Trial 702 finished with value: 0.8936605453491211 and parameters: {'n_hidden_layers': 3, 'activation': 'elu', 'learning_rate': 0.00032048679946432263, 'optimizer': 'adam', 'dropout_rate': 0.27800168347436616, 'n_neurons': 125, 'batch_size': 2}. Best is trial 368 with value: 0.8985685110092163.\n"
     ]
    },
    {
     "name": "stderr",
     "output_type": "stream",
     "text": [
      "Best trial: 368. Best value: 0.898569:  70%|███████   | 704/1000 [15:49:52<8:08:58, 99.12s/it]"
     ]
    },
    {
     "name": "stdout",
     "output_type": "stream",
     "text": [
      "[I 2024-10-20 06:40:57,940] Trial 703 finished with value: 0.8907975554466248 and parameters: {'n_hidden_layers': 2, 'activation': 'elu', 'learning_rate': 0.00045542709269914675, 'optimizer': 'adam', 'dropout_rate': 0.2988624700692681, 'n_neurons': 113, 'batch_size': 4}. Best is trial 368 with value: 0.8985685110092163.\n"
     ]
    },
    {
     "name": "stderr",
     "output_type": "stream",
     "text": [
      "Best trial: 368. Best value: 0.898569:  70%|███████   | 705/1000 [15:50:53<7:10:53, 87.64s/it]"
     ]
    },
    {
     "name": "stdout",
     "output_type": "stream",
     "text": [
      "[I 2024-10-20 06:41:58,802] Trial 704 finished with value: 0.8846625685691833 and parameters: {'n_hidden_layers': 3, 'activation': 'elu', 'learning_rate': 0.0013380823035653929, 'optimizer': 'adam', 'dropout_rate': 0.22171596448150352, 'n_neurons': 121, 'batch_size': 4}. Best is trial 368 with value: 0.8985685110092163.\n"
     ]
    },
    {
     "name": "stderr",
     "output_type": "stream",
     "text": [
      "Best trial: 368. Best value: 0.898569:  71%|███████   | 706/1000 [15:52:42<7:41:05, 94.10s/it]"
     ]
    },
    {
     "name": "stdout",
     "output_type": "stream",
     "text": [
      "[I 2024-10-20 06:43:47,971] Trial 705 finished with value: 0.8948875069618225 and parameters: {'n_hidden_layers': 3, 'activation': 'elu', 'learning_rate': 0.0010639735489299752, 'optimizer': 'adam', 'dropout_rate': 0.2666381777731836, 'n_neurons': 105, 'batch_size': 2}. Best is trial 368 with value: 0.8985685110092163.\n"
     ]
    },
    {
     "name": "stderr",
     "output_type": "stream",
     "text": [
      "Best trial: 368. Best value: 0.898569:  71%|███████   | 707/1000 [15:53:13<6:07:41, 75.30s/it]"
     ]
    },
    {
     "name": "stdout",
     "output_type": "stream",
     "text": [
      "[I 2024-10-20 06:44:19,396] Trial 706 finished with value: 0.8932515382766724 and parameters: {'n_hidden_layers': 2, 'activation': 'elu', 'learning_rate': 0.003520534376267596, 'optimizer': 'adam', 'dropout_rate': 0.20457028997081447, 'n_neurons': 63, 'batch_size': 8}. Best is trial 368 with value: 0.8985685110092163.\n"
     ]
    },
    {
     "name": "stderr",
     "output_type": "stream",
     "text": [
      "Best trial: 368. Best value: 0.898569:  71%|███████   | 708/1000 [15:54:13<5:43:43, 70.63s/it]"
     ]
    },
    {
     "name": "stdout",
     "output_type": "stream",
     "text": [
      "[I 2024-10-20 06:45:19,132] Trial 707 finished with value: 0.8916155695915222 and parameters: {'n_hidden_layers': 3, 'activation': 'tanh', 'learning_rate': 0.0007928203932553755, 'optimizer': 'adam', 'dropout_rate': 0.2525086978565435, 'n_neurons': 110, 'batch_size': 4}. Best is trial 368 with value: 0.8985685110092163.\n"
     ]
    },
    {
     "name": "stderr",
     "output_type": "stream",
     "text": [
      "Best trial: 368. Best value: 0.898569:  71%|███████   | 709/1000 [15:56:00<6:35:38, 81.58s/it]"
     ]
    },
    {
     "name": "stdout",
     "output_type": "stream",
     "text": [
      "[I 2024-10-20 06:47:06,249] Trial 708 finished with value: 0.8805726170539856 and parameters: {'n_hidden_layers': 3, 'activation': 'elu', 'learning_rate': 0.0005470248268969758, 'optimizer': 'sgd', 'dropout_rate': 0.2389267954321128, 'n_neurons': 126, 'batch_size': 4}. Best is trial 368 with value: 0.8985685110092163.\n"
     ]
    },
    {
     "name": "stderr",
     "output_type": "stream",
     "text": [
      "Best trial: 368. Best value: 0.898569:  71%|███████   | 710/1000 [15:57:37<6:56:06, 86.09s/it]"
     ]
    },
    {
     "name": "stdout",
     "output_type": "stream",
     "text": [
      "[I 2024-10-20 06:48:42,873] Trial 709 finished with value: 0.8944784998893738 and parameters: {'n_hidden_layers': 3, 'activation': 'elu', 'learning_rate': 0.0009443940515695114, 'optimizer': 'adam', 'dropout_rate': 0.27599134931879665, 'n_neurons': 115, 'batch_size': 2}. Best is trial 368 with value: 0.8985685110092163.\n"
     ]
    },
    {
     "name": "stderr",
     "output_type": "stream",
     "text": [
      "Best trial: 368. Best value: 0.898569:  71%|███████   | 711/1000 [15:58:52<6:39:04, 82.85s/it]"
     ]
    },
    {
     "name": "stdout",
     "output_type": "stream",
     "text": [
      "[I 2024-10-20 06:49:58,173] Trial 710 finished with value: 0.8969325423240662 and parameters: {'n_hidden_layers': 3, 'activation': 'elu', 'learning_rate': 0.0006908357922670772, 'optimizer': 'adam', 'dropout_rate': 0.22918652578575546, 'n_neurons': 123, 'batch_size': 4}. Best is trial 368 with value: 0.8985685110092163.\n"
     ]
    },
    {
     "name": "stderr",
     "output_type": "stream",
     "text": [
      "Best trial: 368. Best value: 0.898569:  71%|███████   | 712/1000 [16:01:08<7:54:02, 98.76s/it]"
     ]
    },
    {
     "name": "stdout",
     "output_type": "stream",
     "text": [
      "[I 2024-10-20 06:52:14,047] Trial 711 finished with value: 0.8936605453491211 and parameters: {'n_hidden_layers': 3, 'activation': 'elu', 'learning_rate': 0.000642093867447956, 'optimizer': 'adam', 'dropout_rate': 0.2571822640503572, 'n_neurons': 123, 'batch_size': 2}. Best is trial 368 with value: 0.8985685110092163.\n"
     ]
    },
    {
     "name": "stderr",
     "output_type": "stream",
     "text": [
      "Best trial: 368. Best value: 0.898569:  71%|███████▏  | 713/1000 [16:01:25<5:54:48, 74.17s/it]"
     ]
    },
    {
     "name": "stdout",
     "output_type": "stream",
     "text": [
      "[I 2024-10-20 06:52:30,856] Trial 712 finished with value: 0.8899795413017273 and parameters: {'n_hidden_layers': 3, 'activation': 'elu', 'learning_rate': 0.0005835779968345024, 'optimizer': 'adam', 'dropout_rate': 0.2312074870498198, 'n_neurons': 124, 'batch_size': 64}. Best is trial 368 with value: 0.8985685110092163.\n"
     ]
    },
    {
     "name": "stderr",
     "output_type": "stream",
     "text": [
      "Best trial: 368. Best value: 0.898569:  71%|███████▏  | 714/1000 [16:02:32<5:43:43, 72.11s/it]"
     ]
    },
    {
     "name": "stdout",
     "output_type": "stream",
     "text": [
      "[I 2024-10-20 06:53:38,152] Trial 713 finished with value: 0.890388548374176 and parameters: {'n_hidden_layers': 3, 'activation': 'elu', 'learning_rate': 0.000501159986497096, 'optimizer': 'adam', 'dropout_rate': 0.2464260942964988, 'n_neurons': 121, 'batch_size': 4}. Best is trial 368 with value: 0.8985685110092163.\n"
     ]
    },
    {
     "name": "stderr",
     "output_type": "stream",
     "text": [
      "Best trial: 368. Best value: 0.898569:  72%|███████▏  | 715/1000 [16:03:27<5:17:09, 66.77s/it]"
     ]
    },
    {
     "name": "stdout",
     "output_type": "stream",
     "text": [
      "[I 2024-10-20 06:54:32,459] Trial 714 finished with value: 0.8952965140342712 and parameters: {'n_hidden_layers': 3, 'activation': 'elu', 'learning_rate': 0.0006804550023280955, 'optimizer': 'adam', 'dropout_rate': 0.2898945366014599, 'n_neurons': 126, 'batch_size': 8}. Best is trial 368 with value: 0.8985685110092163.\n"
     ]
    },
    {
     "name": "stderr",
     "output_type": "stream",
     "text": [
      "Best trial: 368. Best value: 0.898569:  72%|███████▏  | 716/1000 [16:05:00<5:53:48, 74.75s/it]"
     ]
    },
    {
     "name": "stdout",
     "output_type": "stream",
     "text": [
      "[I 2024-10-20 06:56:05,827] Trial 715 finished with value: 0.8948875069618225 and parameters: {'n_hidden_layers': 3, 'activation': 'elu', 'learning_rate': 0.0004194708584273349, 'optimizer': 'adam', 'dropout_rate': 0.30271901518954863, 'n_neurons': 120, 'batch_size': 4}. Best is trial 368 with value: 0.8985685110092163.\n"
     ]
    },
    {
     "name": "stderr",
     "output_type": "stream",
     "text": [
      "Best trial: 368. Best value: 0.898569:  72%|███████▏  | 717/1000 [16:05:36<4:58:04, 63.20s/it]"
     ]
    },
    {
     "name": "stdout",
     "output_type": "stream",
     "text": [
      "[I 2024-10-20 06:56:42,070] Trial 716 finished with value: 0.8944784998893738 and parameters: {'n_hidden_layers': 3, 'activation': 'elu', 'learning_rate': 0.0006036386057005059, 'optimizer': 'adam', 'dropout_rate': 0.2370258153656854, 'n_neurons': 122, 'batch_size': 16}. Best is trial 368 with value: 0.8985685110092163.\n"
     ]
    },
    {
     "name": "stderr",
     "output_type": "stream",
     "text": [
      "Best trial: 368. Best value: 0.898569:  72%|███████▏  | 718/1000 [16:06:39<4:57:11, 63.23s/it]"
     ]
    },
    {
     "name": "stdout",
     "output_type": "stream",
     "text": [
      "[I 2024-10-20 06:57:45,379] Trial 717 finished with value: 0.8785275816917419 and parameters: {'n_hidden_layers': 3, 'activation': 'relu', 'learning_rate': 0.0007251665607568844, 'optimizer': 'adam', 'dropout_rate': 0.3196573125829034, 'n_neurons': 128, 'batch_size': 2}. Best is trial 368 with value: 0.8985685110092163.\n"
     ]
    },
    {
     "name": "stderr",
     "output_type": "stream",
     "text": [
      "Best trial: 368. Best value: 0.898569:  72%|███████▏  | 719/1000 [16:07:31<4:40:15, 59.84s/it]"
     ]
    },
    {
     "name": "stdout",
     "output_type": "stream",
     "text": [
      "[I 2024-10-20 06:58:37,308] Trial 718 finished with value: 0.887116551399231 and parameters: {'n_hidden_layers': 3, 'activation': 'elu', 'learning_rate': 0.0017054232032545223, 'optimizer': 'adam', 'dropout_rate': 0.2827685644227091, 'n_neurons': 124, 'batch_size': 4}. Best is trial 368 with value: 0.8985685110092163.\n"
     ]
    },
    {
     "name": "stderr",
     "output_type": "stream",
     "text": [
      "Best trial: 368. Best value: 0.898569:  72%|███████▏  | 720/1000 [16:07:55<3:48:16, 48.91s/it]"
     ]
    },
    {
     "name": "stdout",
     "output_type": "stream",
     "text": [
      "[I 2024-10-20 06:59:00,728] Trial 719 finished with value: 0.8891615271568298 and parameters: {'n_hidden_layers': 3, 'activation': 'elu', 'learning_rate': 0.0003905679786684682, 'optimizer': 'adam', 'dropout_rate': 0.45650386057791853, 'n_neurons': 122, 'batch_size': 32}. Best is trial 368 with value: 0.8985685110092163.\n"
     ]
    },
    {
     "name": "stderr",
     "output_type": "stream",
     "text": [
      "Best trial: 368. Best value: 0.898569:  72%|███████▏  | 721/1000 [16:08:50<3:56:39, 50.90s/it]"
     ]
    },
    {
     "name": "stdout",
     "output_type": "stream",
     "text": [
      "[I 2024-10-20 06:59:56,248] Trial 720 finished with value: 0.8940695524215698 and parameters: {'n_hidden_layers': 3, 'activation': 'elu', 'learning_rate': 0.0005018865792788955, 'optimizer': 'adam', 'dropout_rate': 0.3094024116547826, 'n_neurons': 117, 'batch_size': 8}. Best is trial 368 with value: 0.8985685110092163.\n"
     ]
    },
    {
     "name": "stderr",
     "output_type": "stream",
     "text": [
      "Best trial: 368. Best value: 0.898569:  72%|███████▏  | 722/1000 [16:10:08<4:32:55, 58.90s/it]"
     ]
    },
    {
     "name": "stdout",
     "output_type": "stream",
     "text": [
      "[I 2024-10-20 07:01:13,840] Trial 721 finished with value: 0.8944784998893738 and parameters: {'n_hidden_layers': 3, 'activation': 'elu', 'learning_rate': 0.0006658548329077077, 'optimizer': 'adam', 'dropout_rate': 0.2622659956810074, 'n_neurons': 126, 'batch_size': 4}. Best is trial 368 with value: 0.8985685110092163.\n"
     ]
    },
    {
     "name": "stderr",
     "output_type": "stream",
     "text": [
      "Best trial: 368. Best value: 0.898569:  72%|███████▏  | 723/1000 [16:12:53<6:58:41, 90.69s/it]"
     ]
    },
    {
     "name": "stdout",
     "output_type": "stream",
     "text": [
      "[I 2024-10-20 07:03:58,701] Trial 722 finished with value: 0.8932515382766724 and parameters: {'n_hidden_layers': 3, 'activation': 'elu', 'learning_rate': 0.0008142401420732279, 'optimizer': 'adam', 'dropout_rate': 0.22615938705059282, 'n_neurons': 120, 'batch_size': 2}. Best is trial 368 with value: 0.8985685110092163.\n"
     ]
    },
    {
     "name": "stderr",
     "output_type": "stream",
     "text": [
      "Best trial: 368. Best value: 0.898569:  72%|███████▏  | 724/1000 [16:13:52<6:13:53, 81.28s/it]"
     ]
    },
    {
     "name": "stdout",
     "output_type": "stream",
     "text": [
      "[I 2024-10-20 07:04:58,025] Trial 723 finished with value: 0.8760735988616943 and parameters: {'n_hidden_layers': 3, 'activation': 'elu', 'learning_rate': 0.0005676119115663055, 'optimizer': 'rmsprop', 'dropout_rate': 0.2531706783903131, 'n_neurons': 124, 'batch_size': 4}. Best is trial 368 with value: 0.8985685110092163.\n"
     ]
    },
    {
     "name": "stderr",
     "output_type": "stream",
     "text": [
      "Best trial: 368. Best value: 0.898569:  72%|███████▎  | 725/1000 [16:15:16<6:15:32, 81.93s/it]"
     ]
    },
    {
     "name": "stdout",
     "output_type": "stream",
     "text": [
      "[I 2024-10-20 07:06:21,487] Trial 724 finished with value: 0.8948875069618225 and parameters: {'n_hidden_layers': 3, 'activation': 'elu', 'learning_rate': 0.0007299559399660123, 'optimizer': 'adam', 'dropout_rate': 0.27337453885086516, 'n_neurons': 116, 'batch_size': 4}. Best is trial 368 with value: 0.8985685110092163.\n"
     ]
    },
    {
     "name": "stderr",
     "output_type": "stream",
     "text": [
      "Best trial: 368. Best value: 0.898569:  73%|███████▎  | 726/1000 [16:15:28<4:38:36, 61.01s/it]"
     ]
    },
    {
     "name": "stdout",
     "output_type": "stream",
     "text": [
      "[I 2024-10-20 07:06:33,668] Trial 725 finished with value: 0.8916155695915222 and parameters: {'n_hidden_layers': 3, 'activation': 'elu', 'learning_rate': 0.0012128887236636306, 'optimizer': 'adam', 'dropout_rate': 0.29263220126472755, 'n_neurons': 112, 'batch_size': 128}. Best is trial 368 with value: 0.8985685110092163.\n"
     ]
    },
    {
     "name": "stderr",
     "output_type": "stream",
     "text": [
      "Best trial: 368. Best value: 0.898569:  73%|███████▎  | 727/1000 [16:18:03<6:45:46, 89.18s/it]"
     ]
    },
    {
     "name": "stdout",
     "output_type": "stream",
     "text": [
      "[I 2024-10-20 07:09:08,581] Trial 726 finished with value: 0.8940695524215698 and parameters: {'n_hidden_layers': 3, 'activation': 'elu', 'learning_rate': 0.0003596397133271813, 'optimizer': 'adam', 'dropout_rate': 0.24460322533756748, 'n_neurons': 108, 'batch_size': 2}. Best is trial 368 with value: 0.8985685110092163.\n"
     ]
    },
    {
     "name": "stderr",
     "output_type": "stream",
     "text": [
      "Best trial: 368. Best value: 0.898569:  73%|███████▎  | 728/1000 [16:18:53<5:51:10, 77.46s/it]"
     ]
    },
    {
     "name": "stdout",
     "output_type": "stream",
     "text": [
      "[I 2024-10-20 07:09:58,703] Trial 727 finished with value: 0.8936605453491211 and parameters: {'n_hidden_layers': 3, 'activation': 'elu', 'learning_rate': 0.0006445791899737427, 'optimizer': 'adam', 'dropout_rate': 0.23077257192344172, 'n_neurons': 122, 'batch_size': 8}. Best is trial 368 with value: 0.8985685110092163.\n"
     ]
    },
    {
     "name": "stderr",
     "output_type": "stream",
     "text": [
      "Best trial: 368. Best value: 0.898569:  73%|███████▎  | 729/1000 [16:20:01<5:37:47, 74.79s/it]"
     ]
    },
    {
     "name": "stdout",
     "output_type": "stream",
     "text": [
      "[I 2024-10-20 07:11:07,248] Trial 728 finished with value: 0.890388548374176 and parameters: {'n_hidden_layers': 3, 'activation': 'elu', 'learning_rate': 0.0014001059603406336, 'optimizer': 'adam', 'dropout_rate': 0.2819279498240961, 'n_neurons': 118, 'batch_size': 4}. Best is trial 368 with value: 0.8985685110092163.\n"
     ]
    },
    {
     "name": "stderr",
     "output_type": "stream",
     "text": [
      "Best trial: 368. Best value: 0.898569:  73%|███████▎  | 730/1000 [16:21:26<5:50:32, 77.90s/it]"
     ]
    },
    {
     "name": "stdout",
     "output_type": "stream",
     "text": [
      "[I 2024-10-20 07:12:32,402] Trial 729 finished with value: 0.89570552110672 and parameters: {'n_hidden_layers': 3, 'activation': 'elu', 'learning_rate': 0.0007834068816702906, 'optimizer': 'adam', 'dropout_rate': 0.297933125996068, 'n_neurons': 111, 'batch_size': 4}. Best is trial 368 with value: 0.8985685110092163.\n"
     ]
    },
    {
     "name": "stderr",
     "output_type": "stream",
     "text": [
      "Best trial: 368. Best value: 0.898569:  73%|███████▎  | 731/1000 [16:24:48<8:35:15, 114.93s/it]"
     ]
    },
    {
     "name": "stdout",
     "output_type": "stream",
     "text": [
      "[I 2024-10-20 07:15:53,735] Trial 730 finished with value: 0.8826175928115845 and parameters: {'n_hidden_layers': 3, 'activation': 'elu', 'learning_rate': 0.0010770155969252579, 'optimizer': 'sgd', 'dropout_rate': 0.218662449509922, 'n_neurons': 126, 'batch_size': 2}. Best is trial 368 with value: 0.8985685110092163.\n"
     ]
    },
    {
     "name": "stderr",
     "output_type": "stream",
     "text": [
      "Best trial: 368. Best value: 0.898569:  73%|███████▎  | 732/1000 [16:30:31<13:38:54, 183.34s/it]"
     ]
    },
    {
     "name": "stdout",
     "output_type": "stream",
     "text": [
      "[I 2024-10-20 07:21:36,698] Trial 731 finished with value: 0.8883435726165771 and parameters: {'n_hidden_layers': 1, 'activation': 'tanh', 'learning_rate': 0.00021583636621194498, 'optimizer': 'adam', 'dropout_rate': 0.2673710202693575, 'n_neurons': 119, 'batch_size': 1}. Best is trial 368 with value: 0.8985685110092163.\n"
     ]
    },
    {
     "name": "stderr",
     "output_type": "stream",
     "text": [
      "Best trial: 368. Best value: 0.898569:  73%|███████▎  | 733/1000 [16:31:09<10:21:56, 139.76s/it]"
     ]
    },
    {
     "name": "stdout",
     "output_type": "stream",
     "text": [
      "[I 2024-10-20 07:22:14,787] Trial 732 finished with value: 0.8940695524215698 and parameters: {'n_hidden_layers': 3, 'activation': 'elu', 'learning_rate': 0.00046278968592950364, 'optimizer': 'adam', 'dropout_rate': 0.30925691657825105, 'n_neurons': 114, 'batch_size': 16}. Best is trial 368 with value: 0.8985685110092163.\n"
     ]
    },
    {
     "name": "stderr",
     "output_type": "stream",
     "text": [
      "Best trial: 368. Best value: 0.898569:  73%|███████▎  | 734/1000 [16:32:17<8:44:01, 118.20s/it] "
     ]
    },
    {
     "name": "stdout",
     "output_type": "stream",
     "text": [
      "[I 2024-10-20 07:23:22,674] Trial 733 finished with value: 0.8936605453491211 and parameters: {'n_hidden_layers': 3, 'activation': 'elu', 'learning_rate': 0.0008899669179277079, 'optimizer': 'adam', 'dropout_rate': 0.3236838312151604, 'n_neurons': 109, 'batch_size': 4}. Best is trial 368 with value: 0.8985685110092163.\n"
     ]
    },
    {
     "name": "stderr",
     "output_type": "stream",
     "text": [
      "Best trial: 368. Best value: 0.898569:  74%|███████▎  | 735/1000 [16:33:23<7:33:16, 102.63s/it]"
     ]
    },
    {
     "name": "stdout",
     "output_type": "stream",
     "text": [
      "[I 2024-10-20 07:24:28,966] Trial 734 finished with value: 0.8928425312042236 and parameters: {'n_hidden_layers': 3, 'activation': 'elu', 'learning_rate': 0.00029574696843677586, 'optimizer': 'adam', 'dropout_rate': 0.2392273739520339, 'n_neurons': 123, 'batch_size': 8}. Best is trial 368 with value: 0.8985685110092163.\n"
     ]
    },
    {
     "name": "stderr",
     "output_type": "stream",
     "text": [
      "Best trial: 368. Best value: 0.898569:  74%|███████▎  | 736/1000 [16:35:09<7:35:52, 103.61s/it]"
     ]
    },
    {
     "name": "stdout",
     "output_type": "stream",
     "text": [
      "[I 2024-10-20 07:26:14,859] Trial 735 finished with value: 0.8891615271568298 and parameters: {'n_hidden_layers': 3, 'activation': 'elu', 'learning_rate': 0.0021533191996919296, 'optimizer': 'adam', 'dropout_rate': 0.2102931797470036, 'n_neurons': 128, 'batch_size': 2}. Best is trial 368 with value: 0.8985685110092163.\n"
     ]
    },
    {
     "name": "stderr",
     "output_type": "stream",
     "text": [
      "Best trial: 368. Best value: 0.898569:  74%|███████▎  | 737/1000 [16:36:26<6:59:21, 95.67s/it] "
     ]
    },
    {
     "name": "stdout",
     "output_type": "stream",
     "text": [
      "[I 2024-10-20 07:27:32,009] Trial 736 finished with value: 0.8952965140342712 and parameters: {'n_hidden_layers': 3, 'activation': 'elu', 'learning_rate': 0.0005480557783100179, 'optimizer': 'adam', 'dropout_rate': 0.28899105634003996, 'n_neurons': 106, 'batch_size': 4}. Best is trial 368 with value: 0.8985685110092163.\n"
     ]
    },
    {
     "name": "stderr",
     "output_type": "stream",
     "text": [
      "Best trial: 368. Best value: 0.898569:  74%|███████▍  | 738/1000 [16:37:49<6:41:24, 91.93s/it]"
     ]
    },
    {
     "name": "stdout",
     "output_type": "stream",
     "text": [
      "[I 2024-10-20 07:28:55,201] Trial 737 finished with value: 0.8948875069618225 and parameters: {'n_hidden_layers': 3, 'activation': 'elu', 'learning_rate': 0.0007124456849981171, 'optimizer': 'adam', 'dropout_rate': 0.2751654530394807, 'n_neurons': 125, 'batch_size': 4}. Best is trial 368 with value: 0.8985685110092163.\n"
     ]
    },
    {
     "name": "stderr",
     "output_type": "stream",
     "text": [
      "Best trial: 368. Best value: 0.898569:  74%|███████▍  | 739/1000 [16:39:22<6:40:20, 92.03s/it]"
     ]
    },
    {
     "name": "stdout",
     "output_type": "stream",
     "text": [
      "[I 2024-10-20 07:30:27,474] Trial 738 finished with value: 0.8932515382766724 and parameters: {'n_hidden_layers': 3, 'activation': 'elu', 'learning_rate': 0.0015161574181648803, 'optimizer': 'adam', 'dropout_rate': 0.25888436756720634, 'n_neurons': 116, 'batch_size': 2}. Best is trial 368 with value: 0.8985685110092163.\n"
     ]
    },
    {
     "name": "stderr",
     "output_type": "stream",
     "text": [
      "Best trial: 368. Best value: 0.898569:  74%|███████▍  | 740/1000 [16:39:30<4:49:48, 66.88s/it]"
     ]
    },
    {
     "name": "stdout",
     "output_type": "stream",
     "text": [
      "[I 2024-10-20 07:30:35,664] Trial 739 finished with value: 0.8920245170593262 and parameters: {'n_hidden_layers': 3, 'activation': 'relu', 'learning_rate': 0.000980370278721916, 'optimizer': 'adam', 'dropout_rate': 0.30022934461406076, 'n_neurons': 120, 'batch_size': 64}. Best is trial 368 with value: 0.8985685110092163.\n"
     ]
    },
    {
     "name": "stderr",
     "output_type": "stream",
     "text": [
      "Best trial: 368. Best value: 0.898569:  74%|███████▍  | 741/1000 [16:40:41<4:53:56, 68.09s/it]"
     ]
    },
    {
     "name": "stdout",
     "output_type": "stream",
     "text": [
      "[I 2024-10-20 07:31:46,594] Trial 740 finished with value: 0.8850715756416321 and parameters: {'n_hidden_layers': 3, 'activation': 'elu', 'learning_rate': 0.0011710939828434186, 'optimizer': 'adam', 'dropout_rate': 0.22757653375622403, 'n_neurons': 113, 'batch_size': 4}. Best is trial 368 with value: 0.8985685110092163.\n"
     ]
    },
    {
     "name": "stderr",
     "output_type": "stream",
     "text": [
      "Best trial: 368. Best value: 0.898569:  74%|███████▍  | 742/1000 [16:41:27<4:24:59, 61.63s/it]"
     ]
    },
    {
     "name": "stdout",
     "output_type": "stream",
     "text": [
      "[I 2024-10-20 07:32:33,131] Trial 741 finished with value: 0.8952965140342712 and parameters: {'n_hidden_layers': 3, 'activation': 'elu', 'learning_rate': 0.0008029074107366264, 'optimizer': 'adam', 'dropout_rate': 0.31531767139334976, 'n_neurons': 110, 'batch_size': 8}. Best is trial 368 with value: 0.8985685110092163.\n"
     ]
    },
    {
     "name": "stderr",
     "output_type": "stream",
     "text": [
      "Best trial: 368. Best value: 0.898569:  74%|███████▍  | 743/1000 [16:42:43<4:41:38, 65.75s/it]"
     ]
    },
    {
     "name": "stdout",
     "output_type": "stream",
     "text": [
      "[I 2024-10-20 07:33:48,519] Trial 742 finished with value: 0.8973414897918701 and parameters: {'n_hidden_layers': 3, 'activation': 'elu', 'learning_rate': 0.0006170859797826025, 'optimizer': 'adam', 'dropout_rate': 0.25074478845189047, 'n_neurons': 122, 'batch_size': 4}. Best is trial 368 with value: 0.8985685110092163.\n"
     ]
    },
    {
     "name": "stderr",
     "output_type": "stream",
     "text": [
      "Best trial: 368. Best value: 0.898569:  74%|███████▍  | 744/1000 [16:45:12<6:27:15, 90.76s/it]"
     ]
    },
    {
     "name": "stdout",
     "output_type": "stream",
     "text": [
      "[I 2024-10-20 07:36:17,632] Trial 743 finished with value: 0.8936605453491211 and parameters: {'n_hidden_layers': 3, 'activation': 'elu', 'learning_rate': 0.0005166303240745087, 'optimizer': 'adam', 'dropout_rate': 0.24128203086802705, 'n_neurons': 122, 'batch_size': 2}. Best is trial 368 with value: 0.8985685110092163.\n"
     ]
    },
    {
     "name": "stderr",
     "output_type": "stream",
     "text": [
      "Best trial: 368. Best value: 0.898569:  74%|███████▍  | 745/1000 [16:46:04<5:36:12, 79.11s/it]"
     ]
    },
    {
     "name": "stdout",
     "output_type": "stream",
     "text": [
      "[I 2024-10-20 07:37:09,546] Trial 744 finished with value: 0.8830265998840332 and parameters: {'n_hidden_layers': 3, 'activation': 'elu', 'learning_rate': 0.0006004338179927363, 'optimizer': 'rmsprop', 'dropout_rate': 0.2491666364011409, 'n_neurons': 123, 'batch_size': 4}. Best is trial 368 with value: 0.8985685110092163.\n"
     ]
    },
    {
     "name": "stderr",
     "output_type": "stream",
     "text": [
      "Best trial: 368. Best value: 0.898569:  75%|███████▍  | 746/1000 [16:46:43<4:44:37, 67.24s/it]"
     ]
    },
    {
     "name": "stdout",
     "output_type": "stream",
     "text": [
      "[I 2024-10-20 07:37:49,079] Trial 745 finished with value: 0.8801636099815369 and parameters: {'n_hidden_layers': 3, 'activation': 'elu', 'learning_rate': 0.004693056699620957, 'optimizer': 'adam', 'dropout_rate': 0.2479432910728608, 'n_neurons': 121, 'batch_size': 4}. Best is trial 368 with value: 0.8985685110092163.\n"
     ]
    },
    {
     "name": "stderr",
     "output_type": "stream",
     "text": [
      "Best trial: 368. Best value: 0.898569:  75%|███████▍  | 747/1000 [16:47:22<4:07:37, 58.72s/it]"
     ]
    },
    {
     "name": "stdout",
     "output_type": "stream",
     "text": [
      "[I 2024-10-20 07:38:27,944] Trial 746 finished with value: 0.8907975554466248 and parameters: {'n_hidden_layers': 3, 'activation': 'elu', 'learning_rate': 0.0004903865564596296, 'optimizer': 'adam', 'dropout_rate': 0.24088681182067717, 'n_neurons': 119, 'batch_size': 16}. Best is trial 368 with value: 0.8985685110092163.\n"
     ]
    },
    {
     "name": "stderr",
     "output_type": "stream",
     "text": [
      "Best trial: 368. Best value: 0.898569:  75%|███████▍  | 748/1000 [16:49:33<5:37:49, 80.44s/it]"
     ]
    },
    {
     "name": "stdout",
     "output_type": "stream",
     "text": [
      "[I 2024-10-20 07:40:39,040] Trial 747 finished with value: 0.8916155695915222 and parameters: {'n_hidden_layers': 3, 'activation': 'elu', 'learning_rate': 0.00044545663686395393, 'optimizer': 'adam', 'dropout_rate': 0.24623251387164116, 'n_neurons': 125, 'batch_size': 2}. Best is trial 368 with value: 0.8985685110092163.\n"
     ]
    },
    {
     "name": "stderr",
     "output_type": "stream",
     "text": [
      "Best trial: 368. Best value: 0.898569:  75%|███████▍  | 749/1000 [16:50:18<4:51:21, 69.65s/it]"
     ]
    },
    {
     "name": "stdout",
     "output_type": "stream",
     "text": [
      "[I 2024-10-20 07:41:23,507] Trial 748 finished with value: 0.8928425312042236 and parameters: {'n_hidden_layers': 3, 'activation': 'elu', 'learning_rate': 0.0005719583548022567, 'optimizer': 'adam', 'dropout_rate': 0.23217882828988956, 'n_neurons': 123, 'batch_size': 8}. Best is trial 368 with value: 0.8985685110092163.\n"
     ]
    },
    {
     "name": "stderr",
     "output_type": "stream",
     "text": [
      "Best trial: 368. Best value: 0.898569:  75%|███████▌  | 750/1000 [16:50:42<3:53:16, 55.99s/it]"
     ]
    },
    {
     "name": "stdout",
     "output_type": "stream",
     "text": [
      "[I 2024-10-20 07:41:47,628] Trial 749 finished with value: 0.8944784998893738 and parameters: {'n_hidden_layers': 3, 'activation': 'elu', 'learning_rate': 0.0006365764781974301, 'optimizer': 'adam', 'dropout_rate': 0.25567653712538574, 'n_neurons': 126, 'batch_size': 32}. Best is trial 368 with value: 0.8985685110092163.\n"
     ]
    },
    {
     "name": "stderr",
     "output_type": "stream",
     "text": [
      "Best trial: 368. Best value: 0.898569:  75%|███████▌  | 751/1000 [16:52:17<4:41:41, 67.88s/it]"
     ]
    },
    {
     "name": "stdout",
     "output_type": "stream",
     "text": [
      "[I 2024-10-20 07:43:23,247] Trial 750 finished with value: 0.8928425312042236 and parameters: {'n_hidden_layers': 3, 'activation': 'elu', 'learning_rate': 0.0003805397458092024, 'optimizer': 'adam', 'dropout_rate': 0.2309967377049419, 'n_neurons': 120, 'batch_size': 4}. Best is trial 368 with value: 0.8985685110092163.\n"
     ]
    },
    {
     "name": "stderr",
     "output_type": "stream",
     "text": [
      "Best trial: 368. Best value: 0.898569:  75%|███████▌  | 752/1000 [16:54:13<5:39:29, 82.14s/it]"
     ]
    },
    {
     "name": "stdout",
     "output_type": "stream",
     "text": [
      "[I 2024-10-20 07:45:18,656] Trial 751 finished with value: 0.8899795413017273 and parameters: {'n_hidden_layers': 3, 'activation': 'tanh', 'learning_rate': 0.000665642594257626, 'optimizer': 'adam', 'dropout_rate': 0.4043696300857868, 'n_neurons': 124, 'batch_size': 4}. Best is trial 368 with value: 0.8985685110092163.\n"
     ]
    },
    {
     "name": "stderr",
     "output_type": "stream",
     "text": [
      "Best trial: 368. Best value: 0.898569:  75%|███████▌  | 753/1000 [16:56:02<6:12:12, 90.41s/it]"
     ]
    },
    {
     "name": "stdout",
     "output_type": "stream",
     "text": [
      "[I 2024-10-20 07:47:08,381] Trial 752 finished with value: 0.890388548374176 and parameters: {'n_hidden_layers': 3, 'activation': 'elu', 'learning_rate': 0.0005766766331938369, 'optimizer': 'adam', 'dropout_rate': 0.2344135934906199, 'n_neurons': 117, 'batch_size': 2}. Best is trial 368 with value: 0.8985685110092163.\n"
     ]
    },
    {
     "name": "stderr",
     "output_type": "stream",
     "text": [
      "Best trial: 368. Best value: 0.898569:  75%|███████▌  | 754/1000 [16:57:52<6:34:32, 96.23s/it]"
     ]
    },
    {
     "name": "stdout",
     "output_type": "stream",
     "text": [
      "[I 2024-10-20 07:48:58,186] Trial 753 finished with value: 0.8801636099815369 and parameters: {'n_hidden_layers': 3, 'activation': 'elu', 'learning_rate': 0.0005010048419473744, 'optimizer': 'sgd', 'dropout_rate': 0.2224965255022571, 'n_neurons': 128, 'batch_size': 4}. Best is trial 368 with value: 0.8985685110092163.\n"
     ]
    },
    {
     "name": "stderr",
     "output_type": "stream",
     "text": [
      "Best trial: 368. Best value: 0.898569:  76%|███████▌  | 755/1000 [16:58:54<5:50:51, 85.92s/it]"
     ]
    },
    {
     "name": "stdout",
     "output_type": "stream",
     "text": [
      "[I 2024-10-20 07:50:00,056] Trial 754 finished with value: 0.8936605453491211 and parameters: {'n_hidden_layers': 3, 'activation': 'elu', 'learning_rate': 0.0004286553124574518, 'optimizer': 'adam', 'dropout_rate': 0.25348128292699246, 'n_neurons': 121, 'batch_size': 8}. Best is trial 368 with value: 0.8985685110092163.\n"
     ]
    },
    {
     "name": "stderr",
     "output_type": "stream",
     "text": [
      "Best trial: 368. Best value: 0.898569:  76%|███████▌  | 756/1000 [17:01:08<6:47:56, 100.31s/it]"
     ]
    },
    {
     "name": "stdout",
     "output_type": "stream",
     "text": [
      "[I 2024-10-20 07:52:13,949] Trial 755 finished with value: 0.8916155695915222 and parameters: {'n_hidden_layers': 3, 'activation': 'elu', 'learning_rate': 0.0007025918588177444, 'optimizer': 'adam', 'dropout_rate': 0.3271024526020256, 'n_neurons': 118, 'batch_size': 2}. Best is trial 368 with value: 0.8985685110092163.\n"
     ]
    },
    {
     "name": "stderr",
     "output_type": "stream",
     "text": [
      "Best trial: 368. Best value: 0.898569:  76%|███████▌  | 757/1000 [17:02:44<6:41:26, 99.12s/it] "
     ]
    },
    {
     "name": "stdout",
     "output_type": "stream",
     "text": [
      "[I 2024-10-20 07:53:50,281] Trial 756 finished with value: 0.8932515382766724 and parameters: {'n_hidden_layers': 3, 'activation': 'elu', 'learning_rate': 0.00032045272781315055, 'optimizer': 'adam', 'dropout_rate': 0.23932111880565243, 'n_neurons': 124, 'batch_size': 4}. Best is trial 368 with value: 0.8985685110092163.\n"
     ]
    },
    {
     "name": "stderr",
     "output_type": "stream",
     "text": [
      "Best trial: 368. Best value: 0.898569:  76%|███████▌  | 758/1000 [17:06:21<9:02:29, 134.50s/it]"
     ]
    },
    {
     "name": "stdout",
     "output_type": "stream",
     "text": [
      "[I 2024-10-20 07:57:27,338] Trial 757 finished with value: 0.8912065625190735 and parameters: {'n_hidden_layers': 3, 'activation': 'elu', 'learning_rate': 0.0006142076164179259, 'optimizer': 'adam', 'dropout_rate': 0.25348248560479514, 'n_neurons': 122, 'batch_size': 1}. Best is trial 368 with value: 0.8985685110092163.\n"
     ]
    },
    {
     "name": "stderr",
     "output_type": "stream",
     "text": [
      "Best trial: 368. Best value: 0.898569:  76%|███████▌  | 759/1000 [17:06:34<6:33:27, 97.95s/it] "
     ]
    },
    {
     "name": "stdout",
     "output_type": "stream",
     "text": [
      "[I 2024-10-20 07:57:40,017] Trial 758 finished with value: 0.8895705342292786 and parameters: {'n_hidden_layers': 3, 'activation': 'elu', 'learning_rate': 0.0007075929840439756, 'optimizer': 'adam', 'dropout_rate': 0.21879842084119322, 'n_neurons': 116, 'batch_size': 128}. Best is trial 368 with value: 0.8985685110092163.\n"
     ]
    },
    {
     "name": "stderr",
     "output_type": "stream",
     "text": [
      "Best trial: 368. Best value: 0.898569:  76%|███████▌  | 760/1000 [17:07:33<5:44:23, 86.10s/it]"
     ]
    },
    {
     "name": "stdout",
     "output_type": "stream",
     "text": [
      "[I 2024-10-20 07:58:38,451] Trial 759 finished with value: 0.8944784998893738 and parameters: {'n_hidden_layers': 3, 'activation': 'elu', 'learning_rate': 0.0012930174788957315, 'optimizer': 'adam', 'dropout_rate': 0.23714605471960898, 'n_neurons': 126, 'batch_size': 4}. Best is trial 368 with value: 0.8985685110092163.\n"
     ]
    },
    {
     "name": "stderr",
     "output_type": "stream",
     "text": [
      "Best trial: 368. Best value: 0.898569:  76%|███████▌  | 761/1000 [17:09:33<6:24:13, 96.46s/it]"
     ]
    },
    {
     "name": "stdout",
     "output_type": "stream",
     "text": [
      "[I 2024-10-20 08:00:39,081] Trial 760 finished with value: 0.8907975554466248 and parameters: {'n_hidden_layers': 3, 'activation': 'elu', 'learning_rate': 0.000786019175329865, 'optimizer': 'adam', 'dropout_rate': 0.3063407426372274, 'n_neurons': 119, 'batch_size': 2}. Best is trial 368 with value: 0.8985685110092163.\n"
     ]
    },
    {
     "name": "stderr",
     "output_type": "stream",
     "text": [
      "Best trial: 368. Best value: 0.898569:  76%|███████▌  | 762/1000 [17:10:28<5:33:27, 84.07s/it]"
     ]
    },
    {
     "name": "stdout",
     "output_type": "stream",
     "text": [
      "[I 2024-10-20 08:01:34,237] Trial 761 finished with value: 0.89570552110672 and parameters: {'n_hidden_layers': 3, 'activation': 'elu', 'learning_rate': 0.0005266963093235301, 'optimizer': 'adam', 'dropout_rate': 0.2454246954331028, 'n_neurons': 114, 'batch_size': 8}. Best is trial 368 with value: 0.8985685110092163.\n"
     ]
    },
    {
     "name": "stderr",
     "output_type": "stream",
     "text": [
      "Best trial: 368. Best value: 0.898569:  76%|███████▋  | 763/1000 [17:11:38<5:15:24, 79.85s/it]"
     ]
    },
    {
     "name": "stdout",
     "output_type": "stream",
     "text": [
      "[I 2024-10-20 08:02:44,249] Trial 762 finished with value: 0.8928425312042236 and parameters: {'n_hidden_layers': 3, 'activation': 'elu', 'learning_rate': 0.0009664820521879041, 'optimizer': 'adam', 'dropout_rate': 0.25933239604567826, 'n_neurons': 121, 'batch_size': 4}. Best is trial 368 with value: 0.8985685110092163.\n"
     ]
    },
    {
     "name": "stderr",
     "output_type": "stream",
     "text": [
      "Best trial: 368. Best value: 0.898569:  76%|███████▋  | 764/1000 [17:13:15<5:33:32, 84.80s/it]"
     ]
    },
    {
     "name": "stdout",
     "output_type": "stream",
     "text": [
      "[I 2024-10-20 08:04:20,597] Trial 763 finished with value: 0.8920245170593262 and parameters: {'n_hidden_layers': 1, 'activation': 'elu', 'learning_rate': 0.0015326485776486543, 'optimizer': 'adam', 'dropout_rate': 0.23193404900484993, 'n_neurons': 124, 'batch_size': 4}. Best is trial 368 with value: 0.8985685110092163.\n"
     ]
    },
    {
     "name": "stderr",
     "output_type": "stream",
     "text": [
      "Best trial: 368. Best value: 0.898569:  76%|███████▋  | 765/1000 [17:13:33<4:14:08, 64.89s/it]"
     ]
    },
    {
     "name": "stdout",
     "output_type": "stream",
     "text": [
      "[I 2024-10-20 08:04:39,025] Trial 764 finished with value: 0.8895705342292786 and parameters: {'n_hidden_layers': 3, 'activation': 'relu', 'learning_rate': 0.00043166522278998185, 'optimizer': 'adam', 'dropout_rate': 0.2935476566071002, 'n_neurons': 126, 'batch_size': 16}. Best is trial 368 with value: 0.8985685110092163.\n"
     ]
    },
    {
     "name": "stderr",
     "output_type": "stream",
     "text": [
      "Best trial: 368. Best value: 0.898569:  77%|███████▋  | 766/1000 [17:15:14<4:55:38, 75.80s/it]"
     ]
    },
    {
     "name": "stdout",
     "output_type": "stream",
     "text": [
      "[I 2024-10-20 08:06:20,300] Trial 765 finished with value: 0.8932515382766724 and parameters: {'n_hidden_layers': 3, 'activation': 'elu', 'learning_rate': 0.0010957648881940213, 'optimizer': 'adam', 'dropout_rate': 0.3143065730623548, 'n_neurons': 116, 'batch_size': 2}. Best is trial 368 with value: 0.8985685110092163.\n"
     ]
    },
    {
     "name": "stderr",
     "output_type": "stream",
     "text": [
      "Best trial: 368. Best value: 0.898569:  77%|███████▋  | 767/1000 [17:16:30<4:54:37, 75.87s/it]"
     ]
    },
    {
     "name": "stdout",
     "output_type": "stream",
     "text": [
      "[I 2024-10-20 08:07:36,323] Trial 766 finished with value: 0.8940695524215698 and parameters: {'n_hidden_layers': 3, 'activation': 'elu', 'learning_rate': 0.0006307542305135166, 'optimizer': 'adam', 'dropout_rate': 0.21204907140896984, 'n_neurons': 122, 'batch_size': 4}. Best is trial 368 with value: 0.8985685110092163.\n"
     ]
    },
    {
     "name": "stderr",
     "output_type": "stream",
     "text": [
      "Best trial: 368. Best value: 0.898569:  77%|███████▋  | 768/1000 [17:17:33<4:38:19, 71.98s/it]"
     ]
    },
    {
     "name": "stdout",
     "output_type": "stream",
     "text": [
      "[I 2024-10-20 08:08:39,235] Trial 767 finished with value: 0.8777096271514893 and parameters: {'n_hidden_layers': 3, 'activation': 'elu', 'learning_rate': 1.6269763369667442e-05, 'optimizer': 'rmsprop', 'dropout_rate': 0.22517433873405668, 'n_neurons': 112, 'batch_size': 8}. Best is trial 368 with value: 0.8985685110092163.\n"
     ]
    },
    {
     "name": "stderr",
     "output_type": "stream",
     "text": [
      "Best trial: 368. Best value: 0.898569:  77%|███████▋  | 769/1000 [17:18:51<4:43:58, 73.76s/it]"
     ]
    },
    {
     "name": "stdout",
     "output_type": "stream",
     "text": [
      "[I 2024-10-20 08:09:57,146] Trial 768 finished with value: 0.8928425312042236 and parameters: {'n_hidden_layers': 3, 'activation': 'elu', 'learning_rate': 0.0008249244585135659, 'optimizer': 'adam', 'dropout_rate': 0.28357180835953655, 'n_neurons': 114, 'batch_size': 4}. Best is trial 368 with value: 0.8985685110092163.\n"
     ]
    },
    {
     "name": "stderr",
     "output_type": "stream",
     "text": [
      "Best trial: 368. Best value: 0.898569:  77%|███████▋  | 770/1000 [17:20:49<5:33:46, 87.07s/it]"
     ]
    },
    {
     "name": "stdout",
     "output_type": "stream",
     "text": [
      "[I 2024-10-20 08:11:55,283] Trial 769 finished with value: 0.890388548374176 and parameters: {'n_hidden_layers': 3, 'activation': 'elu', 'learning_rate': 0.0007216412895563276, 'optimizer': 'adam', 'dropout_rate': 0.2629601791030599, 'n_neurons': 128, 'batch_size': 2}. Best is trial 368 with value: 0.8985685110092163.\n"
     ]
    },
    {
     "name": "stderr",
     "output_type": "stream",
     "text": [
      "Best trial: 368. Best value: 0.898569:  77%|███████▋  | 771/1000 [17:21:04<4:09:36, 65.40s/it]"
     ]
    },
    {
     "name": "stdout",
     "output_type": "stream",
     "text": [
      "[I 2024-10-20 08:12:10,109] Trial 770 finished with value: 0.8842535614967346 and parameters: {'n_hidden_layers': 2, 'activation': 'elu', 'learning_rate': 0.0003762691134274406, 'optimizer': 'adam', 'dropout_rate': 0.30282899041382544, 'n_neurons': 118, 'batch_size': 64}. Best is trial 368 with value: 0.8985685110092163.\n"
     ]
    },
    {
     "name": "stderr",
     "output_type": "stream",
     "text": [
      "Best trial: 368. Best value: 0.898569:  77%|███████▋  | 772/1000 [17:22:23<4:23:37, 69.37s/it]"
     ]
    },
    {
     "name": "stdout",
     "output_type": "stream",
     "text": [
      "[I 2024-10-20 08:13:28,756] Trial 771 finished with value: 0.8924335241317749 and parameters: {'n_hidden_layers': 3, 'activation': 'elu', 'learning_rate': 0.0009228126607647952, 'optimizer': 'adam', 'dropout_rate': 0.24742056145920768, 'n_neurons': 123, 'batch_size': 4}. Best is trial 368 with value: 0.8985685110092163.\n"
     ]
    },
    {
     "name": "stderr",
     "output_type": "stream",
     "text": [
      "Best trial: 368. Best value: 0.898569:  77%|███████▋  | 773/1000 [17:24:06<5:00:43, 79.48s/it]"
     ]
    },
    {
     "name": "stdout",
     "output_type": "stream",
     "text": [
      "[I 2024-10-20 08:15:11,831] Trial 772 finished with value: 0.887116551399231 and parameters: {'n_hidden_layers': 3, 'activation': 'elu', 'learning_rate': 0.0017529105702472271, 'optimizer': 'adam', 'dropout_rate': 0.2708816052665703, 'n_neurons': 120, 'batch_size': 2}. Best is trial 368 with value: 0.8985685110092163.\n"
     ]
    },
    {
     "name": "stderr",
     "output_type": "stream",
     "text": [
      "Best trial: 368. Best value: 0.898569:  77%|███████▋  | 774/1000 [17:25:16<4:49:09, 76.77s/it]"
     ]
    },
    {
     "name": "stdout",
     "output_type": "stream",
     "text": [
      "[I 2024-10-20 08:16:22,268] Trial 773 finished with value: 0.8887525796890259 and parameters: {'n_hidden_layers': 2, 'activation': 'tanh', 'learning_rate': 0.0005466454325686709, 'optimizer': 'adam', 'dropout_rate': 0.2154890017719111, 'n_neurons': 125, 'batch_size': 4}. Best is trial 368 with value: 0.8985685110092163.\n"
     ]
    },
    {
     "name": "stderr",
     "output_type": "stream",
     "text": [
      "Best trial: 368. Best value: 0.898569:  78%|███████▊  | 775/1000 [17:26:03<4:13:34, 67.62s/it]"
     ]
    },
    {
     "name": "stdout",
     "output_type": "stream",
     "text": [
      "[I 2024-10-20 08:17:08,535] Trial 774 finished with value: 0.8944784998893738 and parameters: {'n_hidden_layers': 3, 'activation': 'elu', 'learning_rate': 0.001281121962815651, 'optimizer': 'adam', 'dropout_rate': 0.33151811200675857, 'n_neurons': 112, 'batch_size': 8}. Best is trial 368 with value: 0.8985685110092163.\n"
     ]
    },
    {
     "name": "stderr",
     "output_type": "stream",
     "text": [
      "Best trial: 368. Best value: 0.898569:  78%|███████▊  | 776/1000 [17:27:48<4:55:00, 79.02s/it]"
     ]
    },
    {
     "name": "stdout",
     "output_type": "stream",
     "text": [
      "[I 2024-10-20 08:18:54,163] Trial 775 finished with value: 0.8813905715942383 and parameters: {'n_hidden_layers': 3, 'activation': 'elu', 'learning_rate': 0.0010545367339186834, 'optimizer': 'sgd', 'dropout_rate': 0.23735588228588061, 'n_neurons': 116, 'batch_size': 4}. Best is trial 368 with value: 0.8985685110092163.\n"
     ]
    },
    {
     "name": "stderr",
     "output_type": "stream",
     "text": [
      "Best trial: 368. Best value: 0.898569:  78%|███████▊  | 777/1000 [17:29:40<5:29:42, 88.71s/it]"
     ]
    },
    {
     "name": "stdout",
     "output_type": "stream",
     "text": [
      "[I 2024-10-20 08:20:45,479] Trial 776 finished with value: 0.8891615271568298 and parameters: {'n_hidden_layers': 3, 'activation': 'elu', 'learning_rate': 0.0007505024898539929, 'optimizer': 'adam', 'dropout_rate': 0.19800247131637747, 'n_neurons': 119, 'batch_size': 2}. Best is trial 368 with value: 0.8985685110092163.\n"
     ]
    },
    {
     "name": "stderr",
     "output_type": "stream",
     "text": [
      "Best trial: 368. Best value: 0.898569:  78%|███████▊  | 778/1000 [17:31:28<5:50:13, 94.65s/it]"
     ]
    },
    {
     "name": "stdout",
     "output_type": "stream",
     "text": [
      "[I 2024-10-20 08:22:34,001] Trial 777 finished with value: 0.8940695524215698 and parameters: {'n_hidden_layers': 2, 'activation': 'elu', 'learning_rate': 0.00048311245120313654, 'optimizer': 'adam', 'dropout_rate': 0.2895183537045279, 'n_neurons': 122, 'batch_size': 4}. Best is trial 368 with value: 0.8985685110092163.\n"
     ]
    },
    {
     "name": "stderr",
     "output_type": "stream",
     "text": [
      "Best trial: 368. Best value: 0.898569:  78%|███████▊  | 779/1000 [17:31:51<4:29:40, 73.21s/it]"
     ]
    },
    {
     "name": "stdout",
     "output_type": "stream",
     "text": [
      "[I 2024-10-20 08:22:57,195] Trial 778 finished with value: 0.8944784998893738 and parameters: {'n_hidden_layers': 3, 'activation': 'elu', 'learning_rate': 0.0006752788178684467, 'optimizer': 'adam', 'dropout_rate': 0.22660321544469753, 'n_neurons': 110, 'batch_size': 32}. Best is trial 368 with value: 0.8985685110092163.\n"
     ]
    },
    {
     "name": "stderr",
     "output_type": "stream",
     "text": [
      "Best trial: 368. Best value: 0.898569:  78%|███████▊  | 780/1000 [17:32:26<3:46:06, 61.66s/it]"
     ]
    },
    {
     "name": "stdout",
     "output_type": "stream",
     "text": [
      "[I 2024-10-20 08:23:31,906] Trial 779 finished with value: 0.8920245170593262 and parameters: {'n_hidden_layers': 3, 'activation': 'elu', 'learning_rate': 0.0008715682820192036, 'optimizer': 'adam', 'dropout_rate': 0.3196384144548623, 'n_neurons': 126, 'batch_size': 16}. Best is trial 368 with value: 0.8985685110092163.\n"
     ]
    },
    {
     "name": "stderr",
     "output_type": "stream",
     "text": [
      "Best trial: 368. Best value: 0.898569:  78%|███████▊  | 781/1000 [17:33:38<3:56:31, 64.80s/it]"
     ]
    },
    {
     "name": "stdout",
     "output_type": "stream",
     "text": [
      "[I 2024-10-20 08:24:44,032] Trial 780 finished with value: 0.8924335241317749 and parameters: {'n_hidden_layers': 3, 'activation': 'elu', 'learning_rate': 0.0005871935401210583, 'optimizer': 'adam', 'dropout_rate': 0.2970550884456612, 'n_neurons': 113, 'batch_size': 4}. Best is trial 368 with value: 0.8985685110092163.\n"
     ]
    },
    {
     "name": "stderr",
     "output_type": "stream",
     "text": [
      "Best trial: 368. Best value: 0.898569:  78%|███████▊  | 782/1000 [17:34:24<3:34:50, 59.13s/it]"
     ]
    },
    {
     "name": "stdout",
     "output_type": "stream",
     "text": [
      "[I 2024-10-20 08:25:29,922] Trial 781 finished with value: 0.8969325423240662 and parameters: {'n_hidden_layers': 3, 'activation': 'elu', 'learning_rate': 0.0011705729670229907, 'optimizer': 'adam', 'dropout_rate': 0.2807935063490148, 'n_neurons': 120, 'batch_size': 8}. Best is trial 368 with value: 0.8985685110092163.\n"
     ]
    },
    {
     "name": "stderr",
     "output_type": "stream",
     "text": [
      "Best trial: 368. Best value: 0.898569:  78%|███████▊  | 783/1000 [17:35:05<3:13:48, 53.59s/it]"
     ]
    },
    {
     "name": "stdout",
     "output_type": "stream",
     "text": [
      "[I 2024-10-20 08:26:10,581] Trial 782 finished with value: 0.8887525796890259 and parameters: {'n_hidden_layers': 3, 'activation': 'elu', 'learning_rate': 0.0013361526403442125, 'optimizer': 'adam', 'dropout_rate': 0.2802694228211705, 'n_neurons': 119, 'batch_size': 8}. Best is trial 368 with value: 0.8985685110092163.\n"
     ]
    },
    {
     "name": "stderr",
     "output_type": "stream",
     "text": [
      "Best trial: 368. Best value: 0.898569:  78%|███████▊  | 784/1000 [17:36:07<3:22:20, 56.21s/it]"
     ]
    },
    {
     "name": "stdout",
     "output_type": "stream",
     "text": [
      "[I 2024-10-20 08:27:12,902] Trial 783 finished with value: 0.8912065625190735 and parameters: {'n_hidden_layers': 2, 'activation': 'elu', 'learning_rate': 0.00033549222781281143, 'optimizer': 'adam', 'dropout_rate': 0.2730466977617239, 'n_neurons': 120, 'batch_size': 8}. Best is trial 368 with value: 0.8985685110092163.\n"
     ]
    },
    {
     "name": "stderr",
     "output_type": "stream",
     "text": [
      "Best trial: 368. Best value: 0.898569:  78%|███████▊  | 785/1000 [17:36:28<2:43:24, 45.60s/it]"
     ]
    },
    {
     "name": "stdout",
     "output_type": "stream",
     "text": [
      "[I 2024-10-20 08:27:33,754] Trial 784 finished with value: 0.8867075443267822 and parameters: {'n_hidden_layers': 3, 'activation': 'relu', 'learning_rate': 0.000993180936452633, 'optimizer': 'adam', 'dropout_rate': 0.2761923361577772, 'n_neurons': 117, 'batch_size': 8}. Best is trial 368 with value: 0.8985685110092163.\n"
     ]
    },
    {
     "name": "stderr",
     "output_type": "stream",
     "text": [
      "Best trial: 368. Best value: 0.898569:  79%|███████▊  | 786/1000 [17:37:21<2:50:58, 47.94s/it]"
     ]
    },
    {
     "name": "stdout",
     "output_type": "stream",
     "text": [
      "[I 2024-10-20 08:28:27,143] Trial 785 finished with value: 0.8838445544242859 and parameters: {'n_hidden_layers': 1, 'activation': 'elu', 'learning_rate': 0.000848848533772885, 'optimizer': 'adam', 'dropout_rate': 0.2633203354048767, 'n_neurons': 123, 'batch_size': 8}. Best is trial 368 with value: 0.8985685110092163.\n"
     ]
    },
    {
     "name": "stderr",
     "output_type": "stream",
     "text": [
      "Best trial: 368. Best value: 0.898569:  79%|███████▊  | 787/1000 [17:38:01<2:41:06, 45.38s/it]"
     ]
    },
    {
     "name": "stdout",
     "output_type": "stream",
     "text": [
      "[I 2024-10-20 08:29:06,557] Trial 786 finished with value: 0.8948875069618225 and parameters: {'n_hidden_layers': 3, 'activation': 'elu', 'learning_rate': 0.0011666958848726248, 'optimizer': 'adam', 'dropout_rate': 0.28055926450164986, 'n_neurons': 121, 'batch_size': 8}. Best is trial 368 with value: 0.8985685110092163.\n"
     ]
    },
    {
     "name": "stderr",
     "output_type": "stream",
     "text": [
      "Best trial: 368. Best value: 0.898569:  79%|███████▉  | 788/1000 [17:38:42<2:36:08, 44.19s/it]"
     ]
    },
    {
     "name": "stdout",
     "output_type": "stream",
     "text": [
      "[I 2024-10-20 08:29:47,966] Trial 787 finished with value: 0.8985685110092163 and parameters: {'n_hidden_layers': 3, 'activation': 'elu', 'learning_rate': 0.0015638040381545026, 'optimizer': 'adam', 'dropout_rate': 0.2676018723456738, 'n_neurons': 118, 'batch_size': 8}. Best is trial 368 with value: 0.8985685110092163.\n"
     ]
    },
    {
     "name": "stderr",
     "output_type": "stream",
     "text": [
      "Best trial: 368. Best value: 0.898569:  79%|███████▉  | 789/1000 [17:39:12<2:20:49, 40.05s/it]"
     ]
    },
    {
     "name": "stdout",
     "output_type": "stream",
     "text": [
      "[I 2024-10-20 08:30:18,345] Trial 788 finished with value: 0.8785275816917419 and parameters: {'n_hidden_layers': 3, 'activation': 'elu', 'learning_rate': 0.0028957468715209616, 'optimizer': 'adam', 'dropout_rate': 0.25300985909956003, 'n_neurons': 117, 'batch_size': 8}. Best is trial 368 with value: 0.8985685110092163.\n"
     ]
    },
    {
     "name": "stderr",
     "output_type": "stream",
     "text": [
      "Best trial: 368. Best value: 0.898569:  79%|███████▉  | 790/1000 [17:39:52<2:19:39, 39.90s/it]"
     ]
    },
    {
     "name": "stdout",
     "output_type": "stream",
     "text": [
      "[I 2024-10-20 08:30:57,915] Trial 789 finished with value: 0.8924335241317749 and parameters: {'n_hidden_layers': 3, 'activation': 'elu', 'learning_rate': 0.0016580401374701908, 'optimizer': 'adam', 'dropout_rate': 0.26889937068087294, 'n_neurons': 118, 'batch_size': 8}. Best is trial 368 with value: 0.8985685110092163.\n"
     ]
    },
    {
     "name": "stderr",
     "output_type": "stream",
     "text": [
      "Best trial: 368. Best value: 0.898569:  79%|███████▉  | 791/1000 [17:40:38<2:25:02, 41.64s/it]"
     ]
    },
    {
     "name": "stdout",
     "output_type": "stream",
     "text": [
      "[I 2024-10-20 08:31:43,605] Trial 790 finished with value: 0.887116551399231 and parameters: {'n_hidden_layers': 3, 'activation': 'elu', 'learning_rate': 0.0016392599462595116, 'optimizer': 'adam', 'dropout_rate': 0.2583308376722057, 'n_neurons': 115, 'batch_size': 8}. Best is trial 368 with value: 0.8985685110092163.\n"
     ]
    },
    {
     "name": "stderr",
     "output_type": "stream",
     "text": [
      "Best trial: 368. Best value: 0.898569:  79%|███████▉  | 792/1000 [17:41:13<2:18:05, 39.84s/it]"
     ]
    },
    {
     "name": "stdout",
     "output_type": "stream",
     "text": [
      "[I 2024-10-20 08:32:19,235] Trial 791 finished with value: 0.8948875069618225 and parameters: {'n_hidden_layers': 3, 'activation': 'elu', 'learning_rate': 0.001450912957781783, 'optimizer': 'adam', 'dropout_rate': 0.26452359484744675, 'n_neurons': 116, 'batch_size': 8}. Best is trial 368 with value: 0.8985685110092163.\n"
     ]
    },
    {
     "name": "stderr",
     "output_type": "stream",
     "text": [
      "Best trial: 368. Best value: 0.898569:  79%|███████▉  | 793/1000 [17:41:49<2:12:47, 38.49s/it]"
     ]
    },
    {
     "name": "stdout",
     "output_type": "stream",
     "text": [
      "[I 2024-10-20 08:32:54,590] Trial 792 finished with value: 0.8899795413017273 and parameters: {'n_hidden_layers': 3, 'activation': 'elu', 'learning_rate': 0.0015734229012298268, 'optimizer': 'adam', 'dropout_rate': 0.2486365638559135, 'n_neurons': 118, 'batch_size': 8}. Best is trial 368 with value: 0.8985685110092163.\n"
     ]
    },
    {
     "name": "stderr",
     "output_type": "stream",
     "text": [
      "Best trial: 368. Best value: 0.898569:  79%|███████▉  | 794/1000 [17:42:10<1:54:15, 33.28s/it]"
     ]
    },
    {
     "name": "stdout",
     "output_type": "stream",
     "text": [
      "[I 2024-10-20 08:33:15,710] Trial 793 finished with value: 0.8907975554466248 and parameters: {'n_hidden_layers': 3, 'activation': 'elu', 'learning_rate': 0.002068259516299334, 'optimizer': 'rmsprop', 'dropout_rate': 0.24269415408438322, 'n_neurons': 120, 'batch_size': 8}. Best is trial 368 with value: 0.8985685110092163.\n"
     ]
    },
    {
     "name": "stderr",
     "output_type": "stream",
     "text": [
      "Best trial: 368. Best value: 0.898569:  80%|███████▉  | 795/1000 [17:42:45<1:55:51, 33.91s/it]"
     ]
    },
    {
     "name": "stdout",
     "output_type": "stream",
     "text": [
      "[I 2024-10-20 08:33:51,086] Trial 794 finished with value: 0.8940695524215698 and parameters: {'n_hidden_layers': 3, 'activation': 'elu', 'learning_rate': 0.0019068012280503486, 'optimizer': 'adam', 'dropout_rate': 0.25655260836248517, 'n_neurons': 115, 'batch_size': 8}. Best is trial 368 with value: 0.8985685110092163.\n"
     ]
    },
    {
     "name": "stderr",
     "output_type": "stream",
     "text": [
      "Best trial: 368. Best value: 0.898569:  80%|███████▉  | 796/1000 [17:43:20<1:56:16, 34.20s/it]"
     ]
    },
    {
     "name": "stdout",
     "output_type": "stream",
     "text": [
      "[I 2024-10-20 08:34:25,960] Trial 795 finished with value: 0.8948875069618225 and parameters: {'n_hidden_layers': 3, 'activation': 'elu', 'learning_rate': 0.0014282029452067863, 'optimizer': 'adam', 'dropout_rate': 0.2214303726122695, 'n_neurons': 118, 'batch_size': 8}. Best is trial 368 with value: 0.8985685110092163.\n"
     ]
    },
    {
     "name": "stderr",
     "output_type": "stream",
     "text": [
      "Best trial: 368. Best value: 0.898569:  80%|███████▉  | 797/1000 [17:43:47<1:48:48, 32.16s/it]"
     ]
    },
    {
     "name": "stdout",
     "output_type": "stream",
     "text": [
      "[I 2024-10-20 08:34:53,367] Trial 796 finished with value: 0.8899795413017273 and parameters: {'n_hidden_layers': 3, 'activation': 'tanh', 'learning_rate': 0.002308752590668101, 'optimizer': 'adam', 'dropout_rate': 0.2844979803462887, 'n_neurons': 114, 'batch_size': 8}. Best is trial 368 with value: 0.8985685110092163.\n"
     ]
    },
    {
     "name": "stderr",
     "output_type": "stream",
     "text": [
      "Best trial: 368. Best value: 0.898569:  80%|███████▉  | 798/1000 [17:44:48<2:16:38, 40.59s/it]"
     ]
    },
    {
     "name": "stdout",
     "output_type": "stream",
     "text": [
      "[I 2024-10-20 08:35:53,615] Trial 797 finished with value: 0.8813905715942383 and parameters: {'n_hidden_layers': 3, 'activation': 'elu', 'learning_rate': 0.0018821519021386707, 'optimizer': 'sgd', 'dropout_rate': 0.2358101567762579, 'n_neurons': 121, 'batch_size': 8}. Best is trial 368 with value: 0.8985685110092163.\n"
     ]
    },
    {
     "name": "stderr",
     "output_type": "stream",
     "text": [
      "Best trial: 368. Best value: 0.898569:  80%|███████▉  | 799/1000 [17:45:53<2:41:06, 48.09s/it]"
     ]
    },
    {
     "name": "stdout",
     "output_type": "stream",
     "text": [
      "[I 2024-10-20 08:36:59,211] Trial 798 finished with value: 0.8920245170593262 and parameters: {'n_hidden_layers': 3, 'activation': 'elu', 'learning_rate': 0.00045672568902840573, 'optimizer': 'adam', 'dropout_rate': 0.2654172454207214, 'n_neurons': 119, 'batch_size': 8}. Best is trial 368 with value: 0.8985685110092163.\n"
     ]
    },
    {
     "name": "stderr",
     "output_type": "stream",
     "text": [
      "Best trial: 368. Best value: 0.898569:  80%|████████  | 800/1000 [17:47:18<3:17:05, 59.13s/it]"
     ]
    },
    {
     "name": "stdout",
     "output_type": "stream",
     "text": [
      "[I 2024-10-20 08:38:24,088] Trial 799 finished with value: 0.8920245170593262 and parameters: {'n_hidden_layers': 3, 'activation': 'elu', 'learning_rate': 0.0005558596665780701, 'optimizer': 'adam', 'dropout_rate': 0.2739968077759663, 'n_neurons': 115, 'batch_size': 4}. Best is trial 368 with value: 0.8985685110092163.\n"
     ]
    },
    {
     "name": "stderr",
     "output_type": "stream",
     "text": [
      "Best trial: 368. Best value: 0.898569:  80%|████████  | 801/1000 [17:48:18<3:17:19, 59.49s/it]"
     ]
    },
    {
     "name": "stdout",
     "output_type": "stream",
     "text": [
      "[I 2024-10-20 08:39:24,440] Trial 800 finished with value: 0.8920245170593262 and parameters: {'n_hidden_layers': 3, 'activation': 'elu', 'learning_rate': 0.0004087089561658993, 'optimizer': 'adam', 'dropout_rate': 0.23010668547310195, 'n_neurons': 121, 'batch_size': 8}. Best is trial 368 with value: 0.8985685110092163.\n"
     ]
    },
    {
     "name": "stderr",
     "output_type": "stream",
     "text": [
      "Best trial: 368. Best value: 0.898569:  80%|████████  | 802/1000 [17:49:25<3:23:15, 61.59s/it]"
     ]
    },
    {
     "name": "stdout",
     "output_type": "stream",
     "text": [
      "[I 2024-10-20 08:40:30,936] Trial 801 finished with value: 0.8928425312042236 and parameters: {'n_hidden_layers': 3, 'activation': 'elu', 'learning_rate': 0.00027299383653234184, 'optimizer': 'adam', 'dropout_rate': 0.2050738869901152, 'n_neurons': 117, 'batch_size': 8}. Best is trial 368 with value: 0.8985685110092163.\n"
     ]
    },
    {
     "name": "stderr",
     "output_type": "stream",
     "text": [
      "Best trial: 368. Best value: 0.898569:  80%|████████  | 803/1000 [17:50:24<3:19:35, 60.79s/it]"
     ]
    },
    {
     "name": "stdout",
     "output_type": "stream",
     "text": [
      "[I 2024-10-20 08:41:29,842] Trial 802 finished with value: 0.8940695524215698 and parameters: {'n_hidden_layers': 3, 'activation': 'elu', 'learning_rate': 0.0006403536522553274, 'optimizer': 'adam', 'dropout_rate': 0.2873744091486195, 'n_neurons': 113, 'batch_size': 8}. Best is trial 368 with value: 0.8985685110092163.\n"
     ]
    },
    {
     "name": "stderr",
     "output_type": "stream",
     "text": [
      "Best trial: 368. Best value: 0.898569:  80%|████████  | 804/1000 [17:51:02<2:56:34, 54.06s/it]"
     ]
    },
    {
     "name": "stdout",
     "output_type": "stream",
     "text": [
      "[I 2024-10-20 08:42:08,192] Trial 803 finished with value: 0.8912065625190735 and parameters: {'n_hidden_layers': 3, 'activation': 'elu', 'learning_rate': 0.0014511347048900896, 'optimizer': 'adam', 'dropout_rate': 0.2175809577976409, 'n_neurons': 123, 'batch_size': 8}. Best is trial 368 with value: 0.8985685110092163.\n"
     ]
    },
    {
     "name": "stderr",
     "output_type": "stream",
     "text": [
      "Best trial: 368. Best value: 0.898569:  80%|████████  | 805/1000 [17:51:43<2:42:15, 49.93s/it]"
     ]
    },
    {
     "name": "stdout",
     "output_type": "stream",
     "text": [
      "[I 2024-10-20 08:42:48,483] Trial 804 finished with value: 0.8952965140342712 and parameters: {'n_hidden_layers': 3, 'activation': 'elu', 'learning_rate': 0.0018291933209186716, 'optimizer': 'adam', 'dropout_rate': 0.2414402565796837, 'n_neurons': 118, 'batch_size': 8}. Best is trial 368 with value: 0.8985685110092163.\n"
     ]
    },
    {
     "name": "stderr",
     "output_type": "stream",
     "text": [
      "Best trial: 368. Best value: 0.898569:  81%|████████  | 806/1000 [17:52:31<2:39:34, 49.35s/it]"
     ]
    },
    {
     "name": "stdout",
     "output_type": "stream",
     "text": [
      "[I 2024-10-20 08:43:36,504] Trial 805 finished with value: 0.8899795413017273 and parameters: {'n_hidden_layers': 3, 'activation': 'elu', 'learning_rate': 0.0007337409798682935, 'optimizer': 'adam', 'dropout_rate': 0.2547629046451371, 'n_neurons': 121, 'batch_size': 8}. Best is trial 368 with value: 0.8985685110092163.\n"
     ]
    },
    {
     "name": "stderr",
     "output_type": "stream",
     "text": [
      "Best trial: 368. Best value: 0.898569:  81%|████████  | 807/1000 [17:52:57<2:16:27, 42.42s/it]"
     ]
    },
    {
     "name": "stdout",
     "output_type": "stream",
     "text": [
      "[I 2024-10-20 08:44:02,754] Trial 806 finished with value: 0.8916155695915222 and parameters: {'n_hidden_layers': 3, 'activation': 'relu', 'learning_rate': 0.0005950905556850356, 'optimizer': 'adam', 'dropout_rate': 0.2785581139443445, 'n_neurons': 112, 'batch_size': 8}. Best is trial 368 with value: 0.8985685110092163.\n"
     ]
    },
    {
     "name": "stderr",
     "output_type": "stream",
     "text": [
      "Best trial: 368. Best value: 0.898569:  81%|████████  | 808/1000 [17:53:50<2:25:59, 45.62s/it]"
     ]
    },
    {
     "name": "stdout",
     "output_type": "stream",
     "text": [
      "[I 2024-10-20 08:44:55,841] Trial 807 finished with value: 0.8928425312042236 and parameters: {'n_hidden_layers': 3, 'activation': 'elu', 'learning_rate': 0.00048609878254475016, 'optimizer': 'adam', 'dropout_rate': 0.22781201124838643, 'n_neurons': 115, 'batch_size': 8}. Best is trial 368 with value: 0.8985685110092163.\n"
     ]
    },
    {
     "name": "stderr",
     "output_type": "stream",
     "text": [
      "Best trial: 368. Best value: 0.898569:  81%|████████  | 809/1000 [17:54:03<1:53:55, 35.79s/it]"
     ]
    },
    {
     "name": "stdout",
     "output_type": "stream",
     "text": [
      "[I 2024-10-20 08:45:08,686] Trial 808 finished with value: 0.8924335241317749 and parameters: {'n_hidden_layers': 3, 'activation': 'elu', 'learning_rate': 0.0012827814021852814, 'optimizer': 'adam', 'dropout_rate': 0.26269096260781805, 'n_neurons': 120, 'batch_size': 128}. Best is trial 368 with value: 0.8985685110092163.\n"
     ]
    },
    {
     "name": "stderr",
     "output_type": "stream",
     "text": [
      "Best trial: 368. Best value: 0.898569:  81%|████████  | 810/1000 [17:55:40<2:51:43, 54.23s/it]"
     ]
    },
    {
     "name": "stdout",
     "output_type": "stream",
     "text": [
      "[I 2024-10-20 08:46:45,936] Trial 809 finished with value: 0.8916155695915222 and parameters: {'n_hidden_layers': 3, 'activation': 'elu', 'learning_rate': 0.0007613893584831505, 'optimizer': 'adam', 'dropout_rate': 0.39125958868096566, 'n_neurons': 123, 'batch_size': 4}. Best is trial 368 with value: 0.8985685110092163.\n"
     ]
    },
    {
     "name": "stderr",
     "output_type": "stream",
     "text": [
      "Best trial: 368. Best value: 0.898569:  81%|████████  | 811/1000 [17:57:20<3:34:29, 68.09s/it]"
     ]
    },
    {
     "name": "stdout",
     "output_type": "stream",
     "text": [
      "[I 2024-10-20 08:48:26,379] Trial 810 finished with value: 0.8924335241317749 and parameters: {'n_hidden_layers': 3, 'activation': 'elu', 'learning_rate': 0.0003840286335642903, 'optimizer': 'adam', 'dropout_rate': 0.24983501218124987, 'n_neurons': 116, 'batch_size': 4}. Best is trial 368 with value: 0.8985685110092163.\n"
     ]
    },
    {
     "name": "stderr",
     "output_type": "stream",
     "text": [
      "Best trial: 368. Best value: 0.898569:  81%|████████  | 812/1000 [17:58:53<3:56:40, 75.54s/it]"
     ]
    },
    {
     "name": "stdout",
     "output_type": "stream",
     "text": [
      "[I 2024-10-20 08:49:59,283] Trial 811 finished with value: 0.8503067493438721 and parameters: {'n_hidden_layers': 3, 'activation': 'elu', 'learning_rate': 0.0015692422094555818, 'optimizer': 'rmsprop', 'dropout_rate': 0.2681139738824215, 'n_neurons': 111, 'batch_size': 1}. Best is trial 368 with value: 0.8985685110092163.\n"
     ]
    },
    {
     "name": "stderr",
     "output_type": "stream",
     "text": [
      "Best trial: 368. Best value: 0.898569:  81%|████████▏ | 813/1000 [17:59:45<3:33:33, 68.52s/it]"
     ]
    },
    {
     "name": "stdout",
     "output_type": "stream",
     "text": [
      "[I 2024-10-20 08:50:51,428] Trial 812 finished with value: 0.8932515382766724 and parameters: {'n_hidden_layers': 3, 'activation': 'elu', 'learning_rate': 0.0006277488289870649, 'optimizer': 'adam', 'dropout_rate': 0.2895578838165548, 'n_neurons': 124, 'batch_size': 8}. Best is trial 368 with value: 0.8985685110092163.\n"
     ]
    },
    {
     "name": "stderr",
     "output_type": "stream",
     "text": [
      "Best trial: 368. Best value: 0.898569:  81%|████████▏ | 814/1000 [18:00:48<3:26:44, 66.69s/it]"
     ]
    },
    {
     "name": "stdout",
     "output_type": "stream",
     "text": [
      "[I 2024-10-20 08:51:53,855] Trial 813 finished with value: 0.8940695524215698 and parameters: {'n_hidden_layers': 3, 'activation': 'elu', 'learning_rate': 0.0012065038754344075, 'optimizer': 'adam', 'dropout_rate': 0.21187234906248845, 'n_neurons': 119, 'batch_size': 4}. Best is trial 368 with value: 0.8985685110092163.\n"
     ]
    },
    {
     "name": "stderr",
     "output_type": "stream",
     "text": [
      "Best trial: 368. Best value: 0.898569:  82%|████████▏ | 815/1000 [18:02:15<3:44:08, 72.69s/it]"
     ]
    },
    {
     "name": "stdout",
     "output_type": "stream",
     "text": [
      "[I 2024-10-20 08:53:20,554] Trial 814 finished with value: 0.8936605453491211 and parameters: {'n_hidden_layers': 3, 'activation': 'elu', 'learning_rate': 0.0005236807892947438, 'optimizer': 'adam', 'dropout_rate': 0.2358701841059867, 'n_neurons': 113, 'batch_size': 4}. Best is trial 368 with value: 0.8985685110092163.\n"
     ]
    },
    {
     "name": "stderr",
     "output_type": "stream",
     "text": [
      "Best trial: 368. Best value: 0.898569:  82%|████████▏ | 816/1000 [18:03:00<3:17:39, 64.45s/it]"
     ]
    },
    {
     "name": "stdout",
     "output_type": "stream",
     "text": [
      "[I 2024-10-20 08:54:05,779] Trial 815 finished with value: 0.8936605453491211 and parameters: {'n_hidden_layers': 3, 'activation': 'elu', 'learning_rate': 0.0007067284770852071, 'optimizer': 'adam', 'dropout_rate': 0.2806078265121382, 'n_neurons': 122, 'batch_size': 8}. Best is trial 368 with value: 0.8985685110092163.\n"
     ]
    },
    {
     "name": "stderr",
     "output_type": "stream",
     "text": [
      "Best trial: 368. Best value: 0.898569:  82%|████████▏ | 817/1000 [18:04:28<3:37:51, 71.43s/it]"
     ]
    },
    {
     "name": "stdout",
     "output_type": "stream",
     "text": [
      "[I 2024-10-20 08:55:33,483] Trial 816 finished with value: 0.8928425312042236 and parameters: {'n_hidden_layers': 3, 'activation': 'elu', 'learning_rate': 0.00034317314371132035, 'optimizer': 'adam', 'dropout_rate': 0.22623369994668066, 'n_neurons': 117, 'batch_size': 4}. Best is trial 368 with value: 0.8985685110092163.\n"
     ]
    },
    {
     "name": "stderr",
     "output_type": "stream",
     "text": [
      "Best trial: 368. Best value: 0.898569:  82%|████████▏ | 818/1000 [18:05:38<3:35:39, 71.10s/it]"
     ]
    },
    {
     "name": "stdout",
     "output_type": "stream",
     "text": [
      "[I 2024-10-20 08:56:43,802] Trial 817 finished with value: 0.8916155695915222 and parameters: {'n_hidden_layers': 3, 'activation': 'elu', 'learning_rate': 0.0008556690480347299, 'optimizer': 'adam', 'dropout_rate': 0.27107582651593976, 'n_neurons': 125, 'batch_size': 4}. Best is trial 368 with value: 0.8985685110092163.\n"
     ]
    },
    {
     "name": "stderr",
     "output_type": "stream",
     "text": [
      "Best trial: 368. Best value: 0.898569:  82%|████████▏ | 819/1000 [18:06:17<3:05:23, 61.45s/it]"
     ]
    },
    {
     "name": "stdout",
     "output_type": "stream",
     "text": [
      "[I 2024-10-20 08:57:22,762] Trial 818 finished with value: 0.8948875069618225 and parameters: {'n_hidden_layers': 3, 'activation': 'tanh', 'learning_rate': 0.00044266040806221373, 'optimizer': 'adam', 'dropout_rate': 0.2209626245137052, 'n_neurons': 111, 'batch_size': 16}. Best is trial 368 with value: 0.8985685110092163.\n"
     ]
    },
    {
     "name": "stderr",
     "output_type": "stream",
     "text": [
      "Best trial: 368. Best value: 0.898569:  82%|████████▏ | 820/1000 [18:07:08<2:55:31, 58.51s/it]"
     ]
    },
    {
     "name": "stdout",
     "output_type": "stream",
     "text": [
      "[I 2024-10-20 08:58:14,401] Trial 819 finished with value: 0.8928425312042236 and parameters: {'n_hidden_layers': 3, 'activation': 'elu', 'learning_rate': 0.0006759944248669721, 'optimizer': 'adam', 'dropout_rate': 0.29392321411451633, 'n_neurons': 114, 'batch_size': 8}. Best is trial 368 with value: 0.8985685110092163.\n"
     ]
    },
    {
     "name": "stderr",
     "output_type": "stream",
     "text": [
      "Best trial: 368. Best value: 0.898569:  82%|████████▏ | 821/1000 [18:08:17<3:03:53, 61.64s/it]"
     ]
    },
    {
     "name": "stdout",
     "output_type": "stream",
     "text": [
      "[I 2024-10-20 08:59:23,335] Trial 820 finished with value: 0.8879345655441284 and parameters: {'n_hidden_layers': 3, 'activation': 'elu', 'learning_rate': 0.0013138450909524675, 'optimizer': 'adam', 'dropout_rate': 0.24421544155803623, 'n_neurons': 120, 'batch_size': 4}. Best is trial 368 with value: 0.8985685110092163.\n"
     ]
    },
    {
     "name": "stderr",
     "output_type": "stream",
     "text": [
      "Best trial: 368. Best value: 0.898569:  82%|████████▏ | 822/1000 [18:10:07<3:45:22, 75.97s/it]"
     ]
    },
    {
     "name": "stdout",
     "output_type": "stream",
     "text": [
      "[I 2024-10-20 09:01:12,746] Trial 821 finished with value: 0.8826175928115845 and parameters: {'n_hidden_layers': 3, 'activation': 'elu', 'learning_rate': 0.000787847392822638, 'optimizer': 'sgd', 'dropout_rate': 0.2852338045603698, 'n_neurons': 123, 'batch_size': 4}. Best is trial 368 with value: 0.8985685110092163.\n"
     ]
    },
    {
     "name": "stderr",
     "output_type": "stream",
     "text": [
      "Best trial: 368. Best value: 0.898569:  82%|████████▏ | 823/1000 [18:10:23<2:51:28, 58.13s/it]"
     ]
    },
    {
     "name": "stdout",
     "output_type": "stream",
     "text": [
      "[I 2024-10-20 09:01:29,238] Trial 822 finished with value: 0.8936605453491211 and parameters: {'n_hidden_layers': 3, 'activation': 'elu', 'learning_rate': 0.0009680320210429604, 'optimizer': 'adam', 'dropout_rate': 0.20672810572584382, 'n_neurons': 117, 'batch_size': 64}. Best is trial 368 with value: 0.8985685110092163.\n"
     ]
    },
    {
     "name": "stderr",
     "output_type": "stream",
     "text": [
      "Best trial: 368. Best value: 0.898569:  82%|████████▏ | 824/1000 [18:12:02<3:26:22, 70.36s/it]"
     ]
    },
    {
     "name": "stdout",
     "output_type": "stream",
     "text": [
      "[I 2024-10-20 09:03:08,128] Trial 823 finished with value: 0.8924335241317749 and parameters: {'n_hidden_layers': 3, 'activation': 'elu', 'learning_rate': 0.0005437396952950413, 'optimizer': 'adam', 'dropout_rate': 0.2575980591405702, 'n_neurons': 109, 'batch_size': 4}. Best is trial 368 with value: 0.8985685110092163.\n"
     ]
    },
    {
     "name": "stderr",
     "output_type": "stream",
     "text": [
      "Best trial: 368. Best value: 0.898569:  82%|████████▎ | 825/1000 [18:12:50<3:05:32, 63.62s/it]"
     ]
    },
    {
     "name": "stdout",
     "output_type": "stream",
     "text": [
      "[I 2024-10-20 09:03:56,020] Trial 824 finished with value: 0.8940695524215698 and parameters: {'n_hidden_layers': 3, 'activation': 'elu', 'learning_rate': 0.0011076146650147805, 'optimizer': 'adam', 'dropout_rate': 0.414421070061536, 'n_neurons': 126, 'batch_size': 8}. Best is trial 368 with value: 0.8985685110092163.\n"
     ]
    },
    {
     "name": "stderr",
     "output_type": "stream",
     "text": [
      "Best trial: 368. Best value: 0.898569:  83%|████████▎ | 826/1000 [18:14:01<3:10:44, 65.77s/it]"
     ]
    },
    {
     "name": "stdout",
     "output_type": "stream",
     "text": [
      "[I 2024-10-20 09:05:06,816] Trial 825 finished with value: 0.8944784998893738 and parameters: {'n_hidden_layers': 3, 'activation': 'elu', 'learning_rate': 0.0006314407440627453, 'optimizer': 'adam', 'dropout_rate': 0.23300600212762348, 'n_neurons': 120, 'batch_size': 4}. Best is trial 368 with value: 0.8985685110092163.\n"
     ]
    },
    {
     "name": "stderr",
     "output_type": "stream",
     "text": [
      "Best trial: 368. Best value: 0.898569:  83%|████████▎ | 827/1000 [18:14:17<2:27:05, 51.02s/it]"
     ]
    },
    {
     "name": "stdout",
     "output_type": "stream",
     "text": [
      "[I 2024-10-20 09:05:23,411] Trial 826 finished with value: 0.8920245170593262 and parameters: {'n_hidden_layers': 3, 'activation': 'elu', 'learning_rate': 0.00168585610552349, 'optimizer': 'adam', 'dropout_rate': 0.24858601381961948, 'n_neurons': 115, 'batch_size': 32}. Best is trial 368 with value: 0.8985685110092163.\n"
     ]
    },
    {
     "name": "stderr",
     "output_type": "stream",
     "text": [
      "Best trial: 368. Best value: 0.898569:  83%|████████▎ | 828/1000 [18:15:21<2:37:22, 54.90s/it]"
     ]
    },
    {
     "name": "stdout",
     "output_type": "stream",
     "text": [
      "[I 2024-10-20 09:06:27,363] Trial 827 finished with value: 0.8920245170593262 and parameters: {'n_hidden_layers': 3, 'activation': 'elu', 'learning_rate': 0.0008693374906397805, 'optimizer': 'adam', 'dropout_rate': 0.2760072848781393, 'n_neurons': 128, 'batch_size': 4}. Best is trial 368 with value: 0.8985685110092163.\n"
     ]
    },
    {
     "name": "stderr",
     "output_type": "stream",
     "text": [
      "Best trial: 368. Best value: 0.898569:  83%|████████▎ | 829/1000 [18:15:41<2:06:31, 44.40s/it]"
     ]
    },
    {
     "name": "stdout",
     "output_type": "stream",
     "text": [
      "[I 2024-10-20 09:06:47,256] Trial 828 finished with value: 0.8854805827140808 and parameters: {'n_hidden_layers': 3, 'activation': 'relu', 'learning_rate': 0.0007555998860494612, 'optimizer': 'adam', 'dropout_rate': 0.21582518115456803, 'n_neurons': 112, 'batch_size': 8}. Best is trial 368 with value: 0.8985685110092163.\n"
     ]
    },
    {
     "name": "stderr",
     "output_type": "stream",
     "text": [
      "Best trial: 368. Best value: 0.898569:  83%|████████▎ | 830/1000 [18:16:37<2:15:07, 47.69s/it]"
     ]
    },
    {
     "name": "stdout",
     "output_type": "stream",
     "text": [
      "[I 2024-10-20 09:07:42,640] Trial 829 finished with value: 0.8916155695915222 and parameters: {'n_hidden_layers': 3, 'activation': 'elu', 'learning_rate': 0.0014650549207342492, 'optimizer': 'adam', 'dropout_rate': 0.26375383889221277, 'n_neurons': 124, 'batch_size': 4}. Best is trial 368 with value: 0.8985685110092163.\n"
     ]
    },
    {
     "name": "stderr",
     "output_type": "stream",
     "text": [
      "Best trial: 368. Best value: 0.898569:  83%|████████▎ | 831/1000 [18:17:07<1:59:26, 42.40s/it]"
     ]
    },
    {
     "name": "stdout",
     "output_type": "stream",
     "text": [
      "[I 2024-10-20 09:08:12,702] Trial 830 finished with value: 0.8944784998893738 and parameters: {'n_hidden_layers': 3, 'activation': 'elu', 'learning_rate': 0.0010966513193584547, 'optimizer': 'adam', 'dropout_rate': 0.3800643399158277, 'n_neurons': 122, 'batch_size': 16}. Best is trial 368 with value: 0.8985685110092163.\n"
     ]
    },
    {
     "name": "stderr",
     "output_type": "stream",
     "text": [
      "Best trial: 368. Best value: 0.898569:  83%|████████▎ | 832/1000 [18:18:08<2:14:21, 47.99s/it]"
     ]
    },
    {
     "name": "stdout",
     "output_type": "stream",
     "text": [
      "[I 2024-10-20 09:09:13,719] Trial 831 finished with value: 0.8928425312042236 and parameters: {'n_hidden_layers': 3, 'activation': 'elu', 'learning_rate': 0.0009169740458257637, 'optimizer': 'adam', 'dropout_rate': 0.23785829927882104, 'n_neurons': 118, 'batch_size': 4}. Best is trial 368 with value: 0.8985685110092163.\n"
     ]
    },
    {
     "name": "stderr",
     "output_type": "stream",
     "text": [
      "Best trial: 368. Best value: 0.898569:  83%|████████▎ | 833/1000 [18:19:06<2:22:16, 51.11s/it]"
     ]
    },
    {
     "name": "stdout",
     "output_type": "stream",
     "text": [
      "[I 2024-10-20 09:10:12,130] Trial 832 finished with value: 0.8932515382766724 and parameters: {'n_hidden_layers': 3, 'activation': 'elu', 'learning_rate': 0.0004886513267127585, 'optimizer': 'adam', 'dropout_rate': 0.22480039118782746, 'n_neurons': 110, 'batch_size': 8}. Best is trial 368 with value: 0.8985685110092163.\n"
     ]
    },
    {
     "name": "stderr",
     "output_type": "stream",
     "text": [
      "Best trial: 368. Best value: 0.898569:  83%|████████▎ | 834/1000 [18:19:44<2:10:08, 47.04s/it]"
     ]
    },
    {
     "name": "stdout",
     "output_type": "stream",
     "text": [
      "[I 2024-10-20 09:10:49,660] Trial 833 finished with value: 0.8699386715888977 and parameters: {'n_hidden_layers': 3, 'activation': 'elu', 'learning_rate': 7.805125710281538e-05, 'optimizer': 'rmsprop', 'dropout_rate': 0.2690053264271775, 'n_neurons': 121, 'batch_size': 4}. Best is trial 368 with value: 0.8985685110092163.\n"
     ]
    },
    {
     "name": "stderr",
     "output_type": "stream",
     "text": [
      "Best trial: 368. Best value: 0.898569:  84%|████████▎ | 835/1000 [18:19:57<1:41:21, 36.86s/it]"
     ]
    },
    {
     "name": "stdout",
     "output_type": "stream",
     "text": [
      "[I 2024-10-20 09:11:02,764] Trial 834 finished with value: 0.8867075443267822 and parameters: {'n_hidden_layers': 3, 'activation': 'elu', 'learning_rate': 0.0004028011742449497, 'optimizer': 'adam', 'dropout_rate': 0.29533199573576385, 'n_neurons': 113, 'batch_size': 128}. Best is trial 368 with value: 0.8985685110092163.\n"
     ]
    },
    {
     "name": "stderr",
     "output_type": "stream",
     "text": [
      "Best trial: 368. Best value: 0.898569:  84%|████████▎ | 836/1000 [18:27:15<7:10:01, 157.32s/it]"
     ]
    },
    {
     "name": "stdout",
     "output_type": "stream",
     "text": [
      "[I 2024-10-20 09:18:21,173] Trial 835 finished with value: 0.8907975554466248 and parameters: {'n_hidden_layers': 3, 'activation': 'elu', 'learning_rate': 4.4587863668697796e-05, 'optimizer': 'adam', 'dropout_rate': 0.2856907737313377, 'n_neurons': 119, 'batch_size': 1}. Best is trial 368 with value: 0.8985685110092163.\n"
     ]
    },
    {
     "name": "stderr",
     "output_type": "stream",
     "text": [
      "Best trial: 368. Best value: 0.898569:  84%|████████▎ | 837/1000 [18:28:33<6:02:39, 133.49s/it]"
     ]
    },
    {
     "name": "stdout",
     "output_type": "stream",
     "text": [
      "[I 2024-10-20 09:19:39,063] Trial 836 finished with value: 0.8899795413017273 and parameters: {'n_hidden_layers': 3, 'activation': 'elu', 'learning_rate': 0.0005712637235427615, 'optimizer': 'adam', 'dropout_rate': 0.24404501097353984, 'n_neurons': 115, 'batch_size': 4}. Best is trial 368 with value: 0.8985685110092163.\n"
     ]
    },
    {
     "name": "stderr",
     "output_type": "stream",
     "text": [
      "Best trial: 368. Best value: 0.898569:  84%|████████▍ | 838/1000 [18:29:26<4:55:32, 109.46s/it]"
     ]
    },
    {
     "name": "stdout",
     "output_type": "stream",
     "text": [
      "[I 2024-10-20 09:20:32,438] Trial 837 finished with value: 0.8842535614967346 and parameters: {'n_hidden_layers': 1, 'activation': 'elu', 'learning_rate': 0.0012533126239257222, 'optimizer': 'adam', 'dropout_rate': 0.27779972941580844, 'n_neurons': 125, 'batch_size': 8}. Best is trial 368 with value: 0.8985685110092163.\n"
     ]
    },
    {
     "name": "stderr",
     "output_type": "stream",
     "text": [
      "Best trial: 368. Best value: 0.898569:  84%|████████▍ | 839/1000 [18:30:58<4:39:20, 104.10s/it]"
     ]
    },
    {
     "name": "stdout",
     "output_type": "stream",
     "text": [
      "[I 2024-10-20 09:22:04,048] Trial 838 finished with value: 0.8932515382766724 and parameters: {'n_hidden_layers': 3, 'activation': 'elu', 'learning_rate': 0.0003035962896018868, 'optimizer': 'adam', 'dropout_rate': 0.2519054364811522, 'n_neurons': 109, 'batch_size': 4}. Best is trial 368 with value: 0.8985685110092163.\n"
     ]
    },
    {
     "name": "stderr",
     "output_type": "stream",
     "text": [
      "Best trial: 368. Best value: 0.898569:  84%|████████▍ | 840/1000 [18:32:18<4:17:54, 96.72s/it] "
     ]
    },
    {
     "name": "stdout",
     "output_type": "stream",
     "text": [
      "[I 2024-10-20 09:23:23,532] Trial 839 finished with value: 0.8969325423240662 and parameters: {'n_hidden_layers': 3, 'activation': 'elu', 'learning_rate': 0.0006954633881401778, 'optimizer': 'adam', 'dropout_rate': 0.19739001676508314, 'n_neurons': 123, 'batch_size': 4}. Best is trial 368 with value: 0.8985685110092163.\n"
     ]
    },
    {
     "name": "stderr",
     "output_type": "stream",
     "text": [
      "Best trial: 368. Best value: 0.898569:  84%|████████▍ | 841/1000 [18:33:05<3:37:07, 81.94s/it]"
     ]
    },
    {
     "name": "stdout",
     "output_type": "stream",
     "text": [
      "[I 2024-10-20 09:24:10,980] Trial 840 finished with value: 0.8928425312042236 and parameters: {'n_hidden_layers': 3, 'activation': 'elu', 'learning_rate': 0.0006404665140668982, 'optimizer': 'adam', 'dropout_rate': 0.20495244121425896, 'n_neurons': 117, 'batch_size': 8}. Best is trial 368 with value: 0.8985685110092163.\n"
     ]
    },
    {
     "name": "stderr",
     "output_type": "stream",
     "text": [
      "Best trial: 368. Best value: 0.898569:  84%|████████▍ | 842/1000 [18:35:10<4:09:43, 94.83s/it]"
     ]
    },
    {
     "name": "stdout",
     "output_type": "stream",
     "text": [
      "[I 2024-10-20 09:26:15,894] Trial 841 finished with value: 0.8838445544242859 and parameters: {'n_hidden_layers': 3, 'activation': 'tanh', 'learning_rate': 2.4063588416171277e-05, 'optimizer': 'adam', 'dropout_rate': 0.20414449507940438, 'n_neurons': 122, 'batch_size': 4}. Best is trial 368 with value: 0.8985685110092163.\n"
     ]
    },
    {
     "name": "stderr",
     "output_type": "stream",
     "text": [
      "Best trial: 368. Best value: 0.898569:  84%|████████▍ | 843/1000 [18:36:21<3:49:07, 87.56s/it]"
     ]
    },
    {
     "name": "stdout",
     "output_type": "stream",
     "text": [
      "[I 2024-10-20 09:27:26,501] Trial 842 finished with value: 0.8887525796890259 and parameters: {'n_hidden_layers': 3, 'activation': 'elu', 'learning_rate': 0.0005230212095937272, 'optimizer': 'adam', 'dropout_rate': 0.1845894087350484, 'n_neurons': 111, 'batch_size': 4}. Best is trial 368 with value: 0.8985685110092163.\n"
     ]
    },
    {
     "name": "stderr",
     "output_type": "stream",
     "text": [
      "Best trial: 368. Best value: 0.898569:  84%|████████▍ | 844/1000 [18:37:06<3:14:46, 74.91s/it]"
     ]
    },
    {
     "name": "stdout",
     "output_type": "stream",
     "text": [
      "[I 2024-10-20 09:28:11,894] Trial 843 finished with value: 0.8924335241317749 and parameters: {'n_hidden_layers': 3, 'activation': 'elu', 'learning_rate': 0.0006568528695194727, 'optimizer': 'adam', 'dropout_rate': 0.19405395992004332, 'n_neurons': 114, 'batch_size': 8}. Best is trial 368 with value: 0.8985685110092163.\n"
     ]
    },
    {
     "name": "stderr",
     "output_type": "stream",
     "text": [
      "Best trial: 368. Best value: 0.898569:  84%|████████▍ | 845/1000 [18:37:41<2:42:58, 63.09s/it]"
     ]
    },
    {
     "name": "stdout",
     "output_type": "stream",
     "text": [
      "[I 2024-10-20 09:28:47,399] Trial 844 finished with value: 0.8515337705612183 and parameters: {'n_hidden_layers': 3, 'activation': 'elu', 'learning_rate': 0.000574302465995206, 'optimizer': 'sgd', 'dropout_rate': 0.19471767201091966, 'n_neurons': 119, 'batch_size': 16}. Best is trial 368 with value: 0.8985685110092163.\n"
     ]
    },
    {
     "name": "stderr",
     "output_type": "stream",
     "text": [
      "Best trial: 368. Best value: 0.898569:  85%|████████▍ | 846/1000 [18:38:53<2:48:10, 65.52s/it]"
     ]
    },
    {
     "name": "stdout",
     "output_type": "stream",
     "text": [
      "[I 2024-10-20 09:29:58,588] Trial 845 finished with value: 0.8936605453491211 and parameters: {'n_hidden_layers': 3, 'activation': 'elu', 'learning_rate': 0.0006956157890841177, 'optimizer': 'adam', 'dropout_rate': 0.21186045491744893, 'n_neurons': 122, 'batch_size': 4}. Best is trial 368 with value: 0.8985685110092163.\n"
     ]
    },
    {
     "name": "stderr",
     "output_type": "stream",
     "text": [
      "Best trial: 368. Best value: 0.898569:  85%|████████▍ | 847/1000 [18:40:18<3:02:28, 71.56s/it]"
     ]
    },
    {
     "name": "stdout",
     "output_type": "stream",
     "text": [
      "[I 2024-10-20 09:31:24,242] Trial 846 finished with value: 0.8899795413017273 and parameters: {'n_hidden_layers': 3, 'activation': 'elu', 'learning_rate': 0.0004773383042389765, 'optimizer': 'adam', 'dropout_rate': 0.20297239388037328, 'n_neurons': 115, 'batch_size': 4}. Best is trial 368 with value: 0.8985685110092163.\n"
     ]
    },
    {
     "name": "stderr",
     "output_type": "stream",
     "text": [
      "Best trial: 368. Best value: 0.898569:  85%|████████▍ | 848/1000 [18:40:35<2:19:29, 55.06s/it]"
     ]
    },
    {
     "name": "stdout",
     "output_type": "stream",
     "text": [
      "[I 2024-10-20 09:31:40,807] Trial 847 finished with value: 0.8932515382766724 and parameters: {'n_hidden_layers': 3, 'activation': 'elu', 'learning_rate': 0.0007668558569098745, 'optimizer': 'adam', 'dropout_rate': 0.1838577458866071, 'n_neurons': 117, 'batch_size': 64}. Best is trial 368 with value: 0.8985685110092163.\n"
     ]
    },
    {
     "name": "stderr",
     "output_type": "stream",
     "text": [
      "Best trial: 368. Best value: 0.898569:  85%|████████▍ | 849/1000 [18:41:42<2:27:29, 58.61s/it]"
     ]
    },
    {
     "name": "stdout",
     "output_type": "stream",
     "text": [
      "[I 2024-10-20 09:32:47,691] Trial 848 finished with value: 0.8948875069618225 and parameters: {'n_hidden_layers': 3, 'activation': 'elu', 'learning_rate': 0.00042365125145369677, 'optimizer': 'adam', 'dropout_rate': 0.21735865676955315, 'n_neurons': 108, 'batch_size': 8}. Best is trial 368 with value: 0.8985685110092163.\n"
     ]
    },
    {
     "name": "stderr",
     "output_type": "stream",
     "text": [
      "Best trial: 368. Best value: 0.898569:  85%|████████▌ | 850/1000 [18:43:29<3:02:53, 73.16s/it]"
     ]
    },
    {
     "name": "stdout",
     "output_type": "stream",
     "text": [
      "[I 2024-10-20 09:34:34,793] Trial 849 finished with value: 0.8924335241317749 and parameters: {'n_hidden_layers': 3, 'activation': 'elu', 'learning_rate': 0.00024059612294860232, 'optimizer': 'adam', 'dropout_rate': 0.1929621850845794, 'n_neurons': 124, 'batch_size': 4}. Best is trial 368 with value: 0.8985685110092163.\n"
     ]
    },
    {
     "name": "stderr",
     "output_type": "stream",
     "text": [
      "Best trial: 368. Best value: 0.898569:  85%|████████▌ | 851/1000 [18:44:38<2:58:58, 72.07s/it]"
     ]
    },
    {
     "name": "stdout",
     "output_type": "stream",
     "text": [
      "[I 2024-10-20 09:35:44,333] Trial 850 finished with value: 0.890388548374176 and parameters: {'n_hidden_layers': 3, 'activation': 'elu', 'learning_rate': 0.0005815652664932611, 'optimizer': 'adam', 'dropout_rate': 0.19957728805944655, 'n_neurons': 112, 'batch_size': 4}. Best is trial 368 with value: 0.8985685110092163.\n"
     ]
    },
    {
     "name": "stderr",
     "output_type": "stream",
     "text": [
      "Best trial: 368. Best value: 0.898569:  85%|████████▌ | 852/1000 [18:44:58<2:19:08, 56.41s/it]"
     ]
    },
    {
     "name": "stdout",
     "output_type": "stream",
     "text": [
      "[I 2024-10-20 09:36:04,206] Trial 851 finished with value: 0.8899795413017273 and parameters: {'n_hidden_layers': 3, 'activation': 'relu', 'learning_rate': 0.0019226803947819482, 'optimizer': 'adam', 'dropout_rate': 0.19033652596397269, 'n_neurons': 120, 'batch_size': 8}. Best is trial 368 with value: 0.8985685110092163.\n"
     ]
    },
    {
     "name": "stderr",
     "output_type": "stream",
     "text": [
      "Best trial: 368. Best value: 0.898569:  85%|████████▌ | 853/1000 [18:46:07<2:27:22, 60.16s/it]"
     ]
    },
    {
     "name": "stdout",
     "output_type": "stream",
     "text": [
      "[I 2024-10-20 09:37:13,096] Trial 852 finished with value: 0.89570552110672 and parameters: {'n_hidden_layers': 3, 'activation': 'elu', 'learning_rate': 0.0006752130378143735, 'optimizer': 'adam', 'dropout_rate': 0.21184252405707452, 'n_neurons': 122, 'batch_size': 4}. Best is trial 368 with value: 0.8985685110092163.\n"
     ]
    },
    {
     "name": "stderr",
     "output_type": "stream",
     "text": [
      "Best trial: 368. Best value: 0.898569:  85%|████████▌ | 854/1000 [18:48:00<3:05:02, 76.04s/it]"
     ]
    },
    {
     "name": "stdout",
     "output_type": "stream",
     "text": [
      "[I 2024-10-20 09:39:06,204] Trial 853 finished with value: 0.8928425312042236 and parameters: {'n_hidden_layers': 3, 'activation': 'elu', 'learning_rate': 0.0003595900180838257, 'optimizer': 'adam', 'dropout_rate': 0.22961133952660948, 'n_neurons': 126, 'batch_size': 4}. Best is trial 368 with value: 0.8985685110092163.\n"
     ]
    },
    {
     "name": "stderr",
     "output_type": "stream",
     "text": [
      "Best trial: 368. Best value: 0.898569:  86%|████████▌ | 855/1000 [18:48:20<2:23:05, 59.21s/it]"
     ]
    },
    {
     "name": "stdout",
     "output_type": "stream",
     "text": [
      "[I 2024-10-20 09:39:26,142] Trial 854 finished with value: 0.8891615271568298 and parameters: {'n_hidden_layers': 3, 'activation': 'elu', 'learning_rate': 0.0007850360587161627, 'optimizer': 'adam', 'dropout_rate': 0.17950866201692886, 'n_neurons': 111, 'batch_size': 32}. Best is trial 368 with value: 0.8985685110092163.\n"
     ]
    },
    {
     "name": "stderr",
     "output_type": "stream",
     "text": [
      "Best trial: 368. Best value: 0.898569:  86%|████████▌ | 856/1000 [18:49:19<2:22:00, 59.17s/it]"
     ]
    },
    {
     "name": "stdout",
     "output_type": "stream",
     "text": [
      "[I 2024-10-20 09:40:25,217] Trial 855 finished with value: 0.8973414897918701 and parameters: {'n_hidden_layers': 3, 'activation': 'elu', 'learning_rate': 0.0005164820194283624, 'optimizer': 'adam', 'dropout_rate': 0.22298171959391644, 'n_neurons': 119, 'batch_size': 8}. Best is trial 368 with value: 0.8985685110092163.\n"
     ]
    },
    {
     "name": "stderr",
     "output_type": "stream",
     "text": [
      "Best trial: 368. Best value: 0.898569:  86%|████████▌ | 857/1000 [18:50:16<2:19:33, 58.56s/it]"
     ]
    },
    {
     "name": "stdout",
     "output_type": "stream",
     "text": [
      "[I 2024-10-20 09:41:22,336] Trial 856 finished with value: 0.8948875069618225 and parameters: {'n_hidden_layers': 3, 'activation': 'elu', 'learning_rate': 0.0004581848550483598, 'optimizer': 'adam', 'dropout_rate': 0.2233008816290587, 'n_neurons': 119, 'batch_size': 8}. Best is trial 368 with value: 0.8985685110092163.\n"
     ]
    },
    {
     "name": "stderr",
     "output_type": "stream",
     "text": [
      "Best trial: 368. Best value: 0.898569:  86%|████████▌ | 858/1000 [18:50:48<1:59:20, 50.43s/it]"
     ]
    },
    {
     "name": "stdout",
     "output_type": "stream",
     "text": [
      "[I 2024-10-20 09:41:53,800] Trial 857 finished with value: 0.8883435726165771 and parameters: {'n_hidden_layers': 3, 'activation': 'elu', 'learning_rate': 0.0004802305313671576, 'optimizer': 'rmsprop', 'dropout_rate': 0.22485900810997905, 'n_neurons': 120, 'batch_size': 8}. Best is trial 368 with value: 0.8985685110092163.\n"
     ]
    },
    {
     "name": "stderr",
     "output_type": "stream",
     "text": [
      "Best trial: 368. Best value: 0.898569:  86%|████████▌ | 859/1000 [18:51:54<2:09:22, 55.05s/it]"
     ]
    },
    {
     "name": "stdout",
     "output_type": "stream",
     "text": [
      "[I 2024-10-20 09:42:59,642] Trial 858 finished with value: 0.8928425312042236 and parameters: {'n_hidden_layers': 3, 'activation': 'elu', 'learning_rate': 0.0004006494017773935, 'optimizer': 'adam', 'dropout_rate': 0.2150095435015537, 'n_neurons': 121, 'batch_size': 8}. Best is trial 368 with value: 0.8985685110092163.\n"
     ]
    },
    {
     "name": "stderr",
     "output_type": "stream",
     "text": [
      "Best trial: 368. Best value: 0.898569:  86%|████████▌ | 860/1000 [18:52:43<2:04:28, 53.35s/it]"
     ]
    },
    {
     "name": "stdout",
     "output_type": "stream",
     "text": [
      "[I 2024-10-20 09:43:49,005] Trial 859 finished with value: 0.8936605453491211 and parameters: {'n_hidden_layers': 3, 'activation': 'elu', 'learning_rate': 0.0005234174569847947, 'optimizer': 'adam', 'dropout_rate': 0.23617069176512043, 'n_neurons': 117, 'batch_size': 8}. Best is trial 368 with value: 0.8985685110092163.\n"
     ]
    },
    {
     "name": "stderr",
     "output_type": "stream",
     "text": [
      "Best trial: 368. Best value: 0.898569:  86%|████████▌ | 861/1000 [18:53:32<2:00:34, 52.05s/it]"
     ]
    },
    {
     "name": "stdout",
     "output_type": "stream",
     "text": [
      "[I 2024-10-20 09:44:38,023] Trial 860 finished with value: 0.8912065625190735 and parameters: {'n_hidden_layers': 3, 'activation': 'elu', 'learning_rate': 0.0004468437086257099, 'optimizer': 'adam', 'dropout_rate': 0.2190111801750156, 'n_neurons': 124, 'batch_size': 8}. Best is trial 368 with value: 0.8985685110092163.\n"
     ]
    },
    {
     "name": "stderr",
     "output_type": "stream",
     "text": [
      "Best trial: 368. Best value: 0.898569:  86%|████████▌ | 862/1000 [18:54:23<1:58:36, 51.57s/it]"
     ]
    },
    {
     "name": "stdout",
     "output_type": "stream",
     "text": [
      "[I 2024-10-20 09:45:28,477] Trial 861 finished with value: 0.8912065625190735 and parameters: {'n_hidden_layers': 3, 'activation': 'elu', 'learning_rate': 0.0005570428062375991, 'optimizer': 'adam', 'dropout_rate': 0.20234737451289203, 'n_neurons': 118, 'batch_size': 8}. Best is trial 368 with value: 0.8985685110092163.\n"
     ]
    },
    {
     "name": "stderr",
     "output_type": "stream",
     "text": [
      "Best trial: 368. Best value: 0.898569:  86%|████████▋ | 863/1000 [18:55:30<2:08:34, 56.31s/it]"
     ]
    },
    {
     "name": "stdout",
     "output_type": "stream",
     "text": [
      "[I 2024-10-20 09:46:35,860] Trial 862 finished with value: 0.8952965140342712 and parameters: {'n_hidden_layers': 3, 'activation': 'elu', 'learning_rate': 0.0003246542322365804, 'optimizer': 'adam', 'dropout_rate': 0.21124144589479996, 'n_neurons': 122, 'batch_size': 8}. Best is trial 368 with value: 0.8985685110092163.\n"
     ]
    },
    {
     "name": "stderr",
     "output_type": "stream",
     "text": [
      "Best trial: 368. Best value: 0.898569:  86%|████████▋ | 864/1000 [18:56:29<2:09:26, 57.11s/it]"
     ]
    },
    {
     "name": "stdout",
     "output_type": "stream",
     "text": [
      "[I 2024-10-20 09:47:34,826] Trial 863 finished with value: 0.8924335241317749 and parameters: {'n_hidden_layers': 3, 'activation': 'elu', 'learning_rate': 0.0005230627660999965, 'optimizer': 'adam', 'dropout_rate': 0.2262318816043403, 'n_neurons': 118, 'batch_size': 8}. Best is trial 368 with value: 0.8985685110092163.\n"
     ]
    },
    {
     "name": "stderr",
     "output_type": "stream",
     "text": [
      "Best trial: 368. Best value: 0.898569:  86%|████████▋ | 865/1000 [18:57:37<2:16:06, 60.49s/it]"
     ]
    },
    {
     "name": "stdout",
     "output_type": "stream",
     "text": [
      "[I 2024-10-20 09:48:43,205] Trial 864 finished with value: 0.8936605453491211 and parameters: {'n_hidden_layers': 3, 'activation': 'elu', 'learning_rate': 0.00035920067490421845, 'optimizer': 'adam', 'dropout_rate': 0.4331193305178382, 'n_neurons': 120, 'batch_size': 8}. Best is trial 368 with value: 0.8985685110092163.\n"
     ]
    },
    {
     "name": "stderr",
     "output_type": "stream",
     "text": [
      "Best trial: 368. Best value: 0.898569:  87%|████████▋ | 866/1000 [18:58:38<2:15:12, 60.54s/it]"
     ]
    },
    {
     "name": "stdout",
     "output_type": "stream",
     "text": [
      "[I 2024-10-20 09:49:43,870] Trial 865 finished with value: 0.8674846887588501 and parameters: {'n_hidden_layers': 3, 'activation': 'elu', 'learning_rate': 0.0005961066957002745, 'optimizer': 'sgd', 'dropout_rate': 0.23291326978557964, 'n_neurons': 124, 'batch_size': 8}. Best is trial 368 with value: 0.8985685110092163.\n"
     ]
    },
    {
     "name": "stderr",
     "output_type": "stream",
     "text": [
      "Best trial: 368. Best value: 0.898569:  87%|████████▋ | 867/1000 [18:59:14<1:58:11, 53.32s/it]"
     ]
    },
    {
     "name": "stdout",
     "output_type": "stream",
     "text": [
      "[I 2024-10-20 09:50:20,326] Trial 866 finished with value: 0.8920245170593262 and parameters: {'n_hidden_layers': 3, 'activation': 'tanh', 'learning_rate': 0.00041712433995284723, 'optimizer': 'adam', 'dropout_rate': 0.17439082596896271, 'n_neurons': 128, 'batch_size': 8}. Best is trial 368 with value: 0.8985685110092163.\n"
     ]
    },
    {
     "name": "stderr",
     "output_type": "stream",
     "text": [
      "Best trial: 368. Best value: 0.898569:  87%|████████▋ | 868/1000 [19:00:21<2:05:57, 57.25s/it]"
     ]
    },
    {
     "name": "stdout",
     "output_type": "stream",
     "text": [
      "[I 2024-10-20 09:51:26,769] Trial 867 finished with value: 0.8928425312042236 and parameters: {'n_hidden_layers': 3, 'activation': 'elu', 'learning_rate': 0.0004943983793056695, 'optimizer': 'adam', 'dropout_rate': 0.24012245795122225, 'n_neurons': 116, 'batch_size': 8}. Best is trial 368 with value: 0.8985685110092163.\n"
     ]
    },
    {
     "name": "stderr",
     "output_type": "stream",
     "text": [
      "Best trial: 368. Best value: 0.898569:  87%|████████▋ | 869/1000 [19:01:01<1:54:03, 52.24s/it]"
     ]
    },
    {
     "name": "stdout",
     "output_type": "stream",
     "text": [
      "[I 2024-10-20 09:52:07,312] Trial 868 finished with value: 0.8973414897918701 and parameters: {'n_hidden_layers': 3, 'activation': 'elu', 'learning_rate': 0.0013600062949314091, 'optimizer': 'adam', 'dropout_rate': 0.20985193434594315, 'n_neurons': 126, 'batch_size': 8}. Best is trial 368 with value: 0.8985685110092163.\n"
     ]
    },
    {
     "name": "stderr",
     "output_type": "stream",
     "text": [
      "Best trial: 368. Best value: 0.898569:  87%|████████▋ | 870/1000 [19:01:40<1:44:13, 48.10s/it]"
     ]
    },
    {
     "name": "stdout",
     "output_type": "stream",
     "text": [
      "[I 2024-10-20 09:52:45,754] Trial 869 finished with value: 0.8932515382766724 and parameters: {'n_hidden_layers': 3, 'activation': 'elu', 'learning_rate': 0.0014510269677187276, 'optimizer': 'adam', 'dropout_rate': 0.20258307529937047, 'n_neurons': 128, 'batch_size': 8}. Best is trial 368 with value: 0.8985685110092163.\n"
     ]
    },
    {
     "name": "stderr",
     "output_type": "stream",
     "text": [
      "Best trial: 368. Best value: 0.898569:  87%|████████▋ | 871/1000 [19:02:18<1:37:16, 45.24s/it]"
     ]
    },
    {
     "name": "stdout",
     "output_type": "stream",
     "text": [
      "[I 2024-10-20 09:53:24,328] Trial 870 finished with value: 0.8891615271568298 and parameters: {'n_hidden_layers': 3, 'activation': 'elu', 'learning_rate': 0.0016831828957713047, 'optimizer': 'adam', 'dropout_rate': 0.1951495098096264, 'n_neurons': 126, 'batch_size': 8}. Best is trial 368 with value: 0.8985685110092163.\n"
     ]
    },
    {
     "name": "stderr",
     "output_type": "stream",
     "text": [
      "Best trial: 368. Best value: 0.898569:  87%|████████▋ | 872/1000 [19:03:06<1:38:17, 46.07s/it]"
     ]
    },
    {
     "name": "stdout",
     "output_type": "stream",
     "text": [
      "[I 2024-10-20 09:54:12,333] Trial 871 finished with value: 0.8961145281791687 and parameters: {'n_hidden_layers': 3, 'activation': 'elu', 'learning_rate': 0.0013830387218896122, 'optimizer': 'adam', 'dropout_rate': 0.2093192082815027, 'n_neurons': 125, 'batch_size': 8}. Best is trial 368 with value: 0.8985685110092163.\n"
     ]
    },
    {
     "name": "stderr",
     "output_type": "stream",
     "text": [
      "Best trial: 368. Best value: 0.898569:  87%|████████▋ | 873/1000 [19:03:42<1:30:38, 42.83s/it]"
     ]
    },
    {
     "name": "stdout",
     "output_type": "stream",
     "text": [
      "[I 2024-10-20 09:54:47,586] Trial 872 finished with value: 0.8924335241317749 and parameters: {'n_hidden_layers': 3, 'activation': 'elu', 'learning_rate': 0.0015482577983260731, 'optimizer': 'adam', 'dropout_rate': 0.18773434455490917, 'n_neurons': 126, 'batch_size': 8}. Best is trial 368 with value: 0.8985685110092163.\n"
     ]
    },
    {
     "name": "stderr",
     "output_type": "stream",
     "text": [
      "Best trial: 368. Best value: 0.898569:  87%|████████▋ | 874/1000 [19:04:15<1:23:43, 39.87s/it]"
     ]
    },
    {
     "name": "stdout",
     "output_type": "stream",
     "text": [
      "[I 2024-10-20 09:55:20,567] Trial 873 finished with value: 0.8952965140342712 and parameters: {'n_hidden_layers': 3, 'activation': 'elu', 'learning_rate': 0.0012466943647081162, 'optimizer': 'adam', 'dropout_rate': 0.19920250621649108, 'n_neurons': 128, 'batch_size': 8}. Best is trial 368 with value: 0.8985685110092163.\n"
     ]
    },
    {
     "name": "stderr",
     "output_type": "stream",
     "text": [
      "Best trial: 368. Best value: 0.898569:  88%|████████▊ | 875/1000 [19:04:53<1:22:01, 39.38s/it]"
     ]
    },
    {
     "name": "stdout",
     "output_type": "stream",
     "text": [
      "[I 2024-10-20 09:55:58,784] Trial 874 finished with value: 0.8907975554466248 and parameters: {'n_hidden_layers': 3, 'activation': 'elu', 'learning_rate': 0.002008386834358397, 'optimizer': 'adam', 'dropout_rate': 0.21088760859367942, 'n_neurons': 123, 'batch_size': 8}. Best is trial 368 with value: 0.8985685110092163.\n"
     ]
    },
    {
     "name": "stderr",
     "output_type": "stream",
     "text": [
      "Best trial: 368. Best value: 0.898569:  88%|████████▊ | 876/1000 [19:05:14<1:09:57, 33.85s/it]"
     ]
    },
    {
     "name": "stdout",
     "output_type": "stream",
     "text": [
      "[I 2024-10-20 09:56:19,757] Trial 875 finished with value: 0.8875255584716797 and parameters: {'n_hidden_layers': 3, 'activation': 'relu', 'learning_rate': 0.001374998260418638, 'optimizer': 'adam', 'dropout_rate': 0.2152656604845964, 'n_neurons': 123, 'batch_size': 8}. Best is trial 368 with value: 0.8985685110092163.\n"
     ]
    },
    {
     "name": "stderr",
     "output_type": "stream",
     "text": [
      "Best trial: 368. Best value: 0.898569:  88%|████████▊ | 877/1000 [19:05:55<1:13:46, 35.99s/it]"
     ]
    },
    {
     "name": "stdout",
     "output_type": "stream",
     "text": [
      "[I 2024-10-20 09:57:00,723] Trial 876 finished with value: 0.89570552110672 and parameters: {'n_hidden_layers': 3, 'activation': 'elu', 'learning_rate': 0.001656289981162375, 'optimizer': 'adam', 'dropout_rate': 0.20789661777784488, 'n_neurons': 125, 'batch_size': 8}. Best is trial 368 with value: 0.8985685110092163.\n"
     ]
    },
    {
     "name": "stderr",
     "output_type": "stream",
     "text": [
      "Best trial: 368. Best value: 0.898569:  88%|████████▊ | 878/1000 [19:06:38<1:17:26, 38.08s/it]"
     ]
    },
    {
     "name": "stdout",
     "output_type": "stream",
     "text": [
      "[I 2024-10-20 09:57:43,692] Trial 877 finished with value: 0.89570552110672 and parameters: {'n_hidden_layers': 3, 'activation': 'elu', 'learning_rate': 0.0011330383339369767, 'optimizer': 'adam', 'dropout_rate': 0.21580566045887428, 'n_neurons': 121, 'batch_size': 8}. Best is trial 368 with value: 0.8985685110092163.\n"
     ]
    },
    {
     "name": "stderr",
     "output_type": "stream",
     "text": [
      "Best trial: 368. Best value: 0.898569:  88%|████████▊ | 879/1000 [19:07:16<1:16:50, 38.10s/it]"
     ]
    },
    {
     "name": "stdout",
     "output_type": "stream",
     "text": [
      "[I 2024-10-20 09:58:21,840] Trial 878 finished with value: 0.8948875069618225 and parameters: {'n_hidden_layers': 3, 'activation': 'elu', 'learning_rate': 0.0012721417958857894, 'optimizer': 'adam', 'dropout_rate': 0.22524847313983493, 'n_neurons': 127, 'batch_size': 8}. Best is trial 368 with value: 0.8985685110092163.\n"
     ]
    },
    {
     "name": "stderr",
     "output_type": "stream",
     "text": [
      "Best trial: 368. Best value: 0.898569:  88%|████████▊ | 880/1000 [19:07:56<1:17:32, 38.77s/it]"
     ]
    },
    {
     "name": "stdout",
     "output_type": "stream",
     "text": [
      "[I 2024-10-20 09:59:02,174] Trial 879 finished with value: 0.8944784998893738 and parameters: {'n_hidden_layers': 3, 'activation': 'elu', 'learning_rate': 0.0014139894382332223, 'optimizer': 'adam', 'dropout_rate': 0.1969697355315083, 'n_neurons': 123, 'batch_size': 8}. Best is trial 368 with value: 0.8985685110092163.\n"
     ]
    },
    {
     "name": "stderr",
     "output_type": "stream",
     "text": [
      "Best trial: 368. Best value: 0.898569:  88%|████████▊ | 881/1000 [19:08:31<1:14:31, 37.58s/it]"
     ]
    },
    {
     "name": "stdout",
     "output_type": "stream",
     "text": [
      "[I 2024-10-20 09:59:36,965] Trial 880 finished with value: 0.8948875069618225 and parameters: {'n_hidden_layers': 3, 'activation': 'elu', 'learning_rate': 0.0011156443675611086, 'optimizer': 'adam', 'dropout_rate': 0.22010779177684062, 'n_neurons': 125, 'batch_size': 8}. Best is trial 368 with value: 0.8985685110092163.\n"
     ]
    },
    {
     "name": "stderr",
     "output_type": "stream",
     "text": [
      "Best trial: 368. Best value: 0.898569:  88%|████████▊ | 882/1000 [19:08:53<1:04:45, 32.93s/it]"
     ]
    },
    {
     "name": "stdout",
     "output_type": "stream",
     "text": [
      "[I 2024-10-20 09:59:59,047] Trial 881 finished with value: 0.8854805827140808 and parameters: {'n_hidden_layers': 3, 'activation': 'elu', 'learning_rate': 0.0017451232932891888, 'optimizer': 'rmsprop', 'dropout_rate': 0.21937685574725077, 'n_neurons': 121, 'batch_size': 8}. Best is trial 368 with value: 0.8985685110092163.\n"
     ]
    },
    {
     "name": "stderr",
     "output_type": "stream",
     "text": [
      "Best trial: 368. Best value: 0.898569:  88%|████████▊ | 883/1000 [19:09:17<59:05, 30.31s/it]  "
     ]
    },
    {
     "name": "stdout",
     "output_type": "stream",
     "text": [
      "[I 2024-10-20 10:00:23,239] Trial 882 finished with value: 0.8912065625190735 and parameters: {'n_hidden_layers': 3, 'activation': 'elu', 'learning_rate': 0.0012480537651811134, 'optimizer': 'adam', 'dropout_rate': 0.22829020964809432, 'n_neurons': 126, 'batch_size': 16}. Best is trial 368 with value: 0.8985685110092163.\n"
     ]
    },
    {
     "name": "stderr",
     "output_type": "stream",
     "text": [
      "Best trial: 368. Best value: 0.898569:  88%|████████▊ | 884/1000 [19:09:55<1:02:55, 32.54s/it]"
     ]
    },
    {
     "name": "stdout",
     "output_type": "stream",
     "text": [
      "[I 2024-10-20 10:01:00,997] Trial 883 finished with value: 0.8916155695915222 and parameters: {'n_hidden_layers': 3, 'activation': 'elu', 'learning_rate': 0.0021366107343325858, 'optimizer': 'adam', 'dropout_rate': 0.23374051422100323, 'n_neurons': 119, 'batch_size': 8}. Best is trial 368 with value: 0.8985685110092163.\n"
     ]
    },
    {
     "name": "stderr",
     "output_type": "stream",
     "text": [
      "Best trial: 368. Best value: 0.898569:  88%|████████▊ | 885/1000 [19:12:27<2:11:02, 68.37s/it]"
     ]
    },
    {
     "name": "stdout",
     "output_type": "stream",
     "text": [
      "[I 2024-10-20 10:03:32,970] Trial 884 finished with value: 0.8867075443267822 and parameters: {'n_hidden_layers': 3, 'activation': 'elu', 'learning_rate': 0.0010505876164134049, 'optimizer': 'adam', 'dropout_rate': 0.20988948749991548, 'n_neurons': 123, 'batch_size': 1}. Best is trial 368 with value: 0.8985685110092163.\n"
     ]
    },
    {
     "name": "stderr",
     "output_type": "stream",
     "text": [
      "Best trial: 368. Best value: 0.898569:  89%|████████▊ | 886/1000 [19:12:40<1:38:30, 51.84s/it]"
     ]
    },
    {
     "name": "stdout",
     "output_type": "stream",
     "text": [
      "[I 2024-10-20 10:03:46,246] Trial 885 finished with value: 0.8907975554466248 and parameters: {'n_hidden_layers': 3, 'activation': 'elu', 'learning_rate': 0.0015575408819238875, 'optimizer': 'adam', 'dropout_rate': 0.19986885274204863, 'n_neurons': 121, 'batch_size': 128}. Best is trial 368 with value: 0.8985685110092163.\n"
     ]
    },
    {
     "name": "stderr",
     "output_type": "stream",
     "text": [
      "Best trial: 368. Best value: 0.898569:  89%|████████▊ | 887/1000 [19:13:22<1:31:41, 48.68s/it]"
     ]
    },
    {
     "name": "stdout",
     "output_type": "stream",
     "text": [
      "[I 2024-10-20 10:04:27,560] Trial 886 finished with value: 0.8879345655441284 and parameters: {'n_hidden_layers': 3, 'activation': 'tanh', 'learning_rate': 0.0006117394455748799, 'optimizer': 'adam', 'dropout_rate': 0.22074743832412533, 'n_neurons': 124, 'batch_size': 8}. Best is trial 368 with value: 0.8985685110092163.\n"
     ]
    },
    {
     "name": "stderr",
     "output_type": "stream",
     "text": [
      "Best trial: 368. Best value: 0.898569:  89%|████████▉ | 888/1000 [19:14:09<1:30:03, 48.25s/it]"
     ]
    },
    {
     "name": "stdout",
     "output_type": "stream",
     "text": [
      "[I 2024-10-20 10:05:14,791] Trial 887 finished with value: 0.8944784998893738 and parameters: {'n_hidden_layers': 3, 'activation': 'elu', 'learning_rate': 0.0010409479480081038, 'optimizer': 'adam', 'dropout_rate': 0.24402053722004172, 'n_neurons': 119, 'batch_size': 8}. Best is trial 368 with value: 0.8985685110092163.\n"
     ]
    },
    {
     "name": "stderr",
     "output_type": "stream",
     "text": [
      "Best trial: 368. Best value: 0.898569:  89%|████████▉ | 889/1000 [19:15:10<1:36:31, 52.18s/it]"
     ]
    },
    {
     "name": "stdout",
     "output_type": "stream",
     "text": [
      "[I 2024-10-20 10:06:16,146] Trial 888 finished with value: 0.8797546029090881 and parameters: {'n_hidden_layers': 3, 'activation': 'elu', 'learning_rate': 0.0009370805616544011, 'optimizer': 'sgd', 'dropout_rate': 0.18846072735436142, 'n_neurons': 127, 'batch_size': 8}. Best is trial 368 with value: 0.8985685110092163.\n"
     ]
    },
    {
     "name": "stderr",
     "output_type": "stream",
     "text": [
      "Best trial: 368. Best value: 0.898569:  89%|████████▉ | 890/1000 [19:15:27<1:16:15, 41.60s/it]"
     ]
    },
    {
     "name": "stdout",
     "output_type": "stream",
     "text": [
      "[I 2024-10-20 10:06:33,057] Trial 889 finished with value: 0.8907975554466248 and parameters: {'n_hidden_layers': 3, 'activation': 'elu', 'learning_rate': 0.0006940141795145488, 'optimizer': 'adam', 'dropout_rate': 0.1525169596893658, 'n_neurons': 124, 'batch_size': 64}. Best is trial 368 with value: 0.8985685110092163.\n"
     ]
    },
    {
     "name": "stderr",
     "output_type": "stream",
     "text": [
      "Best trial: 368. Best value: 0.898569:  89%|████████▉ | 891/1000 [19:15:57<1:09:11, 38.09s/it]"
     ]
    },
    {
     "name": "stdout",
     "output_type": "stream",
     "text": [
      "[I 2024-10-20 10:07:02,945] Trial 890 finished with value: 0.8965235352516174 and parameters: {'n_hidden_layers': 3, 'activation': 'elu', 'learning_rate': 0.0012128169411481217, 'optimizer': 'adam', 'dropout_rate': 0.39625432291972473, 'n_neurons': 121, 'batch_size': 16}. Best is trial 368 with value: 0.8985685110092163.\n"
     ]
    },
    {
     "name": "stderr",
     "output_type": "stream",
     "text": [
      "Best trial: 368. Best value: 0.898569:  89%|████████▉ | 892/1000 [19:16:37<1:09:37, 38.68s/it]"
     ]
    },
    {
     "name": "stdout",
     "output_type": "stream",
     "text": [
      "[I 2024-10-20 10:07:43,004] Trial 891 finished with value: 0.8944784998893738 and parameters: {'n_hidden_layers': 3, 'activation': 'elu', 'learning_rate': 0.0014325975705480817, 'optimizer': 'adam', 'dropout_rate': 0.2335217501444634, 'n_neurons': 128, 'batch_size': 8}. Best is trial 368 with value: 0.8985685110092163.\n"
     ]
    },
    {
     "name": "stderr",
     "output_type": "stream",
     "text": [
      "Best trial: 368. Best value: 0.898569:  89%|████████▉ | 893/1000 [19:17:23<1:12:48, 40.82s/it]"
     ]
    },
    {
     "name": "stdout",
     "output_type": "stream",
     "text": [
      "[I 2024-10-20 10:08:28,838] Trial 892 finished with value: 0.8948875069618225 and parameters: {'n_hidden_layers': 3, 'activation': 'elu', 'learning_rate': 0.0008519077212720506, 'optimizer': 'adam', 'dropout_rate': 0.20454478256412942, 'n_neurons': 117, 'batch_size': 8}. Best is trial 368 with value: 0.8985685110092163.\n"
     ]
    },
    {
     "name": "stderr",
     "output_type": "stream",
     "text": [
      "Best trial: 368. Best value: 0.898569:  89%|████████▉ | 894/1000 [19:17:42<1:00:48, 34.42s/it]"
     ]
    },
    {
     "name": "stdout",
     "output_type": "stream",
     "text": [
      "[I 2024-10-20 10:08:48,306] Trial 893 finished with value: 0.8830265998840332 and parameters: {'n_hidden_layers': 1, 'activation': 'elu', 'learning_rate': 0.0005954468551045543, 'optimizer': 'adam', 'dropout_rate': 0.2562377003684176, 'n_neurons': 123, 'batch_size': 32}. Best is trial 368 with value: 0.8985685110092163.\n"
     ]
    },
    {
     "name": "stderr",
     "output_type": "stream",
     "text": [
      "Best trial: 368. Best value: 0.898569:  90%|████████▉ | 895/1000 [19:18:35<1:09:54, 39.95s/it]"
     ]
    },
    {
     "name": "stdout",
     "output_type": "stream",
     "text": [
      "[I 2024-10-20 10:09:41,157] Trial 894 finished with value: 0.8961145281791687 and parameters: {'n_hidden_layers': 3, 'activation': 'elu', 'learning_rate': 0.0009874443219887623, 'optimizer': 'adam', 'dropout_rate': 0.22134857576822545, 'n_neurons': 120, 'batch_size': 8}. Best is trial 368 with value: 0.8985685110092163.\n"
     ]
    },
    {
     "name": "stderr",
     "output_type": "stream",
     "text": [
      "Best trial: 368. Best value: 0.898569:  90%|████████▉ | 896/1000 [19:19:24<1:13:58, 42.68s/it]"
     ]
    },
    {
     "name": "stdout",
     "output_type": "stream",
     "text": [
      "[I 2024-10-20 10:10:30,218] Trial 895 finished with value: 0.8924335241317749 and parameters: {'n_hidden_layers': 3, 'activation': 'elu', 'learning_rate': 0.0007190297027353909, 'optimizer': 'adam', 'dropout_rate': 0.2307095616771197, 'n_neurons': 125, 'batch_size': 8}. Best is trial 368 with value: 0.8985685110092163.\n"
     ]
    },
    {
     "name": "stderr",
     "output_type": "stream",
     "text": [
      "Best trial: 368. Best value: 0.898569:  90%|████████▉ | 897/1000 [19:19:50<1:04:17, 37.46s/it]"
     ]
    },
    {
     "name": "stdout",
     "output_type": "stream",
     "text": [
      "[I 2024-10-20 10:10:55,481] Trial 896 finished with value: 0.8948875069618225 and parameters: {'n_hidden_layers': 3, 'activation': 'elu', 'learning_rate': 0.00176086365395018, 'optimizer': 'adam', 'dropout_rate': 0.24354229390699333, 'n_neurons': 122, 'batch_size': 16}. Best is trial 368 with value: 0.8985685110092163.\n"
     ]
    },
    {
     "name": "stderr",
     "output_type": "stream",
     "text": [
      "Best trial: 368. Best value: 0.898569:  90%|████████▉ | 898/1000 [19:20:28<1:04:11, 37.76s/it]"
     ]
    },
    {
     "name": "stdout",
     "output_type": "stream",
     "text": [
      "[I 2024-10-20 10:11:33,950] Trial 897 finished with value: 0.8961145281791687 and parameters: {'n_hidden_layers': 3, 'activation': 'elu', 'learning_rate': 0.001324396188676046, 'optimizer': 'adam', 'dropout_rate': 0.21307941922795606, 'n_neurons': 119, 'batch_size': 8}. Best is trial 368 with value: 0.8985685110092163.\n"
     ]
    },
    {
     "name": "stderr",
     "output_type": "stream",
     "text": [
      "Best trial: 368. Best value: 0.898569:  90%|████████▉ | 899/1000 [19:23:19<2:10:49, 77.72s/it]"
     ]
    },
    {
     "name": "stdout",
     "output_type": "stream",
     "text": [
      "[I 2024-10-20 10:14:24,902] Trial 898 finished with value: 0.8912065625190735 and parameters: {'n_hidden_layers': 3, 'activation': 'elu', 'learning_rate': 0.0011682684017069469, 'optimizer': 'adam', 'dropout_rate': 0.2611295958188814, 'n_neurons': 117, 'batch_size': 1}. Best is trial 368 with value: 0.8985685110092163.\n"
     ]
    },
    {
     "name": "stderr",
     "output_type": "stream",
     "text": [
      "Best trial: 368. Best value: 0.898569:  90%|█████████ | 900/1000 [19:23:30<1:36:20, 57.80s/it]"
     ]
    },
    {
     "name": "stdout",
     "output_type": "stream",
     "text": [
      "[I 2024-10-20 10:14:36,233] Trial 899 finished with value: 0.8858895897865295 and parameters: {'n_hidden_layers': 3, 'activation': 'elu', 'learning_rate': 0.0008187041136002327, 'optimizer': 'adam', 'dropout_rate': 0.4709870953061938, 'n_neurons': 33, 'batch_size': 128}. Best is trial 368 with value: 0.8985685110092163.\n"
     ]
    },
    {
     "name": "stderr",
     "output_type": "stream",
     "text": [
      "Best trial: 368. Best value: 0.898569:  90%|█████████ | 901/1000 [19:24:23<1:32:41, 56.17s/it]"
     ]
    },
    {
     "name": "stdout",
     "output_type": "stream",
     "text": [
      "[I 2024-10-20 10:15:28,612] Trial 900 finished with value: 0.8936605453491211 and parameters: {'n_hidden_layers': 3, 'activation': 'elu', 'learning_rate': 0.000625709320817027, 'optimizer': 'adam', 'dropout_rate': 0.24977955204282187, 'n_neurons': 126, 'batch_size': 8}. Best is trial 368 with value: 0.8985685110092163.\n"
     ]
    },
    {
     "name": "stderr",
     "output_type": "stream",
     "text": [
      "Best trial: 368. Best value: 0.898569:  90%|█████████ | 902/1000 [19:24:43<1:14:20, 45.51s/it]"
     ]
    },
    {
     "name": "stdout",
     "output_type": "stream",
     "text": [
      "[I 2024-10-20 10:15:49,245] Trial 901 finished with value: 0.8838445544242859 and parameters: {'n_hidden_layers': 3, 'activation': 'relu', 'learning_rate': 0.0005415938161152091, 'optimizer': 'rmsprop', 'dropout_rate': 0.22521887676596347, 'n_neurons': 122, 'batch_size': 8}. Best is trial 368 with value: 0.8985685110092163.\n"
     ]
    },
    {
     "name": "stderr",
     "output_type": "stream",
     "text": [
      "Best trial: 368. Best value: 0.898569:  90%|█████████ | 903/1000 [19:25:25<1:11:38, 44.32s/it]"
     ]
    },
    {
     "name": "stdout",
     "output_type": "stream",
     "text": [
      "[I 2024-10-20 10:16:30,781] Trial 902 finished with value: 0.8944784998893738 and parameters: {'n_hidden_layers': 3, 'activation': 'elu', 'learning_rate': 0.0009749623787738167, 'optimizer': 'adam', 'dropout_rate': 0.23436077359289167, 'n_neurons': 116, 'batch_size': 8}. Best is trial 368 with value: 0.8985685110092163.\n"
     ]
    },
    {
     "name": "stderr",
     "output_type": "stream",
     "text": [
      "Best trial: 368. Best value: 0.898569:  90%|█████████ | 904/1000 [19:25:42<57:46, 36.10s/it]  "
     ]
    },
    {
     "name": "stdout",
     "output_type": "stream",
     "text": [
      "[I 2024-10-20 10:16:47,718] Trial 903 finished with value: 0.8920245170593262 and parameters: {'n_hidden_layers': 3, 'activation': 'elu', 'learning_rate': 0.0006922379497054936, 'optimizer': 'adam', 'dropout_rate': 0.20948217724698429, 'n_neurons': 119, 'batch_size': 64}. Best is trial 368 with value: 0.8985685110092163.\n"
     ]
    },
    {
     "name": "stderr",
     "output_type": "stream",
     "text": [
      "Best trial: 368. Best value: 0.898569:  90%|█████████ | 905/1000 [19:26:23<59:28, 37.56s/it]"
     ]
    },
    {
     "name": "stdout",
     "output_type": "stream",
     "text": [
      "[I 2024-10-20 10:17:28,683] Trial 904 finished with value: 0.8932515382766724 and parameters: {'n_hidden_layers': 3, 'activation': 'elu', 'learning_rate': 0.0014765447900722652, 'optimizer': 'adam', 'dropout_rate': 0.23893321353776123, 'n_neurons': 128, 'batch_size': 8}. Best is trial 368 with value: 0.8985685110092163.\n"
     ]
    },
    {
     "name": "stderr",
     "output_type": "stream",
     "text": [
      "Best trial: 368. Best value: 0.898569:  91%|█████████ | 906/1000 [19:26:54<56:05, 35.81s/it]"
     ]
    },
    {
     "name": "stdout",
     "output_type": "stream",
     "text": [
      "[I 2024-10-20 10:18:00,399] Trial 905 finished with value: 0.8920245170593262 and parameters: {'n_hidden_layers': 3, 'activation': 'elu', 'learning_rate': 0.0007850366395084704, 'optimizer': 'adam', 'dropout_rate': 0.21918165922972394, 'n_neurons': 123, 'batch_size': 16}. Best is trial 368 with value: 0.8985685110092163.\n"
     ]
    },
    {
     "name": "stderr",
     "output_type": "stream",
     "text": [
      "Best trial: 368. Best value: 0.898569:  91%|█████████ | 907/1000 [19:27:37<58:41, 37.87s/it]"
     ]
    },
    {
     "name": "stdout",
     "output_type": "stream",
     "text": [
      "[I 2024-10-20 10:18:43,062] Trial 906 finished with value: 0.8952965140342712 and parameters: {'n_hidden_layers': 3, 'activation': 'elu', 'learning_rate': 0.0011479527513410083, 'optimizer': 'adam', 'dropout_rate': 0.25883835427693214, 'n_neurons': 115, 'batch_size': 8}. Best is trial 368 with value: 0.8985685110092163.\n"
     ]
    },
    {
     "name": "stderr",
     "output_type": "stream",
     "text": [
      "Best trial: 368. Best value: 0.898569:  91%|█████████ | 908/1000 [19:28:23<1:01:40, 40.22s/it]"
     ]
    },
    {
     "name": "stdout",
     "output_type": "stream",
     "text": [
      "[I 2024-10-20 10:19:28,787] Trial 907 finished with value: 0.8936605453491211 and parameters: {'n_hidden_layers': 3, 'activation': 'elu', 'learning_rate': 0.0008873923159175403, 'optimizer': 'adam', 'dropout_rate': 0.10279599740953216, 'n_neurons': 126, 'batch_size': 8}. Best is trial 368 with value: 0.8985685110092163.\n"
     ]
    },
    {
     "name": "stderr",
     "output_type": "stream",
     "text": [
      "Best trial: 368. Best value: 0.898569:  91%|█████████ | 909/1000 [19:28:45<52:58, 34.92s/it]  "
     ]
    },
    {
     "name": "stdout",
     "output_type": "stream",
     "text": [
      "[I 2024-10-20 10:19:51,348] Trial 908 finished with value: 0.8924335241317749 and parameters: {'n_hidden_layers': 3, 'activation': 'tanh', 'learning_rate': 0.0006308513047174091, 'optimizer': 'adam', 'dropout_rate': 0.22920023033134418, 'n_neurons': 121, 'batch_size': 32}. Best is trial 368 with value: 0.8985685110092163.\n"
     ]
    },
    {
     "name": "stderr",
     "output_type": "stream",
     "text": [
      "Best trial: 368. Best value: 0.898569:  91%|█████████ | 910/1000 [19:30:32<1:24:46, 56.52s/it]"
     ]
    },
    {
     "name": "stdout",
     "output_type": "stream",
     "text": [
      "[I 2024-10-20 10:21:38,247] Trial 909 finished with value: 0.8924335241317749 and parameters: {'n_hidden_layers': 3, 'activation': 'elu', 'learning_rate': 0.0010548051908323976, 'optimizer': 'adam', 'dropout_rate': 0.19881276410817894, 'n_neurons': 118, 'batch_size': 2}. Best is trial 368 with value: 0.8985685110092163.\n"
     ]
    },
    {
     "name": "stderr",
     "output_type": "stream",
     "text": [
      "Best trial: 368. Best value: 0.898569:  91%|█████████ | 911/1000 [19:31:18<1:19:01, 53.27s/it]"
     ]
    },
    {
     "name": "stdout",
     "output_type": "stream",
     "text": [
      "[I 2024-10-20 10:22:23,943] Trial 910 finished with value: 0.8928425312042236 and parameters: {'n_hidden_layers': 3, 'activation': 'elu', 'learning_rate': 0.0007225043440614025, 'optimizer': 'adam', 'dropout_rate': 0.2514807410106094, 'n_neurons': 125, 'batch_size': 8}. Best is trial 368 with value: 0.8985685110092163.\n"
     ]
    },
    {
     "name": "stderr",
     "output_type": "stream",
     "text": [
      "Best trial: 368. Best value: 0.898569:  91%|█████████ | 912/1000 [19:33:37<1:56:02, 79.12s/it]"
     ]
    },
    {
     "name": "stdout",
     "output_type": "stream",
     "text": [
      "[I 2024-10-20 10:24:43,375] Trial 911 finished with value: 0.8973414897918701 and parameters: {'n_hidden_layers': 3, 'activation': 'elu', 'learning_rate': 0.0005467623001931617, 'optimizer': 'adam', 'dropout_rate': 0.268468609848157, 'n_neurons': 123, 'batch_size': 2}. Best is trial 368 with value: 0.8985685110092163.\n"
     ]
    },
    {
     "name": "stderr",
     "output_type": "stream",
     "text": [
      "Best trial: 368. Best value: 0.898569:  91%|█████████▏| 913/1000 [19:36:57<2:47:09, 115.28s/it]"
     ]
    },
    {
     "name": "stdout",
     "output_type": "stream",
     "text": [
      "[I 2024-10-20 10:28:03,044] Trial 912 finished with value: 0.8801636099815369 and parameters: {'n_hidden_layers': 3, 'activation': 'elu', 'learning_rate': 0.0005506381421827251, 'optimizer': 'sgd', 'dropout_rate': 0.2617483392114281, 'n_neurons': 124, 'batch_size': 2}. Best is trial 368 with value: 0.8985685110092163.\n"
     ]
    },
    {
     "name": "stderr",
     "output_type": "stream",
     "text": [
      "Best trial: 368. Best value: 0.898569:  91%|█████████▏| 914/1000 [19:39:00<2:48:35, 117.62s/it]"
     ]
    },
    {
     "name": "stdout",
     "output_type": "stream",
     "text": [
      "[I 2024-10-20 10:30:06,116] Trial 913 finished with value: 0.8944784998893738 and parameters: {'n_hidden_layers': 3, 'activation': 'elu', 'learning_rate': 0.0006133245957174874, 'optimizer': 'adam', 'dropout_rate': 0.26977834564740844, 'n_neurons': 122, 'batch_size': 2}. Best is trial 368 with value: 0.8985685110092163.\n"
     ]
    },
    {
     "name": "stderr",
     "output_type": "stream",
     "text": [
      "Best trial: 368. Best value: 0.898569:  92%|█████████▏| 915/1000 [19:41:14<2:53:29, 122.47s/it]"
     ]
    },
    {
     "name": "stdout",
     "output_type": "stream",
     "text": [
      "[I 2024-10-20 10:32:19,898] Trial 914 finished with value: 0.8944784998893738 and parameters: {'n_hidden_layers': 3, 'activation': 'elu', 'learning_rate': 0.0004910048835817523, 'optimizer': 'adam', 'dropout_rate': 0.2536671475973545, 'n_neurons': 124, 'batch_size': 2}. Best is trial 368 with value: 0.8985685110092163.\n"
     ]
    },
    {
     "name": "stderr",
     "output_type": "stream",
     "text": [
      "Best trial: 368. Best value: 0.898569:  92%|█████████▏| 916/1000 [19:43:30<2:57:15, 126.61s/it]"
     ]
    },
    {
     "name": "stdout",
     "output_type": "stream",
     "text": [
      "[I 2024-10-20 10:34:36,174] Trial 915 finished with value: 0.8965235352516174 and parameters: {'n_hidden_layers': 3, 'activation': 'elu', 'learning_rate': 0.0005528961546350308, 'optimizer': 'adam', 'dropout_rate': 0.24416590291038562, 'n_neurons': 121, 'batch_size': 2}. Best is trial 368 with value: 0.8985685110092163.\n"
     ]
    },
    {
     "name": "stderr",
     "output_type": "stream",
     "text": [
      "Best trial: 368. Best value: 0.898569:  92%|█████████▏| 917/1000 [19:46:14<3:10:22, 137.62s/it]"
     ]
    },
    {
     "name": "stdout",
     "output_type": "stream",
     "text": [
      "[I 2024-10-20 10:37:19,496] Trial 916 finished with value: 0.8977504968643188 and parameters: {'n_hidden_layers': 3, 'activation': 'elu', 'learning_rate': 0.00044671701360129523, 'optimizer': 'adam', 'dropout_rate': 0.2661242440902241, 'n_neurons': 126, 'batch_size': 2}. Best is trial 368 with value: 0.8985685110092163.\n"
     ]
    },
    {
     "name": "stderr",
     "output_type": "stream",
     "text": [
      "Best trial: 368. Best value: 0.898569:  92%|█████████▏| 918/1000 [19:48:31<3:07:53, 137.48s/it]"
     ]
    },
    {
     "name": "stdout",
     "output_type": "stream",
     "text": [
      "[I 2024-10-20 10:39:36,642] Trial 917 finished with value: 0.8961145281791687 and parameters: {'n_hidden_layers': 3, 'activation': 'elu', 'learning_rate': 0.00043086209923299905, 'optimizer': 'adam', 'dropout_rate': 0.25852874894172484, 'n_neurons': 127, 'batch_size': 2}. Best is trial 368 with value: 0.8985685110092163.\n"
     ]
    },
    {
     "name": "stderr",
     "output_type": "stream",
     "text": [
      "Best trial: 368. Best value: 0.898569:  92%|█████████▏| 919/1000 [19:50:17<2:53:04, 128.20s/it]"
     ]
    },
    {
     "name": "stdout",
     "output_type": "stream",
     "text": [
      "[I 2024-10-20 10:41:23,186] Trial 918 finished with value: 0.8932515382766724 and parameters: {'n_hidden_layers': 3, 'activation': 'elu', 'learning_rate': 0.00048060511621901444, 'optimizer': 'adam', 'dropout_rate': 0.26344945186271707, 'n_neurons': 126, 'batch_size': 2}. Best is trial 368 with value: 0.8985685110092163.\n"
     ]
    },
    {
     "name": "stderr",
     "output_type": "stream",
     "text": [
      "Best trial: 368. Best value: 0.898569:  92%|█████████▏| 920/1000 [19:51:18<2:24:03, 108.04s/it]"
     ]
    },
    {
     "name": "stdout",
     "output_type": "stream",
     "text": [
      "[I 2024-10-20 10:42:24,180] Trial 919 finished with value: 0.8867075443267822 and parameters: {'n_hidden_layers': 3, 'activation': 'relu', 'learning_rate': 0.00046808950356955946, 'optimizer': 'adam', 'dropout_rate': 0.2374058762389037, 'n_neurons': 126, 'batch_size': 2}. Best is trial 368 with value: 0.8985685110092163.\n"
     ]
    },
    {
     "name": "stderr",
     "output_type": "stream",
     "text": [
      "Best trial: 368. Best value: 0.898569:  92%|█████████▏| 921/1000 [19:53:49<2:39:06, 120.84s/it]"
     ]
    },
    {
     "name": "stdout",
     "output_type": "stream",
     "text": [
      "[I 2024-10-20 10:44:54,900] Trial 920 finished with value: 0.8928425312042236 and parameters: {'n_hidden_layers': 3, 'activation': 'elu', 'learning_rate': 0.0004071731380881235, 'optimizer': 'adam', 'dropout_rate': 0.24603314414410804, 'n_neurons': 128, 'batch_size': 2}. Best is trial 368 with value: 0.8985685110092163.\n"
     ]
    },
    {
     "name": "stderr",
     "output_type": "stream",
     "text": [
      "Best trial: 368. Best value: 0.898569:  92%|█████████▏| 922/1000 [19:56:08<2:44:13, 126.32s/it]"
     ]
    },
    {
     "name": "stdout",
     "output_type": "stream",
     "text": [
      "[I 2024-10-20 10:47:14,003] Trial 921 finished with value: 0.8961145281791687 and parameters: {'n_hidden_layers': 3, 'activation': 'elu', 'learning_rate': 0.000511465435072733, 'optimizer': 'adam', 'dropout_rate': 0.21613719123682923, 'n_neurons': 124, 'batch_size': 2}. Best is trial 368 with value: 0.8985685110092163.\n"
     ]
    },
    {
     "name": "stderr",
     "output_type": "stream",
     "text": [
      "Best trial: 368. Best value: 0.898569:  92%|█████████▏| 923/1000 [19:59:03<3:00:46, 140.87s/it]"
     ]
    },
    {
     "name": "stdout",
     "output_type": "stream",
     "text": [
      "[I 2024-10-20 10:50:08,812] Trial 922 finished with value: 0.8920245170593262 and parameters: {'n_hidden_layers': 3, 'activation': 'elu', 'learning_rate': 0.0004710081112181659, 'optimizer': 'adam', 'dropout_rate': 0.4148205871622098, 'n_neurons': 128, 'batch_size': 2}. Best is trial 368 with value: 0.8985685110092163.\n"
     ]
    },
    {
     "name": "stderr",
     "output_type": "stream",
     "text": [
      "Best trial: 368. Best value: 0.898569:  92%|█████████▏| 924/1000 [20:01:54<3:10:01, 150.02s/it]"
     ]
    },
    {
     "name": "stdout",
     "output_type": "stream",
     "text": [
      "[I 2024-10-20 10:53:00,190] Trial 923 finished with value: 0.8907975554466248 and parameters: {'n_hidden_layers': 3, 'activation': 'elu', 'learning_rate': 0.00039970567045873555, 'optimizer': 'adam', 'dropout_rate': 0.22205807695474822, 'n_neurons': 124, 'batch_size': 2}. Best is trial 368 with value: 0.8985685110092163.\n"
     ]
    },
    {
     "name": "stderr",
     "output_type": "stream",
     "text": [
      "Best trial: 368. Best value: 0.898569:  92%|█████████▎| 925/1000 [20:03:49<2:54:28, 139.58s/it]"
     ]
    },
    {
     "name": "stdout",
     "output_type": "stream",
     "text": [
      "[I 2024-10-20 10:54:55,412] Trial 924 finished with value: 0.8719836473464966 and parameters: {'n_hidden_layers': 3, 'activation': 'elu', 'learning_rate': 0.0005374642739806411, 'optimizer': 'rmsprop', 'dropout_rate': 0.26784183598207234, 'n_neurons': 122, 'batch_size': 2}. Best is trial 368 with value: 0.8985685110092163.\n"
     ]
    },
    {
     "name": "stderr",
     "output_type": "stream",
     "text": [
      "Best trial: 368. Best value: 0.898569:  93%|█████████▎| 926/1000 [20:06:24<2:57:33, 143.96s/it]"
     ]
    },
    {
     "name": "stdout",
     "output_type": "stream",
     "text": [
      "[I 2024-10-20 10:57:29,595] Trial 925 finished with value: 0.8936605453491211 and parameters: {'n_hidden_layers': 3, 'activation': 'elu', 'learning_rate': 0.00043101806542314837, 'optimizer': 'adam', 'dropout_rate': 0.2058250824737774, 'n_neurons': 126, 'batch_size': 2}. Best is trial 368 with value: 0.8985685110092163.\n"
     ]
    },
    {
     "name": "stderr",
     "output_type": "stream",
     "text": [
      "Best trial: 368. Best value: 0.898569:  93%|█████████▎| 927/1000 [20:09:24<3:08:20, 154.80s/it]"
     ]
    },
    {
     "name": "stdout",
     "output_type": "stream",
     "text": [
      "[I 2024-10-20 11:00:29,670] Trial 926 finished with value: 0.8842535614967346 and parameters: {'n_hidden_layers': 1, 'activation': 'elu', 'learning_rate': 0.0005094327952839059, 'optimizer': 'adam', 'dropout_rate': 0.22892694800335675, 'n_neurons': 124, 'batch_size': 2}. Best is trial 368 with value: 0.8985685110092163.\n"
     ]
    },
    {
     "name": "stderr",
     "output_type": "stream",
     "text": [
      "Best trial: 368. Best value: 0.898569:  93%|█████████▎| 928/1000 [20:11:50<3:02:38, 152.20s/it]"
     ]
    },
    {
     "name": "stdout",
     "output_type": "stream",
     "text": [
      "[I 2024-10-20 11:02:55,811] Trial 927 finished with value: 0.8907975554466248 and parameters: {'n_hidden_layers': 3, 'activation': 'elu', 'learning_rate': 0.0005579335390635483, 'optimizer': 'adam', 'dropout_rate': 0.2532130248917598, 'n_neurons': 128, 'batch_size': 2}. Best is trial 368 with value: 0.8985685110092163.\n"
     ]
    },
    {
     "name": "stderr",
     "output_type": "stream",
     "text": [
      "Best trial: 368. Best value: 0.898569:  93%|█████████▎| 929/1000 [20:14:01<2:52:27, 145.74s/it]"
     ]
    },
    {
     "name": "stdout",
     "output_type": "stream",
     "text": [
      "[I 2024-10-20 11:05:06,472] Trial 928 finished with value: 0.8948875069618225 and parameters: {'n_hidden_layers': 3, 'activation': 'elu', 'learning_rate': 0.00045811119911406733, 'optimizer': 'adam', 'dropout_rate': 0.236483713847199, 'n_neurons': 122, 'batch_size': 2}. Best is trial 368 with value: 0.8985685110092163.\n"
     ]
    },
    {
     "name": "stderr",
     "output_type": "stream",
     "text": [
      "Best trial: 368. Best value: 0.898569:  93%|█████████▎| 930/1000 [20:16:09<2:43:57, 140.53s/it]"
     ]
    },
    {
     "name": "stdout",
     "output_type": "stream",
     "text": [
      "[I 2024-10-20 11:07:14,848] Trial 929 finished with value: 0.8920245170593262 and parameters: {'n_hidden_layers': 3, 'activation': 'elu', 'learning_rate': 0.0006142621928429473, 'optimizer': 'adam', 'dropout_rate': 0.19324413335829663, 'n_neurons': 120, 'batch_size': 2}. Best is trial 368 with value: 0.8985685110092163.\n"
     ]
    },
    {
     "name": "stderr",
     "output_type": "stream",
     "text": [
      "Best trial: 368. Best value: 0.898569:  93%|█████████▎| 931/1000 [20:18:35<2:43:27, 142.14s/it]"
     ]
    },
    {
     "name": "stdout",
     "output_type": "stream",
     "text": [
      "[I 2024-10-20 11:09:40,740] Trial 930 finished with value: 0.8936605453491211 and parameters: {'n_hidden_layers': 3, 'activation': 'elu', 'learning_rate': 0.0005633101867481517, 'optimizer': 'adam', 'dropout_rate': 0.24766226876356118, 'n_neurons': 125, 'batch_size': 2}. Best is trial 368 with value: 0.8985685110092163.\n"
     ]
    },
    {
     "name": "stderr",
     "output_type": "stream",
     "text": [
      "Best trial: 368. Best value: 0.898569:  93%|█████████▎| 932/1000 [20:20:18<2:27:55, 130.53s/it]"
     ]
    },
    {
     "name": "stdout",
     "output_type": "stream",
     "text": [
      "[I 2024-10-20 11:11:24,172] Trial 931 finished with value: 0.8842535614967346 and parameters: {'n_hidden_layers': 3, 'activation': 'tanh', 'learning_rate': 0.00045149388496382013, 'optimizer': 'adam', 'dropout_rate': 0.21372149579286778, 'n_neurons': 123, 'batch_size': 2}. Best is trial 368 with value: 0.8985685110092163.\n"
     ]
    },
    {
     "name": "stderr",
     "output_type": "stream",
     "text": [
      "Best trial: 368. Best value: 0.898569:  93%|█████████▎| 933/1000 [20:23:40<2:49:30, 151.80s/it]"
     ]
    },
    {
     "name": "stdout",
     "output_type": "stream",
     "text": [
      "[I 2024-10-20 11:14:45,604] Trial 932 finished with value: 0.8805726170539856 and parameters: {'n_hidden_layers': 3, 'activation': 'elu', 'learning_rate': 0.0006275992788889235, 'optimizer': 'sgd', 'dropout_rate': 0.2593189521289697, 'n_neurons': 126, 'batch_size': 2}. Best is trial 368 with value: 0.8985685110092163.\n"
     ]
    },
    {
     "name": "stderr",
     "output_type": "stream",
     "text": [
      "Best trial: 368. Best value: 0.898569:  93%|█████████▎| 934/1000 [20:25:47<2:38:55, 144.48s/it]"
     ]
    },
    {
     "name": "stdout",
     "output_type": "stream",
     "text": [
      "[I 2024-10-20 11:16:52,993] Trial 933 finished with value: 0.8936605453491211 and parameters: {'n_hidden_layers': 3, 'activation': 'elu', 'learning_rate': 0.0003908753238724357, 'optimizer': 'adam', 'dropout_rate': 0.2258400283873614, 'n_neurons': 120, 'batch_size': 2}. Best is trial 368 with value: 0.8985685110092163.\n"
     ]
    },
    {
     "name": "stderr",
     "output_type": "stream",
     "text": [
      "Best trial: 368. Best value: 0.898569:  94%|█████████▎| 935/1000 [20:28:40<2:45:37, 152.89s/it]"
     ]
    },
    {
     "name": "stdout",
     "output_type": "stream",
     "text": [
      "[I 2024-10-20 11:19:45,514] Trial 934 finished with value: 0.8944784998893738 and parameters: {'n_hidden_layers': 3, 'activation': 'elu', 'learning_rate': 0.0003471220092051932, 'optimizer': 'adam', 'dropout_rate': 0.27168476140494785, 'n_neurons': 123, 'batch_size': 2}. Best is trial 368 with value: 0.8985685110092163.\n"
     ]
    },
    {
     "name": "stderr",
     "output_type": "stream",
     "text": [
      "Best trial: 368. Best value: 0.898569:  94%|█████████▎| 936/1000 [20:31:06<2:41:00, 150.95s/it]"
     ]
    },
    {
     "name": "stdout",
     "output_type": "stream",
     "text": [
      "[I 2024-10-20 11:22:11,942] Trial 935 finished with value: 0.8932515382766724 and parameters: {'n_hidden_layers': 3, 'activation': 'elu', 'learning_rate': 0.0006454910730431701, 'optimizer': 'adam', 'dropout_rate': 0.20589281729365347, 'n_neurons': 122, 'batch_size': 2}. Best is trial 368 with value: 0.8985685110092163.\n"
     ]
    },
    {
     "name": "stderr",
     "output_type": "stream",
     "text": [
      "Best trial: 368. Best value: 0.898569:  94%|█████████▎| 937/1000 [20:33:07<2:29:11, 142.08s/it]"
     ]
    },
    {
     "name": "stdout",
     "output_type": "stream",
     "text": [
      "[I 2024-10-20 11:24:13,337] Trial 936 finished with value: 0.8940695524215698 and parameters: {'n_hidden_layers': 3, 'activation': 'elu', 'learning_rate': 0.0005168135571003549, 'optimizer': 'adam', 'dropout_rate': 0.2419431329056418, 'n_neurons': 120, 'batch_size': 2}. Best is trial 368 with value: 0.8985685110092163.\n"
     ]
    },
    {
     "name": "stderr",
     "output_type": "stream",
     "text": [
      "Best trial: 368. Best value: 0.898569:  94%|█████████▍| 938/1000 [20:35:22<2:24:21, 139.70s/it]"
     ]
    },
    {
     "name": "stdout",
     "output_type": "stream",
     "text": [
      "[I 2024-10-20 11:26:27,489] Trial 937 finished with value: 0.8932515382766724 and parameters: {'n_hidden_layers': 3, 'activation': 'elu', 'learning_rate': 0.0005749297459562323, 'optimizer': 'adam', 'dropout_rate': 0.22895395681864214, 'n_neurons': 126, 'batch_size': 2}. Best is trial 368 with value: 0.8985685110092163.\n"
     ]
    },
    {
     "name": "stderr",
     "output_type": "stream",
     "text": [
      "Best trial: 368. Best value: 0.898569:  94%|█████████▍| 939/1000 [20:37:55<2:26:11, 143.80s/it]"
     ]
    },
    {
     "name": "stdout",
     "output_type": "stream",
     "text": [
      "[I 2024-10-20 11:29:00,857] Trial 938 finished with value: 0.8928425312042236 and parameters: {'n_hidden_layers': 3, 'activation': 'elu', 'learning_rate': 0.0006648155814301298, 'optimizer': 'adam', 'dropout_rate': 0.2520440467803198, 'n_neurons': 124, 'batch_size': 2}. Best is trial 368 with value: 0.8985685110092163.\n"
     ]
    },
    {
     "name": "stderr",
     "output_type": "stream",
     "text": [
      "Best trial: 368. Best value: 0.898569:  94%|█████████▍| 940/1000 [20:40:00<2:18:06, 138.11s/it]"
     ]
    },
    {
     "name": "stdout",
     "output_type": "stream",
     "text": [
      "[I 2024-10-20 11:31:05,681] Trial 939 finished with value: 0.8924335241317749 and parameters: {'n_hidden_layers': 3, 'activation': 'elu', 'learning_rate': 0.0004983092912436073, 'optimizer': 'adam', 'dropout_rate': 0.2639128093521283, 'n_neurons': 128, 'batch_size': 2}. Best is trial 368 with value: 0.8985685110092163.\n"
     ]
    },
    {
     "name": "stderr",
     "output_type": "stream",
     "text": [
      "Best trial: 368. Best value: 0.898569:  94%|█████████▍| 941/1000 [20:41:03<1:53:46, 115.70s/it]"
     ]
    },
    {
     "name": "stdout",
     "output_type": "stream",
     "text": [
      "[I 2024-10-20 11:32:09,092] Trial 940 finished with value: 0.8928425312042236 and parameters: {'n_hidden_layers': 3, 'activation': 'elu', 'learning_rate': 0.0004543114817388751, 'optimizer': 'adam', 'dropout_rate': 0.21820498171641617, 'n_neurons': 119, 'batch_size': 8}. Best is trial 368 with value: 0.8985685110092163.\n"
     ]
    },
    {
     "name": "stderr",
     "output_type": "stream",
     "text": [
      "Best trial: 368. Best value: 0.898569:  94%|█████████▍| 942/1000 [20:41:13<1:21:09, 83.96s/it] "
     ]
    },
    {
     "name": "stdout",
     "output_type": "stream",
     "text": [
      "[I 2024-10-20 11:32:18,986] Trial 941 finished with value: 0.8887525796890259 and parameters: {'n_hidden_layers': 3, 'activation': 'relu', 'learning_rate': 0.0003834808712000285, 'optimizer': 'adam', 'dropout_rate': 0.2360969053077245, 'n_neurons': 122, 'batch_size': 128}. Best is trial 368 with value: 0.8985685110092163.\n"
     ]
    },
    {
     "name": "stderr",
     "output_type": "stream",
     "text": [
      "Best trial: 368. Best value: 0.898569:  94%|█████████▍| 943/1000 [20:43:22<1:32:33, 97.43s/it]"
     ]
    },
    {
     "name": "stdout",
     "output_type": "stream",
     "text": [
      "[I 2024-10-20 11:34:27,836] Trial 942 finished with value: 0.8985685110092163 and parameters: {'n_hidden_layers': 3, 'activation': 'elu', 'learning_rate': 0.0007115503331800237, 'optimizer': 'adam', 'dropout_rate': 0.26956752041283216, 'n_neurons': 125, 'batch_size': 2}. Best is trial 368 with value: 0.8985685110092163.\n"
     ]
    },
    {
     "name": "stderr",
     "output_type": "stream",
     "text": [
      "Best trial: 368. Best value: 0.898569:  94%|█████████▍| 944/1000 [20:45:35<1:41:00, 108.22s/it]"
     ]
    },
    {
     "name": "stdout",
     "output_type": "stream",
     "text": [
      "[I 2024-10-20 11:36:41,254] Trial 943 finished with value: 0.8944784998893738 and parameters: {'n_hidden_layers': 3, 'activation': 'elu', 'learning_rate': 0.0006066731934421633, 'optimizer': 'adam', 'dropout_rate': 0.2724221863963497, 'n_neurons': 126, 'batch_size': 2}. Best is trial 368 with value: 0.8985685110092163.\n"
     ]
    },
    {
     "name": "stderr",
     "output_type": "stream",
     "text": [
      "Best trial: 368. Best value: 0.898569:  94%|█████████▍| 945/1000 [20:47:50<1:46:25, 116.09s/it]"
     ]
    },
    {
     "name": "stdout",
     "output_type": "stream",
     "text": [
      "[I 2024-10-20 11:38:55,705] Trial 944 finished with value: 0.8895705342292786 and parameters: {'n_hidden_layers': 3, 'activation': 'elu', 'learning_rate': 0.0007129593693906522, 'optimizer': 'adam', 'dropout_rate': 0.26744022597322215, 'n_neurons': 128, 'batch_size': 2}. Best is trial 368 with value: 0.8985685110092163.\n"
     ]
    },
    {
     "name": "stderr",
     "output_type": "stream",
     "text": [
      "Best trial: 368. Best value: 0.898569:  95%|█████████▍| 946/1000 [20:50:10<1:50:54, 123.24s/it]"
     ]
    },
    {
     "name": "stdout",
     "output_type": "stream",
     "text": [
      "[I 2024-10-20 11:41:15,612] Trial 945 finished with value: 0.8920245170593262 and parameters: {'n_hidden_layers': 3, 'activation': 'elu', 'learning_rate': 0.000530776514576414, 'optimizer': 'adam', 'dropout_rate': 0.4434411025220554, 'n_neurons': 125, 'batch_size': 2}. Best is trial 368 with value: 0.8985685110092163.\n"
     ]
    },
    {
     "name": "stderr",
     "output_type": "stream",
     "text": [
      "Best trial: 368. Best value: 0.898569:  95%|█████████▍| 947/1000 [20:51:19<1:34:41, 107.20s/it]"
     ]
    },
    {
     "name": "stdout",
     "output_type": "stream",
     "text": [
      "[I 2024-10-20 11:42:25,387] Trial 946 finished with value: 0.869529664516449 and parameters: {'n_hidden_layers': 3, 'activation': 'elu', 'learning_rate': 0.0006608210186025779, 'optimizer': 'rmsprop', 'dropout_rate': 0.27886284972017217, 'n_neurons': 125, 'batch_size': 2}. Best is trial 368 with value: 0.8985685110092163.\n"
     ]
    },
    {
     "name": "stderr",
     "output_type": "stream",
     "text": [
      "Best trial: 368. Best value: 0.898569:  95%|█████████▍| 948/1000 [20:53:39<1:41:12, 116.77s/it]"
     ]
    },
    {
     "name": "stdout",
     "output_type": "stream",
     "text": [
      "[I 2024-10-20 11:44:44,497] Trial 947 finished with value: 0.8920245170593262 and parameters: {'n_hidden_layers': 3, 'activation': 'elu', 'learning_rate': 0.0005858755630200645, 'optimizer': 'adam', 'dropout_rate': 0.260995317985601, 'n_neurons': 124, 'batch_size': 2}. Best is trial 368 with value: 0.8985685110092163.\n"
     ]
    },
    {
     "name": "stderr",
     "output_type": "stream",
     "text": [
      "Best trial: 368. Best value: 0.898569:  95%|█████████▍| 949/1000 [20:55:53<1:43:48, 122.12s/it]"
     ]
    },
    {
     "name": "stdout",
     "output_type": "stream",
     "text": [
      "[I 2024-10-20 11:46:59,090] Trial 948 finished with value: 0.8912065625190735 and parameters: {'n_hidden_layers': 3, 'activation': 'elu', 'learning_rate': 0.0007222985491460997, 'optimizer': 'adam', 'dropout_rate': 0.25465253506326613, 'n_neurons': 123, 'batch_size': 2}. Best is trial 368 with value: 0.8985685110092163.\n"
     ]
    },
    {
     "name": "stderr",
     "output_type": "stream",
     "text": [
      "Best trial: 368. Best value: 0.898569:  95%|█████████▌| 950/1000 [20:58:27<1:49:43, 131.66s/it]"
     ]
    },
    {
     "name": "stdout",
     "output_type": "stream",
     "text": [
      "[I 2024-10-20 11:49:33,029] Trial 949 finished with value: 0.8916155695915222 and parameters: {'n_hidden_layers': 3, 'activation': 'elu', 'learning_rate': 0.0005235292614212206, 'optimizer': 'adam', 'dropout_rate': 0.27096940877750125, 'n_neurons': 24, 'batch_size': 2}. Best is trial 368 with value: 0.8985685110092163.\n"
     ]
    },
    {
     "name": "stderr",
     "output_type": "stream",
     "text": [
      "Best trial: 368. Best value: 0.898569:  95%|█████████▌| 951/1000 [21:00:31<1:45:36, 129.31s/it]"
     ]
    },
    {
     "name": "stdout",
     "output_type": "stream",
     "text": [
      "[I 2024-10-20 11:51:36,857] Trial 950 finished with value: 0.8940695524215698 and parameters: {'n_hidden_layers': 3, 'activation': 'elu', 'learning_rate': 0.0006638722467036143, 'optimizer': 'adam', 'dropout_rate': 0.26628340664293265, 'n_neurons': 128, 'batch_size': 2}. Best is trial 368 with value: 0.8985685110092163.\n"
     ]
    },
    {
     "name": "stderr",
     "output_type": "stream",
     "text": [
      "Best trial: 368. Best value: 0.898569:  95%|█████████▌| 952/1000 [21:02:10<1:36:07, 120.15s/it]"
     ]
    },
    {
     "name": "stdout",
     "output_type": "stream",
     "text": [
      "[I 2024-10-20 11:53:15,627] Trial 951 finished with value: 0.8887525796890259 and parameters: {'n_hidden_layers': 3, 'activation': 'elu', 'learning_rate': 0.005497806182960032, 'optimizer': 'adam', 'dropout_rate': 0.25588160850810154, 'n_neurons': 121, 'batch_size': 2}. Best is trial 368 with value: 0.8985685110092163.\n"
     ]
    },
    {
     "name": "stderr",
     "output_type": "stream",
     "text": [
      "Best trial: 368. Best value: 0.898569:  95%|█████████▌| 953/1000 [21:04:33<1:39:29, 127.02s/it]"
     ]
    },
    {
     "name": "stdout",
     "output_type": "stream",
     "text": [
      "[I 2024-10-20 11:55:38,665] Trial 952 finished with value: 0.8936605453491211 and parameters: {'n_hidden_layers': 3, 'activation': 'elu', 'learning_rate': 0.00046526510407058827, 'optimizer': 'adam', 'dropout_rate': 0.2739486367385788, 'n_neurons': 125, 'batch_size': 2}. Best is trial 368 with value: 0.8985685110092163.\n"
     ]
    },
    {
     "name": "stderr",
     "output_type": "stream",
     "text": [
      "Best trial: 368. Best value: 0.898569:  95%|█████████▌| 954/1000 [21:05:58<1:27:53, 114.64s/it]"
     ]
    },
    {
     "name": "stdout",
     "output_type": "stream",
     "text": [
      "[I 2024-10-20 11:57:04,416] Trial 953 finished with value: 0.8875255584716797 and parameters: {'n_hidden_layers': 3, 'activation': 'tanh', 'learning_rate': 0.000741804621729313, 'optimizer': 'adam', 'dropout_rate': 0.2627301078510923, 'n_neurons': 122, 'batch_size': 2}. Best is trial 368 with value: 0.8985685110092163.\n"
     ]
    },
    {
     "name": "stderr",
     "output_type": "stream",
     "text": [
      "Best trial: 368. Best value: 0.898569:  96%|█████████▌| 955/1000 [21:08:32<1:34:38, 126.19s/it]"
     ]
    },
    {
     "name": "stdout",
     "output_type": "stream",
     "text": [
      "[I 2024-10-20 11:59:37,547] Trial 954 finished with value: 0.8952965140342712 and parameters: {'n_hidden_layers': 3, 'activation': 'elu', 'learning_rate': 0.0005980000602765486, 'optimizer': 'adam', 'dropout_rate': 0.24610754325417925, 'n_neurons': 124, 'batch_size': 2}. Best is trial 368 with value: 0.8985685110092163.\n"
     ]
    },
    {
     "name": "stderr",
     "output_type": "stream",
     "text": [
      "Best trial: 368. Best value: 0.898569:  96%|█████████▌| 956/1000 [21:10:39<1:32:47, 126.53s/it]"
     ]
    },
    {
     "name": "stdout",
     "output_type": "stream",
     "text": [
      "[I 2024-10-20 12:01:44,879] Trial 955 finished with value: 0.8916155695915222 and parameters: {'n_hidden_layers': 3, 'activation': 'elu', 'learning_rate': 0.00041775246859553864, 'optimizer': 'adam', 'dropout_rate': 0.2744056426469368, 'n_neurons': 126, 'batch_size': 2}. Best is trial 368 with value: 0.8985685110092163.\n"
     ]
    },
    {
     "name": "stderr",
     "output_type": "stream",
     "text": [
      "Best trial: 368. Best value: 0.898569:  96%|█████████▌| 957/1000 [21:13:59<1:46:28, 148.58s/it]"
     ]
    },
    {
     "name": "stdout",
     "output_type": "stream",
     "text": [
      "[I 2024-10-20 12:05:04,913] Trial 956 finished with value: 0.881799578666687 and parameters: {'n_hidden_layers': 3, 'activation': 'elu', 'learning_rate': 0.0005615749699322628, 'optimizer': 'sgd', 'dropout_rate': 0.22142340996118273, 'n_neurons': 121, 'batch_size': 2}. Best is trial 368 with value: 0.8985685110092163.\n"
     ]
    },
    {
     "name": "stderr",
     "output_type": "stream",
     "text": [
      "Best trial: 368. Best value: 0.898569:  96%|█████████▌| 958/1000 [21:18:13<2:06:05, 180.14s/it]"
     ]
    },
    {
     "name": "stdout",
     "output_type": "stream",
     "text": [
      "[I 2024-10-20 12:09:18,678] Trial 957 finished with value: 0.8965235352516174 and parameters: {'n_hidden_layers': 3, 'activation': 'elu', 'learning_rate': 0.00037361503558423607, 'optimizer': 'adam', 'dropout_rate': 0.2622223315732834, 'n_neurons': 128, 'batch_size': 1}. Best is trial 368 with value: 0.8985685110092163.\n"
     ]
    },
    {
     "name": "stderr",
     "output_type": "stream",
     "text": [
      "Best trial: 368. Best value: 0.898569:  96%|█████████▌| 959/1000 [21:18:58<1:35:28, 139.72s/it]"
     ]
    },
    {
     "name": "stdout",
     "output_type": "stream",
     "text": [
      "[I 2024-10-20 12:10:04,108] Trial 958 finished with value: 0.8944784998893738 and parameters: {'n_hidden_layers': 3, 'activation': 'elu', 'learning_rate': 0.0006961202282963422, 'optimizer': 'adam', 'dropout_rate': 0.25225165972118424, 'n_neurons': 120, 'batch_size': 8}. Best is trial 368 with value: 0.8985685110092163.\n"
     ]
    },
    {
     "name": "stderr",
     "output_type": "stream",
     "text": [
      "Best trial: 368. Best value: 0.898569:  96%|█████████▌| 960/1000 [21:21:29<1:35:23, 143.08s/it]"
     ]
    },
    {
     "name": "stdout",
     "output_type": "stream",
     "text": [
      "[I 2024-10-20 12:12:35,004] Trial 959 finished with value: 0.8961145281791687 and parameters: {'n_hidden_layers': 3, 'activation': 'elu', 'learning_rate': 0.0005151017501095173, 'optimizer': 'adam', 'dropout_rate': 0.24106019595377032, 'n_neurons': 123, 'batch_size': 2}. Best is trial 368 with value: 0.8985685110092163.\n"
     ]
    },
    {
     "name": "stderr",
     "output_type": "stream",
     "text": [
      "Best trial: 368. Best value: 0.898569:  96%|█████████▌| 961/1000 [21:22:39<1:18:48, 121.25s/it]"
     ]
    },
    {
     "name": "stdout",
     "output_type": "stream",
     "text": [
      "[I 2024-10-20 12:13:45,318] Trial 960 finished with value: 0.8928425312042236 and parameters: {'n_hidden_layers': 3, 'activation': 'elu', 'learning_rate': 0.0002903271555212293, 'optimizer': 'adam', 'dropout_rate': 0.20847178189464174, 'n_neurons': 126, 'batch_size': 8}. Best is trial 368 with value: 0.8985685110092163.\n"
     ]
    },
    {
     "name": "stderr",
     "output_type": "stream",
     "text": [
      "Best trial: 368. Best value: 0.898569:  96%|█████████▌| 962/1000 [21:24:38<1:16:13, 120.35s/it]"
     ]
    },
    {
     "name": "stdout",
     "output_type": "stream",
     "text": [
      "[I 2024-10-20 12:15:43,578] Trial 961 finished with value: 0.8940695524215698 and parameters: {'n_hidden_layers': 3, 'activation': 'elu', 'learning_rate': 0.0006397216579343819, 'optimizer': 'adam', 'dropout_rate': 0.23044755013703994, 'n_neurons': 123, 'batch_size': 2}. Best is trial 368 with value: 0.8985685110092163.\n"
     ]
    },
    {
     "name": "stderr",
     "output_type": "stream",
     "text": [
      "Best trial: 368. Best value: 0.898569:  96%|█████████▋| 963/1000 [21:25:23<1:00:20, 97.86s/it] "
     ]
    },
    {
     "name": "stdout",
     "output_type": "stream",
     "text": [
      "[I 2024-10-20 12:16:28,957] Trial 962 finished with value: 0.8944784998893738 and parameters: {'n_hidden_layers': 3, 'activation': 'elu', 'learning_rate': 0.0007684464061181019, 'optimizer': 'adam', 'dropout_rate': 0.1894986993945426, 'n_neurons': 119, 'batch_size': 8}. Best is trial 368 with value: 0.8985685110092163.\n"
     ]
    },
    {
     "name": "stderr",
     "output_type": "stream",
     "text": [
      "Best trial: 368. Best value: 0.898569:  96%|█████████▋| 964/1000 [21:25:41<44:15, 73.77s/it]  "
     ]
    },
    {
     "name": "stdout",
     "output_type": "stream",
     "text": [
      "[I 2024-10-20 12:16:46,522] Trial 963 finished with value: 0.8907975554466248 and parameters: {'n_hidden_layers': 3, 'activation': 'elu', 'learning_rate': 0.0004323717395747576, 'optimizer': 'adam', 'dropout_rate': 0.26800436936669, 'n_neurons': 125, 'batch_size': 64}. Best is trial 368 with value: 0.8985685110092163.\n"
     ]
    },
    {
     "name": "stderr",
     "output_type": "stream",
     "text": [
      "Best trial: 368. Best value: 0.898569:  96%|█████████▋| 965/1000 [21:28:19<57:49, 99.12s/it]"
     ]
    },
    {
     "name": "stdout",
     "output_type": "stream",
     "text": [
      "[I 2024-10-20 12:19:24,777] Trial 964 finished with value: 0.89570552110672 and parameters: {'n_hidden_layers': 3, 'activation': 'elu', 'learning_rate': 0.0005612612377408229, 'optimizer': 'adam', 'dropout_rate': 0.2133077759655514, 'n_neurons': 121, 'batch_size': 2}. Best is trial 368 with value: 0.8985685110092163.\n"
     ]
    },
    {
     "name": "stderr",
     "output_type": "stream",
     "text": [
      "Best trial: 368. Best value: 0.898569:  97%|█████████▋| 966/1000 [21:28:46<43:56, 77.54s/it]"
     ]
    },
    {
     "name": "stdout",
     "output_type": "stream",
     "text": [
      "[I 2024-10-20 12:19:51,979] Trial 965 finished with value: 0.890388548374176 and parameters: {'n_hidden_layers': 3, 'activation': 'relu', 'learning_rate': 0.00048214042644625785, 'optimizer': 'adam', 'dropout_rate': 0.201562168599683, 'n_neurons': 126, 'batch_size': 8}. Best is trial 368 with value: 0.8985685110092163.\n"
     ]
    },
    {
     "name": "stderr",
     "output_type": "stream",
     "text": [
      "Best trial: 368. Best value: 0.898569:  97%|█████████▋| 967/1000 [21:31:01<52:04, 94.67s/it]"
     ]
    },
    {
     "name": "stdout",
     "output_type": "stream",
     "text": [
      "[I 2024-10-20 12:22:06,619] Trial 966 finished with value: 0.8932515382766724 and parameters: {'n_hidden_layers': 3, 'activation': 'elu', 'learning_rate': 0.0007452670057805142, 'optimizer': 'adam', 'dropout_rate': 0.2763155676183247, 'n_neurons': 123, 'batch_size': 2}. Best is trial 368 with value: 0.8985685110092163.\n"
     ]
    },
    {
     "name": "stderr",
     "output_type": "stream",
     "text": [
      "Best trial: 368. Best value: 0.898569:  97%|█████████▋| 968/1000 [21:31:52<43:37, 81.78s/it]"
     ]
    },
    {
     "name": "stdout",
     "output_type": "stream",
     "text": [
      "[I 2024-10-20 12:22:58,323] Trial 967 finished with value: 0.8924335241317749 and parameters: {'n_hidden_layers': 3, 'activation': 'elu', 'learning_rate': 0.0006319899120232594, 'optimizer': 'adam', 'dropout_rate': 0.22285682259929132, 'n_neurons': 119, 'batch_size': 8}. Best is trial 368 with value: 0.8985685110092163.\n"
     ]
    },
    {
     "name": "stderr",
     "output_type": "stream",
     "text": [
      "Best trial: 368. Best value: 0.898569:  97%|█████████▋| 969/1000 [21:32:04<31:22, 60.72s/it]"
     ]
    },
    {
     "name": "stdout",
     "output_type": "stream",
     "text": [
      "[I 2024-10-20 12:23:09,911] Trial 968 finished with value: 0.8883435726165771 and parameters: {'n_hidden_layers': 3, 'activation': 'elu', 'learning_rate': 0.0025467490264163956, 'optimizer': 'rmsprop', 'dropout_rate': 0.2454467603653852, 'n_neurons': 128, 'batch_size': 32}. Best is trial 368 with value: 0.8985685110092163.\n"
     ]
    },
    {
     "name": "stderr",
     "output_type": "stream",
     "text": [
      "Best trial: 368. Best value: 0.898569:  97%|█████████▋| 970/1000 [21:34:07<39:39, 79.30s/it]"
     ]
    },
    {
     "name": "stdout",
     "output_type": "stream",
     "text": [
      "[I 2024-10-20 12:25:12,565] Trial 969 finished with value: 0.8932515382766724 and parameters: {'n_hidden_layers': 3, 'activation': 'elu', 'learning_rate': 0.000800854013496144, 'optimizer': 'adam', 'dropout_rate': 0.2570766362862567, 'n_neurons': 122, 'batch_size': 2}. Best is trial 368 with value: 0.8985685110092163.\n"
     ]
    },
    {
     "name": "stderr",
     "output_type": "stream",
     "text": [
      "Best trial: 368. Best value: 0.898569:  97%|█████████▋| 971/1000 [21:35:14<36:35, 75.70s/it]"
     ]
    },
    {
     "name": "stdout",
     "output_type": "stream",
     "text": [
      "[I 2024-10-20 12:26:19,870] Trial 970 finished with value: 0.8916155695915222 and parameters: {'n_hidden_layers': 3, 'activation': 'elu', 'learning_rate': 0.0003543374916513547, 'optimizer': 'adam', 'dropout_rate': 0.2765394282478954, 'n_neurons': 124, 'batch_size': 8}. Best is trial 368 with value: 0.8985685110092163.\n"
     ]
    },
    {
     "name": "stderr",
     "output_type": "stream",
     "text": [
      "Best trial: 368. Best value: 0.898569:  97%|█████████▋| 972/1000 [21:37:28<43:33, 93.34s/it]"
     ]
    },
    {
     "name": "stdout",
     "output_type": "stream",
     "text": [
      "[I 2024-10-20 12:28:34,353] Trial 971 finished with value: 0.8981595039367676 and parameters: {'n_hidden_layers': 3, 'activation': 'elu', 'learning_rate': 0.0005713372132761418, 'optimizer': 'adam', 'dropout_rate': 0.2270984680644666, 'n_neurons': 118, 'batch_size': 2}. Best is trial 368 with value: 0.8985685110092163.\n"
     ]
    },
    {
     "name": "stderr",
     "output_type": "stream",
     "text": [
      "Best trial: 368. Best value: 0.898569:  97%|█████████▋| 973/1000 [21:39:51<48:39, 108.14s/it]"
     ]
    },
    {
     "name": "stdout",
     "output_type": "stream",
     "text": [
      "[I 2024-10-20 12:30:57,050] Trial 972 finished with value: 0.8948875069618225 and parameters: {'n_hidden_layers': 3, 'activation': 'elu', 'learning_rate': 0.0005224648192605776, 'optimizer': 'adam', 'dropout_rate': 0.23343983900820203, 'n_neurons': 118, 'batch_size': 2}. Best is trial 368 with value: 0.8985685110092163.\n"
     ]
    },
    {
     "name": "stderr",
     "output_type": "stream",
     "text": [
      "Best trial: 368. Best value: 0.898569:  97%|█████████▋| 974/1000 [21:42:15<51:26, 118.73s/it]"
     ]
    },
    {
     "name": "stdout",
     "output_type": "stream",
     "text": [
      "[I 2024-10-20 12:33:20,471] Trial 973 finished with value: 0.8952965140342712 and parameters: {'n_hidden_layers': 3, 'activation': 'elu', 'learning_rate': 0.0005659658474474901, 'optimizer': 'adam', 'dropout_rate': 0.2272672324428196, 'n_neurons': 119, 'batch_size': 2}. Best is trial 368 with value: 0.8985685110092163.\n"
     ]
    },
    {
     "name": "stderr",
     "output_type": "stream",
     "text": [
      "Best trial: 368. Best value: 0.898569:  98%|█████████▊| 975/1000 [21:44:51<54:10, 130.01s/it]"
     ]
    },
    {
     "name": "stdout",
     "output_type": "stream",
     "text": [
      "[I 2024-10-20 12:35:56,821] Trial 974 finished with value: 0.8969325423240662 and parameters: {'n_hidden_layers': 3, 'activation': 'elu', 'learning_rate': 0.0004439164630115167, 'optimizer': 'adam', 'dropout_rate': 0.21735859802716034, 'n_neurons': 120, 'batch_size': 2}. Best is trial 368 with value: 0.8985685110092163.\n"
     ]
    },
    {
     "name": "stderr",
     "output_type": "stream",
     "text": [
      "Best trial: 368. Best value: 0.898569:  98%|█████████▊| 976/1000 [21:47:11<53:16, 133.19s/it]"
     ]
    },
    {
     "name": "stdout",
     "output_type": "stream",
     "text": [
      "[I 2024-10-20 12:38:17,422] Trial 975 finished with value: 0.8932515382766724 and parameters: {'n_hidden_layers': 3, 'activation': 'elu', 'learning_rate': 0.0004209413098858914, 'optimizer': 'adam', 'dropout_rate': 0.21743229655280896, 'n_neurons': 120, 'batch_size': 2}. Best is trial 368 with value: 0.8985685110092163.\n"
     ]
    },
    {
     "name": "stderr",
     "output_type": "stream",
     "text": [
      "Best trial: 368. Best value: 0.898569:  98%|█████████▊| 977/1000 [21:49:36<52:20, 136.54s/it]"
     ]
    },
    {
     "name": "stdout",
     "output_type": "stream",
     "text": [
      "[I 2024-10-20 12:40:41,765] Trial 976 finished with value: 0.8936605453491211 and parameters: {'n_hidden_layers': 3, 'activation': 'elu', 'learning_rate': 0.00045839641084342663, 'optimizer': 'adam', 'dropout_rate': 0.21268725750935538, 'n_neurons': 118, 'batch_size': 2}. Best is trial 368 with value: 0.8985685110092163.\n"
     ]
    },
    {
     "name": "stderr",
     "output_type": "stream",
     "text": [
      "Best trial: 368. Best value: 0.898569:  98%|█████████▊| 978/1000 [21:51:27<47:18, 129.04s/it]"
     ]
    },
    {
     "name": "stdout",
     "output_type": "stream",
     "text": [
      "[I 2024-10-20 12:42:33,327] Trial 977 finished with value: 0.8875255584716797 and parameters: {'n_hidden_layers': 3, 'activation': 'tanh', 'learning_rate': 0.00031943943892626586, 'optimizer': 'adam', 'dropout_rate': 0.2263699805477694, 'n_neurons': 121, 'batch_size': 2}. Best is trial 368 with value: 0.8985685110092163.\n"
     ]
    },
    {
     "name": "stderr",
     "output_type": "stream",
     "text": [
      "Best trial: 368. Best value: 0.898569:  98%|█████████▊| 979/1000 [21:54:59<53:50, 153.82s/it]"
     ]
    },
    {
     "name": "stdout",
     "output_type": "stream",
     "text": [
      "[I 2024-10-20 12:46:04,948] Trial 978 finished with value: 0.8801636099815369 and parameters: {'n_hidden_layers': 3, 'activation': 'elu', 'learning_rate': 0.00036642613283435917, 'optimizer': 'sgd', 'dropout_rate': 0.2155684604257919, 'n_neurons': 118, 'batch_size': 2}. Best is trial 368 with value: 0.8985685110092163.\n"
     ]
    },
    {
     "name": "stderr",
     "output_type": "stream",
     "text": [
      "Best trial: 368. Best value: 0.898569:  98%|█████████▊| 980/1000 [21:58:07<54:42, 164.11s/it]"
     ]
    },
    {
     "name": "stdout",
     "output_type": "stream",
     "text": [
      "[I 2024-10-20 12:49:13,088] Trial 979 finished with value: 0.8842535614967346 and parameters: {'n_hidden_layers': 1, 'activation': 'elu', 'learning_rate': 0.0004551420056752857, 'optimizer': 'adam', 'dropout_rate': 0.2211814684715134, 'n_neurons': 122, 'batch_size': 2}. Best is trial 368 with value: 0.8985685110092163.\n"
     ]
    },
    {
     "name": "stderr",
     "output_type": "stream",
     "text": [
      "Best trial: 368. Best value: 0.898569:  98%|█████████▊| 981/1000 [22:00:58<52:38, 166.25s/it]"
     ]
    },
    {
     "name": "stdout",
     "output_type": "stream",
     "text": [
      "[I 2024-10-20 12:52:04,337] Trial 980 finished with value: 0.8973414897918701 and parameters: {'n_hidden_layers': 3, 'activation': 'elu', 'learning_rate': 0.00039271856375259573, 'optimizer': 'adam', 'dropout_rate': 0.20755708964057956, 'n_neurons': 124, 'batch_size': 2}. Best is trial 368 with value: 0.8985685110092163.\n"
     ]
    },
    {
     "name": "stderr",
     "output_type": "stream",
     "text": [
      "Best trial: 368. Best value: 0.898569:  98%|█████████▊| 982/1000 [22:03:37<49:13, 164.07s/it]"
     ]
    },
    {
     "name": "stdout",
     "output_type": "stream",
     "text": [
      "[I 2024-10-20 12:54:43,302] Trial 981 finished with value: 0.8936605453491211 and parameters: {'n_hidden_layers': 3, 'activation': 'elu', 'learning_rate': 0.00031255227342067907, 'optimizer': 'adam', 'dropout_rate': 0.19262123140480392, 'n_neurons': 126, 'batch_size': 2}. Best is trial 368 with value: 0.8985685110092163.\n"
     ]
    },
    {
     "name": "stderr",
     "output_type": "stream",
     "text": [
      "Best trial: 368. Best value: 0.898569:  98%|█████████▊| 983/1000 [22:08:03<55:08, 194.60s/it]"
     ]
    },
    {
     "name": "stdout",
     "output_type": "stream",
     "text": [
      "[I 2024-10-20 12:59:09,142] Trial 982 finished with value: 0.8944784998893738 and parameters: {'n_hidden_layers': 3, 'activation': 'elu', 'learning_rate': 0.00041962881277305, 'optimizer': 'adam', 'dropout_rate': 0.20014170239462717, 'n_neurons': 126, 'batch_size': 2}. Best is trial 368 with value: 0.8985685110092163.\n"
     ]
    },
    {
     "name": "stderr",
     "output_type": "stream",
     "text": [
      "Best trial: 368. Best value: 0.898569:  98%|█████████▊| 984/1000 [22:17:48<1:23:07, 311.72s/it]"
     ]
    },
    {
     "name": "stdout",
     "output_type": "stream",
     "text": [
      "[I 2024-10-20 13:08:54,132] Trial 983 finished with value: 0.8952965140342712 and parameters: {'n_hidden_layers': 3, 'activation': 'elu', 'learning_rate': 0.00035896313608431896, 'optimizer': 'adam', 'dropout_rate': 0.2052953278874215, 'n_neurons': 128, 'batch_size': 2}. Best is trial 368 with value: 0.8985685110092163.\n"
     ]
    },
    {
     "name": "stderr",
     "output_type": "stream",
     "text": [
      "Best trial: 368. Best value: 0.898569:  98%|█████████▊| 985/1000 [22:25:17<1:28:11, 352.77s/it]"
     ]
    },
    {
     "name": "stdout",
     "output_type": "stream",
     "text": [
      "[I 2024-10-20 13:16:22,670] Trial 984 finished with value: 0.8940695524215698 and parameters: {'n_hidden_layers': 3, 'activation': 'elu', 'learning_rate': 0.00037867852288595656, 'optimizer': 'adam', 'dropout_rate': 0.2090971033048651, 'n_neurons': 124, 'batch_size': 2}. Best is trial 368 with value: 0.8985685110092163.\n"
     ]
    },
    {
     "name": "stderr",
     "output_type": "stream",
     "text": [
      "Best trial: 368. Best value: 0.898569:  99%|█████████▊| 986/1000 [22:35:25<1:40:10, 429.33s/it]"
     ]
    },
    {
     "name": "stdout",
     "output_type": "stream",
     "text": [
      "[I 2024-10-20 13:26:30,620] Trial 985 finished with value: 0.8948875069618225 and parameters: {'n_hidden_layers': 3, 'activation': 'elu', 'learning_rate': 0.00026504555842909387, 'optimizer': 'adam', 'dropout_rate': 0.19447409148885553, 'n_neurons': 124, 'batch_size': 2}. Best is trial 368 with value: 0.8985685110092163.\n"
     ]
    },
    {
     "name": "stderr",
     "output_type": "stream",
     "text": [
      "Best trial: 368. Best value: 0.898569:  99%|█████████▊| 987/1000 [22:43:26<1:36:25, 445.01s/it]"
     ]
    },
    {
     "name": "stdout",
     "output_type": "stream",
     "text": [
      "[I 2024-10-20 13:34:32,248] Trial 986 finished with value: 0.8981595039367676 and parameters: {'n_hidden_layers': 3, 'activation': 'elu', 'learning_rate': 0.0005116832916313691, 'optimizer': 'adam', 'dropout_rate': 0.20081978633005865, 'n_neurons': 125, 'batch_size': 2}. Best is trial 368 with value: 0.8985685110092163.\n"
     ]
    },
    {
     "name": "stderr",
     "output_type": "stream",
     "text": [
      "Best trial: 368. Best value: 0.898569:  99%|█████████▉| 988/1000 [22:47:07<1:15:33, 377.77s/it]"
     ]
    },
    {
     "name": "stdout",
     "output_type": "stream",
     "text": [
      "[I 2024-10-20 13:38:13,140] Trial 987 finished with value: 0.8899795413017273 and parameters: {'n_hidden_layers': 3, 'activation': 'relu', 'learning_rate': 0.0004049406025298407, 'optimizer': 'adam', 'dropout_rate': 0.20711007340470644, 'n_neurons': 128, 'batch_size': 2}. Best is trial 368 with value: 0.8985685110092163.\n"
     ]
    },
    {
     "name": "stderr",
     "output_type": "stream",
     "text": [
      "Best trial: 368. Best value: 0.898569:  99%|█████████▉| 989/1000 [22:55:55<1:17:29, 422.64s/it]"
     ]
    },
    {
     "name": "stdout",
     "output_type": "stream",
     "text": [
      "[I 2024-10-20 13:47:00,451] Trial 988 finished with value: 0.8965235352516174 and parameters: {'n_hidden_layers': 3, 'activation': 'elu', 'learning_rate': 0.0004983382159276597, 'optimizer': 'adam', 'dropout_rate': 0.23107324836872908, 'n_neurons': 125, 'batch_size': 2}. Best is trial 368 with value: 0.8985685110092163.\n"
     ]
    },
    {
     "name": "stderr",
     "output_type": "stream",
     "text": [
      "Best trial: 368. Best value: 0.898569:  99%|█████████▉| 990/1000 [23:05:33<1:18:14, 469.44s/it]"
     ]
    },
    {
     "name": "stdout",
     "output_type": "stream",
     "text": [
      "[I 2024-10-20 13:56:39,082] Trial 989 finished with value: 0.89570552110672 and parameters: {'n_hidden_layers': 3, 'activation': 'elu', 'learning_rate': 0.00048698151249474574, 'optimizer': 'adam', 'dropout_rate': 0.23722519095022776, 'n_neurons': 126, 'batch_size': 2}. Best is trial 368 with value: 0.8985685110092163.\n"
     ]
    },
    {
     "name": "stderr",
     "output_type": "stream",
     "text": [
      "Best trial: 368. Best value: 0.898569:  99%|█████████▉| 991/1000 [23:16:59<1:20:09, 534.37s/it]"
     ]
    },
    {
     "name": "stdout",
     "output_type": "stream",
     "text": [
      "[I 2024-10-20 14:08:04,972] Trial 990 finished with value: 0.8940695524215698 and parameters: {'n_hidden_layers': 3, 'activation': 'elu', 'learning_rate': 0.0003191079932825428, 'optimizer': 'adam', 'dropout_rate': 0.20924505588897993, 'n_neurons': 128, 'batch_size': 2}. Best is trial 368 with value: 0.8985685110092163.\n"
     ]
    },
    {
     "name": "stderr",
     "output_type": "stream",
     "text": [
      "Best trial: 368. Best value: 0.898569:  99%|█████████▉| 992/1000 [23:25:46<1:10:56, 532.07s/it]"
     ]
    },
    {
     "name": "stdout",
     "output_type": "stream",
     "text": [
      "[I 2024-10-20 14:16:51,698] Trial 991 finished with value: 0.89570552110672 and parameters: {'n_hidden_layers': 3, 'activation': 'elu', 'learning_rate': 0.00042770940179694367, 'optimizer': 'adam', 'dropout_rate': 0.21993578014559362, 'n_neurons': 126, 'batch_size': 2}. Best is trial 368 with value: 0.8985685110092163.\n"
     ]
    },
    {
     "name": "stderr",
     "output_type": "stream",
     "text": [
      "Best trial: 368. Best value: 0.898569:  99%|█████████▉| 993/1000 [23:28:53<50:00, 428.71s/it]  "
     ]
    },
    {
     "name": "stdout",
     "output_type": "stream",
     "text": [
      "[I 2024-10-20 14:19:59,201] Trial 992 finished with value: 0.8715746402740479 and parameters: {'n_hidden_layers': 3, 'activation': 'elu', 'learning_rate': 0.0005009154364517534, 'optimizer': 'rmsprop', 'dropout_rate': 0.22614643613855936, 'n_neurons': 124, 'batch_size': 2}. Best is trial 368 with value: 0.8985685110092163.\n"
     ]
    },
    {
     "name": "stderr",
     "output_type": "stream",
     "text": [
      "Best trial: 368. Best value: 0.898569:  99%|█████████▉| 994/1000 [23:38:32<47:21, 473.59s/it]"
     ]
    },
    {
     "name": "stdout",
     "output_type": "stream",
     "text": [
      "[I 2024-10-20 14:29:37,527] Trial 993 finished with value: 0.8912065625190735 and parameters: {'n_hidden_layers': 3, 'activation': 'elu', 'learning_rate': 0.0003502031579863104, 'optimizer': 'adam', 'dropout_rate': 0.20116252948714278, 'n_neurons': 122, 'batch_size': 2}. Best is trial 368 with value: 0.8985685110092163.\n"
     ]
    }
   ],
   "source": [
    "import tensorflow as tf  # Import TensorFlow as tf\n",
    "from tensorflow.keras.models import Sequential\n",
    "from tensorflow.keras.layers import Dense, Dropout, Input\n",
    "from tensorflow.keras.optimizers import Adam, RMSprop, SGD\n",
    "from tensorflow.keras.callbacks import EarlyStopping\n",
    "from tensorflow.keras import backend as K\n",
    "import optuna\n",
    "import warnings\n",
    "import keras\n",
    "\n",
    "# Set seed\n",
    "keras.utils.set_random_seed(42)\n",
    "\n",
    "def create_model(trial):\n",
    "    # Hyperparameters to tune\n",
    "    n_hidden_layers = trial.suggest_int('n_hidden_layers', 1, 3)\n",
    "    activation = trial.suggest_categorical('activation', ['relu', 'tanh', 'elu'])\n",
    "    learning_rate = trial.suggest_float('learning_rate', 1e-5, 1e-2, log=True)\n",
    "    optimizer_name = trial.suggest_categorical('optimizer', ['adam', 'rmsprop', 'sgd'])\n",
    "    dropout_rate = trial.suggest_float('dropout_rate', 0.1, 0.5)\n",
    "    n_neurons = trial.suggest_int('n_neurons', 16, 128)  # Single hyperparameter for neurons\n",
    "    \n",
    "    # Choose the optimizer\n",
    "    optimizer = {\n",
    "        'adam': Adam(learning_rate=learning_rate),\n",
    "        'rmsprop': RMSprop(learning_rate=learning_rate),\n",
    "        'sgd': SGD(learning_rate=learning_rate)\n",
    "    }[optimizer_name]\n",
    "    \n",
    "    # Build the model\n",
    "    model = Sequential()\n",
    "    \n",
    "    # Add Input layer\n",
    "    model.add(Input(shape=(X_train_processed.shape[1],)))  # Updated input shape\n",
    "    \n",
    "    # First hidden layer with uniform neurons\n",
    "    model.add(Dense(n_neurons, activation=activation))\n",
    "    \n",
    "    # Additional hidden layers with the same number of neurons\n",
    "    for i in range(n_hidden_layers - 1):  # Already added the first layer\n",
    "        model.add(Dense(n_neurons, activation=activation))\n",
    "        model.add(Dropout(dropout_rate))\n",
    "    \n",
    "    # Output layer for binary classification\n",
    "    model.add(Dense(1, activation='sigmoid'))\n",
    "    \n",
    "    # Compile the model\n",
    "    model.compile(optimizer=optimizer, loss='binary_crossentropy', metrics=['accuracy'])\n",
    "    \n",
    "    return model\n",
    "\n",
    "def objective(trial):\n",
    "    try:\n",
    "        # Create the model\n",
    "        model = create_model(trial)\n",
    "        \n",
    "        # Suggest batch size\n",
    "        batch_size = trial.suggest_categorical('batch_size', [1, 2, 4, 8, 16, 32, 64, 128])\n",
    "        \n",
    "        # Define early stopping\n",
    "        early_stopping = EarlyStopping(\n",
    "            monitor='val_loss',\n",
    "            patience=20\n",
    "        )\n",
    "        \n",
    "        # Train the model\n",
    "        history = model.fit(\n",
    "            X_train_processed, y_train,\n",
    "            validation_data=(X_val_processed, y_val),\n",
    "            epochs=100,  # Set a high number and rely on early stopping\n",
    "            batch_size=batch_size,\n",
    "            callbacks=[early_stopping],\n",
    "            verbose=0  # Set to 1 if you want to see the training progress\n",
    "        )\n",
    "        \n",
    "        # Evaluate the model on validation data\n",
    "        score = model.evaluate(X_val_processed, y_val, verbose=0)\n",
    "        return score[1]  # Return validation accuracy\n",
    "\n",
    "    finally:\n",
    "        # Clear keras session to free memory\n",
    "        K.clear_session()\n",
    "\n",
    "# ===========================\n",
    "# 4. Run Optuna Hyperparameter Optimization\n",
    "# ===========================\n",
    "\n",
    "# Create the study\n",
    "study_name = \"neural_network_optimisation_2\"\n",
    "storage_name = \"sqlite:///optuna_study_neural_network_2.db\"\n",
    "\n",
    "study = optuna.create_study(\n",
    "    study_name=study_name,\n",
    "    storage=storage_name,\n",
    "    load_if_exists=True,\n",
    "    direction='maximize', # Maximize accuracy for binary classification\n",
    "    sampler=optuna.samplers.TPESampler(seed=42))  \n",
    "\n",
    "# Optimize the study\n",
    "study.optimize(objective, n_trials=1000, timeout=None, show_progress_bar=True)\n",
    "\n",
    "# ===========================\n",
    "# 5. Display the Best Trial\n",
    "# ===========================\n",
    "print(\"\\nBest trial:\")\n",
    "trial = study.best_trial\n",
    "print(f\"  Validation Accuracy: {trial.value:.4f}\")\n",
    "print(\"  Hyperparameters: \")\n",
    "for key, value in trial.params.items():\n",
    "    print(f\"    {key}: {value}\")"
   ]
  },
  {
   "cell_type": "code",
   "execution_count": 2,
   "metadata": {},
   "outputs": [
    {
     "name": "stderr",
     "output_type": "stream",
     "text": [
      "c:\\Users\\micha\\anaconda3\\envs\\msds-data-science-project\\Lib\\site-packages\\tqdm\\auto.py:21: TqdmWarning: IProgress not found. Please update jupyter and ipywidgets. See https://ipywidgets.readthedocs.io/en/stable/user_install.html\n",
      "  from .autonotebook import tqdm as notebook_tqdm\n"
     ]
    },
    {
     "name": "stdout",
     "output_type": "stream",
     "text": [
      "\n",
      "Best Hyperparameters from Optuna Study:\n",
      "  n_hidden_layers: 2\n",
      "  activation: elu\n",
      "  learning_rate: 0.008785716435710135\n",
      "  optimizer: adam\n",
      "  dropout_rate: 0.3068551762544674\n",
      "  n_neurons: 77\n",
      "  batch_size: 8\n"
     ]
    }
   ],
   "source": [
    "import pandas as pd\n",
    "from sklearn.model_selection import train_test_split\n",
    "from sklearn.preprocessing import MinMaxScaler, OneHotEncoder\n",
    "from imblearn.over_sampling import SMOTE\n",
    "from sklearn.metrics import classification_report\n",
    "import tensorflow as tf\n",
    "from tensorflow.keras.models import Sequential\n",
    "from tensorflow.keras.layers import Dense, Dropout, Input\n",
    "from tensorflow.keras.optimizers import Adam, RMSprop, SGD\n",
    "from tensorflow.keras.callbacks import EarlyStopping\n",
    "from tensorflow.keras import backend as K\n",
    "import optuna\n",
    "import sqlite3  # To interact with the SQLite database\n",
    "\n",
    "# 16. Train the final model on combined training and validation data with best hyperparameters\n",
    "\n",
    "# Load the Optuna Study to Retrieve the Best Trial\n",
    "study_name = \"neural_network_optimisation_1\"\n",
    "storage_name = \"sqlite:///optuna_study_neural_network_1.db\"\n",
    "\n",
    "# Load the existing study\n",
    "study = optuna.load_study(\n",
    "    study_name=study_name,\n",
    "    storage=storage_name\n",
    ")\n",
    "\n",
    "# Retrieve the best trial\n",
    "best_trial = study.best_trial\n",
    "\n",
    "# Extract the best hyperparameters\n",
    "best_params = best_trial.params\n",
    "\n",
    "print(\"\\nBest Hyperparameters from Optuna Study:\")\n",
    "for key, value in best_params.items():\n",
    "    print(f\"  {key}: {value}\")"
   ]
  },
  {
   "cell_type": "code",
   "execution_count": 3,
   "metadata": {},
   "outputs": [
    {
     "name": "stdout",
     "output_type": "stream",
     "text": [
      "\n",
      "Combined Resampled Data Shape: (16504, 38)\n",
      "Combined Resampled Target Distribution:\n",
      " Revenue\n",
      "False    8252\n",
      "True     8252\n",
      "Name: count, dtype: int64\n",
      "Epoch 1/100\n",
      "\u001b[1m2063/2063\u001b[0m \u001b[32m━━━━━━━━━━━━━━━━━━━━\u001b[0m\u001b[37m\u001b[0m \u001b[1m2s\u001b[0m 560us/step - accuracy: 0.7407 - loss: 0.5107 - val_accuracy: 0.7681 - val_loss: 0.4460\n",
      "Epoch 2/100\n",
      "\u001b[1m2063/2063\u001b[0m \u001b[32m━━━━━━━━━━━━━━━━━━━━\u001b[0m\u001b[37m\u001b[0m \u001b[1m1s\u001b[0m 519us/step - accuracy: 0.8231 - loss: 0.4080 - val_accuracy: 0.8532 - val_loss: 0.3356\n",
      "Epoch 3/100\n",
      "\u001b[1m2063/2063\u001b[0m \u001b[32m━━━━━━━━━━━━━━━━━━━━\u001b[0m\u001b[37m\u001b[0m \u001b[1m1s\u001b[0m 525us/step - accuracy: 0.8357 - loss: 0.3815 - val_accuracy: 0.6540 - val_loss: 0.5959\n",
      "Epoch 4/100\n",
      "\u001b[1m2063/2063\u001b[0m \u001b[32m━━━━━━━━━━━━━━━━━━━━\u001b[0m\u001b[37m\u001b[0m \u001b[1m1s\u001b[0m 523us/step - accuracy: 0.8389 - loss: 0.3809 - val_accuracy: 0.8470 - val_loss: 0.3740\n",
      "Epoch 5/100\n",
      "\u001b[1m2063/2063\u001b[0m \u001b[32m━━━━━━━━━━━━━━━━━━━━\u001b[0m\u001b[37m\u001b[0m \u001b[1m1s\u001b[0m 540us/step - accuracy: 0.8442 - loss: 0.3714 - val_accuracy: 0.8102 - val_loss: 0.3854\n",
      "Epoch 6/100\n",
      "\u001b[1m2063/2063\u001b[0m \u001b[32m━━━━━━━━━━━━━━━━━━━━\u001b[0m\u001b[37m\u001b[0m \u001b[1m1s\u001b[0m 500us/step - accuracy: 0.8464 - loss: 0.3628 - val_accuracy: 0.7771 - val_loss: 0.4741\n",
      "Epoch 7/100\n",
      "\u001b[1m2063/2063\u001b[0m \u001b[32m━━━━━━━━━━━━━━━━━━━━\u001b[0m\u001b[37m\u001b[0m \u001b[1m1s\u001b[0m 495us/step - accuracy: 0.8547 - loss: 0.3604 - val_accuracy: 0.8810 - val_loss: 0.3035\n",
      "Epoch 8/100\n",
      "\u001b[1m2063/2063\u001b[0m \u001b[32m━━━━━━━━━━━━━━━━━━━━\u001b[0m\u001b[37m\u001b[0m \u001b[1m1s\u001b[0m 503us/step - accuracy: 0.8529 - loss: 0.3542 - val_accuracy: 0.8524 - val_loss: 0.3436\n",
      "Epoch 9/100\n",
      "\u001b[1m2063/2063\u001b[0m \u001b[32m━━━━━━━━━━━━━━━━━━━━\u001b[0m\u001b[37m\u001b[0m \u001b[1m1s\u001b[0m 509us/step - accuracy: 0.8558 - loss: 0.3524 - val_accuracy: 0.8691 - val_loss: 0.2958\n",
      "Epoch 10/100\n",
      "\u001b[1m2063/2063\u001b[0m \u001b[32m━━━━━━━━━━━━━━━━━━━━\u001b[0m\u001b[37m\u001b[0m \u001b[1m1s\u001b[0m 511us/step - accuracy: 0.8562 - loss: 0.3430 - val_accuracy: 0.7669 - val_loss: 0.4552\n",
      "Epoch 11/100\n",
      "\u001b[1m2063/2063\u001b[0m \u001b[32m━━━━━━━━━━━━━━━━━━━━\u001b[0m\u001b[37m\u001b[0m \u001b[1m1s\u001b[0m 504us/step - accuracy: 0.8494 - loss: 0.3614 - val_accuracy: 0.8225 - val_loss: 0.4349\n",
      "Epoch 12/100\n",
      "\u001b[1m2063/2063\u001b[0m \u001b[32m━━━━━━━━━━━━━━━━━━━━\u001b[0m\u001b[37m\u001b[0m \u001b[1m1s\u001b[0m 502us/step - accuracy: 0.8575 - loss: 0.3471 - val_accuracy: 0.8773 - val_loss: 0.3309\n",
      "Epoch 13/100\n",
      "\u001b[1m2063/2063\u001b[0m \u001b[32m━━━━━━━━━━━━━━━━━━━━\u001b[0m\u001b[37m\u001b[0m \u001b[1m1s\u001b[0m 518us/step - accuracy: 0.8510 - loss: 0.3475 - val_accuracy: 0.8806 - val_loss: 0.3004\n",
      "Epoch 14/100\n",
      "\u001b[1m2063/2063\u001b[0m \u001b[32m━━━━━━━━━━━━━━━━━━━━\u001b[0m\u001b[37m\u001b[0m \u001b[1m1s\u001b[0m 506us/step - accuracy: 0.8644 - loss: 0.3339 - val_accuracy: 0.8143 - val_loss: 0.4819\n",
      "Epoch 15/100\n",
      "\u001b[1m2063/2063\u001b[0m \u001b[32m━━━━━━━━━━━━━━━━━━━━\u001b[0m\u001b[37m\u001b[0m \u001b[1m1s\u001b[0m 521us/step - accuracy: 0.8551 - loss: 0.3433 - val_accuracy: 0.8434 - val_loss: 0.3630\n",
      "Epoch 16/100\n",
      "\u001b[1m2063/2063\u001b[0m \u001b[32m━━━━━━━━━━━━━━━━━━━━\u001b[0m\u001b[37m\u001b[0m \u001b[1m1s\u001b[0m 508us/step - accuracy: 0.8599 - loss: 0.3370 - val_accuracy: 0.8708 - val_loss: 0.3269\n",
      "Epoch 17/100\n",
      "\u001b[1m2063/2063\u001b[0m \u001b[32m━━━━━━━━━━━━━━━━━━━━\u001b[0m\u001b[37m\u001b[0m \u001b[1m1s\u001b[0m 482us/step - accuracy: 0.8656 - loss: 0.3256 - val_accuracy: 0.8016 - val_loss: 0.3984\n",
      "Epoch 18/100\n",
      "\u001b[1m2063/2063\u001b[0m \u001b[32m━━━━━━━━━━━━━━━━━━━━\u001b[0m\u001b[37m\u001b[0m \u001b[1m1s\u001b[0m 496us/step - accuracy: 0.8600 - loss: 0.3314 - val_accuracy: 0.8536 - val_loss: 0.3605\n",
      "Epoch 19/100\n",
      "\u001b[1m2063/2063\u001b[0m \u001b[32m━━━━━━━━━━━━━━━━━━━━\u001b[0m\u001b[37m\u001b[0m \u001b[1m1s\u001b[0m 491us/step - accuracy: 0.8640 - loss: 0.3255 - val_accuracy: 0.7992 - val_loss: 0.3917\n",
      "Epoch 20/100\n",
      "\u001b[1m2063/2063\u001b[0m \u001b[32m━━━━━━━━━━━━━━━━━━━━\u001b[0m\u001b[37m\u001b[0m \u001b[1m1s\u001b[0m 496us/step - accuracy: 0.8627 - loss: 0.3282 - val_accuracy: 0.8315 - val_loss: 0.3905\n",
      "Epoch 21/100\n",
      "\u001b[1m2063/2063\u001b[0m \u001b[32m━━━━━━━━━━━━━━━━━━━━\u001b[0m\u001b[37m\u001b[0m \u001b[1m1s\u001b[0m 480us/step - accuracy: 0.8636 - loss: 0.3255 - val_accuracy: 0.8352 - val_loss: 0.3900\n",
      "Epoch 22/100\n",
      "\u001b[1m2063/2063\u001b[0m \u001b[32m━━━━━━━━━━━━━━━━━━━━\u001b[0m\u001b[37m\u001b[0m \u001b[1m1s\u001b[0m 494us/step - accuracy: 0.8636 - loss: 0.3244 - val_accuracy: 0.8311 - val_loss: 0.4384\n",
      "Epoch 23/100\n",
      "\u001b[1m2063/2063\u001b[0m \u001b[32m━━━━━━━━━━━━━━━━━━━━\u001b[0m\u001b[37m\u001b[0m \u001b[1m1s\u001b[0m 507us/step - accuracy: 0.8642 - loss: 0.3281 - val_accuracy: 0.8601 - val_loss: 0.3145\n",
      "Epoch 24/100\n",
      "\u001b[1m2063/2063\u001b[0m \u001b[32m━━━━━━━━━━━━━━━━━━━━\u001b[0m\u001b[37m\u001b[0m \u001b[1m1s\u001b[0m 507us/step - accuracy: 0.8575 - loss: 0.3295 - val_accuracy: 0.8679 - val_loss: 0.3901\n",
      "Epoch 25/100\n",
      "\u001b[1m2063/2063\u001b[0m \u001b[32m━━━━━━━━━━━━━━━━━━━━\u001b[0m\u001b[37m\u001b[0m \u001b[1m1s\u001b[0m 509us/step - accuracy: 0.8692 - loss: 0.3147 - val_accuracy: 0.8544 - val_loss: 0.3514\n",
      "Epoch 26/100\n",
      "\u001b[1m2063/2063\u001b[0m \u001b[32m━━━━━━━━━━━━━━━━━━━━\u001b[0m\u001b[37m\u001b[0m \u001b[1m1s\u001b[0m 492us/step - accuracy: 0.8721 - loss: 0.3138 - val_accuracy: 0.8626 - val_loss: 0.3562\n",
      "Epoch 27/100\n",
      "\u001b[1m2063/2063\u001b[0m \u001b[32m━━━━━━━━━━━━━━━━━━━━\u001b[0m\u001b[37m\u001b[0m \u001b[1m1s\u001b[0m 507us/step - accuracy: 0.8701 - loss: 0.3110 - val_accuracy: 0.8667 - val_loss: 0.3568\n",
      "Epoch 28/100\n",
      "\u001b[1m2063/2063\u001b[0m \u001b[32m━━━━━━━━━━━━━━━━━━━━\u001b[0m\u001b[37m\u001b[0m \u001b[1m1s\u001b[0m 507us/step - accuracy: 0.8640 - loss: 0.3167 - val_accuracy: 0.8405 - val_loss: 0.3999\n",
      "Epoch 29/100\n",
      "\u001b[1m2063/2063\u001b[0m \u001b[32m━━━━━━━━━━━━━━━━━━━━\u001b[0m\u001b[37m\u001b[0m \u001b[1m1s\u001b[0m 537us/step - accuracy: 0.8695 - loss: 0.3074 - val_accuracy: 0.8425 - val_loss: 0.3753\n",
      "\u001b[1m77/77\u001b[0m \u001b[32m━━━━━━━━━━━━━━━━━━━━\u001b[0m\u001b[37m\u001b[0m \u001b[1m0s\u001b[0m 567us/step\n",
      "\n",
      "Final Model Classification Report on Test Set:\n",
      "              precision    recall  f1-score   support\n",
      "\n",
      "       False       0.96      0.89      0.92      2063\n",
      "        True       0.56      0.77      0.65       382\n",
      "\n",
      "    accuracy                           0.87      2445\n",
      "   macro avg       0.76      0.83      0.78      2445\n",
      "weighted avg       0.89      0.87      0.88      2445\n",
      "\n"
     ]
    }
   ],
   "source": [
    "import keras\n",
    "\n",
    "# Set seed\n",
    "keras.utils.set_random_seed(42)\n",
    "\n",
    "# Combine Training and Validation Data\n",
    "X_combined = pd.concat([X_train_processed, X_val_processed], axis=0)\n",
    "y_combined = pd.concat([y_train, y_val], axis=0)  # Use resampled y_train\n",
    "\n",
    "# Apply SMOTE to the Combined Data\n",
    "smote = SMOTE(random_state=42)\n",
    "X_combined_resampled, y_combined_resampled = smote.fit_resample(X_combined, y_combined)\n",
    "\n",
    "print(\"\\nCombined Resampled Data Shape:\", X_combined_resampled.shape)\n",
    "print(\"Combined Resampled Target Distribution:\\n\", y_combined_resampled.value_counts())\n",
    "\n",
    "# Define a Function to Create the Keras Model with Best Hyperparameters\n",
    "def build_best_model(params):\n",
    "    # Extract hyperparameters\n",
    "    n_hidden_layers = params['n_hidden_layers']\n",
    "    activation = params['activation']\n",
    "    learning_rate = params['learning_rate']\n",
    "    optimizer_name = params['optimizer']\n",
    "    dropout_rate = params['dropout_rate']\n",
    "    n_neurons = params['n_neurons']\n",
    "    \n",
    "    # Choose the optimizer\n",
    "    optimizer = {\n",
    "        'adam': Adam(learning_rate=learning_rate),\n",
    "        'rmsprop': RMSprop(learning_rate=learning_rate),\n",
    "        'sgd': SGD(learning_rate=learning_rate)\n",
    "    }[optimizer_name]\n",
    "    \n",
    "    # Build the model\n",
    "    model = Sequential()\n",
    "    \n",
    "    # Input layer\n",
    "    model.add(Input(shape=(X_combined_resampled.shape[1],)))\n",
    "    \n",
    "    # First hidden layer\n",
    "    model.add(Dense(n_neurons, activation=activation))\n",
    "    \n",
    "    # Additional hidden layers\n",
    "    for _ in range(n_hidden_layers - 1):\n",
    "        model.add(Dense(n_neurons, activation=activation))\n",
    "        model.add(Dropout(dropout_rate))\n",
    "    \n",
    "    # Output layer\n",
    "    model.add(Dense(1, activation='sigmoid'))\n",
    "    \n",
    "    # Compile the model\n",
    "    model.compile(optimizer=optimizer, loss='binary_crossentropy', metrics=['accuracy'])\n",
    "    \n",
    "    return model\n",
    "\n",
    "# Build the Best Model\n",
    "final_model = build_best_model(best_params)\n",
    "\n",
    "# Define Early Stopping\n",
    "early_stopping = EarlyStopping(\n",
    "    monitor='val_loss',\n",
    "    patience=20,\n",
    "    restore_best_weights=True\n",
    ")\n",
    "\n",
    "# Train the final model\n",
    "history = final_model.fit(\n",
    "    X_combined_resampled, y_combined_resampled,\n",
    "    validation_data=(X_test_processed, y_test),\n",
    "    epochs=100,  # You can adjust this number as needed\n",
    "    batch_size=best_params['batch_size'],\n",
    "    callbacks=[early_stopping],\n",
    "    verbose=1\n",
    ")\n",
    "\n",
    "# 17. Evaluate the Final Model\n",
    "\n",
    "# Predict on the Test Set\n",
    "y_test_pred_prob = final_model.predict(X_test_processed)\n",
    "y_test_pred = (y_test_pred_prob > 0.5).astype(int).reshape(-1)\n",
    "\n",
    "# Print Classification Report\n",
    "print(\"\\nFinal Model Classification Report on Test Set:\")\n",
    "print(classification_report(y_test, y_test_pred))"
   ]
  },
  {
   "cell_type": "code",
   "execution_count": 5,
   "metadata": {},
   "outputs": [
    {
     "name": "stdout",
     "output_type": "stream",
     "text": [
      "\u001b[1m516/516\u001b[0m \u001b[32m━━━━━━━━━━━━━━━━━━━━\u001b[0m\u001b[37m\u001b[0m \u001b[1m0s\u001b[0m 362us/step\n",
      "Training Accuracy: 0.8663\n",
      "\n",
      "Classification Report on Training Data:\n",
      "              precision    recall  f1-score   support\n",
      "\n",
      "       False       0.86      0.88      0.87      8252\n",
      "        True       0.88      0.85      0.86      8252\n",
      "\n",
      "    accuracy                           0.87     16504\n",
      "   macro avg       0.87      0.87      0.87     16504\n",
      "weighted avg       0.87      0.87      0.87     16504\n",
      "\n",
      "\u001b[1m77/77\u001b[0m \u001b[32m━━━━━━━━━━━━━━━━━━━━\u001b[0m\u001b[37m\u001b[0m \u001b[1m0s\u001b[0m 395us/step\n",
      "Test Accuracy: 0.8691\n",
      "\n",
      "Classification Report on Test Data:\n",
      "              precision    recall  f1-score   support\n",
      "\n",
      "       False       0.96      0.89      0.92      2063\n",
      "        True       0.56      0.77      0.65       382\n",
      "\n",
      "    accuracy                           0.87      2445\n",
      "   macro avg       0.76      0.83      0.78      2445\n",
      "weighted avg       0.89      0.87      0.88      2445\n",
      "\n"
     ]
    }
   ],
   "source": [
    "from sklearn.metrics import accuracy_score\n",
    "\n",
    "# Make predictions on the combined training data\n",
    "y_train_pred_prob = final_model.predict(X_combined_resampled)\n",
    "# Convert probabilities to class labels\n",
    "y_train_pred = (y_train_pred_prob > 0.5).astype(int).reshape(-1)\n",
    "\n",
    "# Calculate training accuracy\n",
    "training_accuracy = accuracy_score(y_combined_resampled, y_train_pred)\n",
    "print(f\"Training Accuracy: {training_accuracy:.4f}\")\n",
    "\n",
    "# Print classification report for training data\n",
    "print(\"\\nClassification Report on Training Data:\")\n",
    "print(classification_report(y_combined_resampled, y_train_pred))\n",
    "\n",
    "# Evaluate the final model on the test set\n",
    "y_test_pred_prob = final_model.predict(X_test_processed)\n",
    "# Convert probabilities to class labels\n",
    "y_test_pred = (y_test_pred_prob > 0.5).astype(int).reshape(-1)\n",
    "\n",
    "# Compute test accuracy\n",
    "test_accuracy = accuracy_score(y_test, y_test_pred)\n",
    "print(f\"Test Accuracy: {test_accuracy:.4f}\")\n",
    "\n",
    "# Print classification report for test data\n",
    "print(\"\\nClassification Report on Test Data:\")\n",
    "print(classification_report(y_test, y_test_pred))\n"
   ]
  }
 ],
 "metadata": {
  "kernelspec": {
   "display_name": "msds-data-science-project",
   "language": "python",
   "name": "python3"
  },
  "language_info": {
   "codemirror_mode": {
    "name": "ipython",
    "version": 3
   },
   "file_extension": ".py",
   "mimetype": "text/x-python",
   "name": "python",
   "nbconvert_exporter": "python",
   "pygments_lexer": "ipython3",
   "version": "3.12.4"
  }
 },
 "nbformat": 4,
 "nbformat_minor": 2
}
